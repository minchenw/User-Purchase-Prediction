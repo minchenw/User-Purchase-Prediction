{
 "cells": [
  {
   "cell_type": "code",
   "execution_count": 1,
   "metadata": {
    "ExecuteTime": {
     "end_time": "2019-02-28T02:02:32.443087Z",
     "start_time": "2019-02-28T02:02:30.925174Z"
    }
   },
   "outputs": [
    {
     "name": "stderr",
     "output_type": "stream",
     "text": [
      "/Users/minchenwang/anaconda3/lib/python3.6/site-packages/sklearn/ensemble/weight_boosting.py:29: DeprecationWarning: numpy.core.umath_tests is an internal NumPy module and should not be imported. It will be removed in a future NumPy release.\n",
      "  from numpy.core.umath_tests import inner1d\n"
     ]
    }
   ],
   "source": [
    "import pandas as pd\n",
    "import numpy as np\n",
    "from sklearn.ensemble import RandomForestClassifier\n",
    "import os\n",
    "import boto3 "
   ]
  },
  {
   "cell_type": "markdown",
   "metadata": {},
   "source": [
    "### Import Data"
   ]
  },
  {
   "cell_type": "code",
   "execution_count": null,
   "metadata": {
    "ExecuteTime": {
     "end_time": "2019-02-27T05:25:58.497205Z",
     "start_time": "2019-02-27T05:25:54.778340Z"
    }
   },
   "outputs": [],
   "source": [
    "bucket_name = 'advanced-ml-project' # Add your bucket name\n",
    "file_name = 'train_dataset2.csv'\n",
    "s3 = boto3.client('s3')\n",
    "obj = s3.get_object(Bucket=bucket_name, Key=file_name) # S3 uses key-value structure where key is your file name\n",
    "df = pd.read_csv(obj['Body'])"
   ]
  },
  {
   "cell_type": "code",
   "execution_count": 32,
   "metadata": {
    "ExecuteTime": {
     "end_time": "2019-02-20T23:00:46.620954Z",
     "start_time": "2019-02-20T23:00:42.443609Z"
    },
    "collapsed": true
   },
   "outputs": [],
   "source": [
    "bucket_name = 'advanced-ml-project' # Add your bucket name\n",
    "file_name = 'test_feature2.csv'\n",
    "s3 = boto3.client('s3')\n",
    "obj = s3.get_object(Bucket=bucket_name, Key=file_name) # S3 uses key-value structure where key is your file name\n",
    "test = pd.read_csv(obj['Body'])"
   ]
  },
  {
   "cell_type": "code",
   "execution_count": 93,
   "metadata": {
    "ExecuteTime": {
     "end_time": "2019-02-28T04:07:57.895616Z",
     "start_time": "2019-02-28T04:07:54.301553Z"
    }
   },
   "outputs": [],
   "source": [
    "df = pd.read_csv('../train_dataset2.csv')"
   ]
  },
  {
   "cell_type": "code",
   "execution_count": 94,
   "metadata": {
    "ExecuteTime": {
     "end_time": "2019-02-28T04:07:58.330462Z",
     "start_time": "2019-02-28T04:07:58.325805Z"
    }
   },
   "outputs": [
    {
     "data": {
      "text/plain": [
       "619706"
      ]
     },
     "execution_count": 94,
     "metadata": {},
     "output_type": "execute_result"
    }
   ],
   "source": [
    "len(df)"
   ]
  },
  {
   "cell_type": "code",
   "execution_count": 95,
   "metadata": {
    "ExecuteTime": {
     "end_time": "2019-02-28T04:08:00.423416Z",
     "start_time": "2019-02-28T04:07:58.773896Z"
    }
   },
   "outputs": [],
   "source": [
    "test = pd.read_csv('../test_feature2.csv')"
   ]
  },
  {
   "cell_type": "code",
   "execution_count": 96,
   "metadata": {
    "ExecuteTime": {
     "end_time": "2019-02-28T04:08:00.842209Z",
     "start_time": "2019-02-28T04:08:00.818489Z"
    }
   },
   "outputs": [
    {
     "data": {
      "text/html": [
       "<div>\n",
       "<style scoped>\n",
       "    .dataframe tbody tr th:only-of-type {\n",
       "        vertical-align: middle;\n",
       "    }\n",
       "\n",
       "    .dataframe tbody tr th {\n",
       "        vertical-align: top;\n",
       "    }\n",
       "\n",
       "    .dataframe thead th {\n",
       "        text-align: right;\n",
       "    }\n",
       "</style>\n",
       "<table border=\"1\" class=\"dataframe\">\n",
       "  <thead>\n",
       "    <tr style=\"text-align: right;\">\n",
       "      <th></th>\n",
       "      <th>user_id_hash</th>\n",
       "      <th>most_freq_dow</th>\n",
       "      <th>most_freq_hour</th>\n",
       "      <th>median_create_session_time</th>\n",
       "      <th>session_count</th>\n",
       "      <th>session_durations</th>\n",
       "      <th>mean_session_durations</th>\n",
       "      <th>mean_session_interval</th>\n",
       "      <th>most_freq_country</th>\n",
       "      <th>most_freq_region</th>\n",
       "      <th>...</th>\n",
       "      <th>purchase_per_day</th>\n",
       "      <th>user_entropy</th>\n",
       "      <th>last_session_time</th>\n",
       "      <th>last_purchase_time</th>\n",
       "      <th>country_mean_purchase_perc</th>\n",
       "      <th>os_mean_purchase_perc</th>\n",
       "      <th>cost_per_purchase</th>\n",
       "      <th>attr_11</th>\n",
       "      <th>user_purchase_binary_7_days</th>\n",
       "      <th>user_purchase_binary_14_days</th>\n",
       "    </tr>\n",
       "  </thead>\n",
       "  <tbody>\n",
       "    <tr>\n",
       "      <th>0</th>\n",
       "      <td>9943447915df3a45fd6720a026af905b6da6b56a37701b...</td>\n",
       "      <td>6</td>\n",
       "      <td>7</td>\n",
       "      <td>36.0</td>\n",
       "      <td>46</td>\n",
       "      <td>938183565</td>\n",
       "      <td>2.039529e+07</td>\n",
       "      <td>0.782609</td>\n",
       "      <td>162</td>\n",
       "      <td>0</td>\n",
       "      <td>...</td>\n",
       "      <td>0.018519</td>\n",
       "      <td>3.828641</td>\n",
       "      <td>1</td>\n",
       "      <td>19</td>\n",
       "      <td>0.005269</td>\n",
       "      <td>0.028374</td>\n",
       "      <td>2.2465</td>\n",
       "      <td>3.49</td>\n",
       "      <td>0.0</td>\n",
       "      <td>0.0</td>\n",
       "    </tr>\n",
       "    <tr>\n",
       "      <th>1</th>\n",
       "      <td>43f75f8042d3c80c45e222bdd09267f4584684c54d6fae...</td>\n",
       "      <td>5</td>\n",
       "      <td>23</td>\n",
       "      <td>0.0</td>\n",
       "      <td>3</td>\n",
       "      <td>6074816</td>\n",
       "      <td>2.024939e+06</td>\n",
       "      <td>0.000000</td>\n",
       "      <td>69</td>\n",
       "      <td>281</td>\n",
       "      <td>...</td>\n",
       "      <td>0.000000</td>\n",
       "      <td>1.098612</td>\n",
       "      <td>20</td>\n",
       "      <td>100</td>\n",
       "      <td>0.060754</td>\n",
       "      <td>0.078831</td>\n",
       "      <td>1.0000</td>\n",
       "      <td>0.01</td>\n",
       "      <td>0.0</td>\n",
       "      <td>0.0</td>\n",
       "    </tr>\n",
       "    <tr>\n",
       "      <th>2</th>\n",
       "      <td>999524249720812f2d8c0390293efd58e1ac84d587a01c...</td>\n",
       "      <td>2</td>\n",
       "      <td>22</td>\n",
       "      <td>0.0</td>\n",
       "      <td>1</td>\n",
       "      <td>0</td>\n",
       "      <td>0.000000e+00</td>\n",
       "      <td>0.000000</td>\n",
       "      <td>210</td>\n",
       "      <td>299</td>\n",
       "      <td>...</td>\n",
       "      <td>0.000000</td>\n",
       "      <td>0.000000</td>\n",
       "      <td>45</td>\n",
       "      <td>100</td>\n",
       "      <td>0.068370</td>\n",
       "      <td>0.078831</td>\n",
       "      <td>1.0000</td>\n",
       "      <td>0.00</td>\n",
       "      <td>0.0</td>\n",
       "      <td>0.0</td>\n",
       "    </tr>\n",
       "    <tr>\n",
       "      <th>3</th>\n",
       "      <td>4e6bc35cf7fd79a5312047651e7865915f4a6bec193cf2...</td>\n",
       "      <td>3</td>\n",
       "      <td>15</td>\n",
       "      <td>2.0</td>\n",
       "      <td>1</td>\n",
       "      <td>596967</td>\n",
       "      <td>5.969670e+05</td>\n",
       "      <td>2.000000</td>\n",
       "      <td>94</td>\n",
       "      <td>162</td>\n",
       "      <td>...</td>\n",
       "      <td>0.000000</td>\n",
       "      <td>0.693147</td>\n",
       "      <td>9</td>\n",
       "      <td>100</td>\n",
       "      <td>0.004529</td>\n",
       "      <td>0.028374</td>\n",
       "      <td>1.0000</td>\n",
       "      <td>0.00</td>\n",
       "      <td>0.0</td>\n",
       "      <td>0.0</td>\n",
       "    </tr>\n",
       "    <tr>\n",
       "      <th>4</th>\n",
       "      <td>dc009148ee26d658e0240c7b7f6a258790a457737f96e8...</td>\n",
       "      <td>2</td>\n",
       "      <td>2</td>\n",
       "      <td>0.5</td>\n",
       "      <td>1</td>\n",
       "      <td>97482</td>\n",
       "      <td>9.748200e+04</td>\n",
       "      <td>0.500000</td>\n",
       "      <td>11</td>\n",
       "      <td>494</td>\n",
       "      <td>...</td>\n",
       "      <td>0.000000</td>\n",
       "      <td>0.693147</td>\n",
       "      <td>38</td>\n",
       "      <td>100</td>\n",
       "      <td>0.067344</td>\n",
       "      <td>0.028374</td>\n",
       "      <td>1.0000</td>\n",
       "      <td>0.00</td>\n",
       "      <td>0.0</td>\n",
       "      <td>0.0</td>\n",
       "    </tr>\n",
       "  </tbody>\n",
       "</table>\n",
       "<p>5 rows × 30 columns</p>\n",
       "</div>"
      ],
      "text/plain": [
       "                                        user_id_hash  most_freq_dow  \\\n",
       "0  9943447915df3a45fd6720a026af905b6da6b56a37701b...              6   \n",
       "1  43f75f8042d3c80c45e222bdd09267f4584684c54d6fae...              5   \n",
       "2  999524249720812f2d8c0390293efd58e1ac84d587a01c...              2   \n",
       "3  4e6bc35cf7fd79a5312047651e7865915f4a6bec193cf2...              3   \n",
       "4  dc009148ee26d658e0240c7b7f6a258790a457737f96e8...              2   \n",
       "\n",
       "   most_freq_hour  median_create_session_time  session_count  \\\n",
       "0               7                        36.0             46   \n",
       "1              23                         0.0              3   \n",
       "2              22                         0.0              1   \n",
       "3              15                         2.0              1   \n",
       "4               2                         0.5              1   \n",
       "\n",
       "   session_durations  mean_session_durations  mean_session_interval  \\\n",
       "0          938183565            2.039529e+07               0.782609   \n",
       "1            6074816            2.024939e+06               0.000000   \n",
       "2                  0            0.000000e+00               0.000000   \n",
       "3             596967            5.969670e+05               2.000000   \n",
       "4              97482            9.748200e+04               0.500000   \n",
       "\n",
       "   most_freq_country  most_freq_region              ...               \\\n",
       "0                162                 0              ...                \n",
       "1                 69               281              ...                \n",
       "2                210               299              ...                \n",
       "3                 94               162              ...                \n",
       "4                 11               494              ...                \n",
       "\n",
       "   purchase_per_day  user_entropy  last_session_time  last_purchase_time  \\\n",
       "0          0.018519      3.828641                  1                  19   \n",
       "1          0.000000      1.098612                 20                 100   \n",
       "2          0.000000      0.000000                 45                 100   \n",
       "3          0.000000      0.693147                  9                 100   \n",
       "4          0.000000      0.693147                 38                 100   \n",
       "\n",
       "   country_mean_purchase_perc  os_mean_purchase_perc  cost_per_purchase  \\\n",
       "0                    0.005269               0.028374             2.2465   \n",
       "1                    0.060754               0.078831             1.0000   \n",
       "2                    0.068370               0.078831             1.0000   \n",
       "3                    0.004529               0.028374             1.0000   \n",
       "4                    0.067344               0.028374             1.0000   \n",
       "\n",
       "   attr_11  user_purchase_binary_7_days  user_purchase_binary_14_days  \n",
       "0     3.49                          0.0                           0.0  \n",
       "1     0.01                          0.0                           0.0  \n",
       "2     0.00                          0.0                           0.0  \n",
       "3     0.00                          0.0                           0.0  \n",
       "4     0.00                          0.0                           0.0  \n",
       "\n",
       "[5 rows x 30 columns]"
      ]
     },
     "execution_count": 96,
     "metadata": {},
     "output_type": "execute_result"
    }
   ],
   "source": [
    "df.head()"
   ]
  },
  {
   "cell_type": "code",
   "execution_count": 97,
   "metadata": {
    "ExecuteTime": {
     "end_time": "2019-02-28T04:08:06.879711Z",
     "start_time": "2019-02-28T04:08:06.859892Z"
    }
   },
   "outputs": [
    {
     "data": {
      "text/plain": [
       "0.0    613607\n",
       "1.0      6099\n",
       "Name: user_purchase_binary_14_days, dtype: int64"
      ]
     },
     "execution_count": 97,
     "metadata": {},
     "output_type": "execute_result"
    }
   ],
   "source": [
    "df.user_purchase_binary_14_days.value_counts()"
   ]
  },
  {
   "cell_type": "code",
   "execution_count": 98,
   "metadata": {
    "ExecuteTime": {
     "end_time": "2019-02-28T04:08:07.320529Z",
     "start_time": "2019-02-28T04:08:07.305359Z"
    }
   },
   "outputs": [
    {
     "data": {
      "text/plain": [
       "0.0    614996\n",
       "1.0      4710\n",
       "Name: user_purchase_binary_7_days, dtype: int64"
      ]
     },
     "execution_count": 98,
     "metadata": {},
     "output_type": "execute_result"
    }
   ],
   "source": [
    "df.user_purchase_binary_7_days.value_counts()"
   ]
  },
  {
   "cell_type": "code",
   "execution_count": 99,
   "metadata": {
    "ExecuteTime": {
     "end_time": "2019-02-28T04:08:07.570881Z",
     "start_time": "2019-02-28T04:08:07.541964Z"
    },
    "scrolled": true
   },
   "outputs": [
    {
     "data": {
      "text/html": [
       "<div>\n",
       "<style scoped>\n",
       "    .dataframe tbody tr th:only-of-type {\n",
       "        vertical-align: middle;\n",
       "    }\n",
       "\n",
       "    .dataframe tbody tr th {\n",
       "        vertical-align: top;\n",
       "    }\n",
       "\n",
       "    .dataframe thead th {\n",
       "        text-align: right;\n",
       "    }\n",
       "</style>\n",
       "<table border=\"1\" class=\"dataframe\">\n",
       "  <thead>\n",
       "    <tr style=\"text-align: right;\">\n",
       "      <th></th>\n",
       "      <th>user_id_hash</th>\n",
       "      <th>most_freq_dow</th>\n",
       "      <th>most_freq_hour</th>\n",
       "      <th>median_create_session_time</th>\n",
       "      <th>session_count</th>\n",
       "      <th>session_durations</th>\n",
       "      <th>mean_session_durations</th>\n",
       "      <th>mean_session_interval</th>\n",
       "      <th>most_freq_country</th>\n",
       "      <th>most_freq_region</th>\n",
       "      <th>...</th>\n",
       "      <th>purchase_per_active_day</th>\n",
       "      <th>session_per_day</th>\n",
       "      <th>purchase_per_day</th>\n",
       "      <th>user_entropy</th>\n",
       "      <th>last_session_time</th>\n",
       "      <th>last_purchase_time</th>\n",
       "      <th>country_mean_purchase_perc</th>\n",
       "      <th>os_mean_purchase_perc</th>\n",
       "      <th>cost_per_purchase</th>\n",
       "      <th>attr_11</th>\n",
       "    </tr>\n",
       "  </thead>\n",
       "  <tbody>\n",
       "    <tr>\n",
       "      <th>0</th>\n",
       "      <td>e469dfaed039ead9110165d9bc457acb11609ca34057dc...</td>\n",
       "      <td>5.0</td>\n",
       "      <td>10.0</td>\n",
       "      <td>0.5</td>\n",
       "      <td>2.0</td>\n",
       "      <td>713088.0</td>\n",
       "      <td>356544.0</td>\n",
       "      <td>0.250000</td>\n",
       "      <td>206</td>\n",
       "      <td>193</td>\n",
       "      <td>...</td>\n",
       "      <td>0.0</td>\n",
       "      <td>2.000000</td>\n",
       "      <td>0.0</td>\n",
       "      <td>0.693147</td>\n",
       "      <td>49.0</td>\n",
       "      <td>100.0</td>\n",
       "      <td>0.076365</td>\n",
       "      <td>0.087887</td>\n",
       "      <td>1.0</td>\n",
       "      <td>0.00</td>\n",
       "    </tr>\n",
       "    <tr>\n",
       "      <th>1</th>\n",
       "      <td>afcc639a324b6c598ef83d360450afa011cb2dd1358bf9...</td>\n",
       "      <td>3.0</td>\n",
       "      <td>19.0</td>\n",
       "      <td>1.0</td>\n",
       "      <td>1.0</td>\n",
       "      <td>1717320.0</td>\n",
       "      <td>1717320.0</td>\n",
       "      <td>1.000000</td>\n",
       "      <td>139</td>\n",
       "      <td>300</td>\n",
       "      <td>...</td>\n",
       "      <td>0.0</td>\n",
       "      <td>0.500000</td>\n",
       "      <td>0.0</td>\n",
       "      <td>0.693147</td>\n",
       "      <td>23.0</td>\n",
       "      <td>100.0</td>\n",
       "      <td>0.016374</td>\n",
       "      <td>0.033249</td>\n",
       "      <td>1.0</td>\n",
       "      <td>1.39</td>\n",
       "    </tr>\n",
       "    <tr>\n",
       "      <th>2</th>\n",
       "      <td>fd5a7cf211d08e3e00f7be6a9df6e6ea3d2e5c22a5d9c3...</td>\n",
       "      <td>6.0</td>\n",
       "      <td>18.0</td>\n",
       "      <td>8.0</td>\n",
       "      <td>3.0</td>\n",
       "      <td>3041967.0</td>\n",
       "      <td>1013989.0</td>\n",
       "      <td>2.666667</td>\n",
       "      <td>206</td>\n",
       "      <td>625</td>\n",
       "      <td>...</td>\n",
       "      <td>0.0</td>\n",
       "      <td>0.300000</td>\n",
       "      <td>0.0</td>\n",
       "      <td>1.609438</td>\n",
       "      <td>39.0</td>\n",
       "      <td>100.0</td>\n",
       "      <td>0.076365</td>\n",
       "      <td>0.033249</td>\n",
       "      <td>1.0</td>\n",
       "      <td>0.00</td>\n",
       "    </tr>\n",
       "    <tr>\n",
       "      <th>3</th>\n",
       "      <td>00bfff98b9d0329f014c2eeac7ce47cd18b2bc6e10d608...</td>\n",
       "      <td>5.0</td>\n",
       "      <td>12.0</td>\n",
       "      <td>2.0</td>\n",
       "      <td>10.0</td>\n",
       "      <td>92005829.0</td>\n",
       "      <td>9200582.9</td>\n",
       "      <td>0.200000</td>\n",
       "      <td>219</td>\n",
       "      <td>291</td>\n",
       "      <td>...</td>\n",
       "      <td>0.0</td>\n",
       "      <td>0.526316</td>\n",
       "      <td>0.0</td>\n",
       "      <td>2.302585</td>\n",
       "      <td>32.0</td>\n",
       "      <td>100.0</td>\n",
       "      <td>0.003304</td>\n",
       "      <td>0.033249</td>\n",
       "      <td>1.0</td>\n",
       "      <td>0.08</td>\n",
       "    </tr>\n",
       "    <tr>\n",
       "      <th>4</th>\n",
       "      <td>0d298f3638c43e915c119d4935e1ce8d168f81b5e3e8c1...</td>\n",
       "      <td>6.0</td>\n",
       "      <td>8.0</td>\n",
       "      <td>1.0</td>\n",
       "      <td>1.0</td>\n",
       "      <td>10441.0</td>\n",
       "      <td>10441.0</td>\n",
       "      <td>1.000000</td>\n",
       "      <td>170</td>\n",
       "      <td>113</td>\n",
       "      <td>...</td>\n",
       "      <td>0.0</td>\n",
       "      <td>0.500000</td>\n",
       "      <td>0.0</td>\n",
       "      <td>0.693147</td>\n",
       "      <td>62.0</td>\n",
       "      <td>100.0</td>\n",
       "      <td>0.004016</td>\n",
       "      <td>0.033249</td>\n",
       "      <td>1.0</td>\n",
       "      <td>0.00</td>\n",
       "    </tr>\n",
       "  </tbody>\n",
       "</table>\n",
       "<p>5 rows × 28 columns</p>\n",
       "</div>"
      ],
      "text/plain": [
       "                                        user_id_hash  most_freq_dow  \\\n",
       "0  e469dfaed039ead9110165d9bc457acb11609ca34057dc...            5.0   \n",
       "1  afcc639a324b6c598ef83d360450afa011cb2dd1358bf9...            3.0   \n",
       "2  fd5a7cf211d08e3e00f7be6a9df6e6ea3d2e5c22a5d9c3...            6.0   \n",
       "3  00bfff98b9d0329f014c2eeac7ce47cd18b2bc6e10d608...            5.0   \n",
       "4  0d298f3638c43e915c119d4935e1ce8d168f81b5e3e8c1...            6.0   \n",
       "\n",
       "   most_freq_hour  median_create_session_time  session_count  \\\n",
       "0            10.0                         0.5            2.0   \n",
       "1            19.0                         1.0            1.0   \n",
       "2            18.0                         8.0            3.0   \n",
       "3            12.0                         2.0           10.0   \n",
       "4             8.0                         1.0            1.0   \n",
       "\n",
       "   session_durations  mean_session_durations  mean_session_interval  \\\n",
       "0           713088.0                356544.0               0.250000   \n",
       "1          1717320.0               1717320.0               1.000000   \n",
       "2          3041967.0               1013989.0               2.666667   \n",
       "3         92005829.0               9200582.9               0.200000   \n",
       "4            10441.0                 10441.0               1.000000   \n",
       "\n",
       "   most_freq_country  most_freq_region   ...     purchase_per_active_day  \\\n",
       "0                206               193   ...                         0.0   \n",
       "1                139               300   ...                         0.0   \n",
       "2                206               625   ...                         0.0   \n",
       "3                219               291   ...                         0.0   \n",
       "4                170               113   ...                         0.0   \n",
       "\n",
       "   session_per_day  purchase_per_day  user_entropy  last_session_time  \\\n",
       "0         2.000000               0.0      0.693147               49.0   \n",
       "1         0.500000               0.0      0.693147               23.0   \n",
       "2         0.300000               0.0      1.609438               39.0   \n",
       "3         0.526316               0.0      2.302585               32.0   \n",
       "4         0.500000               0.0      0.693147               62.0   \n",
       "\n",
       "   last_purchase_time  country_mean_purchase_perc  os_mean_purchase_perc  \\\n",
       "0               100.0                    0.076365               0.087887   \n",
       "1               100.0                    0.016374               0.033249   \n",
       "2               100.0                    0.076365               0.033249   \n",
       "3               100.0                    0.003304               0.033249   \n",
       "4               100.0                    0.004016               0.033249   \n",
       "\n",
       "   cost_per_purchase  attr_11  \n",
       "0                1.0     0.00  \n",
       "1                1.0     1.39  \n",
       "2                1.0     0.00  \n",
       "3                1.0     0.08  \n",
       "4                1.0     0.00  \n",
       "\n",
       "[5 rows x 28 columns]"
      ]
     },
     "execution_count": 99,
     "metadata": {},
     "output_type": "execute_result"
    }
   ],
   "source": [
    "test.head()"
   ]
  },
  {
   "cell_type": "code",
   "execution_count": 100,
   "metadata": {
    "ExecuteTime": {
     "end_time": "2019-02-28T04:08:08.439402Z",
     "start_time": "2019-02-28T04:08:08.357246Z"
    }
   },
   "outputs": [],
   "source": [
    "x= df.iloc[:,1:-2]"
   ]
  },
  {
   "cell_type": "code",
   "execution_count": 101,
   "metadata": {
    "ExecuteTime": {
     "end_time": "2019-02-28T04:08:09.091448Z",
     "start_time": "2019-02-28T04:08:09.067160Z"
    }
   },
   "outputs": [
    {
     "data": {
      "text/html": [
       "<div>\n",
       "<style scoped>\n",
       "    .dataframe tbody tr th:only-of-type {\n",
       "        vertical-align: middle;\n",
       "    }\n",
       "\n",
       "    .dataframe tbody tr th {\n",
       "        vertical-align: top;\n",
       "    }\n",
       "\n",
       "    .dataframe thead th {\n",
       "        text-align: right;\n",
       "    }\n",
       "</style>\n",
       "<table border=\"1\" class=\"dataframe\">\n",
       "  <thead>\n",
       "    <tr style=\"text-align: right;\">\n",
       "      <th></th>\n",
       "      <th>most_freq_dow</th>\n",
       "      <th>most_freq_hour</th>\n",
       "      <th>median_create_session_time</th>\n",
       "      <th>session_count</th>\n",
       "      <th>session_durations</th>\n",
       "      <th>mean_session_durations</th>\n",
       "      <th>mean_session_interval</th>\n",
       "      <th>most_freq_country</th>\n",
       "      <th>most_freq_region</th>\n",
       "      <th>most_freq_city</th>\n",
       "      <th>...</th>\n",
       "      <th>purchase_per_active_day</th>\n",
       "      <th>session_per_day</th>\n",
       "      <th>purchase_per_day</th>\n",
       "      <th>user_entropy</th>\n",
       "      <th>last_session_time</th>\n",
       "      <th>last_purchase_time</th>\n",
       "      <th>country_mean_purchase_perc</th>\n",
       "      <th>os_mean_purchase_perc</th>\n",
       "      <th>cost_per_purchase</th>\n",
       "      <th>attr_11</th>\n",
       "    </tr>\n",
       "  </thead>\n",
       "  <tbody>\n",
       "    <tr>\n",
       "      <th>0</th>\n",
       "      <td>6</td>\n",
       "      <td>7</td>\n",
       "      <td>36.0</td>\n",
       "      <td>46</td>\n",
       "      <td>938183565</td>\n",
       "      <td>2.039529e+07</td>\n",
       "      <td>0.782609</td>\n",
       "      <td>162</td>\n",
       "      <td>0</td>\n",
       "      <td>13840</td>\n",
       "      <td>...</td>\n",
       "      <td>0.055556</td>\n",
       "      <td>0.851852</td>\n",
       "      <td>0.018519</td>\n",
       "      <td>3.828641</td>\n",
       "      <td>1</td>\n",
       "      <td>19</td>\n",
       "      <td>0.005269</td>\n",
       "      <td>0.028374</td>\n",
       "      <td>2.2465</td>\n",
       "      <td>3.49</td>\n",
       "    </tr>\n",
       "    <tr>\n",
       "      <th>1</th>\n",
       "      <td>5</td>\n",
       "      <td>23</td>\n",
       "      <td>0.0</td>\n",
       "      <td>3</td>\n",
       "      <td>6074816</td>\n",
       "      <td>2.024939e+06</td>\n",
       "      <td>0.000000</td>\n",
       "      <td>69</td>\n",
       "      <td>281</td>\n",
       "      <td>22738</td>\n",
       "      <td>...</td>\n",
       "      <td>0.000000</td>\n",
       "      <td>3.000000</td>\n",
       "      <td>0.000000</td>\n",
       "      <td>1.098612</td>\n",
       "      <td>20</td>\n",
       "      <td>100</td>\n",
       "      <td>0.060754</td>\n",
       "      <td>0.078831</td>\n",
       "      <td>1.0000</td>\n",
       "      <td>0.01</td>\n",
       "    </tr>\n",
       "    <tr>\n",
       "      <th>2</th>\n",
       "      <td>2</td>\n",
       "      <td>22</td>\n",
       "      <td>0.0</td>\n",
       "      <td>1</td>\n",
       "      <td>0</td>\n",
       "      <td>0.000000e+00</td>\n",
       "      <td>0.000000</td>\n",
       "      <td>210</td>\n",
       "      <td>299</td>\n",
       "      <td>3615</td>\n",
       "      <td>...</td>\n",
       "      <td>0.000000</td>\n",
       "      <td>0.000000</td>\n",
       "      <td>0.000000</td>\n",
       "      <td>0.000000</td>\n",
       "      <td>45</td>\n",
       "      <td>100</td>\n",
       "      <td>0.068370</td>\n",
       "      <td>0.078831</td>\n",
       "      <td>1.0000</td>\n",
       "      <td>0.00</td>\n",
       "    </tr>\n",
       "    <tr>\n",
       "      <th>3</th>\n",
       "      <td>3</td>\n",
       "      <td>15</td>\n",
       "      <td>2.0</td>\n",
       "      <td>1</td>\n",
       "      <td>596967</td>\n",
       "      <td>5.969670e+05</td>\n",
       "      <td>2.000000</td>\n",
       "      <td>94</td>\n",
       "      <td>162</td>\n",
       "      <td>8967</td>\n",
       "      <td>...</td>\n",
       "      <td>0.000000</td>\n",
       "      <td>0.250000</td>\n",
       "      <td>0.000000</td>\n",
       "      <td>0.693147</td>\n",
       "      <td>9</td>\n",
       "      <td>100</td>\n",
       "      <td>0.004529</td>\n",
       "      <td>0.028374</td>\n",
       "      <td>1.0000</td>\n",
       "      <td>0.00</td>\n",
       "    </tr>\n",
       "    <tr>\n",
       "      <th>4</th>\n",
       "      <td>2</td>\n",
       "      <td>2</td>\n",
       "      <td>0.5</td>\n",
       "      <td>1</td>\n",
       "      <td>97482</td>\n",
       "      <td>9.748200e+04</td>\n",
       "      <td>0.500000</td>\n",
       "      <td>11</td>\n",
       "      <td>494</td>\n",
       "      <td>22898</td>\n",
       "      <td>...</td>\n",
       "      <td>0.000000</td>\n",
       "      <td>1.000000</td>\n",
       "      <td>0.000000</td>\n",
       "      <td>0.693147</td>\n",
       "      <td>38</td>\n",
       "      <td>100</td>\n",
       "      <td>0.067344</td>\n",
       "      <td>0.028374</td>\n",
       "      <td>1.0000</td>\n",
       "      <td>0.00</td>\n",
       "    </tr>\n",
       "  </tbody>\n",
       "</table>\n",
       "<p>5 rows × 27 columns</p>\n",
       "</div>"
      ],
      "text/plain": [
       "   most_freq_dow  most_freq_hour  median_create_session_time  session_count  \\\n",
       "0              6               7                        36.0             46   \n",
       "1              5              23                         0.0              3   \n",
       "2              2              22                         0.0              1   \n",
       "3              3              15                         2.0              1   \n",
       "4              2               2                         0.5              1   \n",
       "\n",
       "   session_durations  mean_session_durations  mean_session_interval  \\\n",
       "0          938183565            2.039529e+07               0.782609   \n",
       "1            6074816            2.024939e+06               0.000000   \n",
       "2                  0            0.000000e+00               0.000000   \n",
       "3             596967            5.969670e+05               2.000000   \n",
       "4              97482            9.748200e+04               0.500000   \n",
       "\n",
       "   most_freq_country  most_freq_region  most_freq_city   ...     \\\n",
       "0                162                 0           13840   ...      \n",
       "1                 69               281           22738   ...      \n",
       "2                210               299            3615   ...      \n",
       "3                 94               162            8967   ...      \n",
       "4                 11               494           22898   ...      \n",
       "\n",
       "   purchase_per_active_day  session_per_day  purchase_per_day  user_entropy  \\\n",
       "0                 0.055556         0.851852          0.018519      3.828641   \n",
       "1                 0.000000         3.000000          0.000000      1.098612   \n",
       "2                 0.000000         0.000000          0.000000      0.000000   \n",
       "3                 0.000000         0.250000          0.000000      0.693147   \n",
       "4                 0.000000         1.000000          0.000000      0.693147   \n",
       "\n",
       "   last_session_time  last_purchase_time  country_mean_purchase_perc  \\\n",
       "0                  1                  19                    0.005269   \n",
       "1                 20                 100                    0.060754   \n",
       "2                 45                 100                    0.068370   \n",
       "3                  9                 100                    0.004529   \n",
       "4                 38                 100                    0.067344   \n",
       "\n",
       "   os_mean_purchase_perc  cost_per_purchase  attr_11  \n",
       "0               0.028374             2.2465     3.49  \n",
       "1               0.078831             1.0000     0.01  \n",
       "2               0.078831             1.0000     0.00  \n",
       "3               0.028374             1.0000     0.00  \n",
       "4               0.028374             1.0000     0.00  \n",
       "\n",
       "[5 rows x 27 columns]"
      ]
     },
     "execution_count": 101,
     "metadata": {},
     "output_type": "execute_result"
    }
   ],
   "source": [
    "x.head()"
   ]
  },
  {
   "cell_type": "code",
   "execution_count": 102,
   "metadata": {
    "ExecuteTime": {
     "end_time": "2019-02-28T04:08:10.488420Z",
     "start_time": "2019-02-28T04:08:10.476200Z"
    }
   },
   "outputs": [],
   "source": [
    "y = df.iloc[:,-2:]"
   ]
  },
  {
   "cell_type": "code",
   "execution_count": 103,
   "metadata": {
    "ExecuteTime": {
     "end_time": "2019-02-28T04:08:11.118073Z",
     "start_time": "2019-02-28T04:08:11.109020Z"
    }
   },
   "outputs": [
    {
     "data": {
      "text/html": [
       "<div>\n",
       "<style scoped>\n",
       "    .dataframe tbody tr th:only-of-type {\n",
       "        vertical-align: middle;\n",
       "    }\n",
       "\n",
       "    .dataframe tbody tr th {\n",
       "        vertical-align: top;\n",
       "    }\n",
       "\n",
       "    .dataframe thead th {\n",
       "        text-align: right;\n",
       "    }\n",
       "</style>\n",
       "<table border=\"1\" class=\"dataframe\">\n",
       "  <thead>\n",
       "    <tr style=\"text-align: right;\">\n",
       "      <th></th>\n",
       "      <th>user_purchase_binary_7_days</th>\n",
       "      <th>user_purchase_binary_14_days</th>\n",
       "    </tr>\n",
       "  </thead>\n",
       "  <tbody>\n",
       "    <tr>\n",
       "      <th>0</th>\n",
       "      <td>0.0</td>\n",
       "      <td>0.0</td>\n",
       "    </tr>\n",
       "    <tr>\n",
       "      <th>1</th>\n",
       "      <td>0.0</td>\n",
       "      <td>0.0</td>\n",
       "    </tr>\n",
       "    <tr>\n",
       "      <th>2</th>\n",
       "      <td>0.0</td>\n",
       "      <td>0.0</td>\n",
       "    </tr>\n",
       "    <tr>\n",
       "      <th>3</th>\n",
       "      <td>0.0</td>\n",
       "      <td>0.0</td>\n",
       "    </tr>\n",
       "    <tr>\n",
       "      <th>4</th>\n",
       "      <td>0.0</td>\n",
       "      <td>0.0</td>\n",
       "    </tr>\n",
       "  </tbody>\n",
       "</table>\n",
       "</div>"
      ],
      "text/plain": [
       "   user_purchase_binary_7_days  user_purchase_binary_14_days\n",
       "0                          0.0                           0.0\n",
       "1                          0.0                           0.0\n",
       "2                          0.0                           0.0\n",
       "3                          0.0                           0.0\n",
       "4                          0.0                           0.0"
      ]
     },
     "execution_count": 103,
     "metadata": {},
     "output_type": "execute_result"
    }
   ],
   "source": [
    "y.head()"
   ]
  },
  {
   "cell_type": "code",
   "execution_count": 104,
   "metadata": {
    "ExecuteTime": {
     "end_time": "2019-02-28T04:08:12.511999Z",
     "start_time": "2019-02-28T04:08:12.493856Z"
    }
   },
   "outputs": [
    {
     "data": {
      "text/plain": [
       "0.0    614996\n",
       "1.0      4710\n",
       "Name: user_purchase_binary_7_days, dtype: int64"
      ]
     },
     "execution_count": 104,
     "metadata": {},
     "output_type": "execute_result"
    }
   ],
   "source": [
    "y.user_purchase_binary_7_days.value_counts()"
   ]
  },
  {
   "cell_type": "code",
   "execution_count": 105,
   "metadata": {
    "ExecuteTime": {
     "end_time": "2019-02-28T04:08:12.844209Z",
     "start_time": "2019-02-28T04:08:12.838827Z"
    }
   },
   "outputs": [],
   "source": [
    "y_7_days = y.user_purchase_binary_7_days\n",
    "y_14_days = y.user_purchase_binary_14_days"
   ]
  },
  {
   "cell_type": "markdown",
   "metadata": {},
   "source": [
    "### Train Validation Split"
   ]
  },
  {
   "cell_type": "code",
   "execution_count": 73,
   "metadata": {
    "ExecuteTime": {
     "end_time": "2019-02-28T03:43:06.164336Z",
     "start_time": "2019-02-28T03:43:06.160618Z"
    }
   },
   "outputs": [],
   "source": [
    "from sklearn.model_selection import train_test_split"
   ]
  },
  {
   "cell_type": "code",
   "execution_count": 74,
   "metadata": {
    "ExecuteTime": {
     "end_time": "2019-02-28T03:43:06.849103Z",
     "start_time": "2019-02-28T03:43:06.570721Z"
    }
   },
   "outputs": [],
   "source": [
    "x_train, x_valid, y_train, y_valid = train_test_split(x, y, test_size=0.2, random_state=42)"
   ]
  },
  {
   "cell_type": "code",
   "execution_count": 75,
   "metadata": {
    "ExecuteTime": {
     "end_time": "2019-02-28T03:43:06.942616Z",
     "start_time": "2019-02-28T03:43:06.915810Z"
    }
   },
   "outputs": [
    {
     "data": {
      "text/html": [
       "<div>\n",
       "<style scoped>\n",
       "    .dataframe tbody tr th:only-of-type {\n",
       "        vertical-align: middle;\n",
       "    }\n",
       "\n",
       "    .dataframe tbody tr th {\n",
       "        vertical-align: top;\n",
       "    }\n",
       "\n",
       "    .dataframe thead th {\n",
       "        text-align: right;\n",
       "    }\n",
       "</style>\n",
       "<table border=\"1\" class=\"dataframe\">\n",
       "  <thead>\n",
       "    <tr style=\"text-align: right;\">\n",
       "      <th></th>\n",
       "      <th>most_freq_dow</th>\n",
       "      <th>most_freq_hour</th>\n",
       "      <th>median_create_session_time</th>\n",
       "      <th>session_count</th>\n",
       "      <th>session_durations</th>\n",
       "      <th>mean_session_durations</th>\n",
       "      <th>mean_session_interval</th>\n",
       "      <th>most_freq_country</th>\n",
       "      <th>most_freq_region</th>\n",
       "      <th>most_freq_city</th>\n",
       "      <th>...</th>\n",
       "      <th>purchase_per_active_day</th>\n",
       "      <th>session_per_day</th>\n",
       "      <th>purchase_per_day</th>\n",
       "      <th>user_entropy</th>\n",
       "      <th>last_session_time</th>\n",
       "      <th>last_purchase_time</th>\n",
       "      <th>country_mean_purchase_perc</th>\n",
       "      <th>os_mean_purchase_perc</th>\n",
       "      <th>cost_per_purchase</th>\n",
       "      <th>attr_11</th>\n",
       "    </tr>\n",
       "  </thead>\n",
       "  <tbody>\n",
       "    <tr>\n",
       "      <th>22548</th>\n",
       "      <td>6</td>\n",
       "      <td>20</td>\n",
       "      <td>0.5</td>\n",
       "      <td>4</td>\n",
       "      <td>4444584</td>\n",
       "      <td>1.111146e+06</td>\n",
       "      <td>0.125000</td>\n",
       "      <td>210</td>\n",
       "      <td>432</td>\n",
       "      <td>2833</td>\n",
       "      <td>...</td>\n",
       "      <td>0.0</td>\n",
       "      <td>0.20</td>\n",
       "      <td>0.0</td>\n",
       "      <td>1.386294</td>\n",
       "      <td>35</td>\n",
       "      <td>100</td>\n",
       "      <td>0.068370</td>\n",
       "      <td>0.078831</td>\n",
       "      <td>1.0</td>\n",
       "      <td>0.00</td>\n",
       "    </tr>\n",
       "    <tr>\n",
       "      <th>380579</th>\n",
       "      <td>5</td>\n",
       "      <td>7</td>\n",
       "      <td>0.0</td>\n",
       "      <td>3</td>\n",
       "      <td>636136</td>\n",
       "      <td>2.120453e+05</td>\n",
       "      <td>0.000000</td>\n",
       "      <td>210</td>\n",
       "      <td>509</td>\n",
       "      <td>25241</td>\n",
       "      <td>...</td>\n",
       "      <td>0.0</td>\n",
       "      <td>0.00</td>\n",
       "      <td>0.0</td>\n",
       "      <td>1.098612</td>\n",
       "      <td>28</td>\n",
       "      <td>100</td>\n",
       "      <td>0.068370</td>\n",
       "      <td>0.028374</td>\n",
       "      <td>1.0</td>\n",
       "      <td>0.00</td>\n",
       "    </tr>\n",
       "    <tr>\n",
       "      <th>150378</th>\n",
       "      <td>3</td>\n",
       "      <td>15</td>\n",
       "      <td>1.0</td>\n",
       "      <td>6</td>\n",
       "      <td>19939709</td>\n",
       "      <td>3.323285e+06</td>\n",
       "      <td>0.166667</td>\n",
       "      <td>208</td>\n",
       "      <td>42</td>\n",
       "      <td>5998</td>\n",
       "      <td>...</td>\n",
       "      <td>0.0</td>\n",
       "      <td>3.00</td>\n",
       "      <td>0.0</td>\n",
       "      <td>1.945910</td>\n",
       "      <td>8</td>\n",
       "      <td>100</td>\n",
       "      <td>0.012514</td>\n",
       "      <td>0.078831</td>\n",
       "      <td>1.0</td>\n",
       "      <td>0.01</td>\n",
       "    </tr>\n",
       "    <tr>\n",
       "      <th>49093</th>\n",
       "      <td>2</td>\n",
       "      <td>2</td>\n",
       "      <td>1.0</td>\n",
       "      <td>1</td>\n",
       "      <td>74710</td>\n",
       "      <td>7.471000e+04</td>\n",
       "      <td>1.000000</td>\n",
       "      <td>210</td>\n",
       "      <td>439</td>\n",
       "      <td>17323</td>\n",
       "      <td>...</td>\n",
       "      <td>0.0</td>\n",
       "      <td>0.50</td>\n",
       "      <td>0.0</td>\n",
       "      <td>0.693147</td>\n",
       "      <td>15</td>\n",
       "      <td>100</td>\n",
       "      <td>0.068370</td>\n",
       "      <td>0.078831</td>\n",
       "      <td>1.0</td>\n",
       "      <td>0.00</td>\n",
       "    </tr>\n",
       "    <tr>\n",
       "      <th>503757</th>\n",
       "      <td>0</td>\n",
       "      <td>23</td>\n",
       "      <td>1.0</td>\n",
       "      <td>7</td>\n",
       "      <td>14560355</td>\n",
       "      <td>2.080051e+06</td>\n",
       "      <td>0.142857</td>\n",
       "      <td>67</td>\n",
       "      <td>302</td>\n",
       "      <td>19381</td>\n",
       "      <td>...</td>\n",
       "      <td>0.0</td>\n",
       "      <td>1.75</td>\n",
       "      <td>0.0</td>\n",
       "      <td>2.079442</td>\n",
       "      <td>16</td>\n",
       "      <td>100</td>\n",
       "      <td>0.029013</td>\n",
       "      <td>0.028374</td>\n",
       "      <td>1.0</td>\n",
       "      <td>0.01</td>\n",
       "    </tr>\n",
       "  </tbody>\n",
       "</table>\n",
       "<p>5 rows × 27 columns</p>\n",
       "</div>"
      ],
      "text/plain": [
       "        most_freq_dow  most_freq_hour  median_create_session_time  \\\n",
       "22548               6              20                         0.5   \n",
       "380579              5               7                         0.0   \n",
       "150378              3              15                         1.0   \n",
       "49093               2               2                         1.0   \n",
       "503757              0              23                         1.0   \n",
       "\n",
       "        session_count  session_durations  mean_session_durations  \\\n",
       "22548               4            4444584            1.111146e+06   \n",
       "380579              3             636136            2.120453e+05   \n",
       "150378              6           19939709            3.323285e+06   \n",
       "49093               1              74710            7.471000e+04   \n",
       "503757              7           14560355            2.080051e+06   \n",
       "\n",
       "        mean_session_interval  most_freq_country  most_freq_region  \\\n",
       "22548                0.125000                210               432   \n",
       "380579               0.000000                210               509   \n",
       "150378               0.166667                208                42   \n",
       "49093                1.000000                210               439   \n",
       "503757               0.142857                 67               302   \n",
       "\n",
       "        most_freq_city   ...     purchase_per_active_day  session_per_day  \\\n",
       "22548             2833   ...                         0.0             0.20   \n",
       "380579           25241   ...                         0.0             0.00   \n",
       "150378            5998   ...                         0.0             3.00   \n",
       "49093            17323   ...                         0.0             0.50   \n",
       "503757           19381   ...                         0.0             1.75   \n",
       "\n",
       "        purchase_per_day  user_entropy  last_session_time  last_purchase_time  \\\n",
       "22548                0.0      1.386294                 35                 100   \n",
       "380579               0.0      1.098612                 28                 100   \n",
       "150378               0.0      1.945910                  8                 100   \n",
       "49093                0.0      0.693147                 15                 100   \n",
       "503757               0.0      2.079442                 16                 100   \n",
       "\n",
       "        country_mean_purchase_perc  os_mean_purchase_perc  cost_per_purchase  \\\n",
       "22548                     0.068370               0.078831                1.0   \n",
       "380579                    0.068370               0.028374                1.0   \n",
       "150378                    0.012514               0.078831                1.0   \n",
       "49093                     0.068370               0.078831                1.0   \n",
       "503757                    0.029013               0.028374                1.0   \n",
       "\n",
       "        attr_11  \n",
       "22548      0.00  \n",
       "380579     0.00  \n",
       "150378     0.01  \n",
       "49093      0.00  \n",
       "503757     0.01  \n",
       "\n",
       "[5 rows x 27 columns]"
      ]
     },
     "execution_count": 75,
     "metadata": {},
     "output_type": "execute_result"
    }
   ],
   "source": [
    "x_train.head()"
   ]
  },
  {
   "cell_type": "code",
   "execution_count": 76,
   "metadata": {
    "ExecuteTime": {
     "end_time": "2019-02-28T03:43:07.248710Z",
     "start_time": "2019-02-28T03:43:07.239974Z"
    }
   },
   "outputs": [
    {
     "data": {
      "text/html": [
       "<div>\n",
       "<style scoped>\n",
       "    .dataframe tbody tr th:only-of-type {\n",
       "        vertical-align: middle;\n",
       "    }\n",
       "\n",
       "    .dataframe tbody tr th {\n",
       "        vertical-align: top;\n",
       "    }\n",
       "\n",
       "    .dataframe thead th {\n",
       "        text-align: right;\n",
       "    }\n",
       "</style>\n",
       "<table border=\"1\" class=\"dataframe\">\n",
       "  <thead>\n",
       "    <tr style=\"text-align: right;\">\n",
       "      <th></th>\n",
       "      <th>user_purchase_binary_7_days</th>\n",
       "      <th>user_purchase_binary_14_days</th>\n",
       "    </tr>\n",
       "  </thead>\n",
       "  <tbody>\n",
       "    <tr>\n",
       "      <th>22548</th>\n",
       "      <td>0.0</td>\n",
       "      <td>0.0</td>\n",
       "    </tr>\n",
       "    <tr>\n",
       "      <th>380579</th>\n",
       "      <td>0.0</td>\n",
       "      <td>0.0</td>\n",
       "    </tr>\n",
       "    <tr>\n",
       "      <th>150378</th>\n",
       "      <td>0.0</td>\n",
       "      <td>0.0</td>\n",
       "    </tr>\n",
       "    <tr>\n",
       "      <th>49093</th>\n",
       "      <td>0.0</td>\n",
       "      <td>0.0</td>\n",
       "    </tr>\n",
       "    <tr>\n",
       "      <th>503757</th>\n",
       "      <td>0.0</td>\n",
       "      <td>0.0</td>\n",
       "    </tr>\n",
       "  </tbody>\n",
       "</table>\n",
       "</div>"
      ],
      "text/plain": [
       "        user_purchase_binary_7_days  user_purchase_binary_14_days\n",
       "22548                           0.0                           0.0\n",
       "380579                          0.0                           0.0\n",
       "150378                          0.0                           0.0\n",
       "49093                           0.0                           0.0\n",
       "503757                          0.0                           0.0"
      ]
     },
     "execution_count": 76,
     "metadata": {},
     "output_type": "execute_result"
    }
   ],
   "source": [
    "y_train.head()"
   ]
  },
  {
   "cell_type": "code",
   "execution_count": 77,
   "metadata": {
    "ExecuteTime": {
     "end_time": "2019-02-28T03:43:07.502730Z",
     "start_time": "2019-02-28T03:43:07.497284Z"
    }
   },
   "outputs": [
    {
     "data": {
      "text/plain": [
       "495764"
      ]
     },
     "execution_count": 77,
     "metadata": {},
     "output_type": "execute_result"
    }
   ],
   "source": [
    "len(x_train)"
   ]
  },
  {
   "cell_type": "code",
   "execution_count": 78,
   "metadata": {
    "ExecuteTime": {
     "end_time": "2019-02-28T03:43:07.780182Z",
     "start_time": "2019-02-28T03:43:07.773354Z"
    }
   },
   "outputs": [
    {
     "data": {
      "text/plain": [
       "123942"
      ]
     },
     "execution_count": 78,
     "metadata": {},
     "output_type": "execute_result"
    }
   ],
   "source": [
    "len(x_valid)"
   ]
  },
  {
   "cell_type": "code",
   "execution_count": 79,
   "metadata": {
    "ExecuteTime": {
     "end_time": "2019-02-28T03:43:08.044108Z",
     "start_time": "2019-02-28T03:43:08.035064Z"
    }
   },
   "outputs": [],
   "source": [
    "y_train_7_days = y_train.iloc[:,:1]\n",
    "y_train_14_days = y_train.iloc[:,-1]"
   ]
  },
  {
   "cell_type": "code",
   "execution_count": 80,
   "metadata": {
    "ExecuteTime": {
     "end_time": "2019-02-28T03:43:08.294931Z",
     "start_time": "2019-02-28T03:43:08.286275Z"
    }
   },
   "outputs": [],
   "source": [
    "y_valid_7_days = y_valid.iloc[:,:1]\n",
    "y_valid_14_days = y_valid.iloc[:,-1]"
   ]
  },
  {
   "cell_type": "code",
   "execution_count": 81,
   "metadata": {
    "ExecuteTime": {
     "end_time": "2019-02-28T03:43:08.599924Z",
     "start_time": "2019-02-28T03:43:08.586491Z"
    }
   },
   "outputs": [
    {
     "data": {
      "text/plain": [
       "0.0    491964\n",
       "1.0      3800\n",
       "Name: user_purchase_binary_7_days, dtype: int64"
      ]
     },
     "execution_count": 81,
     "metadata": {},
     "output_type": "execute_result"
    }
   ],
   "source": [
    "y_train_7_days.user_purchase_binary_7_days.value_counts()"
   ]
  },
  {
   "cell_type": "code",
   "execution_count": 82,
   "metadata": {
    "ExecuteTime": {
     "end_time": "2019-02-28T03:43:08.833951Z",
     "start_time": "2019-02-28T03:43:08.822255Z"
    },
    "scrolled": true
   },
   "outputs": [
    {
     "data": {
      "text/plain": [
       "0.0    490817\n",
       "1.0      4947\n",
       "Name: user_purchase_binary_14_days, dtype: int64"
      ]
     },
     "execution_count": 82,
     "metadata": {},
     "output_type": "execute_result"
    }
   ],
   "source": [
    "y_train_14_days.value_counts()"
   ]
  },
  {
   "cell_type": "code",
   "execution_count": 83,
   "metadata": {
    "ExecuteTime": {
     "end_time": "2019-02-28T03:43:09.155874Z",
     "start_time": "2019-02-28T03:43:09.072482Z"
    }
   },
   "outputs": [],
   "source": [
    "x_test = test.iloc[:,1:]"
   ]
  },
  {
   "cell_type": "code",
   "execution_count": 84,
   "metadata": {
    "ExecuteTime": {
     "end_time": "2019-02-28T03:43:09.357556Z",
     "start_time": "2019-02-28T03:43:09.332139Z"
    }
   },
   "outputs": [
    {
     "data": {
      "text/html": [
       "<div>\n",
       "<style scoped>\n",
       "    .dataframe tbody tr th:only-of-type {\n",
       "        vertical-align: middle;\n",
       "    }\n",
       "\n",
       "    .dataframe tbody tr th {\n",
       "        vertical-align: top;\n",
       "    }\n",
       "\n",
       "    .dataframe thead th {\n",
       "        text-align: right;\n",
       "    }\n",
       "</style>\n",
       "<table border=\"1\" class=\"dataframe\">\n",
       "  <thead>\n",
       "    <tr style=\"text-align: right;\">\n",
       "      <th></th>\n",
       "      <th>most_freq_dow</th>\n",
       "      <th>most_freq_hour</th>\n",
       "      <th>median_create_session_time</th>\n",
       "      <th>session_count</th>\n",
       "      <th>session_durations</th>\n",
       "      <th>mean_session_durations</th>\n",
       "      <th>mean_session_interval</th>\n",
       "      <th>most_freq_country</th>\n",
       "      <th>most_freq_region</th>\n",
       "      <th>most_freq_city</th>\n",
       "      <th>...</th>\n",
       "      <th>purchase_per_active_day</th>\n",
       "      <th>session_per_day</th>\n",
       "      <th>purchase_per_day</th>\n",
       "      <th>user_entropy</th>\n",
       "      <th>last_session_time</th>\n",
       "      <th>last_purchase_time</th>\n",
       "      <th>country_mean_purchase_perc</th>\n",
       "      <th>os_mean_purchase_perc</th>\n",
       "      <th>cost_per_purchase</th>\n",
       "      <th>attr_11</th>\n",
       "    </tr>\n",
       "  </thead>\n",
       "  <tbody>\n",
       "    <tr>\n",
       "      <th>0</th>\n",
       "      <td>5.0</td>\n",
       "      <td>10.0</td>\n",
       "      <td>0.5</td>\n",
       "      <td>2.0</td>\n",
       "      <td>713088.0</td>\n",
       "      <td>356544.0</td>\n",
       "      <td>0.250000</td>\n",
       "      <td>206</td>\n",
       "      <td>193</td>\n",
       "      <td>5214</td>\n",
       "      <td>...</td>\n",
       "      <td>0.0</td>\n",
       "      <td>2.000000</td>\n",
       "      <td>0.0</td>\n",
       "      <td>0.693147</td>\n",
       "      <td>49.0</td>\n",
       "      <td>100.0</td>\n",
       "      <td>0.076365</td>\n",
       "      <td>0.087887</td>\n",
       "      <td>1.0</td>\n",
       "      <td>0.000000</td>\n",
       "    </tr>\n",
       "    <tr>\n",
       "      <th>1</th>\n",
       "      <td>3.0</td>\n",
       "      <td>19.0</td>\n",
       "      <td>1.0</td>\n",
       "      <td>1.0</td>\n",
       "      <td>1717320.0</td>\n",
       "      <td>1717320.0</td>\n",
       "      <td>1.000000</td>\n",
       "      <td>139</td>\n",
       "      <td>300</td>\n",
       "      <td>17896</td>\n",
       "      <td>...</td>\n",
       "      <td>0.0</td>\n",
       "      <td>0.500000</td>\n",
       "      <td>0.0</td>\n",
       "      <td>0.693147</td>\n",
       "      <td>23.0</td>\n",
       "      <td>100.0</td>\n",
       "      <td>0.016374</td>\n",
       "      <td>0.033249</td>\n",
       "      <td>1.0</td>\n",
       "      <td>1.390000</td>\n",
       "    </tr>\n",
       "    <tr>\n",
       "      <th>2</th>\n",
       "      <td>6.0</td>\n",
       "      <td>18.0</td>\n",
       "      <td>8.0</td>\n",
       "      <td>3.0</td>\n",
       "      <td>3041967.0</td>\n",
       "      <td>1013989.0</td>\n",
       "      <td>2.666667</td>\n",
       "      <td>206</td>\n",
       "      <td>625</td>\n",
       "      <td>5169</td>\n",
       "      <td>...</td>\n",
       "      <td>0.0</td>\n",
       "      <td>0.300000</td>\n",
       "      <td>0.0</td>\n",
       "      <td>1.609438</td>\n",
       "      <td>39.0</td>\n",
       "      <td>100.0</td>\n",
       "      <td>0.076365</td>\n",
       "      <td>0.033249</td>\n",
       "      <td>1.0</td>\n",
       "      <td>0.000000</td>\n",
       "    </tr>\n",
       "    <tr>\n",
       "      <th>3</th>\n",
       "      <td>5.0</td>\n",
       "      <td>12.0</td>\n",
       "      <td>2.0</td>\n",
       "      <td>10.0</td>\n",
       "      <td>92005829.0</td>\n",
       "      <td>9200582.9</td>\n",
       "      <td>0.200000</td>\n",
       "      <td>219</td>\n",
       "      <td>291</td>\n",
       "      <td>7059</td>\n",
       "      <td>...</td>\n",
       "      <td>0.0</td>\n",
       "      <td>0.526316</td>\n",
       "      <td>0.0</td>\n",
       "      <td>2.302585</td>\n",
       "      <td>32.0</td>\n",
       "      <td>100.0</td>\n",
       "      <td>0.003304</td>\n",
       "      <td>0.033249</td>\n",
       "      <td>1.0</td>\n",
       "      <td>0.038571</td>\n",
       "    </tr>\n",
       "    <tr>\n",
       "      <th>4</th>\n",
       "      <td>6.0</td>\n",
       "      <td>8.0</td>\n",
       "      <td>1.0</td>\n",
       "      <td>1.0</td>\n",
       "      <td>10441.0</td>\n",
       "      <td>10441.0</td>\n",
       "      <td>1.000000</td>\n",
       "      <td>170</td>\n",
       "      <td>113</td>\n",
       "      <td>13326</td>\n",
       "      <td>...</td>\n",
       "      <td>0.0</td>\n",
       "      <td>0.500000</td>\n",
       "      <td>0.0</td>\n",
       "      <td>0.693147</td>\n",
       "      <td>62.0</td>\n",
       "      <td>100.0</td>\n",
       "      <td>0.004016</td>\n",
       "      <td>0.033249</td>\n",
       "      <td>1.0</td>\n",
       "      <td>0.000000</td>\n",
       "    </tr>\n",
       "  </tbody>\n",
       "</table>\n",
       "<p>5 rows × 27 columns</p>\n",
       "</div>"
      ],
      "text/plain": [
       "   most_freq_dow  most_freq_hour  median_create_session_time  session_count  \\\n",
       "0            5.0            10.0                         0.5            2.0   \n",
       "1            3.0            19.0                         1.0            1.0   \n",
       "2            6.0            18.0                         8.0            3.0   \n",
       "3            5.0            12.0                         2.0           10.0   \n",
       "4            6.0             8.0                         1.0            1.0   \n",
       "\n",
       "   session_durations  mean_session_durations  mean_session_interval  \\\n",
       "0           713088.0                356544.0               0.250000   \n",
       "1          1717320.0               1717320.0               1.000000   \n",
       "2          3041967.0               1013989.0               2.666667   \n",
       "3         92005829.0               9200582.9               0.200000   \n",
       "4            10441.0                 10441.0               1.000000   \n",
       "\n",
       "   most_freq_country  most_freq_region  most_freq_city    ...     \\\n",
       "0                206               193            5214    ...      \n",
       "1                139               300           17896    ...      \n",
       "2                206               625            5169    ...      \n",
       "3                219               291            7059    ...      \n",
       "4                170               113           13326    ...      \n",
       "\n",
       "   purchase_per_active_day  session_per_day  purchase_per_day  user_entropy  \\\n",
       "0                      0.0         2.000000               0.0      0.693147   \n",
       "1                      0.0         0.500000               0.0      0.693147   \n",
       "2                      0.0         0.300000               0.0      1.609438   \n",
       "3                      0.0         0.526316               0.0      2.302585   \n",
       "4                      0.0         0.500000               0.0      0.693147   \n",
       "\n",
       "   last_session_time  last_purchase_time  country_mean_purchase_perc  \\\n",
       "0               49.0               100.0                    0.076365   \n",
       "1               23.0               100.0                    0.016374   \n",
       "2               39.0               100.0                    0.076365   \n",
       "3               32.0               100.0                    0.003304   \n",
       "4               62.0               100.0                    0.004016   \n",
       "\n",
       "   os_mean_purchase_perc  cost_per_purchase   attr_11  \n",
       "0               0.087887                1.0  0.000000  \n",
       "1               0.033249                1.0  1.390000  \n",
       "2               0.033249                1.0  0.000000  \n",
       "3               0.033249                1.0  0.038571  \n",
       "4               0.033249                1.0  0.000000  \n",
       "\n",
       "[5 rows x 27 columns]"
      ]
     },
     "execution_count": 84,
     "metadata": {},
     "output_type": "execute_result"
    }
   ],
   "source": [
    "x_test.head()"
   ]
  },
  {
   "cell_type": "markdown",
   "metadata": {},
   "source": [
    "### Tune hyperparameter"
   ]
  },
  {
   "cell_type": "code",
   "execution_count": 25,
   "metadata": {
    "ExecuteTime": {
     "end_time": "2019-02-28T02:02:44.761355Z",
     "start_time": "2019-02-28T02:02:44.758568Z"
    }
   },
   "outputs": [],
   "source": [
    "# for 7 days "
   ]
  },
  {
   "cell_type": "code",
   "execution_count": 55,
   "metadata": {
    "ExecuteTime": {
     "end_time": "2019-02-27T05:57:26.384834Z",
     "start_time": "2019-02-27T05:57:26.217134Z"
    }
   },
   "outputs": [],
   "source": [
    "from sklearn.model_selection import ParameterGrid\n",
    "param_grid = {'n_estimators': [70,100], 'min_samples_leaf': [50,100], 'max_depth':[7,10], 'class_weight':['balanced',None]}"
   ]
  },
  {
   "cell_type": "code",
   "execution_count": null,
   "metadata": {},
   "outputs": [],
   "source": [
    "from sklearn.metrics import roc_auc_score\n",
    "rf = RandomForestClassifier()\n",
    "best_auc = 0.9\n",
    "train_auc = 0\n",
    "for g in ParameterGrid(param_grid):\n",
    "    rf.set_params(**g,random_state=42, verbose=3, n_jobs=-1)\n",
    "    rf.fit(x_train,y_train_7_days)\n",
    "    # save if best\n",
    "    valid_predict = rf.predict_proba(x_valid)\n",
    "    valid_auc = roc_auc_score(y_valid_7_days,valid_predict[:,-1])\n",
    "    if valid_auc > best_auc:\n",
    "        train_predict = rf.predict_proba(x_train)\n",
    "        train_auc = roc_auc_score(y_train_7_days,train_predict[:,-1])\n",
    "        best_auc = valid_auc\n",
    "        best_grid = g\n",
    "\n",
    "print (\"Train_auc: %04f\" %train_auc)\n",
    "print (\"Valid_auc: %04f\" %best_auc)\n",
    "print (\"Grid: {}\".format(best_grid))"
   ]
  },
  {
   "cell_type": "code",
   "execution_count": 85,
   "metadata": {
    "ExecuteTime": {
     "end_time": "2019-02-28T03:43:45.520812Z",
     "start_time": "2019-02-28T03:43:12.823701Z"
    }
   },
   "outputs": [
    {
     "name": "stderr",
     "output_type": "stream",
     "text": [
      "/Users/minchenwang/anaconda3/lib/python3.6/site-packages/ipykernel_launcher.py:4: DataConversionWarning: A column-vector y was passed when a 1d array was expected. Please change the shape of y to (n_samples,), for example using ravel().\n",
      "  after removing the cwd from sys.path.\n"
     ]
    },
    {
     "name": "stdout",
     "output_type": "stream",
     "text": [
      "building tree 1 of 100building tree 2 of 100building tree 3 of 100building tree 4 of 100\n",
      "\n",
      "\n",
      "\n",
      "building tree 5 of 100\n",
      "building tree 6 of 100\n",
      "building tree 7 of 100\n",
      "building tree 8 of 100\n",
      "building tree 9 of 100\n",
      "building tree 10 of 100\n",
      "building tree 11 of 100\n",
      "building tree 12 of 100\n",
      "building tree 13 of 100\n",
      "building tree 14 of 100\n",
      "building tree 15 of 100\n",
      "building tree 16 of 100\n",
      "building tree 17 of 100\n",
      "building tree 18 of 100\n",
      "building tree 19 of 100\n",
      "building tree 20 of 100\n",
      "building tree 21 of 100\n",
      "building tree 22 of 100\n",
      "building tree 23 of 100\n",
      "building tree 24 of 100\n",
      "building tree 25 of 100\n",
      "building tree 26 of 100\n",
      "building tree 27 of 100\n",
      "building tree 28 of 100\n"
     ]
    },
    {
     "name": "stderr",
     "output_type": "stream",
     "text": [
      "[Parallel(n_jobs=-1)]: Done  24 tasks      | elapsed:    7.5s\n"
     ]
    },
    {
     "name": "stdout",
     "output_type": "stream",
     "text": [
      "building tree 29 of 100\n",
      "building tree 30 of 100\n",
      "building tree 31 of 100\n",
      "building tree 32 of 100\n",
      "building tree 33 of 100\n",
      "building tree 34 of 100\n",
      "building tree 35 of 100\n",
      "building tree 36 of 100\n",
      "building tree 37 of 100\n",
      "building tree 38 of 100\n",
      "building tree 39 of 100\n",
      "building tree 40 of 100\n",
      "building tree 41 of 100\n",
      "building tree 42 of 100\n",
      "building tree 43 of 100\n",
      "building tree 44 of 100\n",
      "building tree 45 of 100\n",
      "building tree 46 of 100\n",
      "building tree 47 of 100\n",
      "building tree 48 of 100\n",
      "building tree 49 of 100\n",
      "building tree 50 of 100\n",
      "building tree 51 of 100\n",
      "building tree 52 of 100\n",
      "building tree 53 of 100\n",
      "building tree 54 of 100\n",
      "building tree 55 of 100\n",
      "building tree 56 of 100\n",
      "building tree 57 of 100\n",
      "building tree 58 of 100\n",
      "building tree 59 of 100\n",
      "building tree 60 of 100\n",
      "building tree 61 of 100\n",
      "building tree 62 of 100\n",
      "building tree 63 of 100\n",
      "building tree 64 of 100\n",
      "building tree 65 of 100\n",
      "building tree 66 of 100\n",
      "building tree 67 of 100\n",
      "building tree 68 of 100\n",
      "building tree 69 of 100\n",
      "building tree 70 of 100\n",
      "building tree 71 of 100\n",
      "building tree 72 of 100\n",
      "building tree 73 of 100\n",
      "building tree 74 of 100\n",
      "building tree 75 of 100\n",
      "building tree 76 of 100\n",
      "building tree 77 of 100\n",
      "building tree 78 of 100\n",
      "building tree 79 of 100\n",
      "building tree 80 of 100\n",
      "building tree 81 of 100\n",
      "building tree 82 of 100\n",
      "building tree 83 of 100\n",
      "building tree 84 of 100\n",
      "building tree 85 of 100\n",
      "building tree 86 of 100\n",
      "building tree 87 of 100\n",
      "building tree 88 of 100\n",
      "building tree 89 of 100\n",
      "building tree 90 of 100\n",
      "building tree 91 of 100\n",
      "building tree 92 of 100\n",
      "building tree 93 of 100\n",
      "building tree 94 of 100\n",
      "building tree 95 of 100\n",
      "building tree 96 of 100\n",
      "building tree 97 of 100\n",
      "building tree 98 of 100\n",
      "building tree 99 of 100\n",
      "building tree 100 of 100\n"
     ]
    },
    {
     "name": "stderr",
     "output_type": "stream",
     "text": [
      "[Parallel(n_jobs=-1)]: Done 100 out of 100 | elapsed:   31.7s finished\n",
      "[Parallel(n_jobs=4)]: Done  24 tasks      | elapsed:    0.1s\n",
      "[Parallel(n_jobs=4)]: Done 100 out of 100 | elapsed:    0.5s finished\n"
     ]
    },
    {
     "data": {
      "text/plain": [
       "0.9962042752747611"
      ]
     },
     "execution_count": 85,
     "metadata": {},
     "output_type": "execute_result"
    }
   ],
   "source": [
    "from sklearn.metrics import roc_auc_score\n",
    "model = RandomForestClassifier(random_state = 42,n_jobs =-1, verbose=3, max_depth=15, \n",
    "                               min_samples_leaf=50, n_estimators=100)\n",
    "model.fit(x_train,y_train_7_days)\n",
    "valid_pred = model.predict_proba(x_valid)\n",
    "roc_auc_score(y_valid_7_days,valid_pred[:,-1])"
   ]
  },
  {
   "cell_type": "code",
   "execution_count": 86,
   "metadata": {
    "ExecuteTime": {
     "end_time": "2019-02-28T03:48:28.156819Z",
     "start_time": "2019-02-28T03:48:28.035737Z"
    }
   },
   "outputs": [],
   "source": [
    "import pandas as pd\n",
    "feature_importances = pd.DataFrame(model.feature_importances_,\n",
    "                                   index = x_train.columns,\n",
    "                                   columns=['importance']).sort_values('importance',ascending=False)"
   ]
  },
  {
   "cell_type": "code",
   "execution_count": 87,
   "metadata": {
    "ExecuteTime": {
     "end_time": "2019-02-28T03:48:28.894443Z",
     "start_time": "2019-02-28T03:48:28.882758Z"
    }
   },
   "outputs": [
    {
     "data": {
      "text/html": [
       "<div>\n",
       "<style scoped>\n",
       "    .dataframe tbody tr th:only-of-type {\n",
       "        vertical-align: middle;\n",
       "    }\n",
       "\n",
       "    .dataframe tbody tr th {\n",
       "        vertical-align: top;\n",
       "    }\n",
       "\n",
       "    .dataframe thead th {\n",
       "        text-align: right;\n",
       "    }\n",
       "</style>\n",
       "<table border=\"1\" class=\"dataframe\">\n",
       "  <thead>\n",
       "    <tr style=\"text-align: right;\">\n",
       "      <th></th>\n",
       "      <th>importance</th>\n",
       "    </tr>\n",
       "  </thead>\n",
       "  <tbody>\n",
       "    <tr>\n",
       "      <th>last_purchase_time</th>\n",
       "      <td>0.355596</td>\n",
       "    </tr>\n",
       "    <tr>\n",
       "      <th>attr_11</th>\n",
       "      <td>0.184433</td>\n",
       "    </tr>\n",
       "    <tr>\n",
       "      <th>last_session_time</th>\n",
       "      <td>0.150096</td>\n",
       "    </tr>\n",
       "    <tr>\n",
       "      <th>purchase_per_day</th>\n",
       "      <td>0.050866</td>\n",
       "    </tr>\n",
       "    <tr>\n",
       "      <th>total_amount</th>\n",
       "      <td>0.044200</td>\n",
       "    </tr>\n",
       "    <tr>\n",
       "      <th>cost_per_purchase</th>\n",
       "      <td>0.028633</td>\n",
       "    </tr>\n",
       "    <tr>\n",
       "      <th>purchase_counts</th>\n",
       "      <td>0.024190</td>\n",
       "    </tr>\n",
       "    <tr>\n",
       "      <th>session_durations</th>\n",
       "      <td>0.020917</td>\n",
       "    </tr>\n",
       "    <tr>\n",
       "      <th>purchase_perc</th>\n",
       "      <td>0.016852</td>\n",
       "    </tr>\n",
       "    <tr>\n",
       "      <th>session_count</th>\n",
       "      <td>0.016478</td>\n",
       "    </tr>\n",
       "    <tr>\n",
       "      <th>most_frequent_purchase_hour</th>\n",
       "      <td>0.014280</td>\n",
       "    </tr>\n",
       "    <tr>\n",
       "      <th>mean_session_durations</th>\n",
       "      <td>0.013847</td>\n",
       "    </tr>\n",
       "    <tr>\n",
       "      <th>user_entropy</th>\n",
       "      <td>0.013652</td>\n",
       "    </tr>\n",
       "    <tr>\n",
       "      <th>purchase_per_active_day</th>\n",
       "      <td>0.013169</td>\n",
       "    </tr>\n",
       "    <tr>\n",
       "      <th>session_per_day</th>\n",
       "      <td>0.010662</td>\n",
       "    </tr>\n",
       "    <tr>\n",
       "      <th>session_per_active_day</th>\n",
       "      <td>0.009337</td>\n",
       "    </tr>\n",
       "    <tr>\n",
       "      <th>median_create_session_time</th>\n",
       "      <td>0.008621</td>\n",
       "    </tr>\n",
       "    <tr>\n",
       "      <th>most_frequent_purchase_dow</th>\n",
       "      <td>0.006208</td>\n",
       "    </tr>\n",
       "    <tr>\n",
       "      <th>mean_session_interval</th>\n",
       "      <td>0.004019</td>\n",
       "    </tr>\n",
       "    <tr>\n",
       "      <th>most_freq_city</th>\n",
       "      <td>0.003116</td>\n",
       "    </tr>\n",
       "    <tr>\n",
       "      <th>most_freq_region</th>\n",
       "      <td>0.002514</td>\n",
       "    </tr>\n",
       "    <tr>\n",
       "      <th>most_freq_hour</th>\n",
       "      <td>0.002435</td>\n",
       "    </tr>\n",
       "    <tr>\n",
       "      <th>most_freq_dow</th>\n",
       "      <td>0.002008</td>\n",
       "    </tr>\n",
       "    <tr>\n",
       "      <th>country_mean_purchase_perc</th>\n",
       "      <td>0.001269</td>\n",
       "    </tr>\n",
       "    <tr>\n",
       "      <th>most_freq_country</th>\n",
       "      <td>0.000998</td>\n",
       "    </tr>\n",
       "    <tr>\n",
       "      <th>os_mean_purchase_perc</th>\n",
       "      <td>0.000854</td>\n",
       "    </tr>\n",
       "    <tr>\n",
       "      <th>most_freq_os</th>\n",
       "      <td>0.000749</td>\n",
       "    </tr>\n",
       "  </tbody>\n",
       "</table>\n",
       "</div>"
      ],
      "text/plain": [
       "                             importance\n",
       "last_purchase_time             0.355596\n",
       "attr_11                        0.184433\n",
       "last_session_time              0.150096\n",
       "purchase_per_day               0.050866\n",
       "total_amount                   0.044200\n",
       "cost_per_purchase              0.028633\n",
       "purchase_counts                0.024190\n",
       "session_durations              0.020917\n",
       "purchase_perc                  0.016852\n",
       "session_count                  0.016478\n",
       "most_frequent_purchase_hour    0.014280\n",
       "mean_session_durations         0.013847\n",
       "user_entropy                   0.013652\n",
       "purchase_per_active_day        0.013169\n",
       "session_per_day                0.010662\n",
       "session_per_active_day         0.009337\n",
       "median_create_session_time     0.008621\n",
       "most_frequent_purchase_dow     0.006208\n",
       "mean_session_interval          0.004019\n",
       "most_freq_city                 0.003116\n",
       "most_freq_region               0.002514\n",
       "most_freq_hour                 0.002435\n",
       "most_freq_dow                  0.002008\n",
       "country_mean_purchase_perc     0.001269\n",
       "most_freq_country              0.000998\n",
       "os_mean_purchase_perc          0.000854\n",
       "most_freq_os                   0.000749"
      ]
     },
     "execution_count": 87,
     "metadata": {},
     "output_type": "execute_result"
    }
   ],
   "source": [
    "feature_importances"
   ]
  },
  {
   "cell_type": "code",
   "execution_count": null,
   "metadata": {},
   "outputs": [],
   "source": [
    "param_grid = {'n_estimators': [100, 50], 'min_samples_leaf': [30,70], 'max_depth':[7,10], 'class_weight':['balanced',None]}"
   ]
  },
  {
   "cell_type": "code",
   "execution_count": null,
   "metadata": {},
   "outputs": [],
   "source": [
    "from sklearn.metrics import roc_auc_score\n",
    "rf = RandomForestClassifier()\n",
    "best_auc = 0.9\n",
    "train_auc = 0\n",
    "for g in ParameterGrid(param_grid):\n",
    "    rf.set_params(**g,random_state=42, verbose=3, n_jobs=-1)\n",
    "    rf.fit(x_train,y_train_14_days)\n",
    "    # save if best\n",
    "    valid_predict = rf.predict_proba(x_valid)\n",
    "    valid_auc = roc_auc_score(y_valid_14_days,valid_predict[:,-1])\n",
    "    if valid_auc > best_auc:\n",
    "        train_predict = rf.predict_proba(x_train)\n",
    "        train_auc = roc_auc_score(y_train_14_days,train_predict[:,-1])\n",
    "        best_auc = valid_auc\n",
    "        best_grid = g\n",
    "\n",
    "print (\"Train_auc: %04f\" %train_auc)\n",
    "print (\"Valid_auc: %04f\" %best_auc)\n",
    "print (\"Grid: {}\".format(best_grid))"
   ]
  },
  {
   "cell_type": "code",
   "execution_count": 88,
   "metadata": {
    "ExecuteTime": {
     "end_time": "2019-02-28T03:49:02.559421Z",
     "start_time": "2019-02-28T03:48:36.470530Z"
    }
   },
   "outputs": [
    {
     "name": "stdout",
     "output_type": "stream",
     "text": [
      "building tree 1 of 70building tree 2 of 70building tree 3 of 70\n",
      "\n",
      "building tree 4 of 70\n",
      "\n",
      "building tree 5 of 70\n",
      "building tree 6 of 70\n",
      "building tree 7 of 70\n",
      "building tree 8 of 70\n",
      "building tree 9 of 70\n",
      "building tree 10 of 70building tree 11 of 70\n",
      "\n",
      "building tree 12 of 70\n",
      "building tree 13 of 70\n",
      "building tree 14 of 70\n",
      "building tree 15 of 70\n",
      "building tree 16 of 70\n",
      "building tree 17 of 70\n",
      "building tree 18 of 70building tree 19 of 70\n",
      "\n",
      "building tree 20 of 70\n",
      "building tree 21 of 70\n",
      "building tree 22 of 70\n",
      "building tree 23 of 70\n",
      "building tree 24 of 70\n",
      "building tree 25 of 70\n",
      "building tree 26 of 70\n",
      "building tree 27 of 70\n"
     ]
    },
    {
     "name": "stderr",
     "output_type": "stream",
     "text": [
      "[Parallel(n_jobs=-1)]: Done  24 tasks      | elapsed:    9.6s\n"
     ]
    },
    {
     "name": "stdout",
     "output_type": "stream",
     "text": [
      "building tree 28 of 70\n",
      "building tree 29 of 70\n",
      "building tree 30 of 70\n",
      "building tree 31 of 70\n",
      "building tree 32 of 70\n",
      "building tree 33 of 70\n",
      "building tree 34 of 70\n",
      "building tree 35 of 70\n",
      "building tree 36 of 70\n",
      "building tree 37 of 70\n",
      "building tree 38 of 70\n",
      "building tree 39 of 70\n",
      "building tree 40 of 70\n",
      "building tree 41 of 70\n",
      "building tree 42 of 70\n",
      "building tree 43 of 70\n",
      "building tree 44 of 70\n",
      "building tree 45 of 70\n",
      "building tree 46 of 70\n",
      "building tree 47 of 70\n",
      "building tree 48 of 70\n",
      "building tree 49 of 70\n",
      "building tree 50 of 70\n",
      "building tree 51 of 70\n",
      "building tree 52 of 70\n",
      "building tree 53 of 70\n",
      "building tree 54 of 70\n",
      "building tree 55 of 70\n",
      "building tree 56 of 70\n",
      "building tree 57 of 70\n",
      "building tree 58 of 70\n",
      "building tree 59 of 70\n",
      "building tree 60 of 70\n",
      "building tree 61 of 70\n",
      "building tree 62 of 70\n",
      "building tree 63 of 70\n",
      "building tree 64 of 70\n",
      "building tree 65 of 70\n",
      "building tree 66 of 70\n",
      "building tree 67 of 70\n",
      "building tree 68 of 70\n",
      "building tree 69 of 70\n",
      "building tree 70 of 70\n"
     ]
    },
    {
     "name": "stderr",
     "output_type": "stream",
     "text": [
      "[Parallel(n_jobs=-1)]: Done  70 out of  70 | elapsed:   25.3s finished\n",
      "[Parallel(n_jobs=4)]: Done  24 tasks      | elapsed:    0.1s\n",
      "[Parallel(n_jobs=4)]: Done  70 out of  70 | elapsed:    0.3s finished\n"
     ]
    },
    {
     "data": {
      "text/plain": [
       "0.9957939353887849"
      ]
     },
     "execution_count": 88,
     "metadata": {},
     "output_type": "execute_result"
    }
   ],
   "source": [
    "from sklearn.ensemble import RandomForestClassifier\n",
    "from sklearn.metrics import roc_auc_score\n",
    "model2 = RandomForestClassifier(random_state = 42,n_jobs =-1, verbose=3, max_depth=10, \n",
    "                               min_samples_leaf=100, n_estimators=70)\n",
    "model2.fit(x_train,y_train_14_days)\n",
    "valid_pred2= model2.predict_proba(x_valid)\n",
    "roc_auc_score(y_valid_14_days,valid_pred2[:,-1])"
   ]
  },
  {
   "cell_type": "code",
   "execution_count": 68,
   "metadata": {
    "ExecuteTime": {
     "end_time": "2019-02-27T05:28:32.515037Z",
     "start_time": "2019-02-27T05:28:32.403973Z"
    }
   },
   "outputs": [],
   "source": [
    "import pandas as pd\n",
    "feature_importances = pd.DataFrame(model2.feature_importances_,\n",
    "                                   index = x_train.columns,\n",
    "                                    columns=['importance']).sort_values('importance',ascending=False)"
   ]
  },
  {
   "cell_type": "code",
   "execution_count": 69,
   "metadata": {
    "ExecuteTime": {
     "end_time": "2019-02-27T05:28:32.581811Z",
     "start_time": "2019-02-27T05:28:32.572715Z"
    }
   },
   "outputs": [
    {
     "data": {
      "text/html": [
       "<div>\n",
       "<style scoped>\n",
       "    .dataframe tbody tr th:only-of-type {\n",
       "        vertical-align: middle;\n",
       "    }\n",
       "\n",
       "    .dataframe tbody tr th {\n",
       "        vertical-align: top;\n",
       "    }\n",
       "\n",
       "    .dataframe thead th {\n",
       "        text-align: right;\n",
       "    }\n",
       "</style>\n",
       "<table border=\"1\" class=\"dataframe\">\n",
       "  <thead>\n",
       "    <tr style=\"text-align: right;\">\n",
       "      <th></th>\n",
       "      <th>importance</th>\n",
       "    </tr>\n",
       "  </thead>\n",
       "  <tbody>\n",
       "    <tr>\n",
       "      <th>last_purchase_time</th>\n",
       "      <td>0.398638</td>\n",
       "    </tr>\n",
       "    <tr>\n",
       "      <th>last_session_time</th>\n",
       "      <td>0.196118</td>\n",
       "    </tr>\n",
       "    <tr>\n",
       "      <th>purchase_per_day</th>\n",
       "      <td>0.076019</td>\n",
       "    </tr>\n",
       "    <tr>\n",
       "      <th>user_time_entropy</th>\n",
       "      <td>0.063711</td>\n",
       "    </tr>\n",
       "    <tr>\n",
       "      <th>purchase_counts</th>\n",
       "      <td>0.047389</td>\n",
       "    </tr>\n",
       "    <tr>\n",
       "      <th>total_amount</th>\n",
       "      <td>0.042425</td>\n",
       "    </tr>\n",
       "    <tr>\n",
       "      <th>cost_per_purchase</th>\n",
       "      <td>0.031071</td>\n",
       "    </tr>\n",
       "    <tr>\n",
       "      <th>most_frequent_purchase_hour</th>\n",
       "      <td>0.024007</td>\n",
       "    </tr>\n",
       "    <tr>\n",
       "      <th>purchase_perc</th>\n",
       "      <td>0.017078</td>\n",
       "    </tr>\n",
       "    <tr>\n",
       "      <th>purchase_per_active_day</th>\n",
       "      <td>0.016892</td>\n",
       "    </tr>\n",
       "    <tr>\n",
       "      <th>median_create_session_time</th>\n",
       "      <td>0.014741</td>\n",
       "    </tr>\n",
       "    <tr>\n",
       "      <th>session_durations</th>\n",
       "      <td>0.012082</td>\n",
       "    </tr>\n",
       "    <tr>\n",
       "      <th>most_frequent_purchase_dow</th>\n",
       "      <td>0.009423</td>\n",
       "    </tr>\n",
       "    <tr>\n",
       "      <th>session_per_day</th>\n",
       "      <td>0.008607</td>\n",
       "    </tr>\n",
       "    <tr>\n",
       "      <th>mean_session_durations</th>\n",
       "      <td>0.007775</td>\n",
       "    </tr>\n",
       "    <tr>\n",
       "      <th>session_count</th>\n",
       "      <td>0.006895</td>\n",
       "    </tr>\n",
       "    <tr>\n",
       "      <th>session_per_active_day</th>\n",
       "      <td>0.005850</td>\n",
       "    </tr>\n",
       "    <tr>\n",
       "      <th>user_entropy</th>\n",
       "      <td>0.005457</td>\n",
       "    </tr>\n",
       "    <tr>\n",
       "      <th>mean_session_interval</th>\n",
       "      <td>0.003794</td>\n",
       "    </tr>\n",
       "    <tr>\n",
       "      <th>most_freq_city</th>\n",
       "      <td>0.002345</td>\n",
       "    </tr>\n",
       "    <tr>\n",
       "      <th>most_freq_dow</th>\n",
       "      <td>0.002182</td>\n",
       "    </tr>\n",
       "    <tr>\n",
       "      <th>country_mean_purchase_perc</th>\n",
       "      <td>0.001976</td>\n",
       "    </tr>\n",
       "    <tr>\n",
       "      <th>most_freq_region</th>\n",
       "      <td>0.001721</td>\n",
       "    </tr>\n",
       "    <tr>\n",
       "      <th>most_freq_hour</th>\n",
       "      <td>0.001695</td>\n",
       "    </tr>\n",
       "    <tr>\n",
       "      <th>most_freq_country</th>\n",
       "      <td>0.001109</td>\n",
       "    </tr>\n",
       "    <tr>\n",
       "      <th>os_mean_purchase_perc</th>\n",
       "      <td>0.000586</td>\n",
       "    </tr>\n",
       "    <tr>\n",
       "      <th>most_freq_os</th>\n",
       "      <td>0.000413</td>\n",
       "    </tr>\n",
       "  </tbody>\n",
       "</table>\n",
       "</div>"
      ],
      "text/plain": [
       "                             importance\n",
       "last_purchase_time             0.398638\n",
       "last_session_time              0.196118\n",
       "purchase_per_day               0.076019\n",
       "user_time_entropy              0.063711\n",
       "purchase_counts                0.047389\n",
       "total_amount                   0.042425\n",
       "cost_per_purchase              0.031071\n",
       "most_frequent_purchase_hour    0.024007\n",
       "purchase_perc                  0.017078\n",
       "purchase_per_active_day        0.016892\n",
       "median_create_session_time     0.014741\n",
       "session_durations              0.012082\n",
       "most_frequent_purchase_dow     0.009423\n",
       "session_per_day                0.008607\n",
       "mean_session_durations         0.007775\n",
       "session_count                  0.006895\n",
       "session_per_active_day         0.005850\n",
       "user_entropy                   0.005457\n",
       "mean_session_interval          0.003794\n",
       "most_freq_city                 0.002345\n",
       "most_freq_dow                  0.002182\n",
       "country_mean_purchase_perc     0.001976\n",
       "most_freq_region               0.001721\n",
       "most_freq_hour                 0.001695\n",
       "most_freq_country              0.001109\n",
       "os_mean_purchase_perc          0.000586\n",
       "most_freq_os                   0.000413"
      ]
     },
     "execution_count": 69,
     "metadata": {},
     "output_type": "execute_result"
    }
   ],
   "source": [
    "feature_importances"
   ]
  },
  {
   "cell_type": "markdown",
   "metadata": {},
   "source": [
    "### Fit All data and predict on test"
   ]
  },
  {
   "cell_type": "code",
   "execution_count": 106,
   "metadata": {
    "ExecuteTime": {
     "end_time": "2019-02-28T04:09:03.440978Z",
     "start_time": "2019-02-28T04:08:26.533152Z"
    },
    "scrolled": true
   },
   "outputs": [
    {
     "name": "stdout",
     "output_type": "stream",
     "text": [
      "building tree 1 of 100building tree 2 of 100building tree 3 of 100building tree 4 of 100\n",
      "\n",
      "\n",
      "\n",
      "building tree 5 of 100\n",
      "building tree 6 of 100\n",
      "building tree 7 of 100\n",
      "building tree 8 of 100\n",
      "building tree 9 of 100\n",
      "building tree 10 of 100\n",
      "building tree 11 of 100\n",
      "building tree 12 of 100\n",
      "building tree 13 of 100\n",
      "building tree 14 of 100\n",
      "building tree 15 of 100\n",
      "building tree 16 of 100\n",
      "building tree 17 of 100\n",
      "building tree 18 of 100\n",
      "building tree 19 of 100\n",
      "building tree 20 of 100\n",
      "building tree 21 of 100\n",
      "building tree 22 of 100\n",
      "building tree 23 of 100\n",
      "building tree 24 of 100\n",
      "building tree 25 of 100\n",
      "building tree 26 of 100\n",
      "building tree 27 of 100\n",
      "building tree 28 of 100\n"
     ]
    },
    {
     "name": "stderr",
     "output_type": "stream",
     "text": [
      "[Parallel(n_jobs=-1)]: Done  24 tasks      | elapsed:    9.5s\n"
     ]
    },
    {
     "name": "stdout",
     "output_type": "stream",
     "text": [
      "building tree 29 of 100\n",
      "building tree 30 of 100\n",
      "building tree 31 of 100\n",
      "building tree 32 of 100\n",
      "building tree 33 of 100\n",
      "building tree 34 of 100\n",
      "building tree 35 of 100\n",
      "building tree 36 of 100\n",
      "building tree 37 of 100\n",
      "building tree 38 of 100\n",
      "building tree 39 of 100\n",
      "building tree 40 of 100\n",
      "building tree 41 of 100\n",
      "building tree 42 of 100\n",
      "building tree 43 of 100\n",
      "building tree 44 of 100\n",
      "building tree 45 of 100\n",
      "building tree 46 of 100\n",
      "building tree 47 of 100\n",
      "building tree 48 of 100\n",
      "building tree 49 of 100\n",
      "building tree 50 of 100\n",
      "building tree 51 of 100\n",
      "building tree 52 of 100\n",
      "building tree 53 of 100\n",
      "building tree 54 of 100\n",
      "building tree 55 of 100\n",
      "building tree 56 of 100\n",
      "building tree 57 of 100\n",
      "building tree 58 of 100\n",
      "building tree 59 of 100\n",
      "building tree 60 of 100\n",
      "building tree 61 of 100\n",
      "building tree 62 of 100\n",
      "building tree 63 of 100\n",
      "building tree 64 of 100\n",
      "building tree 65 of 100\n",
      "building tree 66 of 100\n",
      "building tree 67 of 100\n",
      "building tree 68 of 100\n",
      "building tree 69 of 100\n",
      "building tree 70 of 100\n",
      "building tree 71 of 100\n",
      "building tree 72 of 100\n",
      "building tree 73 of 100\n",
      "building tree 74 of 100\n",
      "building tree 75 of 100\n",
      "building tree 76 of 100\n",
      "building tree 77 of 100\n",
      "building tree 78 of 100\n",
      "building tree 79 of 100\n",
      "building tree 80 of 100\n",
      "building tree 81 of 100\n",
      "building tree 82 of 100\n",
      "building tree 83 of 100\n",
      "building tree 84 of 100\n",
      "building tree 85 of 100\n",
      "building tree 86 of 100\n",
      "building tree 87 of 100\n",
      "building tree 88 of 100\n",
      "building tree 89 of 100\n",
      "building tree 90 of 100\n",
      "building tree 91 of 100\n",
      "building tree 92 of 100\n",
      "building tree 93 of 100\n",
      "building tree 94 of 100\n",
      "building tree 95 of 100\n",
      "building tree 96 of 100\n",
      "building tree 97 of 100\n",
      "building tree 98 of 100\n",
      "building tree 99 of 100\n",
      "building tree 100 of 100\n"
     ]
    },
    {
     "name": "stderr",
     "output_type": "stream",
     "text": [
      "[Parallel(n_jobs=-1)]: Done 100 out of 100 | elapsed:   35.2s finished\n",
      "[Parallel(n_jobs=4)]: Done  24 tasks      | elapsed:    0.3s\n",
      "[Parallel(n_jobs=4)]: Done 100 out of 100 | elapsed:    1.1s finished\n"
     ]
    }
   ],
   "source": [
    "# 7 days \n",
    "rf_7days = RandomForestClassifier(random_state = 42,n_jobs =-1, verbose=3, max_depth=15, \n",
    "                               min_samples_leaf=50, n_estimators=100, class_weight = 'balanced')\n",
    "rf_7days.fit(x.values,y_7_days.values.ravel())\n",
    "y_7_days_pred = rf_7days.predict_proba(x_test)"
   ]
  },
  {
   "cell_type": "code",
   "execution_count": 107,
   "metadata": {
    "ExecuteTime": {
     "end_time": "2019-02-28T04:09:06.449185Z",
     "start_time": "2019-02-28T04:09:06.332880Z"
    }
   },
   "outputs": [
    {
     "data": {
      "text/html": [
       "<div>\n",
       "<style scoped>\n",
       "    .dataframe tbody tr th:only-of-type {\n",
       "        vertical-align: middle;\n",
       "    }\n",
       "\n",
       "    .dataframe tbody tr th {\n",
       "        vertical-align: top;\n",
       "    }\n",
       "\n",
       "    .dataframe thead th {\n",
       "        text-align: right;\n",
       "    }\n",
       "</style>\n",
       "<table border=\"1\" class=\"dataframe\">\n",
       "  <thead>\n",
       "    <tr style=\"text-align: right;\">\n",
       "      <th></th>\n",
       "      <th>importance</th>\n",
       "    </tr>\n",
       "  </thead>\n",
       "  <tbody>\n",
       "    <tr>\n",
       "      <th>attr_11</th>\n",
       "      <td>0.350992</td>\n",
       "    </tr>\n",
       "    <tr>\n",
       "      <th>last_purchase_time</th>\n",
       "      <td>0.117680</td>\n",
       "    </tr>\n",
       "    <tr>\n",
       "      <th>last_session_time</th>\n",
       "      <td>0.080412</td>\n",
       "    </tr>\n",
       "    <tr>\n",
       "      <th>cost_per_purchase</th>\n",
       "      <td>0.071068</td>\n",
       "    </tr>\n",
       "    <tr>\n",
       "      <th>purchase_perc</th>\n",
       "      <td>0.058677</td>\n",
       "    </tr>\n",
       "    <tr>\n",
       "      <th>purchase_counts</th>\n",
       "      <td>0.049930</td>\n",
       "    </tr>\n",
       "    <tr>\n",
       "      <th>most_frequent_purchase_hour</th>\n",
       "      <td>0.038546</td>\n",
       "    </tr>\n",
       "    <tr>\n",
       "      <th>purchase_per_day</th>\n",
       "      <td>0.036568</td>\n",
       "    </tr>\n",
       "    <tr>\n",
       "      <th>purchase_per_active_day</th>\n",
       "      <td>0.035651</td>\n",
       "    </tr>\n",
       "    <tr>\n",
       "      <th>total_amount</th>\n",
       "      <td>0.032076</td>\n",
       "    </tr>\n",
       "    <tr>\n",
       "      <th>session_durations</th>\n",
       "      <td>0.028530</td>\n",
       "    </tr>\n",
       "    <tr>\n",
       "      <th>most_frequent_purchase_dow</th>\n",
       "      <td>0.021025</td>\n",
       "    </tr>\n",
       "    <tr>\n",
       "      <th>session_per_active_day</th>\n",
       "      <td>0.015238</td>\n",
       "    </tr>\n",
       "    <tr>\n",
       "      <th>session_count</th>\n",
       "      <td>0.011654</td>\n",
       "    </tr>\n",
       "    <tr>\n",
       "      <th>user_entropy</th>\n",
       "      <td>0.009068</td>\n",
       "    </tr>\n",
       "    <tr>\n",
       "      <th>session_per_day</th>\n",
       "      <td>0.007285</td>\n",
       "    </tr>\n",
       "    <tr>\n",
       "      <th>country_mean_purchase_perc</th>\n",
       "      <td>0.007176</td>\n",
       "    </tr>\n",
       "    <tr>\n",
       "      <th>mean_session_durations</th>\n",
       "      <td>0.004950</td>\n",
       "    </tr>\n",
       "    <tr>\n",
       "      <th>median_create_session_time</th>\n",
       "      <td>0.004569</td>\n",
       "    </tr>\n",
       "    <tr>\n",
       "      <th>mean_session_interval</th>\n",
       "      <td>0.003246</td>\n",
       "    </tr>\n",
       "    <tr>\n",
       "      <th>most_freq_region</th>\n",
       "      <td>0.003190</td>\n",
       "    </tr>\n",
       "    <tr>\n",
       "      <th>most_freq_dow</th>\n",
       "      <td>0.002993</td>\n",
       "    </tr>\n",
       "    <tr>\n",
       "      <th>most_freq_city</th>\n",
       "      <td>0.002910</td>\n",
       "    </tr>\n",
       "    <tr>\n",
       "      <th>most_freq_hour</th>\n",
       "      <td>0.002748</td>\n",
       "    </tr>\n",
       "    <tr>\n",
       "      <th>most_freq_country</th>\n",
       "      <td>0.002140</td>\n",
       "    </tr>\n",
       "    <tr>\n",
       "      <th>os_mean_purchase_perc</th>\n",
       "      <td>0.000962</td>\n",
       "    </tr>\n",
       "    <tr>\n",
       "      <th>most_freq_os</th>\n",
       "      <td>0.000716</td>\n",
       "    </tr>\n",
       "  </tbody>\n",
       "</table>\n",
       "</div>"
      ],
      "text/plain": [
       "                             importance\n",
       "attr_11                        0.350992\n",
       "last_purchase_time             0.117680\n",
       "last_session_time              0.080412\n",
       "cost_per_purchase              0.071068\n",
       "purchase_perc                  0.058677\n",
       "purchase_counts                0.049930\n",
       "most_frequent_purchase_hour    0.038546\n",
       "purchase_per_day               0.036568\n",
       "purchase_per_active_day        0.035651\n",
       "total_amount                   0.032076\n",
       "session_durations              0.028530\n",
       "most_frequent_purchase_dow     0.021025\n",
       "session_per_active_day         0.015238\n",
       "session_count                  0.011654\n",
       "user_entropy                   0.009068\n",
       "session_per_day                0.007285\n",
       "country_mean_purchase_perc     0.007176\n",
       "mean_session_durations         0.004950\n",
       "median_create_session_time     0.004569\n",
       "mean_session_interval          0.003246\n",
       "most_freq_region               0.003190\n",
       "most_freq_dow                  0.002993\n",
       "most_freq_city                 0.002910\n",
       "most_freq_hour                 0.002748\n",
       "most_freq_country              0.002140\n",
       "os_mean_purchase_perc          0.000962\n",
       "most_freq_os                   0.000716"
      ]
     },
     "execution_count": 107,
     "metadata": {},
     "output_type": "execute_result"
    }
   ],
   "source": [
    "feature_importances = pd.DataFrame(rf_7days.feature_importances_,\n",
    "                                   index = x.columns,\n",
    "                                   columns=['importance']).sort_values('importance',ascending=False)\n",
    "feature_importances"
   ]
  },
  {
   "cell_type": "code",
   "execution_count": 108,
   "metadata": {
    "ExecuteTime": {
     "end_time": "2019-02-28T04:09:32.586217Z",
     "start_time": "2019-02-28T04:09:10.006311Z"
    }
   },
   "outputs": [
    {
     "name": "stdout",
     "output_type": "stream",
     "text": [
      "building tree 1 of 70building tree 2 of 70building tree 3 of 70building tree 4 of 70\n",
      "\n",
      "\n",
      "\n",
      "building tree 5 of 70\n",
      "building tree 6 of 70\n",
      "building tree 7 of 70\n",
      "building tree 8 of 70\n",
      "building tree 9 of 70\n",
      "building tree 10 of 70\n",
      "building tree 11 of 70\n",
      "building tree 12 of 70\n",
      "building tree 13 of 70\n",
      "building tree 14 of 70\n",
      "building tree 15 of 70\n",
      "building tree 16 of 70\n",
      "building tree 17 of 70\n",
      "building tree 18 of 70\n",
      "building tree 19 of 70\n",
      "building tree 20 of 70\n",
      "building tree 21 of 70\n",
      "building tree 22 of 70\n",
      "building tree 23 of 70\n",
      "building tree 24 of 70\n",
      "building tree 25 of 70\n",
      "building tree 26 of 70\n",
      "building tree 27 of 70\n",
      "building tree 28 of 70\n"
     ]
    },
    {
     "name": "stderr",
     "output_type": "stream",
     "text": [
      "[Parallel(n_jobs=-1)]: Done  24 tasks      | elapsed:    7.9s\n"
     ]
    },
    {
     "name": "stdout",
     "output_type": "stream",
     "text": [
      "building tree 29 of 70\n",
      "building tree 30 of 70\n",
      "building tree 31 of 70\n",
      "building tree 32 of 70\n",
      "building tree 33 of 70\n",
      "building tree 34 of 70\n",
      "building tree 35 of 70\n",
      "building tree 36 of 70\n",
      "building tree 37 of 70\n",
      "building tree 38 of 70\n",
      "building tree 39 of 70\n",
      "building tree 40 of 70\n",
      "building tree 41 of 70\n",
      "building tree 42 of 70\n",
      "building tree 43 of 70\n",
      "building tree 44 of 70\n",
      "building tree 45 of 70\n",
      "building tree 46 of 70\n",
      "building tree 47 of 70\n",
      "building tree 48 of 70\n",
      "building tree 49 of 70\n",
      "building tree 50 of 70\n",
      "building tree 51 of 70\n",
      "building tree 52 of 70\n",
      "building tree 53 of 70\n",
      "building tree 54 of 70\n",
      "building tree 55 of 70\n",
      "building tree 56 of 70\n",
      "building tree 57 of 70\n",
      "building tree 58 of 70\n",
      "building tree 59 of 70\n",
      "building tree 60 of 70\n",
      "building tree 61 of 70\n",
      "building tree 62 of 70\n",
      "building tree 63 of 70\n",
      "building tree 64 of 70\n",
      "building tree 65 of 70\n",
      "building tree 66 of 70\n",
      "building tree 67 of 70\n",
      "building tree 68 of 70\n",
      "building tree 69 of 70\n",
      "building tree 70 of 70\n"
     ]
    },
    {
     "name": "stderr",
     "output_type": "stream",
     "text": [
      "[Parallel(n_jobs=-1)]: Done  70 out of  70 | elapsed:   21.6s finished\n",
      "[Parallel(n_jobs=4)]: Done  24 tasks      | elapsed:    0.2s\n",
      "[Parallel(n_jobs=4)]: Done  70 out of  70 | elapsed:    0.6s finished\n"
     ]
    }
   ],
   "source": [
    "# 14 days \n",
    "rf_14days = RandomForestClassifier(random_state = 42,n_jobs =-1, verbose=3, max_depth=10, \n",
    "                               min_samples_leaf=100, n_estimators=70, class_weight = 'balanced')\n",
    "rf_14days.fit(x.values,y_14_days.values.ravel())\n",
    "y_14_days_pred = rf_14days.predict_proba(x_test)"
   ]
  },
  {
   "cell_type": "code",
   "execution_count": 109,
   "metadata": {
    "ExecuteTime": {
     "end_time": "2019-02-28T04:09:34.901435Z",
     "start_time": "2019-02-28T04:09:34.895262Z"
    }
   },
   "outputs": [],
   "source": [
    "user = test.user_id_hash"
   ]
  },
  {
   "cell_type": "code",
   "execution_count": 110,
   "metadata": {
    "ExecuteTime": {
     "end_time": "2019-02-28T04:09:35.942499Z",
     "start_time": "2019-02-28T04:09:35.933255Z"
    }
   },
   "outputs": [],
   "source": [
    "d = {'user_id_hash': user, 'user_purchase_binary_7_days': y_7_days_pred[:,-1], 'user_purchase_binary_14_days': y_14_days_pred[:,-1]}"
   ]
  },
  {
   "cell_type": "code",
   "execution_count": 111,
   "metadata": {
    "ExecuteTime": {
     "end_time": "2019-02-28T04:09:40.430056Z",
     "start_time": "2019-02-28T04:09:40.410425Z"
    }
   },
   "outputs": [],
   "source": [
    "predictions = pd.DataFrame(data=d)"
   ]
  },
  {
   "cell_type": "code",
   "execution_count": 112,
   "metadata": {
    "ExecuteTime": {
     "end_time": "2019-02-28T04:09:41.938308Z",
     "start_time": "2019-02-28T04:09:41.925401Z"
    }
   },
   "outputs": [
    {
     "data": {
      "text/html": [
       "<div>\n",
       "<style scoped>\n",
       "    .dataframe tbody tr th:only-of-type {\n",
       "        vertical-align: middle;\n",
       "    }\n",
       "\n",
       "    .dataframe tbody tr th {\n",
       "        vertical-align: top;\n",
       "    }\n",
       "\n",
       "    .dataframe thead th {\n",
       "        text-align: right;\n",
       "    }\n",
       "</style>\n",
       "<table border=\"1\" class=\"dataframe\">\n",
       "  <thead>\n",
       "    <tr style=\"text-align: right;\">\n",
       "      <th></th>\n",
       "      <th>user_id_hash</th>\n",
       "      <th>user_purchase_binary_7_days</th>\n",
       "      <th>user_purchase_binary_14_days</th>\n",
       "    </tr>\n",
       "  </thead>\n",
       "  <tbody>\n",
       "    <tr>\n",
       "      <th>0</th>\n",
       "      <td>e469dfaed039ead9110165d9bc457acb11609ca34057dc...</td>\n",
       "      <td>0.002817</td>\n",
       "      <td>0.017847</td>\n",
       "    </tr>\n",
       "    <tr>\n",
       "      <th>1</th>\n",
       "      <td>afcc639a324b6c598ef83d360450afa011cb2dd1358bf9...</td>\n",
       "      <td>0.073821</td>\n",
       "      <td>0.223844</td>\n",
       "    </tr>\n",
       "    <tr>\n",
       "      <th>2</th>\n",
       "      <td>fd5a7cf211d08e3e00f7be6a9df6e6ea3d2e5c22a5d9c3...</td>\n",
       "      <td>0.000000</td>\n",
       "      <td>0.020485</td>\n",
       "    </tr>\n",
       "    <tr>\n",
       "      <th>3</th>\n",
       "      <td>00bfff98b9d0329f014c2eeac7ce47cd18b2bc6e10d608...</td>\n",
       "      <td>0.003461</td>\n",
       "      <td>0.011580</td>\n",
       "    </tr>\n",
       "    <tr>\n",
       "      <th>4</th>\n",
       "      <td>0d298f3638c43e915c119d4935e1ce8d168f81b5e3e8c1...</td>\n",
       "      <td>0.000000</td>\n",
       "      <td>0.000348</td>\n",
       "    </tr>\n",
       "  </tbody>\n",
       "</table>\n",
       "</div>"
      ],
      "text/plain": [
       "                                        user_id_hash  \\\n",
       "0  e469dfaed039ead9110165d9bc457acb11609ca34057dc...   \n",
       "1  afcc639a324b6c598ef83d360450afa011cb2dd1358bf9...   \n",
       "2  fd5a7cf211d08e3e00f7be6a9df6e6ea3d2e5c22a5d9c3...   \n",
       "3  00bfff98b9d0329f014c2eeac7ce47cd18b2bc6e10d608...   \n",
       "4  0d298f3638c43e915c119d4935e1ce8d168f81b5e3e8c1...   \n",
       "\n",
       "   user_purchase_binary_7_days  user_purchase_binary_14_days  \n",
       "0                     0.002817                      0.017847  \n",
       "1                     0.073821                      0.223844  \n",
       "2                     0.000000                      0.020485  \n",
       "3                     0.003461                      0.011580  \n",
       "4                     0.000000                      0.000348  "
      ]
     },
     "execution_count": 112,
     "metadata": {},
     "output_type": "execute_result"
    }
   ],
   "source": [
    "predictions.head()"
   ]
  },
  {
   "cell_type": "code",
   "execution_count": 113,
   "metadata": {
    "ExecuteTime": {
     "end_time": "2019-02-28T04:09:49.011434Z",
     "start_time": "2019-02-28T04:09:47.375232Z"
    }
   },
   "outputs": [],
   "source": [
    "predictions.to_csv('../submission.csv', index=False)"
   ]
  },
  {
   "cell_type": "code",
   "execution_count": null,
   "metadata": {
    "collapsed": true
   },
   "outputs": [],
   "source": []
  }
 ],
 "metadata": {
  "kernelspec": {
   "display_name": "Python 3",
   "language": "python",
   "name": "python3"
  },
  "language_info": {
   "codemirror_mode": {
    "name": "ipython",
    "version": 3
   },
   "file_extension": ".py",
   "mimetype": "text/x-python",
   "name": "python",
   "nbconvert_exporter": "python",
   "pygments_lexer": "ipython3",
   "version": "3.6.6"
  }
 },
 "nbformat": 4,
 "nbformat_minor": 2
}
