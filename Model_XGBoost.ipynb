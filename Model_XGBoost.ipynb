{
 "cells": [
  {
   "cell_type": "code",
   "execution_count": 22,
   "metadata": {
    "ExecuteTime": {
     "end_time": "2019-02-28T03:48:09.237695Z",
     "start_time": "2019-02-28T03:48:09.233041Z"
    }
   },
   "outputs": [],
   "source": [
    "import pandas as pd\n",
    "import numpy as np\n",
    "import os\n",
    "import boto3 "
   ]
  },
  {
   "cell_type": "markdown",
   "metadata": {},
   "source": [
    "### import Data"
   ]
  },
  {
   "cell_type": "code",
   "execution_count": 23,
   "metadata": {
    "ExecuteTime": {
     "end_time": "2019-02-28T03:48:14.947643Z",
     "start_time": "2019-02-28T03:48:11.654035Z"
    }
   },
   "outputs": [],
   "source": [
    "df = pd.read_csv('train_dataset2.csv')"
   ]
  },
  {
   "cell_type": "code",
   "execution_count": 24,
   "metadata": {
    "ExecuteTime": {
     "end_time": "2019-02-28T03:48:15.446479Z",
     "start_time": "2019-02-28T03:48:15.399260Z"
    }
   },
   "outputs": [],
   "source": [
    "x = df.iloc[:,1:-2]\n",
    "y = df.iloc[:,-2:]"
   ]
  },
  {
   "cell_type": "code",
   "execution_count": 25,
   "metadata": {
    "ExecuteTime": {
     "end_time": "2019-02-28T03:48:15.940951Z",
     "start_time": "2019-02-28T03:48:15.914391Z"
    }
   },
   "outputs": [
    {
     "data": {
      "text/html": [
       "<div>\n",
       "<style scoped>\n",
       "    .dataframe tbody tr th:only-of-type {\n",
       "        vertical-align: middle;\n",
       "    }\n",
       "\n",
       "    .dataframe tbody tr th {\n",
       "        vertical-align: top;\n",
       "    }\n",
       "\n",
       "    .dataframe thead th {\n",
       "        text-align: right;\n",
       "    }\n",
       "</style>\n",
       "<table border=\"1\" class=\"dataframe\">\n",
       "  <thead>\n",
       "    <tr style=\"text-align: right;\">\n",
       "      <th></th>\n",
       "      <th>most_freq_dow</th>\n",
       "      <th>most_freq_hour</th>\n",
       "      <th>median_create_session_time</th>\n",
       "      <th>session_count</th>\n",
       "      <th>session_durations</th>\n",
       "      <th>mean_session_durations</th>\n",
       "      <th>mean_session_interval</th>\n",
       "      <th>most_freq_country</th>\n",
       "      <th>most_freq_region</th>\n",
       "      <th>most_freq_city</th>\n",
       "      <th>...</th>\n",
       "      <th>purchase_per_active_day</th>\n",
       "      <th>session_per_day</th>\n",
       "      <th>purchase_per_day</th>\n",
       "      <th>user_entropy</th>\n",
       "      <th>last_session_time</th>\n",
       "      <th>last_purchase_time</th>\n",
       "      <th>country_mean_purchase_perc</th>\n",
       "      <th>os_mean_purchase_perc</th>\n",
       "      <th>cost_per_purchase</th>\n",
       "      <th>attr_11</th>\n",
       "    </tr>\n",
       "  </thead>\n",
       "  <tbody>\n",
       "    <tr>\n",
       "      <th>0</th>\n",
       "      <td>6</td>\n",
       "      <td>7</td>\n",
       "      <td>36.0</td>\n",
       "      <td>46</td>\n",
       "      <td>938183565</td>\n",
       "      <td>2.039529e+07</td>\n",
       "      <td>0.782609</td>\n",
       "      <td>162</td>\n",
       "      <td>0</td>\n",
       "      <td>13840</td>\n",
       "      <td>...</td>\n",
       "      <td>0.055556</td>\n",
       "      <td>0.851852</td>\n",
       "      <td>0.018519</td>\n",
       "      <td>3.828641</td>\n",
       "      <td>1</td>\n",
       "      <td>19</td>\n",
       "      <td>0.005269</td>\n",
       "      <td>0.028374</td>\n",
       "      <td>2.2465</td>\n",
       "      <td>3.49</td>\n",
       "    </tr>\n",
       "    <tr>\n",
       "      <th>1</th>\n",
       "      <td>5</td>\n",
       "      <td>23</td>\n",
       "      <td>0.0</td>\n",
       "      <td>3</td>\n",
       "      <td>6074816</td>\n",
       "      <td>2.024939e+06</td>\n",
       "      <td>0.000000</td>\n",
       "      <td>69</td>\n",
       "      <td>281</td>\n",
       "      <td>22738</td>\n",
       "      <td>...</td>\n",
       "      <td>0.000000</td>\n",
       "      <td>3.000000</td>\n",
       "      <td>0.000000</td>\n",
       "      <td>1.098612</td>\n",
       "      <td>20</td>\n",
       "      <td>100</td>\n",
       "      <td>0.060754</td>\n",
       "      <td>0.078831</td>\n",
       "      <td>1.0000</td>\n",
       "      <td>0.01</td>\n",
       "    </tr>\n",
       "    <tr>\n",
       "      <th>2</th>\n",
       "      <td>2</td>\n",
       "      <td>22</td>\n",
       "      <td>0.0</td>\n",
       "      <td>1</td>\n",
       "      <td>0</td>\n",
       "      <td>0.000000e+00</td>\n",
       "      <td>0.000000</td>\n",
       "      <td>210</td>\n",
       "      <td>299</td>\n",
       "      <td>3615</td>\n",
       "      <td>...</td>\n",
       "      <td>0.000000</td>\n",
       "      <td>0.000000</td>\n",
       "      <td>0.000000</td>\n",
       "      <td>0.000000</td>\n",
       "      <td>45</td>\n",
       "      <td>100</td>\n",
       "      <td>0.068370</td>\n",
       "      <td>0.078831</td>\n",
       "      <td>1.0000</td>\n",
       "      <td>0.00</td>\n",
       "    </tr>\n",
       "    <tr>\n",
       "      <th>3</th>\n",
       "      <td>3</td>\n",
       "      <td>15</td>\n",
       "      <td>2.0</td>\n",
       "      <td>1</td>\n",
       "      <td>596967</td>\n",
       "      <td>5.969670e+05</td>\n",
       "      <td>2.000000</td>\n",
       "      <td>94</td>\n",
       "      <td>162</td>\n",
       "      <td>8967</td>\n",
       "      <td>...</td>\n",
       "      <td>0.000000</td>\n",
       "      <td>0.250000</td>\n",
       "      <td>0.000000</td>\n",
       "      <td>0.693147</td>\n",
       "      <td>9</td>\n",
       "      <td>100</td>\n",
       "      <td>0.004529</td>\n",
       "      <td>0.028374</td>\n",
       "      <td>1.0000</td>\n",
       "      <td>0.00</td>\n",
       "    </tr>\n",
       "    <tr>\n",
       "      <th>4</th>\n",
       "      <td>2</td>\n",
       "      <td>2</td>\n",
       "      <td>0.5</td>\n",
       "      <td>1</td>\n",
       "      <td>97482</td>\n",
       "      <td>9.748200e+04</td>\n",
       "      <td>0.500000</td>\n",
       "      <td>11</td>\n",
       "      <td>494</td>\n",
       "      <td>22898</td>\n",
       "      <td>...</td>\n",
       "      <td>0.000000</td>\n",
       "      <td>1.000000</td>\n",
       "      <td>0.000000</td>\n",
       "      <td>0.693147</td>\n",
       "      <td>38</td>\n",
       "      <td>100</td>\n",
       "      <td>0.067344</td>\n",
       "      <td>0.028374</td>\n",
       "      <td>1.0000</td>\n",
       "      <td>0.00</td>\n",
       "    </tr>\n",
       "  </tbody>\n",
       "</table>\n",
       "<p>5 rows × 27 columns</p>\n",
       "</div>"
      ],
      "text/plain": [
       "   most_freq_dow  most_freq_hour  median_create_session_time  session_count  \\\n",
       "0              6               7                        36.0             46   \n",
       "1              5              23                         0.0              3   \n",
       "2              2              22                         0.0              1   \n",
       "3              3              15                         2.0              1   \n",
       "4              2               2                         0.5              1   \n",
       "\n",
       "   session_durations  mean_session_durations  mean_session_interval  \\\n",
       "0          938183565            2.039529e+07               0.782609   \n",
       "1            6074816            2.024939e+06               0.000000   \n",
       "2                  0            0.000000e+00               0.000000   \n",
       "3             596967            5.969670e+05               2.000000   \n",
       "4              97482            9.748200e+04               0.500000   \n",
       "\n",
       "   most_freq_country  most_freq_region  most_freq_city   ...     \\\n",
       "0                162                 0           13840   ...      \n",
       "1                 69               281           22738   ...      \n",
       "2                210               299            3615   ...      \n",
       "3                 94               162            8967   ...      \n",
       "4                 11               494           22898   ...      \n",
       "\n",
       "   purchase_per_active_day  session_per_day  purchase_per_day  user_entropy  \\\n",
       "0                 0.055556         0.851852          0.018519      3.828641   \n",
       "1                 0.000000         3.000000          0.000000      1.098612   \n",
       "2                 0.000000         0.000000          0.000000      0.000000   \n",
       "3                 0.000000         0.250000          0.000000      0.693147   \n",
       "4                 0.000000         1.000000          0.000000      0.693147   \n",
       "\n",
       "   last_session_time  last_purchase_time  country_mean_purchase_perc  \\\n",
       "0                  1                  19                    0.005269   \n",
       "1                 20                 100                    0.060754   \n",
       "2                 45                 100                    0.068370   \n",
       "3                  9                 100                    0.004529   \n",
       "4                 38                 100                    0.067344   \n",
       "\n",
       "   os_mean_purchase_perc  cost_per_purchase  attr_11  \n",
       "0               0.028374             2.2465     3.49  \n",
       "1               0.078831             1.0000     0.01  \n",
       "2               0.078831             1.0000     0.00  \n",
       "3               0.028374             1.0000     0.00  \n",
       "4               0.028374             1.0000     0.00  \n",
       "\n",
       "[5 rows x 27 columns]"
      ]
     },
     "execution_count": 25,
     "metadata": {},
     "output_type": "execute_result"
    }
   ],
   "source": [
    "x.head()"
   ]
  },
  {
   "cell_type": "code",
   "execution_count": 26,
   "metadata": {
    "ExecuteTime": {
     "end_time": "2019-02-28T03:48:16.225827Z",
     "start_time": "2019-02-28T03:48:16.220206Z"
    }
   },
   "outputs": [],
   "source": [
    "y_7_days = y.user_purchase_binary_7_days\n",
    "y_14_days = y.user_purchase_binary_14_days"
   ]
  },
  {
   "cell_type": "code",
   "execution_count": 27,
   "metadata": {
    "ExecuteTime": {
     "end_time": "2019-02-28T03:48:16.442753Z",
     "start_time": "2019-02-28T03:48:16.426634Z"
    }
   },
   "outputs": [
    {
     "data": {
      "text/plain": [
       "0.0    613607\n",
       "1.0      6099\n",
       "Name: user_purchase_binary_14_days, dtype: int64"
      ]
     },
     "execution_count": 27,
     "metadata": {},
     "output_type": "execute_result"
    }
   ],
   "source": [
    "y_14_days.value_counts()"
   ]
  },
  {
   "cell_type": "markdown",
   "metadata": {},
   "source": [
    "### Train_Validation_split"
   ]
  },
  {
   "cell_type": "code",
   "execution_count": 28,
   "metadata": {
    "ExecuteTime": {
     "end_time": "2019-02-28T03:48:16.788544Z",
     "start_time": "2019-02-28T03:48:16.785588Z"
    }
   },
   "outputs": [],
   "source": [
    "from sklearn.model_selection import train_test_split"
   ]
  },
  {
   "cell_type": "code",
   "execution_count": 29,
   "metadata": {
    "ExecuteTime": {
     "end_time": "2019-02-28T03:48:17.424090Z",
     "start_time": "2019-02-28T03:48:17.152104Z"
    }
   },
   "outputs": [],
   "source": [
    "x_train, x_valid, y_train, y_valid = train_test_split(x, y, test_size=0.2, random_state=42)"
   ]
  },
  {
   "cell_type": "code",
   "execution_count": 30,
   "metadata": {
    "ExecuteTime": {
     "end_time": "2019-02-28T03:48:17.435304Z",
     "start_time": "2019-02-28T03:48:17.426503Z"
    }
   },
   "outputs": [],
   "source": [
    "y_train_7_days = y_train.user_purchase_binary_7_days\n",
    "y_train_14_days = y_train.user_purchase_binary_14_days\n",
    "y_valid_7_days = y_valid.iloc[:,:1]\n",
    "y_valid_14_days = y_valid.iloc[:,-1]"
   ]
  },
  {
   "cell_type": "markdown",
   "metadata": {},
   "source": [
    "### Tune hyperparameter"
   ]
  },
  {
   "cell_type": "code",
   "execution_count": 31,
   "metadata": {
    "ExecuteTime": {
     "end_time": "2019-02-28T03:48:18.461767Z",
     "start_time": "2019-02-28T03:48:18.458692Z"
    }
   },
   "outputs": [],
   "source": [
    "import xgboost as xgb"
   ]
  },
  {
   "cell_type": "code",
   "execution_count": null,
   "metadata": {},
   "outputs": [],
   "source": [
    "# model for 7 days\n",
    "from sklearn.model_selection import GridSearchCV\n",
    "from sklearn.pipeline import Pipeline\n",
    "\n",
    "pipe_lgbm = Pipeline([('xgbm', xgb.XGBClassifier(random_state = 42,n_jobs =-1, verbose=3))]) \n",
    "\n",
    "grid_params = { 'xgbm__learning_rate': [0.005, 0.01],'xgbm__n_estimators': [50,100],\n",
    "                'xgbm__num_leaves': [10,31,50], 'xgbm__class_weight':['balanced', None]}\n",
    "    \n",
    "gridSearch = GridSearchCV(estimator=pipe_lgbm,param_grid=grid_params, cv = 5,  scoring='roc_auc')\n",
    "\n",
    "gridSearch.fit(x_train.values, y_train_7_days.values.ravel())\n",
    "best_params = gridSearch.best_params_\n",
    "print(best_params)\n",
    "print(gridSearch.best_score_)"
   ]
  },
  {
   "cell_type": "code",
   "execution_count": 32,
   "metadata": {
    "ExecuteTime": {
     "end_time": "2019-02-28T03:51:45.007118Z",
     "start_time": "2019-02-28T03:48:18.677548Z"
    }
   },
   "outputs": [
    {
     "data": {
      "text/plain": [
       "0.9970214485430039"
      ]
     },
     "execution_count": 32,
     "metadata": {},
     "output_type": "execute_result"
    }
   ],
   "source": [
    "from sklearn.metrics import roc_auc_score\n",
    "model = xgb.XGBClassifier(n_jobs =-1, verbose=3, class_weight='balanced', \n",
    "                           learning_rate=0.25, n_estimators=200)\n",
    "model.fit(x_train.values,y_train_7_days.values.ravel())\n",
    "valid_pred = model.predict_proba(x_valid.values)\n",
    "roc_auc_score(y_valid_7_days,valid_pred[:,-1])"
   ]
  },
  {
   "cell_type": "code",
   "execution_count": 33,
   "metadata": {
    "ExecuteTime": {
     "end_time": "2019-02-28T03:51:45.029326Z",
     "start_time": "2019-02-28T03:51:45.009357Z"
    }
   },
   "outputs": [
    {
     "data": {
      "text/html": [
       "<div>\n",
       "<style scoped>\n",
       "    .dataframe tbody tr th:only-of-type {\n",
       "        vertical-align: middle;\n",
       "    }\n",
       "\n",
       "    .dataframe tbody tr th {\n",
       "        vertical-align: top;\n",
       "    }\n",
       "\n",
       "    .dataframe thead th {\n",
       "        text-align: right;\n",
       "    }\n",
       "</style>\n",
       "<table border=\"1\" class=\"dataframe\">\n",
       "  <thead>\n",
       "    <tr style=\"text-align: right;\">\n",
       "      <th></th>\n",
       "      <th>0</th>\n",
       "    </tr>\n",
       "  </thead>\n",
       "  <tbody>\n",
       "    <tr>\n",
       "      <th>most_freq_dow</th>\n",
       "      <td>0.007347</td>\n",
       "    </tr>\n",
       "    <tr>\n",
       "      <th>most_freq_hour</th>\n",
       "      <td>0.022857</td>\n",
       "    </tr>\n",
       "    <tr>\n",
       "      <th>median_create_session_time</th>\n",
       "      <td>0.023673</td>\n",
       "    </tr>\n",
       "    <tr>\n",
       "      <th>session_count</th>\n",
       "      <td>0.021224</td>\n",
       "    </tr>\n",
       "    <tr>\n",
       "      <th>session_durations</th>\n",
       "      <td>0.026939</td>\n",
       "    </tr>\n",
       "    <tr>\n",
       "      <th>mean_session_durations</th>\n",
       "      <td>0.042449</td>\n",
       "    </tr>\n",
       "    <tr>\n",
       "      <th>mean_session_interval</th>\n",
       "      <td>0.024490</td>\n",
       "    </tr>\n",
       "    <tr>\n",
       "      <th>most_freq_country</th>\n",
       "      <td>0.017959</td>\n",
       "    </tr>\n",
       "    <tr>\n",
       "      <th>most_freq_region</th>\n",
       "      <td>0.026939</td>\n",
       "    </tr>\n",
       "    <tr>\n",
       "      <th>most_freq_city</th>\n",
       "      <td>0.047347</td>\n",
       "    </tr>\n",
       "    <tr>\n",
       "      <th>most_freq_os</th>\n",
       "      <td>0.010612</td>\n",
       "    </tr>\n",
       "    <tr>\n",
       "      <th>purchase_counts</th>\n",
       "      <td>0.019592</td>\n",
       "    </tr>\n",
       "    <tr>\n",
       "      <th>most_frequent_purchase_dow</th>\n",
       "      <td>0.015510</td>\n",
       "    </tr>\n",
       "    <tr>\n",
       "      <th>most_frequent_purchase_hour</th>\n",
       "      <td>0.022041</td>\n",
       "    </tr>\n",
       "    <tr>\n",
       "      <th>purchase_perc</th>\n",
       "      <td>0.024490</td>\n",
       "    </tr>\n",
       "    <tr>\n",
       "      <th>total_amount</th>\n",
       "      <td>0.096327</td>\n",
       "    </tr>\n",
       "    <tr>\n",
       "      <th>session_per_active_day</th>\n",
       "      <td>0.034286</td>\n",
       "    </tr>\n",
       "    <tr>\n",
       "      <th>purchase_per_active_day</th>\n",
       "      <td>0.026939</td>\n",
       "    </tr>\n",
       "    <tr>\n",
       "      <th>session_per_day</th>\n",
       "      <td>0.038367</td>\n",
       "    </tr>\n",
       "    <tr>\n",
       "      <th>purchase_per_day</th>\n",
       "      <td>0.017959</td>\n",
       "    </tr>\n",
       "    <tr>\n",
       "      <th>user_entropy</th>\n",
       "      <td>0.018776</td>\n",
       "    </tr>\n",
       "    <tr>\n",
       "      <th>last_session_time</th>\n",
       "      <td>0.062041</td>\n",
       "    </tr>\n",
       "    <tr>\n",
       "      <th>last_purchase_time</th>\n",
       "      <td>0.050612</td>\n",
       "    </tr>\n",
       "    <tr>\n",
       "      <th>country_mean_purchase_perc</th>\n",
       "      <td>0.019592</td>\n",
       "    </tr>\n",
       "    <tr>\n",
       "      <th>os_mean_purchase_perc</th>\n",
       "      <td>0.000000</td>\n",
       "    </tr>\n",
       "    <tr>\n",
       "      <th>cost_per_purchase</th>\n",
       "      <td>0.045714</td>\n",
       "    </tr>\n",
       "    <tr>\n",
       "      <th>attr_11</th>\n",
       "      <td>0.235918</td>\n",
       "    </tr>\n",
       "  </tbody>\n",
       "</table>\n",
       "</div>"
      ],
      "text/plain": [
       "                                    0\n",
       "most_freq_dow                0.007347\n",
       "most_freq_hour               0.022857\n",
       "median_create_session_time   0.023673\n",
       "session_count                0.021224\n",
       "session_durations            0.026939\n",
       "mean_session_durations       0.042449\n",
       "mean_session_interval        0.024490\n",
       "most_freq_country            0.017959\n",
       "most_freq_region             0.026939\n",
       "most_freq_city               0.047347\n",
       "most_freq_os                 0.010612\n",
       "purchase_counts              0.019592\n",
       "most_frequent_purchase_dow   0.015510\n",
       "most_frequent_purchase_hour  0.022041\n",
       "purchase_perc                0.024490\n",
       "total_amount                 0.096327\n",
       "session_per_active_day       0.034286\n",
       "purchase_per_active_day      0.026939\n",
       "session_per_day              0.038367\n",
       "purchase_per_day             0.017959\n",
       "user_entropy                 0.018776\n",
       "last_session_time            0.062041\n",
       "last_purchase_time           0.050612\n",
       "country_mean_purchase_perc   0.019592\n",
       "os_mean_purchase_perc        0.000000\n",
       "cost_per_purchase            0.045714\n",
       "attr_11                      0.235918"
      ]
     },
     "execution_count": 33,
     "metadata": {},
     "output_type": "execute_result"
    }
   ],
   "source": [
    "pd.DataFrame(model.feature_importances_,x_train.columns)"
   ]
  },
  {
   "cell_type": "code",
   "execution_count": 35,
   "metadata": {
    "ExecuteTime": {
     "end_time": "2019-02-28T03:54:56.833740Z",
     "start_time": "2019-02-28T03:52:32.909962Z"
    }
   },
   "outputs": [
    {
     "data": {
      "text/plain": [
       "0.9974930698358082"
      ]
     },
     "execution_count": 35,
     "metadata": {},
     "output_type": "execute_result"
    }
   ],
   "source": [
    "model2 = xgb.XGBClassifier(n_jobs =-1, verbose=3, class_weight='balanced', \n",
    "                           learning_rate=0.25, n_estimators=200)\n",
    "model2.fit(x_train.values,y_train_14_days.values.ravel())\n",
    "valid_pred2 = model2.predict_proba(x_valid.values)\n",
    "roc_auc_score(y_valid_14_days,valid_pred2[:,-1])"
   ]
  },
  {
   "cell_type": "code",
   "execution_count": 37,
   "metadata": {
    "ExecuteTime": {
     "end_time": "2019-02-28T03:55:20.671704Z",
     "start_time": "2019-02-28T03:55:20.655270Z"
    }
   },
   "outputs": [
    {
     "data": {
      "text/html": [
       "<div>\n",
       "<style scoped>\n",
       "    .dataframe tbody tr th:only-of-type {\n",
       "        vertical-align: middle;\n",
       "    }\n",
       "\n",
       "    .dataframe tbody tr th {\n",
       "        vertical-align: top;\n",
       "    }\n",
       "\n",
       "    .dataframe thead th {\n",
       "        text-align: right;\n",
       "    }\n",
       "</style>\n",
       "<table border=\"1\" class=\"dataframe\">\n",
       "  <thead>\n",
       "    <tr style=\"text-align: right;\">\n",
       "      <th></th>\n",
       "      <th>0</th>\n",
       "    </tr>\n",
       "  </thead>\n",
       "  <tbody>\n",
       "    <tr>\n",
       "      <th>most_freq_dow</th>\n",
       "      <td>0.009740</td>\n",
       "    </tr>\n",
       "    <tr>\n",
       "      <th>most_freq_hour</th>\n",
       "      <td>0.019481</td>\n",
       "    </tr>\n",
       "    <tr>\n",
       "      <th>median_create_session_time</th>\n",
       "      <td>0.014610</td>\n",
       "    </tr>\n",
       "    <tr>\n",
       "      <th>session_count</th>\n",
       "      <td>0.018669</td>\n",
       "    </tr>\n",
       "    <tr>\n",
       "      <th>session_durations</th>\n",
       "      <td>0.026786</td>\n",
       "    </tr>\n",
       "    <tr>\n",
       "      <th>mean_session_durations</th>\n",
       "      <td>0.052760</td>\n",
       "    </tr>\n",
       "    <tr>\n",
       "      <th>mean_session_interval</th>\n",
       "      <td>0.023539</td>\n",
       "    </tr>\n",
       "    <tr>\n",
       "      <th>most_freq_country</th>\n",
       "      <td>0.012987</td>\n",
       "    </tr>\n",
       "    <tr>\n",
       "      <th>most_freq_region</th>\n",
       "      <td>0.018669</td>\n",
       "    </tr>\n",
       "    <tr>\n",
       "      <th>most_freq_city</th>\n",
       "      <td>0.025162</td>\n",
       "    </tr>\n",
       "    <tr>\n",
       "      <th>most_freq_os</th>\n",
       "      <td>0.016234</td>\n",
       "    </tr>\n",
       "    <tr>\n",
       "      <th>purchase_counts</th>\n",
       "      <td>0.016234</td>\n",
       "    </tr>\n",
       "    <tr>\n",
       "      <th>most_frequent_purchase_dow</th>\n",
       "      <td>0.009740</td>\n",
       "    </tr>\n",
       "    <tr>\n",
       "      <th>most_frequent_purchase_hour</th>\n",
       "      <td>0.019481</td>\n",
       "    </tr>\n",
       "    <tr>\n",
       "      <th>purchase_perc</th>\n",
       "      <td>0.026786</td>\n",
       "    </tr>\n",
       "    <tr>\n",
       "      <th>total_amount</th>\n",
       "      <td>0.125812</td>\n",
       "    </tr>\n",
       "    <tr>\n",
       "      <th>session_per_active_day</th>\n",
       "      <td>0.038149</td>\n",
       "    </tr>\n",
       "    <tr>\n",
       "      <th>purchase_per_active_day</th>\n",
       "      <td>0.029221</td>\n",
       "    </tr>\n",
       "    <tr>\n",
       "      <th>session_per_day</th>\n",
       "      <td>0.027597</td>\n",
       "    </tr>\n",
       "    <tr>\n",
       "      <th>purchase_per_day</th>\n",
       "      <td>0.019481</td>\n",
       "    </tr>\n",
       "    <tr>\n",
       "      <th>user_entropy</th>\n",
       "      <td>0.012175</td>\n",
       "    </tr>\n",
       "    <tr>\n",
       "      <th>last_session_time</th>\n",
       "      <td>0.066558</td>\n",
       "    </tr>\n",
       "    <tr>\n",
       "      <th>last_purchase_time</th>\n",
       "      <td>0.050325</td>\n",
       "    </tr>\n",
       "    <tr>\n",
       "      <th>country_mean_purchase_perc</th>\n",
       "      <td>0.025974</td>\n",
       "    </tr>\n",
       "    <tr>\n",
       "      <th>os_mean_purchase_perc</th>\n",
       "      <td>0.000000</td>\n",
       "    </tr>\n",
       "    <tr>\n",
       "      <th>cost_per_purchase</th>\n",
       "      <td>0.038149</td>\n",
       "    </tr>\n",
       "    <tr>\n",
       "      <th>attr_11</th>\n",
       "      <td>0.255682</td>\n",
       "    </tr>\n",
       "  </tbody>\n",
       "</table>\n",
       "</div>"
      ],
      "text/plain": [
       "                                    0\n",
       "most_freq_dow                0.009740\n",
       "most_freq_hour               0.019481\n",
       "median_create_session_time   0.014610\n",
       "session_count                0.018669\n",
       "session_durations            0.026786\n",
       "mean_session_durations       0.052760\n",
       "mean_session_interval        0.023539\n",
       "most_freq_country            0.012987\n",
       "most_freq_region             0.018669\n",
       "most_freq_city               0.025162\n",
       "most_freq_os                 0.016234\n",
       "purchase_counts              0.016234\n",
       "most_frequent_purchase_dow   0.009740\n",
       "most_frequent_purchase_hour  0.019481\n",
       "purchase_perc                0.026786\n",
       "total_amount                 0.125812\n",
       "session_per_active_day       0.038149\n",
       "purchase_per_active_day      0.029221\n",
       "session_per_day              0.027597\n",
       "purchase_per_day             0.019481\n",
       "user_entropy                 0.012175\n",
       "last_session_time            0.066558\n",
       "last_purchase_time           0.050325\n",
       "country_mean_purchase_perc   0.025974\n",
       "os_mean_purchase_perc        0.000000\n",
       "cost_per_purchase            0.038149\n",
       "attr_11                      0.255682"
      ]
     },
     "execution_count": 37,
     "metadata": {},
     "output_type": "execute_result"
    }
   ],
   "source": [
    "pd.DataFrame(model2.feature_importances_,x_train.columns)"
   ]
  },
  {
   "cell_type": "markdown",
   "metadata": {},
   "source": [
    "### Predict on the full trainset"
   ]
  },
  {
   "cell_type": "code",
   "execution_count": 38,
   "metadata": {
    "ExecuteTime": {
     "end_time": "2019-02-28T03:55:25.025097Z",
     "start_time": "2019-02-28T03:55:23.368515Z"
    }
   },
   "outputs": [],
   "source": [
    "test = pd.read_csv('test_feature2.csv')"
   ]
  },
  {
   "cell_type": "code",
   "execution_count": 39,
   "metadata": {
    "ExecuteTime": {
     "end_time": "2019-02-28T03:55:25.579891Z",
     "start_time": "2019-02-28T03:55:25.510261Z"
    }
   },
   "outputs": [],
   "source": [
    "user = test.user_id_hash\n",
    "x_test = test.iloc[:,1:]"
   ]
  },
  {
   "cell_type": "code",
   "execution_count": 40,
   "metadata": {
    "ExecuteTime": {
     "end_time": "2019-02-28T03:58:26.946455Z",
     "start_time": "2019-02-28T03:55:26.643773Z"
    }
   },
   "outputs": [],
   "source": [
    "# 7 days\n",
    "xgb_7days = xgb.XGBClassifier(n_jobs =-1, verbose=3, class_weight='balanced', \n",
    "                           learning_rate=0.25, n_estimators=200)\n",
    "xgb_7days.fit(x.values,y_7_days.values.ravel())\n",
    "y_7_days_pred = xgb_7days.predict_proba(x_test.values)"
   ]
  },
  {
   "cell_type": "code",
   "execution_count": 47,
   "metadata": {
    "ExecuteTime": {
     "end_time": "2019-02-28T04:03:16.921082Z",
     "start_time": "2019-02-28T04:03:16.906472Z"
    }
   },
   "outputs": [],
   "source": [
    "import matplotlib.pyplot as plt\n",
    "%matplotlib inline\n",
    "features = list(x.columns)\n",
    "importances = xgb_7days.feature_importances_\n",
    "indices = np.argsort(importances)[::-1][:10]"
   ]
  },
  {
   "cell_type": "code",
   "execution_count": 53,
   "metadata": {
    "ExecuteTime": {
     "end_time": "2019-02-28T04:14:33.917171Z",
     "start_time": "2019-02-28T04:14:33.617327Z"
    }
   },
   "outputs": [
    {
     "data": {
      "image/png": "[encoded data removed]",
      "text/plain": [
       "<Figure size 864x288 with 1 Axes>"
      ]
     },
     "metadata": {},
     "output_type": "display_data"
    }
   ],
   "source": [
    "fig = plt.figure(figsize=(12,4)) \n",
    "plt.title('Feature Importances')\n",
    "plt.barh(range(len(indices)), importances[indices], color='lightblue', align='center')\n",
    "plt.yticks(range(len(indices)), [features[i] for i in indices],rotation=10)\n",
    "plt.xlabel('Relative Importance')\n",
    "plt.show()\n",
    "fig.savefig('random_forst_feature_importance_for_7days')"
   ]
  },
  {
   "cell_type": "code",
   "execution_count": 41,
   "metadata": {
    "ExecuteTime": {
     "end_time": "2019-02-28T04:02:03.064107Z",
     "start_time": "2019-02-28T03:58:55.137474Z"
    }
   },
   "outputs": [],
   "source": [
    "# 14 days\n",
    "xgb_14days = xgb.XGBClassifier(n_jobs =-1, verbose=3, class_weight='balanced', \n",
    "                           learning_rate=0.25, n_estimators=200)\n",
    "xgb_14days.fit(x.values,y_14_days.values.ravel())\n",
    "y_14_days_pred = xgb_14days.predict_proba(x_test.values)"
   ]
  },
  {
   "cell_type": "code",
   "execution_count": 55,
   "metadata": {
    "ExecuteTime": {
     "end_time": "2019-02-28T04:15:59.046531Z",
     "start_time": "2019-02-28T04:15:59.035735Z"
    }
   },
   "outputs": [],
   "source": [
    "features = list(x.columns)\n",
    "importances = xgb_14days.feature_importances_\n",
    "indices = np.argsort(importances)[::-1][:10]"
   ]
  },
  {
   "cell_type": "code",
   "execution_count": 56,
   "metadata": {
    "ExecuteTime": {
     "end_time": "2019-02-28T04:16:00.251189Z",
     "start_time": "2019-02-28T04:16:00.110341Z"
    }
   },
   "outputs": [
    {
     "data": {
      "image/png": "[encoded data removed]",
      "text/plain": [
       "<Figure size 864x288 with 1 Axes>"
      ]
     },
     "metadata": {},
     "output_type": "display_data"
    }
   ],
   "source": [
    "fig2 = plt.figure(figsize=(12,4)) \n",
    "plt.title('Feature Importances')\n",
    "plt.barh(range(len(indices)), importances[indices], color='lightblue', align='center')\n",
    "plt.yticks(range(len(indices)), [features[i] for i in indices],rotation=10)\n",
    "plt.xlabel('Relative Importance')\n",
    "plt.show()"
   ]
  },
  {
   "cell_type": "code",
   "execution_count": 42,
   "metadata": {
    "ExecuteTime": {
     "end_time": "2019-02-28T04:02:33.126626Z",
     "start_time": "2019-02-28T04:02:33.120217Z"
    }
   },
   "outputs": [],
   "source": [
    "d = {'user_id_hash': user, 'user_purchase_binary_7_days': y_7_days_pred[:,-1], 'user_purchase_binary_14_days': y_14_days_pred[:,-1]}"
   ]
  },
  {
   "cell_type": "code",
   "execution_count": 43,
   "metadata": {
    "ExecuteTime": {
     "end_time": "2019-02-28T04:02:34.156477Z",
     "start_time": "2019-02-28T04:02:34.141782Z"
    }
   },
   "outputs": [],
   "source": [
    "predictions = pd.DataFrame(data=d)"
   ]
  },
  {
   "cell_type": "code",
   "execution_count": 44,
   "metadata": {
    "ExecuteTime": {
     "end_time": "2019-02-28T04:02:35.186948Z",
     "start_time": "2019-02-28T04:02:35.177497Z"
    }
   },
   "outputs": [
    {
     "data": {
      "text/html": [
       "<div>\n",
       "<style scoped>\n",
       "    .dataframe tbody tr th:only-of-type {\n",
       "        vertical-align: middle;\n",
       "    }\n",
       "\n",
       "    .dataframe tbody tr th {\n",
       "        vertical-align: top;\n",
       "    }\n",
       "\n",
       "    .dataframe thead th {\n",
       "        text-align: right;\n",
       "    }\n",
       "</style>\n",
       "<table border=\"1\" class=\"dataframe\">\n",
       "  <thead>\n",
       "    <tr style=\"text-align: right;\">\n",
       "      <th></th>\n",
       "      <th>user_id_hash</th>\n",
       "      <th>user_purchase_binary_7_days</th>\n",
       "      <th>user_purchase_binary_14_days</th>\n",
       "    </tr>\n",
       "  </thead>\n",
       "  <tbody>\n",
       "    <tr>\n",
       "      <th>0</th>\n",
       "      <td>e469dfaed039ead9110165d9bc457acb11609ca34057dc...</td>\n",
       "      <td>2.788838e-06</td>\n",
       "      <td>2.774862e-06</td>\n",
       "    </tr>\n",
       "    <tr>\n",
       "      <th>1</th>\n",
       "      <td>afcc639a324b6c598ef83d360450afa011cb2dd1358bf9...</td>\n",
       "      <td>4.237786e-03</td>\n",
       "      <td>1.063714e-02</td>\n",
       "    </tr>\n",
       "    <tr>\n",
       "      <th>2</th>\n",
       "      <td>fd5a7cf211d08e3e00f7be6a9df6e6ea3d2e5c22a5d9c3...</td>\n",
       "      <td>3.395291e-06</td>\n",
       "      <td>2.711920e-06</td>\n",
       "    </tr>\n",
       "    <tr>\n",
       "      <th>3</th>\n",
       "      <td>00bfff98b9d0329f014c2eeac7ce47cd18b2bc6e10d608...</td>\n",
       "      <td>1.605718e-06</td>\n",
       "      <td>1.058060e-05</td>\n",
       "    </tr>\n",
       "    <tr>\n",
       "      <th>4</th>\n",
       "      <td>0d298f3638c43e915c119d4935e1ce8d168f81b5e3e8c1...</td>\n",
       "      <td>1.498373e-07</td>\n",
       "      <td>1.716015e-07</td>\n",
       "    </tr>\n",
       "  </tbody>\n",
       "</table>\n",
       "</div>"
      ],
      "text/plain": [
       "                                        user_id_hash  \\\n",
       "0  e469dfaed039ead9110165d9bc457acb11609ca34057dc...   \n",
       "1  afcc639a324b6c598ef83d360450afa011cb2dd1358bf9...   \n",
       "2  fd5a7cf211d08e3e00f7be6a9df6e6ea3d2e5c22a5d9c3...   \n",
       "3  00bfff98b9d0329f014c2eeac7ce47cd18b2bc6e10d608...   \n",
       "4  0d298f3638c43e915c119d4935e1ce8d168f81b5e3e8c1...   \n",
       "\n",
       "   user_purchase_binary_7_days  user_purchase_binary_14_days  \n",
       "0                 2.788838e-06                  2.774862e-06  \n",
       "1                 4.237786e-03                  1.063714e-02  \n",
       "2                 3.395291e-06                  2.711920e-06  \n",
       "3                 1.605718e-06                  1.058060e-05  \n",
       "4                 1.498373e-07                  1.716015e-07  "
      ]
     },
     "execution_count": 44,
     "metadata": {},
     "output_type": "execute_result"
    }
   ],
   "source": [
    "predictions.head()"
   ]
  },
  {
   "cell_type": "code",
   "execution_count": 45,
   "metadata": {
    "ExecuteTime": {
     "end_time": "2019-02-28T04:02:39.135624Z",
     "start_time": "2019-02-28T04:02:37.730405Z"
    }
   },
   "outputs": [],
   "source": [
    "predictions.to_csv('submission2.csv', index=False)"
   ]
  },
  {
   "cell_type": "code",
   "execution_count": 21,
   "metadata": {
    "ExecuteTime": {
     "end_time": "2019-02-28T03:25:37.073881Z",
     "start_time": "2019-02-28T03:25:37.058085Z"
    }
   },
   "outputs": [
    {
     "data": {
      "text/html": [
       "<div>\n",
       "<style scoped>\n",
       "    .dataframe tbody tr th:only-of-type {\n",
       "        vertical-align: middle;\n",
       "    }\n",
       "\n",
       "    .dataframe tbody tr th {\n",
       "        vertical-align: top;\n",
       "    }\n",
       "\n",
       "    .dataframe thead th {\n",
       "        text-align: right;\n",
       "    }\n",
       "</style>\n",
       "<table border=\"1\" class=\"dataframe\">\n",
       "  <thead>\n",
       "    <tr style=\"text-align: right;\">\n",
       "      <th></th>\n",
       "      <th>0</th>\n",
       "    </tr>\n",
       "  </thead>\n",
       "  <tbody>\n",
       "    <tr>\n",
       "      <th>most_freq_dow</th>\n",
       "      <td>0.008661</td>\n",
       "    </tr>\n",
       "    <tr>\n",
       "      <th>most_freq_hour</th>\n",
       "      <td>0.021260</td>\n",
       "    </tr>\n",
       "    <tr>\n",
       "      <th>median_create_session_time</th>\n",
       "      <td>0.018110</td>\n",
       "    </tr>\n",
       "    <tr>\n",
       "      <th>session_count</th>\n",
       "      <td>0.036220</td>\n",
       "    </tr>\n",
       "    <tr>\n",
       "      <th>session_durations</th>\n",
       "      <td>0.038583</td>\n",
       "    </tr>\n",
       "    <tr>\n",
       "      <th>mean_session_durations</th>\n",
       "      <td>0.063780</td>\n",
       "    </tr>\n",
       "    <tr>\n",
       "      <th>mean_session_interval</th>\n",
       "      <td>0.020472</td>\n",
       "    </tr>\n",
       "    <tr>\n",
       "      <th>most_freq_country</th>\n",
       "      <td>0.017323</td>\n",
       "    </tr>\n",
       "    <tr>\n",
       "      <th>most_freq_region</th>\n",
       "      <td>0.024409</td>\n",
       "    </tr>\n",
       "    <tr>\n",
       "      <th>most_freq_city</th>\n",
       "      <td>0.032283</td>\n",
       "    </tr>\n",
       "    <tr>\n",
       "      <th>most_freq_os</th>\n",
       "      <td>0.011811</td>\n",
       "    </tr>\n",
       "    <tr>\n",
       "      <th>purchase_counts</th>\n",
       "      <td>0.016535</td>\n",
       "    </tr>\n",
       "    <tr>\n",
       "      <th>most_frequent_purchase_dow</th>\n",
       "      <td>0.003937</td>\n",
       "    </tr>\n",
       "    <tr>\n",
       "      <th>most_frequent_purchase_hour</th>\n",
       "      <td>0.029921</td>\n",
       "    </tr>\n",
       "    <tr>\n",
       "      <th>purchase_perc</th>\n",
       "      <td>0.032283</td>\n",
       "    </tr>\n",
       "    <tr>\n",
       "      <th>total_amount</th>\n",
       "      <td>0.070079</td>\n",
       "    </tr>\n",
       "    <tr>\n",
       "      <th>session_per_active_day</th>\n",
       "      <td>0.039370</td>\n",
       "    </tr>\n",
       "    <tr>\n",
       "      <th>purchase_per_active_day</th>\n",
       "      <td>0.034646</td>\n",
       "    </tr>\n",
       "    <tr>\n",
       "      <th>session_per_day</th>\n",
       "      <td>0.033071</td>\n",
       "    </tr>\n",
       "    <tr>\n",
       "      <th>purchase_per_day</th>\n",
       "      <td>0.016535</td>\n",
       "    </tr>\n",
       "    <tr>\n",
       "      <th>user_entropy</th>\n",
       "      <td>0.015748</td>\n",
       "    </tr>\n",
       "    <tr>\n",
       "      <th>last_session_time</th>\n",
       "      <td>0.074016</td>\n",
       "    </tr>\n",
       "    <tr>\n",
       "      <th>last_purchase_time</th>\n",
       "      <td>0.057480</td>\n",
       "    </tr>\n",
       "    <tr>\n",
       "      <th>country_mean_purchase_perc</th>\n",
       "      <td>0.011811</td>\n",
       "    </tr>\n",
       "    <tr>\n",
       "      <th>os_mean_purchase_perc</th>\n",
       "      <td>0.000000</td>\n",
       "    </tr>\n",
       "    <tr>\n",
       "      <th>cost_per_purchase</th>\n",
       "      <td>0.044882</td>\n",
       "    </tr>\n",
       "    <tr>\n",
       "      <th>attr_11</th>\n",
       "      <td>0.226772</td>\n",
       "    </tr>\n",
       "  </tbody>\n",
       "</table>\n",
       "</div>"
      ],
      "text/plain": [
       "                                    0\n",
       "most_freq_dow                0.008661\n",
       "most_freq_hour               0.021260\n",
       "median_create_session_time   0.018110\n",
       "session_count                0.036220\n",
       "session_durations            0.038583\n",
       "mean_session_durations       0.063780\n",
       "mean_session_interval        0.020472\n",
       "most_freq_country            0.017323\n",
       "most_freq_region             0.024409\n",
       "most_freq_city               0.032283\n",
       "most_freq_os                 0.011811\n",
       "purchase_counts              0.016535\n",
       "most_frequent_purchase_dow   0.003937\n",
       "most_frequent_purchase_hour  0.029921\n",
       "purchase_perc                0.032283\n",
       "total_amount                 0.070079\n",
       "session_per_active_day       0.039370\n",
       "purchase_per_active_day      0.034646\n",
       "session_per_day              0.033071\n",
       "purchase_per_day             0.016535\n",
       "user_entropy                 0.015748\n",
       "last_session_time            0.074016\n",
       "last_purchase_time           0.057480\n",
       "country_mean_purchase_perc   0.011811\n",
       "os_mean_purchase_perc        0.000000\n",
       "cost_per_purchase            0.044882\n",
       "attr_11                      0.226772"
      ]
     },
     "execution_count": 21,
     "metadata": {},
     "output_type": "execute_result"
    }
   ],
   "source": [
    "pd.DataFrame(xgb_7days.feature_importances_,x.columns)"
   ]
  }
 ],
 "metadata": {
  "anaconda-cloud": {},
  "kernelspec": {
   "display_name": "Python 3",
   "language": "python",
   "name": "python3"
  },
  "language_info": {
   "codemirror_mode": {
    "name": "ipython",
    "version": 3
   },
   "file_extension": ".py",
   "mimetype": "text/x-python",
   "name": "python",
   "nbconvert_exporter": "python",
   "pygments_lexer": "ipython3",
   "version": "3.6.6"
  }
 },
 "nbformat": 4,
 "nbformat_minor": 2
}
