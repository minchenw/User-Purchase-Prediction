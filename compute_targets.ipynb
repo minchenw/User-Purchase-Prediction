{
 "cells": [
  {
   "cell_type": "code",
   "execution_count": 5,
   "metadata": {
    "collapsed": true
   },
   "outputs": [],
   "source": [
    "import pandas as pd\n",
    "import numpy as np"
   ]
  },
  {
   "cell_type": "markdown",
   "metadata": {},
   "source": [
    "## Load Event Data"
   ]
  },
  {
   "cell_type": "code",
   "execution_count": 2,
   "metadata": {
    "collapsed": true
   },
   "outputs": [],
   "source": [
    "types = {'session_id': np.uint64, 'event': 'category', 'event_timestamp': np.uint64,\n",
    "         'event_value': 'float32', 'user_id_hash': 'category'}"
   ]
  },
  {
   "cell_type": "code",
   "execution_count": 3,
   "metadata": {
    "collapsed": true
   },
   "outputs": [],
   "source": [
    "data = pd.read_csv('events.csv', usecols=types.keys(), dtype=types)"
   ]
  },
  {
   "cell_type": "code",
   "execution_count": 4,
   "metadata": {},
   "outputs": [
    {
     "data": {
      "text/plain": [
       "session_id         111946597\n",
       "event              111946597\n",
       "event_timestamp    111946597\n",
       "event_value        111946534\n",
       "user_id_hash       111946597\n",
       "dtype: int64"
      ]
     },
     "execution_count": 4,
     "metadata": {},
     "output_type": "execute_result"
    }
   ],
   "source": [
    "data.count()"
   ]
  },
  {
   "cell_type": "markdown",
   "metadata": {},
   "source": [
    "## Only Keep Rows with Event Index 8"
   ]
  },
  {
   "cell_type": "code",
   "execution_count": 5,
   "metadata": {
    "collapsed": true
   },
   "outputs": [],
   "source": [
    "data.drop(data[data['event'] != '8' ].index , inplace=True);"
   ]
  },
  {
   "cell_type": "code",
   "execution_count": 6,
   "metadata": {},
   "outputs": [
    {
     "data": {
      "text/html": [
       "<div>\n",
       "<style scoped>\n",
       "    .dataframe tbody tr th:only-of-type {\n",
       "        vertical-align: middle;\n",
       "    }\n",
       "\n",
       "    .dataframe tbody tr th {\n",
       "        vertical-align: top;\n",
       "    }\n",
       "\n",
       "    .dataframe thead th {\n",
       "        text-align: right;\n",
       "    }\n",
       "</style>\n",
       "<table border=\"1\" class=\"dataframe\">\n",
       "  <thead>\n",
       "    <tr style=\"text-align: right;\">\n",
       "      <th></th>\n",
       "      <th>session_id</th>\n",
       "      <th>event</th>\n",
       "      <th>event_timestamp</th>\n",
       "      <th>event_value</th>\n",
       "      <th>user_id_hash</th>\n",
       "    </tr>\n",
       "  </thead>\n",
       "  <tbody>\n",
       "    <tr>\n",
       "      <th>279</th>\n",
       "      <td>5159335150551901701</td>\n",
       "      <td>8</td>\n",
       "      <td>1541912600211</td>\n",
       "      <td>3.493</td>\n",
       "      <td>9943447915df3a45fd6720a026af905b6da6b56a37701b...</td>\n",
       "    </tr>\n",
       "    <tr>\n",
       "      <th>2898</th>\n",
       "      <td>845986603555615931</td>\n",
       "      <td>8</td>\n",
       "      <td>1543357433771</td>\n",
       "      <td>3.493</td>\n",
       "      <td>deaf54103e439789b069a95c4650dc6cdc24d6c9d700f1...</td>\n",
       "    </tr>\n",
       "    <tr>\n",
       "      <th>2970</th>\n",
       "      <td>2846996524173831068</td>\n",
       "      <td>8</td>\n",
       "      <td>1543023539172</td>\n",
       "      <td>3.493</td>\n",
       "      <td>deaf54103e439789b069a95c4650dc6cdc24d6c9d700f1...</td>\n",
       "    </tr>\n",
       "    <tr>\n",
       "      <th>3002</th>\n",
       "      <td>6141788581998894012</td>\n",
       "      <td>8</td>\n",
       "      <td>1543531139724</td>\n",
       "      <td>1.393</td>\n",
       "      <td>deaf54103e439789b069a95c4650dc6cdc24d6c9d700f1...</td>\n",
       "    </tr>\n",
       "    <tr>\n",
       "      <th>3597</th>\n",
       "      <td>6974128812803113234</td>\n",
       "      <td>8</td>\n",
       "      <td>1541437057644</td>\n",
       "      <td>1.393</td>\n",
       "      <td>b2ccdf1ae0d33e2e0a671d605f3fe4cdb72c7fc54bdd49...</td>\n",
       "    </tr>\n",
       "  </tbody>\n",
       "</table>\n",
       "</div>"
      ],
      "text/plain": [
       "               session_id event  event_timestamp  event_value  \\\n",
       "279   5159335150551901701     8    1541912600211        3.493   \n",
       "2898   845986603555615931     8    1543357433771        3.493   \n",
       "2970  2846996524173831068     8    1543023539172        3.493   \n",
       "3002  6141788581998894012     8    1543531139724        1.393   \n",
       "3597  6974128812803113234     8    1541437057644        1.393   \n",
       "\n",
       "                                           user_id_hash  \n",
       "279   9943447915df3a45fd6720a026af905b6da6b56a37701b...  \n",
       "2898  deaf54103e439789b069a95c4650dc6cdc24d6c9d700f1...  \n",
       "2970  deaf54103e439789b069a95c4650dc6cdc24d6c9d700f1...  \n",
       "3002  deaf54103e439789b069a95c4650dc6cdc24d6c9d700f1...  \n",
       "3597  b2ccdf1ae0d33e2e0a671d605f3fe4cdb72c7fc54bdd49...  "
      ]
     },
     "execution_count": 6,
     "metadata": {},
     "output_type": "execute_result"
    }
   ],
   "source": [
    "data.head()"
   ]
  },
  {
   "cell_type": "code",
   "execution_count": 7,
   "metadata": {},
   "outputs": [
    {
     "name": "stdout",
     "output_type": "stream",
     "text": [
      "Number of Rows: 265034\n"
     ]
    }
   ],
   "source": [
    "print(f\"Number of Rows: {len(data)}\")"
   ]
  },
  {
   "cell_type": "code",
   "execution_count": 8,
   "metadata": {},
   "outputs": [
    {
     "name": "stdout",
     "output_type": "stream",
     "text": [
      "Number of Unique Users: 34200\n"
     ]
    }
   ],
   "source": [
    "unique_users = len(data['user_id_hash'].unique())\n",
    "print(f\"Number of Unique Users: {unique_users}\")"
   ]
  },
  {
   "cell_type": "code",
   "execution_count": 9,
   "metadata": {
    "collapsed": true
   },
   "outputs": [],
   "source": [
    "data.reset_index(inplace=True, drop=True);"
   ]
  },
  {
   "cell_type": "markdown",
   "metadata": {},
   "source": [
    "## Save Filtered Event Dataframe"
   ]
  },
  {
   "cell_type": "code",
   "execution_count": 10,
   "metadata": {
    "collapsed": true
   },
   "outputs": [],
   "source": [
    "data.to_csv('filtered_events.csv', index=False);"
   ]
  },
  {
   "cell_type": "markdown",
   "metadata": {},
   "source": [
    "## Load CSV Back into Dataframe - Start From Here if need to rerun stuff!"
   ]
  },
  {
   "cell_type": "code",
   "execution_count": 6,
   "metadata": {},
   "outputs": [
    {
     "data": {
      "text/html": [
       "<div>\n",
       "<style scoped>\n",
       "    .dataframe tbody tr th:only-of-type {\n",
       "        vertical-align: middle;\n",
       "    }\n",
       "\n",
       "    .dataframe tbody tr th {\n",
       "        vertical-align: top;\n",
       "    }\n",
       "\n",
       "    .dataframe thead th {\n",
       "        text-align: right;\n",
       "    }\n",
       "</style>\n",
       "<table border=\"1\" class=\"dataframe\">\n",
       "  <thead>\n",
       "    <tr style=\"text-align: right;\">\n",
       "      <th></th>\n",
       "      <th>session_id</th>\n",
       "      <th>event</th>\n",
       "      <th>event_timestamp</th>\n",
       "      <th>event_value</th>\n",
       "      <th>user_id_hash</th>\n",
       "    </tr>\n",
       "  </thead>\n",
       "  <tbody>\n",
       "    <tr>\n",
       "      <th>0</th>\n",
       "      <td>5159335150551901701</td>\n",
       "      <td>8</td>\n",
       "      <td>1541912600211</td>\n",
       "      <td>3.493</td>\n",
       "      <td>9943447915df3a45fd6720a026af905b6da6b56a37701b...</td>\n",
       "    </tr>\n",
       "    <tr>\n",
       "      <th>1</th>\n",
       "      <td>845986603555615931</td>\n",
       "      <td>8</td>\n",
       "      <td>1543357433771</td>\n",
       "      <td>3.493</td>\n",
       "      <td>deaf54103e439789b069a95c4650dc6cdc24d6c9d700f1...</td>\n",
       "    </tr>\n",
       "    <tr>\n",
       "      <th>2</th>\n",
       "      <td>2846996524173831068</td>\n",
       "      <td>8</td>\n",
       "      <td>1543023539172</td>\n",
       "      <td>3.493</td>\n",
       "      <td>deaf54103e439789b069a95c4650dc6cdc24d6c9d700f1...</td>\n",
       "    </tr>\n",
       "    <tr>\n",
       "      <th>3</th>\n",
       "      <td>6141788581998894012</td>\n",
       "      <td>8</td>\n",
       "      <td>1543531139724</td>\n",
       "      <td>1.393</td>\n",
       "      <td>deaf54103e439789b069a95c4650dc6cdc24d6c9d700f1...</td>\n",
       "    </tr>\n",
       "    <tr>\n",
       "      <th>4</th>\n",
       "      <td>6974128812803113234</td>\n",
       "      <td>8</td>\n",
       "      <td>1541437057644</td>\n",
       "      <td>1.393</td>\n",
       "      <td>b2ccdf1ae0d33e2e0a671d605f3fe4cdb72c7fc54bdd49...</td>\n",
       "    </tr>\n",
       "  </tbody>\n",
       "</table>\n",
       "</div>"
      ],
      "text/plain": [
       "            session_id  event  event_timestamp  event_value  \\\n",
       "0  5159335150551901701      8    1541912600211        3.493   \n",
       "1   845986603555615931      8    1543357433771        3.493   \n",
       "2  2846996524173831068      8    1543023539172        3.493   \n",
       "3  6141788581998894012      8    1543531139724        1.393   \n",
       "4  6974128812803113234      8    1541437057644        1.393   \n",
       "\n",
       "                                        user_id_hash  \n",
       "0  9943447915df3a45fd6720a026af905b6da6b56a37701b...  \n",
       "1  deaf54103e439789b069a95c4650dc6cdc24d6c9d700f1...  \n",
       "2  deaf54103e439789b069a95c4650dc6cdc24d6c9d700f1...  \n",
       "3  deaf54103e439789b069a95c4650dc6cdc24d6c9d700f1...  \n",
       "4  b2ccdf1ae0d33e2e0a671d605f3fe4cdb72c7fc54bdd49...  "
      ]
     },
     "execution_count": 6,
     "metadata": {},
     "output_type": "execute_result"
    }
   ],
   "source": [
    "filtered_events = pd.read_csv('filtered_events.csv')\n",
    "filtered_events.head()"
   ]
  },
  {
   "cell_type": "markdown",
   "metadata": {},
   "source": [
    "## Load Total Users"
   ]
  },
  {
   "cell_type": "code",
   "execution_count": 7,
   "metadata": {},
   "outputs": [
    {
     "name": "stdout",
     "output_type": "stream",
     "text": [
      "Number of Total Unique Users: 312568\n"
     ]
    }
   ],
   "source": [
    "users = pd.read_csv('sample_submission_2.csv')\n",
    "users = users['user_id_hash']\n",
    "print(f\"Number of Total Unique Users: {len(users)}\")"
   ]
  },
  {
   "cell_type": "markdown",
   "metadata": {},
   "source": [
    "Note that there are way more users we need to predict on than we actually have data for"
   ]
  },
  {
   "cell_type": "markdown",
   "metadata": {},
   "source": [
    "## Convert UTC Epoch Time to human readable date"
   ]
  },
  {
   "cell_type": "code",
   "execution_count": 8,
   "metadata": {
    "collapsed": true
   },
   "outputs": [],
   "source": [
    "filtered_events['event_timestamp'] = pd.to_datetime(filtered_events['event_timestamp'], unit='ms')"
   ]
  },
  {
   "cell_type": "code",
   "execution_count": 9,
   "metadata": {},
   "outputs": [
    {
     "data": {
      "text/html": [
       "<div>\n",
       "<style scoped>\n",
       "    .dataframe tbody tr th:only-of-type {\n",
       "        vertical-align: middle;\n",
       "    }\n",
       "\n",
       "    .dataframe tbody tr th {\n",
       "        vertical-align: top;\n",
       "    }\n",
       "\n",
       "    .dataframe thead th {\n",
       "        text-align: right;\n",
       "    }\n",
       "</style>\n",
       "<table border=\"1\" class=\"dataframe\">\n",
       "  <thead>\n",
       "    <tr style=\"text-align: right;\">\n",
       "      <th></th>\n",
       "      <th>session_id</th>\n",
       "      <th>event</th>\n",
       "      <th>event_timestamp</th>\n",
       "      <th>event_value</th>\n",
       "      <th>user_id_hash</th>\n",
       "    </tr>\n",
       "  </thead>\n",
       "  <tbody>\n",
       "    <tr>\n",
       "      <th>0</th>\n",
       "      <td>5159335150551901701</td>\n",
       "      <td>8</td>\n",
       "      <td>2018-11-11 05:03:20.211</td>\n",
       "      <td>3.493</td>\n",
       "      <td>9943447915df3a45fd6720a026af905b6da6b56a37701b...</td>\n",
       "    </tr>\n",
       "    <tr>\n",
       "      <th>1</th>\n",
       "      <td>845986603555615931</td>\n",
       "      <td>8</td>\n",
       "      <td>2018-11-27 22:23:53.771</td>\n",
       "      <td>3.493</td>\n",
       "      <td>deaf54103e439789b069a95c4650dc6cdc24d6c9d700f1...</td>\n",
       "    </tr>\n",
       "    <tr>\n",
       "      <th>2</th>\n",
       "      <td>2846996524173831068</td>\n",
       "      <td>8</td>\n",
       "      <td>2018-11-24 01:38:59.172</td>\n",
       "      <td>3.493</td>\n",
       "      <td>deaf54103e439789b069a95c4650dc6cdc24d6c9d700f1...</td>\n",
       "    </tr>\n",
       "    <tr>\n",
       "      <th>3</th>\n",
       "      <td>6141788581998894012</td>\n",
       "      <td>8</td>\n",
       "      <td>2018-11-29 22:38:59.724</td>\n",
       "      <td>1.393</td>\n",
       "      <td>deaf54103e439789b069a95c4650dc6cdc24d6c9d700f1...</td>\n",
       "    </tr>\n",
       "    <tr>\n",
       "      <th>4</th>\n",
       "      <td>6974128812803113234</td>\n",
       "      <td>8</td>\n",
       "      <td>2018-11-05 16:57:37.644</td>\n",
       "      <td>1.393</td>\n",
       "      <td>b2ccdf1ae0d33e2e0a671d605f3fe4cdb72c7fc54bdd49...</td>\n",
       "    </tr>\n",
       "  </tbody>\n",
       "</table>\n",
       "</div>"
      ],
      "text/plain": [
       "            session_id  event         event_timestamp  event_value  \\\n",
       "0  5159335150551901701      8 2018-11-11 05:03:20.211        3.493   \n",
       "1   845986603555615931      8 2018-11-27 22:23:53.771        3.493   \n",
       "2  2846996524173831068      8 2018-11-24 01:38:59.172        3.493   \n",
       "3  6141788581998894012      8 2018-11-29 22:38:59.724        1.393   \n",
       "4  6974128812803113234      8 2018-11-05 16:57:37.644        1.393   \n",
       "\n",
       "                                        user_id_hash  \n",
       "0  9943447915df3a45fd6720a026af905b6da6b56a37701b...  \n",
       "1  deaf54103e439789b069a95c4650dc6cdc24d6c9d700f1...  \n",
       "2  deaf54103e439789b069a95c4650dc6cdc24d6c9d700f1...  \n",
       "3  deaf54103e439789b069a95c4650dc6cdc24d6c9d700f1...  \n",
       "4  b2ccdf1ae0d33e2e0a671d605f3fe4cdb72c7fc54bdd49...  "
      ]
     },
     "execution_count": 9,
     "metadata": {},
     "output_type": "execute_result"
    }
   ],
   "source": [
    "filtered_events.head()"
   ]
  },
  {
   "cell_type": "code",
   "execution_count": 10,
   "metadata": {},
   "outputs": [
    {
     "name": "stdout",
     "output_type": "stream",
     "text": [
      "Earliest Date: 2018-10-01 07:35:42.211000\n",
      "Latest Date: 2018-12-14 23:58:42.037000\n"
     ]
    }
   ],
   "source": [
    "print(f\"Earliest Date: {filtered_events.event_timestamp.min()}\")\n",
    "print(f\"Latest Date: {filtered_events.event_timestamp.max()}\")"
   ]
  },
  {
   "cell_type": "markdown",
   "metadata": {},
   "source": [
    "## Save Data from Oct 1 - Nov 30 to form Training Set"
   ]
  },
  {
   "cell_type": "code",
   "execution_count": 11,
   "metadata": {},
   "outputs": [
    {
     "name": "stdout",
     "output_type": "stream",
     "text": [
      "Earliest Training Date: 2018-10-01 07:35:42.211000\n",
      "Latest Training Date: 2018-11-30 23:59:42.541000\n"
     ]
    }
   ],
   "source": [
    "training_set = filtered_events[filtered_events.event_timestamp < '2018-12-01'].copy()\n",
    "print(f\"Earliest Training Date: {training_set.event_timestamp.min()}\")\n",
    "print(f\"Latest Training Date: {training_set.event_timestamp.max()}\")\n",
    "training_set.to_csv('training_events.csv', index=False);"
   ]
  },
  {
   "cell_type": "markdown",
   "metadata": {},
   "source": [
    "## Take Data from Dec 1 - Dec 14 to form Validation Set"
   ]
  },
  {
   "cell_type": "code",
   "execution_count": 12,
   "metadata": {
    "collapsed": true
   },
   "outputs": [],
   "source": [
    "validation_set = filtered_events[filtered_events.event_timestamp >= '2018-12-01'].copy()"
   ]
  },
  {
   "cell_type": "code",
   "execution_count": 13,
   "metadata": {},
   "outputs": [
    {
     "name": "stdout",
     "output_type": "stream",
     "text": [
      "Earliest Date: 2018-12-01 00:00:42.221000\n",
      "Latest Date: 2018-12-14 23:58:42.037000\n"
     ]
    }
   ],
   "source": [
    "print(f\"Earliest Date: {validation_set.event_timestamp.min()}\")\n",
    "print(f\"Latest Date: {validation_set.event_timestamp.max()}\")"
   ]
  },
  {
   "cell_type": "markdown",
   "metadata": {},
   "source": [
    "### Take subset of validation_set to get data from Dec 1 through Dec 7"
   ]
  },
  {
   "cell_type": "code",
   "execution_count": 14,
   "metadata": {
    "collapsed": true
   },
   "outputs": [],
   "source": [
    "seven_days_data = validation_set[validation_set.event_timestamp < '2018-12-08'].copy()"
   ]
  },
  {
   "cell_type": "code",
   "execution_count": 15,
   "metadata": {},
   "outputs": [
    {
     "name": "stdout",
     "output_type": "stream",
     "text": [
      "Earliest Date: 2018-12-01 00:00:42.221000\n",
      "Latest Date: 2018-12-07 23:59:57.656000\n"
     ]
    }
   ],
   "source": [
    "print(f\"Earliest Date: {seven_days_data.event_timestamp.min()}\")\n",
    "print(f\"Latest Date: {seven_days_data.event_timestamp.max()}\")"
   ]
  },
  {
   "cell_type": "code",
   "execution_count": 16,
   "metadata": {},
   "outputs": [
    {
     "name": "stdout",
     "output_type": "stream",
     "text": [
      "Number of Total Unique Users in Validation Set: 6126\n",
      "Number of Total Unique Users in 7 Day Sub Set: 4729\n",
      "Number of Total Unique Users in Entire Filtered Events Set: 34200\n"
     ]
    }
   ],
   "source": [
    "print(f\"Number of Total Unique Users in Validation Set: {len(validation_set['user_id_hash'].unique())}\")\n",
    "print(f\"Number of Total Unique Users in 7 Day Sub Set: {len(seven_days_data['user_id_hash'].unique())}\")\n",
    "print(f\"Number of Total Unique Users in Entire Filtered Events Set: {len(filtered_events['user_id_hash'].unique())}\")"
   ]
  },
  {
   "cell_type": "markdown",
   "metadata": {},
   "source": [
    "Note that only a small percentage of total users will be represented in the validation/holdout set"
   ]
  },
  {
   "cell_type": "markdown",
   "metadata": {},
   "source": [
    "## Prepare Validation Labels"
   ]
  },
  {
   "cell_type": "code",
   "execution_count": 17,
   "metadata": {
    "collapsed": true
   },
   "outputs": [],
   "source": [
    "seven_days_data = seven_days_data.groupby('user_id_hash', as_index=False)['event_value'].sum()\n",
    "seven_days_data['user_purchase_binary_7_days'] = seven_days_data['event_value'].apply(lambda x: 1 if x > 0 else 0)\n",
    "seven_days_data.drop(columns=['event_value'], inplace=True);"
   ]
  },
  {
   "cell_type": "code",
   "execution_count": 18,
   "metadata": {
    "collapsed": true
   },
   "outputs": [],
   "source": [
    "fourteen_days_data = validation_set.groupby('user_id_hash', as_index=False)['event_value'].sum()\n",
    "fourteen_days_data['user_purchase_binary_14_days'] = fourteen_days_data['event_value'].apply(lambda x: 1 if x > 0 else 0)\n",
    "fourteen_days_data.drop(columns=['event_value'], inplace=True);"
   ]
  },
  {
   "cell_type": "code",
   "execution_count": 19,
   "metadata": {
    "collapsed": true
   },
   "outputs": [],
   "source": [
    "validation_labels = pd.merge(users, seven_days_data, how='left', on='user_id_hash')"
   ]
  },
  {
   "cell_type": "code",
   "execution_count": 20,
   "metadata": {
    "collapsed": true
   },
   "outputs": [],
   "source": [
    "validation_labels = pd.merge(validation_labels, fourteen_days_data, how='left', on='user_id_hash')"
   ]
  },
  {
   "cell_type": "code",
   "execution_count": 21,
   "metadata": {
    "collapsed": true
   },
   "outputs": [],
   "source": [
    "validation_labels.fillna(0, inplace=True);"
   ]
  },
  {
   "cell_type": "code",
   "execution_count": 22,
   "metadata": {},
   "outputs": [
    {
     "data": {
      "text/html": [
       "<div>\n",
       "<style scoped>\n",
       "    .dataframe tbody tr th:only-of-type {\n",
       "        vertical-align: middle;\n",
       "    }\n",
       "\n",
       "    .dataframe tbody tr th {\n",
       "        vertical-align: top;\n",
       "    }\n",
       "\n",
       "    .dataframe thead th {\n",
       "        text-align: right;\n",
       "    }\n",
       "</style>\n",
       "<table border=\"1\" class=\"dataframe\">\n",
       "  <thead>\n",
       "    <tr style=\"text-align: right;\">\n",
       "      <th></th>\n",
       "      <th>user_id_hash</th>\n",
       "      <th>user_purchase_binary_7_days</th>\n",
       "      <th>user_purchase_binary_14_days</th>\n",
       "    </tr>\n",
       "  </thead>\n",
       "  <tbody>\n",
       "    <tr>\n",
       "      <th>0</th>\n",
       "      <td>e469dfaed039ead9110165d9bc457acb11609ca34057dc...</td>\n",
       "      <td>0.0</td>\n",
       "      <td>0.0</td>\n",
       "    </tr>\n",
       "    <tr>\n",
       "      <th>1</th>\n",
       "      <td>afcc639a324b6c598ef83d360450afa011cb2dd1358bf9...</td>\n",
       "      <td>0.0</td>\n",
       "      <td>0.0</td>\n",
       "    </tr>\n",
       "    <tr>\n",
       "      <th>2</th>\n",
       "      <td>fd5a7cf211d08e3e00f7be6a9df6e6ea3d2e5c22a5d9c3...</td>\n",
       "      <td>0.0</td>\n",
       "      <td>0.0</td>\n",
       "    </tr>\n",
       "    <tr>\n",
       "      <th>3</th>\n",
       "      <td>00bfff98b9d0329f014c2eeac7ce47cd18b2bc6e10d608...</td>\n",
       "      <td>0.0</td>\n",
       "      <td>0.0</td>\n",
       "    </tr>\n",
       "    <tr>\n",
       "      <th>4</th>\n",
       "      <td>0d298f3638c43e915c119d4935e1ce8d168f81b5e3e8c1...</td>\n",
       "      <td>0.0</td>\n",
       "      <td>0.0</td>\n",
       "    </tr>\n",
       "  </tbody>\n",
       "</table>\n",
       "</div>"
      ],
      "text/plain": [
       "                                        user_id_hash  \\\n",
       "0  e469dfaed039ead9110165d9bc457acb11609ca34057dc...   \n",
       "1  afcc639a324b6c598ef83d360450afa011cb2dd1358bf9...   \n",
       "2  fd5a7cf211d08e3e00f7be6a9df6e6ea3d2e5c22a5d9c3...   \n",
       "3  00bfff98b9d0329f014c2eeac7ce47cd18b2bc6e10d608...   \n",
       "4  0d298f3638c43e915c119d4935e1ce8d168f81b5e3e8c1...   \n",
       "\n",
       "   user_purchase_binary_7_days  user_purchase_binary_14_days  \n",
       "0                          0.0                           0.0  \n",
       "1                          0.0                           0.0  \n",
       "2                          0.0                           0.0  \n",
       "3                          0.0                           0.0  \n",
       "4                          0.0                           0.0  "
      ]
     },
     "execution_count": 22,
     "metadata": {},
     "output_type": "execute_result"
    }
   ],
   "source": [
    "validation_labels.head()"
   ]
  },
  {
   "cell_type": "code",
   "execution_count": 23,
   "metadata": {
    "collapsed": true
   },
   "outputs": [],
   "source": [
    "validation_labels.to_csv('validation.csv', index=False);"
   ]
  },
  {
   "cell_type": "markdown",
   "metadata": {},
   "source": [
    "## Events EDA"
   ]
  },
  {
   "cell_type": "code",
   "execution_count": 22,
   "metadata": {
    "collapsed": true
   },
   "outputs": [],
   "source": [
    "import matplotlib.pyplot as plt\n",
    "%matplotlib inline"
   ]
  },
  {
   "cell_type": "code",
   "execution_count": 23,
   "metadata": {
    "collapsed": true
   },
   "outputs": [],
   "source": [
    "x = ['Dec 1 - Dec 14', 'Dec 1 - Dec 7', 'Oct 1 - Dec 14']"
   ]
  },
  {
   "cell_type": "code",
   "execution_count": 24,
   "metadata": {
    "collapsed": true
   },
   "outputs": [],
   "source": [
    "counts = [len(fourteen_days_data['user_id_hash'].unique()), \n",
    "          len(seven_days_data['user_id_hash'].unique()), \n",
    "          len(filtered_events['user_id_hash'].unique())]"
   ]
  },
  {
   "cell_type": "code",
   "execution_count": 25,
   "metadata": {
    "collapsed": true
   },
   "outputs": [],
   "source": [
    "x_pos = [i for i, _ in enumerate(x)]"
   ]
  },
  {
   "cell_type": "code",
   "execution_count": 26,
   "metadata": {},
   "outputs": [
    {
     "data": {
      "image/png": "[encoded data removed]",
      "text/plain": [
       "<Figure size 432x288 with 1 Axes>"
      ]
     },
     "metadata": {},
     "output_type": "display_data"
    }
   ],
   "source": [
    "plt.bar(x_pos, counts)\n",
    "plt.xlabel(\"Date Range\")\n",
    "plt.ylabel(\"Total Unique Users\")\n",
    "plt.xticks(x_pos, x)\n",
    "plt.title(\"Users Associated with Event Index 8\")\n",
    "plt.show()"
   ]
  },
  {
   "cell_type": "code",
   "execution_count": 35,
   "metadata": {},
   "outputs": [
    {
     "data": {
      "image/png": "[encoded data removed]",
      "text/plain": [
       "<Figure size 432x288 with 1 Axes>"
      ]
     },
     "metadata": {},
     "output_type": "display_data"
    }
   ],
   "source": [
    "x = ['Dec 1 - Dec 7', 'Dec 1 - Dec 14']\n",
    "counts = [validation_labels['user_purchase_binary_7_days'].sum(), validation_labels['user_purchase_binary_14_days'].sum()]\n",
    "x_pos = [i for i, _ in enumerate(x)]\n",
    "plt.bar(x_pos, counts)\n",
    "plt.xlabel(\"Date Range\")\n",
    "plt.ylabel(\"Number of Users\")\n",
    "plt.xticks(x_pos, x)\n",
    "plt.title(\"Users who Purhased Event Index 8\")\n",
    "plt.show()"
   ]
  },
  {
   "cell_type": "code",
   "execution_count": 36,
   "metadata": {
    "collapsed": true
   },
   "outputs": [],
   "source": [
    "before_validation_set = filtered_events[filtered_events.event_timestamp < '2018-12-01'].copy()"
   ]
  },
  {
   "cell_type": "code",
   "execution_count": 37,
   "metadata": {
    "collapsed": true
   },
   "outputs": [],
   "source": [
    "users_purchased_validation = labels[labels.user_purchase_binary_14_days == 1]['user_id_hash']"
   ]
  },
  {
   "cell_type": "code",
   "execution_count": 38,
   "metadata": {
    "collapsed": true
   },
   "outputs": [],
   "source": [
    "users_who_purchased_before = before_validation_set[before_validation_set.user_id_hash.isin(users_purchased_validation)].copy()"
   ]
  },
  {
   "cell_type": "code",
   "execution_count": 39,
   "metadata": {
    "collapsed": true
   },
   "outputs": [],
   "source": [
    "num_users = len(users_who_purchased_before.user_id_hash.unique())"
   ]
  },
  {
   "cell_type": "code",
   "execution_count": 46,
   "metadata": {},
   "outputs": [
    {
     "name": "stdout",
     "output_type": "stream",
     "text": [
      "Number of Users from October 1 - Nov 30 that also purchased (index 8) on Dec 1- Dec 14: 17642\n"
     ]
    }
   ],
   "source": [
    "print(f\"Number of Users from October 1 - Nov 30 that also purchased (index 8) on Dec 1- Dec 14: {num_users}\")"
   ]
  },
  {
   "cell_type": "code",
   "execution_count": 47,
   "metadata": {},
   "outputs": [
    {
     "name": "stdout",
     "output_type": "stream",
     "text": [
      "Total Number of users who purchased: 18612.0\n"
     ]
    }
   ],
   "source": [
    "print(f\"Total Number of users who purchased: {labels.user_purchase_binary_14_days.sum()}\")"
   ]
  },
  {
   "cell_type": "code",
   "execution_count": null,
   "metadata": {
    "collapsed": true
   },
   "outputs": [],
   "source": []
  }
 ],
 "metadata": {
  "kernelspec": {
   "display_name": "Python 3",
   "language": "python",
   "name": "python3"
  },
  "language_info": {
   "codemirror_mode": {
    "name": "ipython",
    "version": 3
   },
   "file_extension": ".py",
   "mimetype": "text/x-python",
   "name": "python",
   "nbconvert_exporter": "python",
   "pygments_lexer": "ipython3",
   "version": "3.6.8"
  }
 },
 "nbformat": 4,
 "nbformat_minor": 2
}
