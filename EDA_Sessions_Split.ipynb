{
 "cells": [
  {
   "cell_type": "code",
   "execution_count": 1,
   "metadata": {
    "ExecuteTime": {
     "end_time": "2019-02-18T19:03:36.971379Z",
     "start_time": "2019-02-18T19:03:36.256094Z"
    },
    "collapsed": true
   },
   "outputs": [],
   "source": [
    "import os\n",
    "import boto3 \n",
    "import pandas as pd"
   ]
  },
  {
   "cell_type": "code",
   "execution_count": 2,
   "metadata": {
    "ExecuteTime": {
     "end_time": "2019-02-18T19:04:45.773639Z",
     "start_time": "2019-02-18T19:03:37.901651Z"
    }
   },
   "outputs": [
    {
     "data": {
      "text/html": [
       "<div>\n",
       "<table border=\"1\" class=\"dataframe\">\n",
       "  <thead>\n",
       "    <tr style=\"text-align: right;\">\n",
       "      <th></th>\n",
       "      <th>app_id</th>\n",
       "      <th>session_id</th>\n",
       "      <th>start_timestamp</th>\n",
       "      <th>timezone</th>\n",
       "      <th>timezone_offset</th>\n",
       "      <th>previous_sessions_duration</th>\n",
       "      <th>user_created_timestamp</th>\n",
       "      <th>is_user_first_session</th>\n",
       "      <th>is_session</th>\n",
       "      <th>is_developer</th>\n",
       "      <th>...</th>\n",
       "      <th>country</th>\n",
       "      <th>region</th>\n",
       "      <th>city</th>\n",
       "      <th>latitude</th>\n",
       "      <th>longitude</th>\n",
       "      <th>locale</th>\n",
       "      <th>os_name</th>\n",
       "      <th>session_index</th>\n",
       "      <th>device_id</th>\n",
       "      <th>user_id_hash</th>\n",
       "    </tr>\n",
       "  </thead>\n",
       "  <tbody>\n",
       "    <tr>\n",
       "      <th>0</th>\n",
       "      <td>4724682771660800</td>\n",
       "      <td>5558845121177764917</td>\n",
       "      <td>1542215364580</td>\n",
       "      <td>Asia/Manila</td>\n",
       "      <td>28800000.0</td>\n",
       "      <td>25837591</td>\n",
       "      <td>1538874289458</td>\n",
       "      <td>False</td>\n",
       "      <td>True</td>\n",
       "      <td>False</td>\n",
       "      <td>...</td>\n",
       "      <td>PH</td>\n",
       "      <td>00</td>\n",
       "      <td>makati</td>\n",
       "      <td>14.554729</td>\n",
       "      <td>121.024445</td>\n",
       "      <td>en_GB</td>\n",
       "      <td>Android OS</td>\n",
       "      <td>30</td>\n",
       "      <td>546a3d98-d540-4e72-ad82-9ebd64e0839b</td>\n",
       "      <td>9943447915df3a45fd6720a026af905b6da6b56a37701b...</td>\n",
       "    </tr>\n",
       "    <tr>\n",
       "      <th>1</th>\n",
       "      <td>4724682771660800</td>\n",
       "      <td>2201961907282901522</td>\n",
       "      <td>1543712977293</td>\n",
       "      <td>Asia/Manila</td>\n",
       "      <td>28800000.0</td>\n",
       "      <td>35050130</td>\n",
       "      <td>1538874289458</td>\n",
       "      <td>False</td>\n",
       "      <td>True</td>\n",
       "      <td>False</td>\n",
       "      <td>...</td>\n",
       "      <td>PH</td>\n",
       "      <td>00</td>\n",
       "      <td>quezon city</td>\n",
       "      <td>14.676041</td>\n",
       "      <td>121.043701</td>\n",
       "      <td>en_GB</td>\n",
       "      <td>Android OS</td>\n",
       "      <td>47</td>\n",
       "      <td>546a3d98-d540-4e72-ad82-9ebd64e0839b</td>\n",
       "      <td>9943447915df3a45fd6720a026af905b6da6b56a37701b...</td>\n",
       "    </tr>\n",
       "    <tr>\n",
       "      <th>2</th>\n",
       "      <td>4724682771660800</td>\n",
       "      <td>18781111175537580</td>\n",
       "      <td>1539215568666</td>\n",
       "      <td>Asia/Manila</td>\n",
       "      <td>28800000.0</td>\n",
       "      <td>11343848</td>\n",
       "      <td>1538874289458</td>\n",
       "      <td>False</td>\n",
       "      <td>True</td>\n",
       "      <td>False</td>\n",
       "      <td>...</td>\n",
       "      <td>PH</td>\n",
       "      <td>00</td>\n",
       "      <td>makati</td>\n",
       "      <td>14.554729</td>\n",
       "      <td>121.024445</td>\n",
       "      <td>en_GB</td>\n",
       "      <td>Android OS</td>\n",
       "      <td>10</td>\n",
       "      <td>546a3d98-d540-4e72-ad82-9ebd64e0839b</td>\n",
       "      <td>9943447915df3a45fd6720a026af905b6da6b56a37701b...</td>\n",
       "    </tr>\n",
       "    <tr>\n",
       "      <th>3</th>\n",
       "      <td>4724682771660800</td>\n",
       "      <td>1477540082628742048</td>\n",
       "      <td>1540120743010</td>\n",
       "      <td>Asia/Manila</td>\n",
       "      <td>28800000.0</td>\n",
       "      <td>13499724</td>\n",
       "      <td>1538874289458</td>\n",
       "      <td>False</td>\n",
       "      <td>True</td>\n",
       "      <td>False</td>\n",
       "      <td>...</td>\n",
       "      <td>PH</td>\n",
       "      <td>11</td>\n",
       "      <td>davao city</td>\n",
       "      <td>7.190708</td>\n",
       "      <td>125.455338</td>\n",
       "      <td>en_GB</td>\n",
       "      <td>Android OS</td>\n",
       "      <td>13</td>\n",
       "      <td>546a3d98-d540-4e72-ad82-9ebd64e0839b</td>\n",
       "      <td>9943447915df3a45fd6720a026af905b6da6b56a37701b...</td>\n",
       "    </tr>\n",
       "    <tr>\n",
       "      <th>4</th>\n",
       "      <td>4724682771660800</td>\n",
       "      <td>8184875317380844086</td>\n",
       "      <td>1542671625528</td>\n",
       "      <td>Asia/Manila</td>\n",
       "      <td>28800000.0</td>\n",
       "      <td>32788010</td>\n",
       "      <td>1538874289458</td>\n",
       "      <td>False</td>\n",
       "      <td>True</td>\n",
       "      <td>False</td>\n",
       "      <td>...</td>\n",
       "      <td>PH</td>\n",
       "      <td>00</td>\n",
       "      <td>makati</td>\n",
       "      <td>14.554729</td>\n",
       "      <td>121.024445</td>\n",
       "      <td>en_GB</td>\n",
       "      <td>Android OS</td>\n",
       "      <td>41</td>\n",
       "      <td>546a3d98-d540-4e72-ad82-9ebd64e0839b</td>\n",
       "      <td>9943447915df3a45fd6720a026af905b6da6b56a37701b...</td>\n",
       "    </tr>\n",
       "  </tbody>\n",
       "</table>\n",
       "<p>5 rows × 22 columns</p>\n",
       "</div>"
      ],
      "text/plain": [
       "             app_id           session_id  start_timestamp     timezone  \\\n",
       "0  4724682771660800  5558845121177764917    1542215364580  Asia/Manila   \n",
       "1  4724682771660800  2201961907282901522    1543712977293  Asia/Manila   \n",
       "2  4724682771660800    18781111175537580    1539215568666  Asia/Manila   \n",
       "3  4724682771660800  1477540082628742048    1540120743010  Asia/Manila   \n",
       "4  4724682771660800  8184875317380844086    1542671625528  Asia/Manila   \n",
       "\n",
       "   timezone_offset  previous_sessions_duration  user_created_timestamp  \\\n",
       "0       28800000.0                    25837591           1538874289458   \n",
       "1       28800000.0                    35050130           1538874289458   \n",
       "2       28800000.0                    11343848           1538874289458   \n",
       "3       28800000.0                    13499724           1538874289458   \n",
       "4       28800000.0                    32788010           1538874289458   \n",
       "\n",
       "  is_user_first_session is_session is_developer  \\\n",
       "0                 False       True        False   \n",
       "1                 False       True        False   \n",
       "2                 False       True        False   \n",
       "3                 False       True        False   \n",
       "4                 False       True        False   \n",
       "\n",
       "                         ...                         country region  \\\n",
       "0                        ...                              PH     00   \n",
       "1                        ...                              PH     00   \n",
       "2                        ...                              PH     00   \n",
       "3                        ...                              PH     11   \n",
       "4                        ...                              PH     00   \n",
       "\n",
       "          city   latitude   longitude  locale     os_name session_index  \\\n",
       "0       makati  14.554729  121.024445   en_GB  Android OS            30   \n",
       "1  quezon city  14.676041  121.043701   en_GB  Android OS            47   \n",
       "2       makati  14.554729  121.024445   en_GB  Android OS            10   \n",
       "3   davao city   7.190708  125.455338   en_GB  Android OS            13   \n",
       "4       makati  14.554729  121.024445   en_GB  Android OS            41   \n",
       "\n",
       "                              device_id  \\\n",
       "0  546a3d98-d540-4e72-ad82-9ebd64e0839b   \n",
       "1  546a3d98-d540-4e72-ad82-9ebd64e0839b   \n",
       "2  546a3d98-d540-4e72-ad82-9ebd64e0839b   \n",
       "3  546a3d98-d540-4e72-ad82-9ebd64e0839b   \n",
       "4  546a3d98-d540-4e72-ad82-9ebd64e0839b   \n",
       "\n",
       "                                        user_id_hash  \n",
       "0  9943447915df3a45fd6720a026af905b6da6b56a37701b...  \n",
       "1  9943447915df3a45fd6720a026af905b6da6b56a37701b...  \n",
       "2  9943447915df3a45fd6720a026af905b6da6b56a37701b...  \n",
       "3  9943447915df3a45fd6720a026af905b6da6b56a37701b...  \n",
       "4  9943447915df3a45fd6720a026af905b6da6b56a37701b...  \n",
       "\n",
       "[5 rows x 22 columns]"
      ]
     },
     "execution_count": 2,
     "metadata": {},
     "output_type": "execute_result"
    }
   ],
   "source": [
    "bucket_name = 'advanced-ml-project' # Add your bucket name\n",
    "file_name = 'sessions.csv'\n",
    "s3 = boto3.client('s3')\n",
    "obj = s3.get_object(Bucket=bucket_name, Key=file_name) # S3 uses key-value structure where key is your file name\n",
    "df = pd.read_csv(obj['Body'])\n",
    "df\n",
    "df.head()"
   ]
  },
  {
   "cell_type": "code",
   "execution_count": 3,
   "metadata": {
    "ExecuteTime": {
     "end_time": "2019-02-18T19:04:53.779621Z",
     "start_time": "2019-02-18T19:04:53.776160Z"
    }
   },
   "outputs": [
    {
     "data": {
      "text/plain": [
       "6239836"
      ]
     },
     "execution_count": 3,
     "metadata": {},
     "output_type": "execute_result"
    }
   ],
   "source": [
    "len(df)"
   ]
  },
  {
   "cell_type": "code",
   "execution_count": 4,
   "metadata": {
    "ExecuteTime": {
     "end_time": "2019-02-18T19:05:55.399525Z",
     "start_time": "2019-02-18T19:05:31.596347Z"
    },
    "collapsed": true
   },
   "outputs": [],
   "source": [
    "# filter out developer records and useless columns\n",
    "df = df[df.is_developer!=1]\n",
    "df = df.drop(['is_developer','app_id','is_wau','is_mau'], axis=1)\n",
    "df = df.drop_duplicates(keep='first')"
   ]
  },
  {
   "cell_type": "code",
   "execution_count": 5,
   "metadata": {
    "ExecuteTime": {
     "end_time": "2019-02-18T19:06:10.477109Z",
     "start_time": "2019-02-18T19:06:10.473682Z"
    }
   },
   "outputs": [
    {
     "data": {
      "text/plain": [
       "6235752"
      ]
     },
     "execution_count": 5,
     "metadata": {},
     "output_type": "execute_result"
    }
   ],
   "source": [
    "len(df)"
   ]
  },
  {
   "cell_type": "code",
   "execution_count": 6,
   "metadata": {
    "ExecuteTime": {
     "end_time": "2019-02-18T19:06:31.150082Z",
     "start_time": "2019-02-18T19:06:28.141464Z"
    }
   },
   "outputs": [
    {
     "data": {
      "text/plain": [
       "session_id                    False\n",
       "start_timestamp               False\n",
       "timezone                       True\n",
       "timezone_offset                True\n",
       "previous_sessions_duration    False\n",
       "user_created_timestamp        False\n",
       "is_user_first_session         False\n",
       "is_session                    False\n",
       "country                        True\n",
       "region                         True\n",
       "city                           True\n",
       "latitude                       True\n",
       "longitude                      True\n",
       "locale                         True\n",
       "os_name                        True\n",
       "session_index                 False\n",
       "device_id                      True\n",
       "user_id_hash                  False\n",
       "dtype: bool"
      ]
     },
     "execution_count": 6,
     "metadata": {},
     "output_type": "execute_result"
    }
   ],
   "source": [
    "pd.isnull(df).any()"
   ]
  },
  {
   "cell_type": "markdown",
   "metadata": {},
   "source": [
    "### Time Preprocess"
   ]
  },
  {
   "cell_type": "code",
   "execution_count": 7,
   "metadata": {
    "ExecuteTime": {
     "end_time": "2019-02-18T19:06:51.894198Z",
     "start_time": "2019-02-18T19:06:51.815353Z"
    },
    "collapsed": true
   },
   "outputs": [],
   "source": [
    "# We need to fill na first\n",
    "df.timezone_offset = df.timezone_offset.fillna(df['timezone_offset'].mean())"
   ]
  },
  {
   "cell_type": "code",
   "execution_count": 8,
   "metadata": {
    "ExecuteTime": {
     "end_time": "2019-02-18T19:07:07.678739Z",
     "start_time": "2019-02-18T19:07:05.905042Z"
    },
    "collapsed": true
   },
   "outputs": [],
   "source": [
    "# change time into local time\n",
    "df.start_timestamp = df.start_timestamp+df.timezone_offset\n",
    "df.user_created_timestamp = df.user_created_timestamp+df.timezone_offset\n",
    "df['start_time'] = pd.to_datetime(df.start_timestamp, unit = 'ms')\n",
    "df['user_created_time'] =pd.to_datetime(df.user_created_timestamp, unit = 'ms')\n",
    "df = df.drop(['start_timestamp','user_created_timestamp'], axis=1)"
   ]
  },
  {
   "cell_type": "code",
   "execution_count": 9,
   "metadata": {
    "ExecuteTime": {
     "end_time": "2019-02-18T19:08:33.212089Z",
     "start_time": "2019-02-18T19:07:29.027610Z"
    },
    "collapsed": true
   },
   "outputs": [],
   "source": [
    "# extract date info\n",
    "df['start_dow'] = df.start_time.dt.dayofweek\n",
    "df['start_hour'] = df.start_time.dt.hour\n",
    "df['start_date'] = df.start_time.dt.date\n",
    "df['create_date'] = df.user_created_time.dt.date\n",
    "df['create_session_time'] = df['start_date']-df['create_date']"
   ]
  },
  {
   "cell_type": "code",
   "execution_count": 10,
   "metadata": {
    "ExecuteTime": {
     "end_time": "2019-02-18T19:11:05.575850Z",
     "start_time": "2019-02-18T19:09:43.676803Z"
    },
    "collapsed": true
   },
   "outputs": [],
   "source": [
    "df.create_session_time = df.create_session_time.apply(lambda x: int(str(x).split(' ')[0]))"
   ]
  },
  {
   "cell_type": "code",
   "execution_count": 11,
   "metadata": {
    "ExecuteTime": {
     "end_time": "2019-02-18T19:11:07.945630Z",
     "start_time": "2019-02-18T19:11:07.914458Z"
    }
   },
   "outputs": [
    {
     "data": {
      "text/html": [
       "<div>\n",
       "<table border=\"1\" class=\"dataframe\">\n",
       "  <thead>\n",
       "    <tr style=\"text-align: right;\">\n",
       "      <th></th>\n",
       "      <th>session_id</th>\n",
       "      <th>timezone</th>\n",
       "      <th>timezone_offset</th>\n",
       "      <th>previous_sessions_duration</th>\n",
       "      <th>is_user_first_session</th>\n",
       "      <th>is_session</th>\n",
       "      <th>country</th>\n",
       "      <th>region</th>\n",
       "      <th>city</th>\n",
       "      <th>latitude</th>\n",
       "      <th>...</th>\n",
       "      <th>session_index</th>\n",
       "      <th>device_id</th>\n",
       "      <th>user_id_hash</th>\n",
       "      <th>start_time</th>\n",
       "      <th>user_created_time</th>\n",
       "      <th>start_dow</th>\n",
       "      <th>start_hour</th>\n",
       "      <th>start_date</th>\n",
       "      <th>create_date</th>\n",
       "      <th>create_session_time</th>\n",
       "    </tr>\n",
       "  </thead>\n",
       "  <tbody>\n",
       "    <tr>\n",
       "      <th>0</th>\n",
       "      <td>5558845121177764917</td>\n",
       "      <td>Asia/Manila</td>\n",
       "      <td>28800000.0</td>\n",
       "      <td>25837591</td>\n",
       "      <td>False</td>\n",
       "      <td>True</td>\n",
       "      <td>PH</td>\n",
       "      <td>00</td>\n",
       "      <td>makati</td>\n",
       "      <td>14.554729</td>\n",
       "      <td>...</td>\n",
       "      <td>30</td>\n",
       "      <td>546a3d98-d540-4e72-ad82-9ebd64e0839b</td>\n",
       "      <td>9943447915df3a45fd6720a026af905b6da6b56a37701b...</td>\n",
       "      <td>2018-11-15 01:09:24.580</td>\n",
       "      <td>2018-10-07 09:04:49.458</td>\n",
       "      <td>3</td>\n",
       "      <td>1</td>\n",
       "      <td>2018-11-15</td>\n",
       "      <td>2018-10-07</td>\n",
       "      <td>39</td>\n",
       "    </tr>\n",
       "    <tr>\n",
       "      <th>1</th>\n",
       "      <td>2201961907282901522</td>\n",
       "      <td>Asia/Manila</td>\n",
       "      <td>28800000.0</td>\n",
       "      <td>35050130</td>\n",
       "      <td>False</td>\n",
       "      <td>True</td>\n",
       "      <td>PH</td>\n",
       "      <td>00</td>\n",
       "      <td>quezon city</td>\n",
       "      <td>14.676041</td>\n",
       "      <td>...</td>\n",
       "      <td>47</td>\n",
       "      <td>546a3d98-d540-4e72-ad82-9ebd64e0839b</td>\n",
       "      <td>9943447915df3a45fd6720a026af905b6da6b56a37701b...</td>\n",
       "      <td>2018-12-02 09:09:37.293</td>\n",
       "      <td>2018-10-07 09:04:49.458</td>\n",
       "      <td>6</td>\n",
       "      <td>9</td>\n",
       "      <td>2018-12-02</td>\n",
       "      <td>2018-10-07</td>\n",
       "      <td>56</td>\n",
       "    </tr>\n",
       "    <tr>\n",
       "      <th>2</th>\n",
       "      <td>18781111175537580</td>\n",
       "      <td>Asia/Manila</td>\n",
       "      <td>28800000.0</td>\n",
       "      <td>11343848</td>\n",
       "      <td>False</td>\n",
       "      <td>True</td>\n",
       "      <td>PH</td>\n",
       "      <td>00</td>\n",
       "      <td>makati</td>\n",
       "      <td>14.554729</td>\n",
       "      <td>...</td>\n",
       "      <td>10</td>\n",
       "      <td>546a3d98-d540-4e72-ad82-9ebd64e0839b</td>\n",
       "      <td>9943447915df3a45fd6720a026af905b6da6b56a37701b...</td>\n",
       "      <td>2018-10-11 07:52:48.666</td>\n",
       "      <td>2018-10-07 09:04:49.458</td>\n",
       "      <td>3</td>\n",
       "      <td>7</td>\n",
       "      <td>2018-10-11</td>\n",
       "      <td>2018-10-07</td>\n",
       "      <td>4</td>\n",
       "    </tr>\n",
       "    <tr>\n",
       "      <th>3</th>\n",
       "      <td>1477540082628742048</td>\n",
       "      <td>Asia/Manila</td>\n",
       "      <td>28800000.0</td>\n",
       "      <td>13499724</td>\n",
       "      <td>False</td>\n",
       "      <td>True</td>\n",
       "      <td>PH</td>\n",
       "      <td>11</td>\n",
       "      <td>davao city</td>\n",
       "      <td>7.190708</td>\n",
       "      <td>...</td>\n",
       "      <td>13</td>\n",
       "      <td>546a3d98-d540-4e72-ad82-9ebd64e0839b</td>\n",
       "      <td>9943447915df3a45fd6720a026af905b6da6b56a37701b...</td>\n",
       "      <td>2018-10-21 19:19:03.010</td>\n",
       "      <td>2018-10-07 09:04:49.458</td>\n",
       "      <td>6</td>\n",
       "      <td>19</td>\n",
       "      <td>2018-10-21</td>\n",
       "      <td>2018-10-07</td>\n",
       "      <td>14</td>\n",
       "    </tr>\n",
       "    <tr>\n",
       "      <th>4</th>\n",
       "      <td>8184875317380844086</td>\n",
       "      <td>Asia/Manila</td>\n",
       "      <td>28800000.0</td>\n",
       "      <td>32788010</td>\n",
       "      <td>False</td>\n",
       "      <td>True</td>\n",
       "      <td>PH</td>\n",
       "      <td>00</td>\n",
       "      <td>makati</td>\n",
       "      <td>14.554729</td>\n",
       "      <td>...</td>\n",
       "      <td>41</td>\n",
       "      <td>546a3d98-d540-4e72-ad82-9ebd64e0839b</td>\n",
       "      <td>9943447915df3a45fd6720a026af905b6da6b56a37701b...</td>\n",
       "      <td>2018-11-20 07:53:45.528</td>\n",
       "      <td>2018-10-07 09:04:49.458</td>\n",
       "      <td>1</td>\n",
       "      <td>7</td>\n",
       "      <td>2018-11-20</td>\n",
       "      <td>2018-10-07</td>\n",
       "      <td>44</td>\n",
       "    </tr>\n",
       "  </tbody>\n",
       "</table>\n",
       "<p>5 rows × 23 columns</p>\n",
       "</div>"
      ],
      "text/plain": [
       "            session_id     timezone  timezone_offset  \\\n",
       "0  5558845121177764917  Asia/Manila       28800000.0   \n",
       "1  2201961907282901522  Asia/Manila       28800000.0   \n",
       "2    18781111175537580  Asia/Manila       28800000.0   \n",
       "3  1477540082628742048  Asia/Manila       28800000.0   \n",
       "4  8184875317380844086  Asia/Manila       28800000.0   \n",
       "\n",
       "   previous_sessions_duration is_user_first_session is_session country region  \\\n",
       "0                    25837591                 False       True      PH     00   \n",
       "1                    35050130                 False       True      PH     00   \n",
       "2                    11343848                 False       True      PH     00   \n",
       "3                    13499724                 False       True      PH     11   \n",
       "4                    32788010                 False       True      PH     00   \n",
       "\n",
       "          city   latitude         ...           session_index  \\\n",
       "0       makati  14.554729         ...                      30   \n",
       "1  quezon city  14.676041         ...                      47   \n",
       "2       makati  14.554729         ...                      10   \n",
       "3   davao city   7.190708         ...                      13   \n",
       "4       makati  14.554729         ...                      41   \n",
       "\n",
       "                              device_id  \\\n",
       "0  546a3d98-d540-4e72-ad82-9ebd64e0839b   \n",
       "1  546a3d98-d540-4e72-ad82-9ebd64e0839b   \n",
       "2  546a3d98-d540-4e72-ad82-9ebd64e0839b   \n",
       "3  546a3d98-d540-4e72-ad82-9ebd64e0839b   \n",
       "4  546a3d98-d540-4e72-ad82-9ebd64e0839b   \n",
       "\n",
       "                                        user_id_hash              start_time  \\\n",
       "0  9943447915df3a45fd6720a026af905b6da6b56a37701b... 2018-11-15 01:09:24.580   \n",
       "1  9943447915df3a45fd6720a026af905b6da6b56a37701b... 2018-12-02 09:09:37.293   \n",
       "2  9943447915df3a45fd6720a026af905b6da6b56a37701b... 2018-10-11 07:52:48.666   \n",
       "3  9943447915df3a45fd6720a026af905b6da6b56a37701b... 2018-10-21 19:19:03.010   \n",
       "4  9943447915df3a45fd6720a026af905b6da6b56a37701b... 2018-11-20 07:53:45.528   \n",
       "\n",
       "        user_created_time start_dow start_hour  start_date  create_date  \\\n",
       "0 2018-10-07 09:04:49.458         3          1  2018-11-15   2018-10-07   \n",
       "1 2018-10-07 09:04:49.458         6          9  2018-12-02   2018-10-07   \n",
       "2 2018-10-07 09:04:49.458         3          7  2018-10-11   2018-10-07   \n",
       "3 2018-10-07 09:04:49.458         6         19  2018-10-21   2018-10-07   \n",
       "4 2018-10-07 09:04:49.458         1          7  2018-11-20   2018-10-07   \n",
       "\n",
       "   create_session_time  \n",
       "0                   39  \n",
       "1                   56  \n",
       "2                    4  \n",
       "3                   14  \n",
       "4                   44  \n",
       "\n",
       "[5 rows x 23 columns]"
      ]
     },
     "execution_count": 11,
     "metadata": {},
     "output_type": "execute_result"
    }
   ],
   "source": [
    "df.head()"
   ]
  },
  {
   "cell_type": "code",
   "execution_count": 12,
   "metadata": {
    "ExecuteTime": {
     "end_time": "2019-02-18T19:11:19.549579Z",
     "start_time": "2019-02-18T19:11:16.881394Z"
    },
    "collapsed": true
   },
   "outputs": [],
   "source": [
    "df = df.drop(['start_time', 'user_created_time'], axis=1)"
   ]
  },
  {
   "cell_type": "markdown",
   "metadata": {},
   "source": [
    "### is_session"
   ]
  },
  {
   "cell_type": "code",
   "execution_count": 17,
   "metadata": {
    "ExecuteTime": {
     "end_time": "2019-02-18T19:14:53.505467Z",
     "start_time": "2019-02-18T19:14:53.134086Z"
    }
   },
   "outputs": [
    {
     "data": {
      "text/plain": [
       "True     5165730\n",
       "False    1070022\n",
       "Name: is_session, dtype: int64"
      ]
     },
     "execution_count": 17,
     "metadata": {},
     "output_type": "execute_result"
    }
   ],
   "source": [
    "df.is_session.value_counts()"
   ]
  },
  {
   "cell_type": "code",
   "execution_count": 18,
   "metadata": {
    "ExecuteTime": {
     "end_time": "2019-02-18T19:16:38.784239Z",
     "start_time": "2019-02-18T19:16:33.876908Z"
    }
   },
   "outputs": [
    {
     "data": {
      "text/html": [
       "<div>\n",
       "<table border=\"1\" class=\"dataframe\">\n",
       "  <thead>\n",
       "    <tr style=\"text-align: right;\">\n",
       "      <th></th>\n",
       "      <th>session_id</th>\n",
       "      <th>timezone</th>\n",
       "      <th>timezone_offset</th>\n",
       "      <th>previous_sessions_duration</th>\n",
       "      <th>is_user_first_session</th>\n",
       "      <th>is_session</th>\n",
       "      <th>country</th>\n",
       "      <th>region</th>\n",
       "      <th>city</th>\n",
       "      <th>latitude</th>\n",
       "      <th>...</th>\n",
       "      <th>locale</th>\n",
       "      <th>os_name</th>\n",
       "      <th>session_index</th>\n",
       "      <th>device_id</th>\n",
       "      <th>user_id_hash</th>\n",
       "      <th>start_dow</th>\n",
       "      <th>start_hour</th>\n",
       "      <th>start_date</th>\n",
       "      <th>create_date</th>\n",
       "      <th>create_session_time</th>\n",
       "    </tr>\n",
       "  </thead>\n",
       "  <tbody>\n",
       "    <tr>\n",
       "      <th>1588698</th>\n",
       "      <td>4760632880795</td>\n",
       "      <td>America/Chicago</td>\n",
       "      <td>-21600000.0</td>\n",
       "      <td>12353929</td>\n",
       "      <td>False</td>\n",
       "      <td>False</td>\n",
       "      <td>US</td>\n",
       "      <td>tx</td>\n",
       "      <td>san antonio</td>\n",
       "      <td>29.424122</td>\n",
       "      <td>...</td>\n",
       "      <td>en_US</td>\n",
       "      <td>Android OS</td>\n",
       "      <td>2</td>\n",
       "      <td>845d5958-260f-420d-b7be-8f3a44e03f43</td>\n",
       "      <td>7d77903651b8ccf92a81a0f0bc044e22a573c45eda49ab...</td>\n",
       "      <td>6</td>\n",
       "      <td>23</td>\n",
       "      <td>2018-11-11</td>\n",
       "      <td>2018-11-10</td>\n",
       "      <td>1</td>\n",
       "    </tr>\n",
       "    <tr>\n",
       "      <th>3736298</th>\n",
       "      <td>6306285814587</td>\n",
       "      <td>Africa/Ceuta</td>\n",
       "      <td>3600000.0</td>\n",
       "      <td>29610050</td>\n",
       "      <td>False</td>\n",
       "      <td>False</td>\n",
       "      <td>HR</td>\n",
       "      <td>19</td>\n",
       "      <td>dubrovnik</td>\n",
       "      <td>42.650661</td>\n",
       "      <td>...</td>\n",
       "      <td>en_US</td>\n",
       "      <td>Android OS</td>\n",
       "      <td>14</td>\n",
       "      <td>fce75647-d5d1-4282-a45f-d8ca82119017</td>\n",
       "      <td>38286df9de37b137378fbce09ae3d96854ed61e81e2fa5...</td>\n",
       "      <td>5</td>\n",
       "      <td>1</td>\n",
       "      <td>2018-11-17</td>\n",
       "      <td>2018-11-14</td>\n",
       "      <td>3</td>\n",
       "    </tr>\n",
       "    <tr>\n",
       "      <th>2188843</th>\n",
       "      <td>29736792627264</td>\n",
       "      <td>America/Chicago</td>\n",
       "      <td>-21600000.0</td>\n",
       "      <td>6676481</td>\n",
       "      <td>False</td>\n",
       "      <td>True</td>\n",
       "      <td>US</td>\n",
       "      <td>tx</td>\n",
       "      <td>austin</td>\n",
       "      <td>30.267153</td>\n",
       "      <td>...</td>\n",
       "      <td>en_US</td>\n",
       "      <td>Android OS</td>\n",
       "      <td>10</td>\n",
       "      <td>2e9a65ea-07fa-4665-87fc-34cd4539c05a</td>\n",
       "      <td>7c36f5187e730eb16833a264dbca791b431873e4df2c2a...</td>\n",
       "      <td>0</td>\n",
       "      <td>8</td>\n",
       "      <td>2018-11-12</td>\n",
       "      <td>2018-10-08</td>\n",
       "      <td>35</td>\n",
       "    </tr>\n",
       "    <tr>\n",
       "      <th>2188846</th>\n",
       "      <td>29736792627264</td>\n",
       "      <td>America/Chicago</td>\n",
       "      <td>-21600000.0</td>\n",
       "      <td>6676481</td>\n",
       "      <td>False</td>\n",
       "      <td>False</td>\n",
       "      <td>US</td>\n",
       "      <td>tx</td>\n",
       "      <td>austin</td>\n",
       "      <td>30.267153</td>\n",
       "      <td>...</td>\n",
       "      <td>en_US</td>\n",
       "      <td>Android OS</td>\n",
       "      <td>10</td>\n",
       "      <td>2e9a65ea-07fa-4665-87fc-34cd4539c05a</td>\n",
       "      <td>7c36f5187e730eb16833a264dbca791b431873e4df2c2a...</td>\n",
       "      <td>0</td>\n",
       "      <td>8</td>\n",
       "      <td>2018-11-12</td>\n",
       "      <td>2018-10-08</td>\n",
       "      <td>35</td>\n",
       "    </tr>\n",
       "    <tr>\n",
       "      <th>3477069</th>\n",
       "      <td>42438368918952</td>\n",
       "      <td>Asia/Manila</td>\n",
       "      <td>28800000.0</td>\n",
       "      <td>2572757</td>\n",
       "      <td>True</td>\n",
       "      <td>False</td>\n",
       "      <td>PH</td>\n",
       "      <td>00</td>\n",
       "      <td>quezon city</td>\n",
       "      <td>14.676041</td>\n",
       "      <td>...</td>\n",
       "      <td>en_US</td>\n",
       "      <td>Android OS</td>\n",
       "      <td>1</td>\n",
       "      <td>0c744d3f-1e24-4993-b532-6818146a7084</td>\n",
       "      <td>5149fa223ddf62f8874f2467b66b5c12e61cc26e0bc714...</td>\n",
       "      <td>1</td>\n",
       "      <td>12</td>\n",
       "      <td>2018-10-23</td>\n",
       "      <td>2018-10-22</td>\n",
       "      <td>1</td>\n",
       "    </tr>\n",
       "  </tbody>\n",
       "</table>\n",
       "<p>5 rows × 21 columns</p>\n",
       "</div>"
      ],
      "text/plain": [
       "             session_id         timezone  timezone_offset  \\\n",
       "1588698   4760632880795  America/Chicago      -21600000.0   \n",
       "3736298   6306285814587     Africa/Ceuta        3600000.0   \n",
       "2188843  29736792627264  America/Chicago      -21600000.0   \n",
       "2188846  29736792627264  America/Chicago      -21600000.0   \n",
       "3477069  42438368918952      Asia/Manila       28800000.0   \n",
       "\n",
       "         previous_sessions_duration is_user_first_session is_session country  \\\n",
       "1588698                    12353929                 False      False      US   \n",
       "3736298                    29610050                 False      False      HR   \n",
       "2188843                     6676481                 False       True      US   \n",
       "2188846                     6676481                 False      False      US   \n",
       "3477069                     2572757                  True      False      PH   \n",
       "\n",
       "        region         city   latitude         ...          locale  \\\n",
       "1588698     tx  san antonio  29.424122         ...           en_US   \n",
       "3736298     19    dubrovnik  42.650661         ...           en_US   \n",
       "2188843     tx       austin  30.267153         ...           en_US   \n",
       "2188846     tx       austin  30.267153         ...           en_US   \n",
       "3477069     00  quezon city  14.676041         ...           en_US   \n",
       "\n",
       "            os_name session_index                             device_id  \\\n",
       "1588698  Android OS             2  845d5958-260f-420d-b7be-8f3a44e03f43   \n",
       "3736298  Android OS            14  fce75647-d5d1-4282-a45f-d8ca82119017   \n",
       "2188843  Android OS            10  2e9a65ea-07fa-4665-87fc-34cd4539c05a   \n",
       "2188846  Android OS            10  2e9a65ea-07fa-4665-87fc-34cd4539c05a   \n",
       "3477069  Android OS             1  0c744d3f-1e24-4993-b532-6818146a7084   \n",
       "\n",
       "                                              user_id_hash start_dow  \\\n",
       "1588698  7d77903651b8ccf92a81a0f0bc044e22a573c45eda49ab...         6   \n",
       "3736298  38286df9de37b137378fbce09ae3d96854ed61e81e2fa5...         5   \n",
       "2188843  7c36f5187e730eb16833a264dbca791b431873e4df2c2a...         0   \n",
       "2188846  7c36f5187e730eb16833a264dbca791b431873e4df2c2a...         0   \n",
       "3477069  5149fa223ddf62f8874f2467b66b5c12e61cc26e0bc714...         1   \n",
       "\n",
       "         start_hour  start_date create_date create_session_time  \n",
       "1588698          23  2018-11-11  2018-11-10                   1  \n",
       "3736298           1  2018-11-17  2018-11-14                   3  \n",
       "2188843           8  2018-11-12  2018-10-08                  35  \n",
       "2188846           8  2018-11-12  2018-10-08                  35  \n",
       "3477069          12  2018-10-23  2018-10-22                   1  \n",
       "\n",
       "[5 rows x 21 columns]"
      ]
     },
     "execution_count": 18,
     "metadata": {},
     "output_type": "execute_result"
    }
   ],
   "source": [
    "df[(df['session_id'].isin(list(df[df['is_session']==False].session_id)))].sort_values('session_id').head()"
   ]
  },
  {
   "cell_type": "markdown",
   "metadata": {},
   "source": [
    "From above table we could see like session_id = 29736792627264, if one `is_session=False`, if it also has `is_session=True` record, the two lines are same except `is_session` column. Thus, we should filter out this one of the repeated records."
   ]
  },
  {
   "cell_type": "code",
   "execution_count": 13,
   "metadata": {
    "ExecuteTime": {
     "end_time": "2019-02-18T19:12:46.747329Z",
     "start_time": "2019-02-18T19:12:44.121270Z"
    }
   },
   "outputs": [
    {
     "data": {
      "text/plain": [
       "237981"
      ]
     },
     "execution_count": 13,
     "metadata": {},
     "output_type": "execute_result"
    }
   ],
   "source": [
    "# check the number of session which has offline info also has online info\n",
    "len(df[(df['session_id'].isin(list(df[df['is_session']==False].session_id))) & (df['is_session']==True)])"
   ]
  },
  {
   "cell_type": "code",
   "execution_count": 19,
   "metadata": {
    "ExecuteTime": {
     "end_time": "2019-02-18T19:19:28.607948Z",
     "start_time": "2019-02-18T19:19:25.739880Z"
    },
    "collapsed": true
   },
   "outputs": [],
   "source": [
    "repeat_list = list(df[(df['session_id'].isin(list(df[df['is_session']==False].session_id))) & (df['is_session']==True)].session_id)"
   ]
  },
  {
   "cell_type": "code",
   "execution_count": 20,
   "metadata": {
    "ExecuteTime": {
     "end_time": "2019-02-18T19:19:57.633714Z",
     "start_time": "2019-02-18T19:19:53.541536Z"
    },
    "collapsed": true
   },
   "outputs": [],
   "source": [
    "# filter the offline sessions which has both online/offline info\n",
    "df = df.loc[~((df['session_id'].isin(repeat_list)) & (df['is_session']==False))].reset_index()"
   ]
  },
  {
   "cell_type": "code",
   "execution_count": 22,
   "metadata": {
    "ExecuteTime": {
     "end_time": "2019-02-18T19:20:53.117666Z",
     "start_time": "2019-02-18T19:20:51.878152Z"
    },
    "collapsed": true
   },
   "outputs": [],
   "source": [
    "df = df.drop(['index'], axis=1)"
   ]
  },
  {
   "cell_type": "code",
   "execution_count": null,
   "metadata": {
    "collapsed": true
   },
   "outputs": [],
   "source": [
    "df.to_csv('feature_eng/sessions_new.csv')"
   ]
  },
  {
   "cell_type": "markdown",
   "metadata": {},
   "source": [
    "### Split session by train_test users"
   ]
  },
  {
   "cell_type": "code",
   "execution_count": 24,
   "metadata": {
    "ExecuteTime": {
     "end_time": "2019-02-18T22:48:35.738851Z",
     "start_time": "2019-02-18T22:48:33.792363Z"
    },
    "collapsed": true
   },
   "outputs": [],
   "source": [
    "file_name = 'sample_submission_2.csv'\n",
    "s3 = boto3.client('s3')\n",
    "obj = s3.get_object(Bucket=bucket_name, Key=file_name) # S3 uses key-value structure where key is your file name\n",
    "test_user = pd.read_csv(obj['Body'])"
   ]
  },
  {
   "cell_type": "code",
   "execution_count": 25,
   "metadata": {
    "ExecuteTime": {
     "end_time": "2019-02-18T22:48:37.282436Z",
     "start_time": "2019-02-18T22:48:37.195861Z"
    },
    "collapsed": true
   },
   "outputs": [],
   "source": [
    "# test users are from submission file\n",
    "test_list = list(test_user['user_id_hash'].unique())"
   ]
  },
  {
   "cell_type": "code",
   "execution_count": 26,
   "metadata": {
    "ExecuteTime": {
     "end_time": "2019-02-18T22:48:40.516647Z",
     "start_time": "2019-02-18T22:48:40.513629Z"
    }
   },
   "outputs": [
    {
     "name": "stdout",
     "output_type": "stream",
     "text": [
      "The number of unique user in testset is 312568\n"
     ]
    }
   ],
   "source": [
    "print('The number of unique user in testset is', len(test_list))"
   ]
  },
  {
   "cell_type": "code",
   "execution_count": 27,
   "metadata": {
    "ExecuteTime": {
     "end_time": "2019-02-18T22:48:57.250987Z",
     "start_time": "2019-02-18T22:48:55.328593Z"
    },
    "collapsed": true
   },
   "outputs": [],
   "source": [
    "df_test = df.loc[(df['user_id_hash'].isin(test_list))].reset_index()"
   ]
  },
  {
   "cell_type": "code",
   "execution_count": 29,
   "metadata": {
    "ExecuteTime": {
     "end_time": "2019-02-18T22:49:33.734336Z",
     "start_time": "2019-02-18T22:49:33.539060Z"
    }
   },
   "outputs": [
    {
     "name": "stdout",
     "output_type": "stream",
     "text": [
      "The number of unique user in testset also in sessions is 312217\n"
     ]
    }
   ],
   "source": [
    "print('The number of unique user in testset also in sessions is', len(df_test.user_id_hash.unique()))"
   ]
  },
  {
   "cell_type": "code",
   "execution_count": 31,
   "metadata": {
    "ExecuteTime": {
     "end_time": "2019-02-18T22:49:47.793267Z",
     "start_time": "2019-02-18T22:49:47.127195Z"
    },
    "collapsed": true
   },
   "outputs": [],
   "source": [
    "df_test = df_test.drop(['index'], axis=1)"
   ]
  },
  {
   "cell_type": "code",
   "execution_count": 54,
   "metadata": {
    "ExecuteTime": {
     "end_time": "2019-02-18T07:18:15.001300Z",
     "start_time": "2019-02-18T07:17:02.470438Z"
    },
    "collapsed": true
   },
   "outputs": [],
   "source": [
    "# get the session info for test users\n",
    "df_test.to_csv('feature_eng/sessions_test.csv')"
   ]
  },
  {
   "cell_type": "code",
   "execution_count": 55,
   "metadata": {
    "ExecuteTime": {
     "end_time": "2019-02-18T07:18:15.044181Z",
     "start_time": "2019-02-18T07:18:15.003083Z"
    },
    "scrolled": true
   },
   "outputs": [
    {
     "data": {
      "text/html": [
       "<div>\n",
       "<table border=\"1\" class=\"dataframe\">\n",
       "  <thead>\n",
       "    <tr style=\"text-align: right;\">\n",
       "      <th></th>\n",
       "      <th>session_id</th>\n",
       "      <th>timezone</th>\n",
       "      <th>timezone_offset</th>\n",
       "      <th>previous_sessions_duration</th>\n",
       "      <th>is_user_first_session</th>\n",
       "      <th>is_session</th>\n",
       "      <th>country</th>\n",
       "      <th>region</th>\n",
       "      <th>city</th>\n",
       "      <th>latitude</th>\n",
       "      <th>...</th>\n",
       "      <th>locale</th>\n",
       "      <th>os_name</th>\n",
       "      <th>session_index</th>\n",
       "      <th>device_id</th>\n",
       "      <th>user_id_hash</th>\n",
       "      <th>start_dow</th>\n",
       "      <th>start_hour</th>\n",
       "      <th>start_date</th>\n",
       "      <th>create_date</th>\n",
       "      <th>create_session_time</th>\n",
       "    </tr>\n",
       "  </thead>\n",
       "  <tbody>\n",
       "    <tr>\n",
       "      <th>0</th>\n",
       "      <td>5558845121177764917</td>\n",
       "      <td>Asia/Manila</td>\n",
       "      <td>28800000.0</td>\n",
       "      <td>25837591</td>\n",
       "      <td>False</td>\n",
       "      <td>True</td>\n",
       "      <td>PH</td>\n",
       "      <td>00</td>\n",
       "      <td>makati</td>\n",
       "      <td>14.554729</td>\n",
       "      <td>...</td>\n",
       "      <td>en_GB</td>\n",
       "      <td>Android OS</td>\n",
       "      <td>30</td>\n",
       "      <td>546a3d98-d540-4e72-ad82-9ebd64e0839b</td>\n",
       "      <td>9943447915df3a45fd6720a026af905b6da6b56a37701b...</td>\n",
       "      <td>3</td>\n",
       "      <td>1</td>\n",
       "      <td>2018-11-15</td>\n",
       "      <td>2018-10-07</td>\n",
       "      <td>39</td>\n",
       "    </tr>\n",
       "    <tr>\n",
       "      <th>1</th>\n",
       "      <td>2201961907282901522</td>\n",
       "      <td>Asia/Manila</td>\n",
       "      <td>28800000.0</td>\n",
       "      <td>35050130</td>\n",
       "      <td>False</td>\n",
       "      <td>True</td>\n",
       "      <td>PH</td>\n",
       "      <td>00</td>\n",
       "      <td>quezon city</td>\n",
       "      <td>14.676041</td>\n",
       "      <td>...</td>\n",
       "      <td>en_GB</td>\n",
       "      <td>Android OS</td>\n",
       "      <td>47</td>\n",
       "      <td>546a3d98-d540-4e72-ad82-9ebd64e0839b</td>\n",
       "      <td>9943447915df3a45fd6720a026af905b6da6b56a37701b...</td>\n",
       "      <td>6</td>\n",
       "      <td>9</td>\n",
       "      <td>2018-12-02</td>\n",
       "      <td>2018-10-07</td>\n",
       "      <td>56</td>\n",
       "    </tr>\n",
       "    <tr>\n",
       "      <th>2</th>\n",
       "      <td>18781111175537580</td>\n",
       "      <td>Asia/Manila</td>\n",
       "      <td>28800000.0</td>\n",
       "      <td>11343848</td>\n",
       "      <td>False</td>\n",
       "      <td>True</td>\n",
       "      <td>PH</td>\n",
       "      <td>00</td>\n",
       "      <td>makati</td>\n",
       "      <td>14.554729</td>\n",
       "      <td>...</td>\n",
       "      <td>en_GB</td>\n",
       "      <td>Android OS</td>\n",
       "      <td>10</td>\n",
       "      <td>546a3d98-d540-4e72-ad82-9ebd64e0839b</td>\n",
       "      <td>9943447915df3a45fd6720a026af905b6da6b56a37701b...</td>\n",
       "      <td>3</td>\n",
       "      <td>7</td>\n",
       "      <td>2018-10-11</td>\n",
       "      <td>2018-10-07</td>\n",
       "      <td>4</td>\n",
       "    </tr>\n",
       "    <tr>\n",
       "      <th>3</th>\n",
       "      <td>1477540082628742048</td>\n",
       "      <td>Asia/Manila</td>\n",
       "      <td>28800000.0</td>\n",
       "      <td>13499724</td>\n",
       "      <td>False</td>\n",
       "      <td>True</td>\n",
       "      <td>PH</td>\n",
       "      <td>11</td>\n",
       "      <td>davao city</td>\n",
       "      <td>7.190708</td>\n",
       "      <td>...</td>\n",
       "      <td>en_GB</td>\n",
       "      <td>Android OS</td>\n",
       "      <td>13</td>\n",
       "      <td>546a3d98-d540-4e72-ad82-9ebd64e0839b</td>\n",
       "      <td>9943447915df3a45fd6720a026af905b6da6b56a37701b...</td>\n",
       "      <td>6</td>\n",
       "      <td>19</td>\n",
       "      <td>2018-10-21</td>\n",
       "      <td>2018-10-07</td>\n",
       "      <td>14</td>\n",
       "    </tr>\n",
       "    <tr>\n",
       "      <th>4</th>\n",
       "      <td>8184875317380844086</td>\n",
       "      <td>Asia/Manila</td>\n",
       "      <td>28800000.0</td>\n",
       "      <td>32788010</td>\n",
       "      <td>False</td>\n",
       "      <td>True</td>\n",
       "      <td>PH</td>\n",
       "      <td>00</td>\n",
       "      <td>makati</td>\n",
       "      <td>14.554729</td>\n",
       "      <td>...</td>\n",
       "      <td>en_GB</td>\n",
       "      <td>Android OS</td>\n",
       "      <td>41</td>\n",
       "      <td>546a3d98-d540-4e72-ad82-9ebd64e0839b</td>\n",
       "      <td>9943447915df3a45fd6720a026af905b6da6b56a37701b...</td>\n",
       "      <td>1</td>\n",
       "      <td>7</td>\n",
       "      <td>2018-11-20</td>\n",
       "      <td>2018-10-07</td>\n",
       "      <td>44</td>\n",
       "    </tr>\n",
       "  </tbody>\n",
       "</table>\n",
       "<p>5 rows × 21 columns</p>\n",
       "</div>"
      ],
      "text/plain": [
       "            session_id     timezone  timezone_offset  \\\n",
       "0  5558845121177764917  Asia/Manila       28800000.0   \n",
       "1  2201961907282901522  Asia/Manila       28800000.0   \n",
       "2    18781111175537580  Asia/Manila       28800000.0   \n",
       "3  1477540082628742048  Asia/Manila       28800000.0   \n",
       "4  8184875317380844086  Asia/Manila       28800000.0   \n",
       "\n",
       "   previous_sessions_duration is_user_first_session is_session country region  \\\n",
       "0                    25837591                 False       True      PH     00   \n",
       "1                    35050130                 False       True      PH     00   \n",
       "2                    11343848                 False       True      PH     00   \n",
       "3                    13499724                 False       True      PH     11   \n",
       "4                    32788010                 False       True      PH     00   \n",
       "\n",
       "          city   latitude         ...          locale     os_name  \\\n",
       "0       makati  14.554729         ...           en_GB  Android OS   \n",
       "1  quezon city  14.676041         ...           en_GB  Android OS   \n",
       "2       makati  14.554729         ...           en_GB  Android OS   \n",
       "3   davao city   7.190708         ...           en_GB  Android OS   \n",
       "4       makati  14.554729         ...           en_GB  Android OS   \n",
       "\n",
       "  session_index                             device_id  \\\n",
       "0            30  546a3d98-d540-4e72-ad82-9ebd64e0839b   \n",
       "1            47  546a3d98-d540-4e72-ad82-9ebd64e0839b   \n",
       "2            10  546a3d98-d540-4e72-ad82-9ebd64e0839b   \n",
       "3            13  546a3d98-d540-4e72-ad82-9ebd64e0839b   \n",
       "4            41  546a3d98-d540-4e72-ad82-9ebd64e0839b   \n",
       "\n",
       "                                        user_id_hash start_dow  start_hour  \\\n",
       "0  9943447915df3a45fd6720a026af905b6da6b56a37701b...         3           1   \n",
       "1  9943447915df3a45fd6720a026af905b6da6b56a37701b...         6           9   \n",
       "2  9943447915df3a45fd6720a026af905b6da6b56a37701b...         3           7   \n",
       "3  9943447915df3a45fd6720a026af905b6da6b56a37701b...         6          19   \n",
       "4  9943447915df3a45fd6720a026af905b6da6b56a37701b...         1           7   \n",
       "\n",
       "   start_date create_date create_session_time  \n",
       "0  2018-11-15  2018-10-07                  39  \n",
       "1  2018-12-02  2018-10-07                  56  \n",
       "2  2018-10-11  2018-10-07                   4  \n",
       "3  2018-10-21  2018-10-07                  14  \n",
       "4  2018-11-20  2018-10-07                  44  \n",
       "\n",
       "[5 rows x 21 columns]"
      ]
     },
     "execution_count": 55,
     "metadata": {},
     "output_type": "execute_result"
    }
   ],
   "source": [
    "df.head()"
   ]
  },
  {
   "cell_type": "markdown",
   "metadata": {},
   "source": [
    "Because train user label are built since 12/1/2018, we only could use sessions information before that time."
   ]
  },
  {
   "cell_type": "code",
   "execution_count": 56,
   "metadata": {
    "ExecuteTime": {
     "end_time": "2019-02-18T07:20:27.726700Z",
     "start_time": "2019-02-18T07:20:26.487943Z"
    },
    "collapsed": true
   },
   "outputs": [],
   "source": [
    "import datetime\n",
    "date_before = datetime.date(2018, 12, 1)\n",
    "df_train = df[df.start_date<date_before]"
   ]
  },
  {
   "cell_type": "code",
   "execution_count": 57,
   "metadata": {
    "ExecuteTime": {
     "end_time": "2019-02-18T07:20:29.281264Z",
     "start_time": "2019-02-18T07:20:28.361631Z"
    },
    "collapsed": true
   },
   "outputs": [],
   "source": [
    "df_train = df_train.reset_index()\n",
    "df_train = df_train.drop(['index'], axis=1)"
   ]
  },
  {
   "cell_type": "code",
   "execution_count": 59,
   "metadata": {
    "ExecuteTime": {
     "end_time": "2019-02-18T07:22:38.379089Z",
     "start_time": "2019-02-18T07:20:32.160233Z"
    },
    "collapsed": true
   },
   "outputs": [],
   "source": [
    "# get the session info for train users\n",
    "df_train.to_csv('feature_eng/sessions_train.csv')"
   ]
  },
  {
   "cell_type": "markdown",
   "metadata": {},
   "source": [
    "### EDA"
   ]
  },
  {
   "cell_type": "code",
   "execution_count": 32,
   "metadata": {
    "ExecuteTime": {
     "end_time": "2019-02-18T22:56:19.809477Z",
     "start_time": "2019-02-18T22:56:15.996036Z"
    }
   },
   "outputs": [
    {
     "data": {
      "text/plain": [
       "session_id                    False\n",
       "timezone                       True\n",
       "timezone_offset               False\n",
       "previous_sessions_duration    False\n",
       "is_user_first_session         False\n",
       "is_session                    False\n",
       "country                        True\n",
       "region                         True\n",
       "city                           True\n",
       "latitude                       True\n",
       "longitude                      True\n",
       "locale                         True\n",
       "os_name                        True\n",
       "session_index                 False\n",
       "device_id                      True\n",
       "user_id_hash                  False\n",
       "start_dow                     False\n",
       "start_hour                    False\n",
       "start_date                    False\n",
       "create_date                   False\n",
       "create_session_time           False\n",
       "dtype: bool"
      ]
     },
     "execution_count": 32,
     "metadata": {},
     "output_type": "execute_result"
    }
   ],
   "source": [
    "pd.isnull(df).any()"
   ]
  },
  {
   "cell_type": "markdown",
   "metadata": {},
   "source": [
    "Have a look at the features in `sessions` dataset."
   ]
  },
  {
   "cell_type": "code",
   "execution_count": 40,
   "metadata": {
    "ExecuteTime": {
     "end_time": "2019-02-18T23:02:41.099824Z",
     "start_time": "2019-02-18T23:02:40.776943Z"
    }
   },
   "outputs": [
    {
     "data": {
      "text/plain": [
       "False    5167409\n",
       "True      830360\n",
       "Name: is_user_first_session, dtype: int64"
      ]
     },
     "execution_count": 40,
     "metadata": {},
     "output_type": "execute_result"
    }
   ],
   "source": [
    "df.is_user_first_session.value_counts()"
   ]
  },
  {
   "cell_type": "code",
   "execution_count": 70,
   "metadata": {
    "ExecuteTime": {
     "end_time": "2019-02-18T23:17:36.012309Z",
     "start_time": "2019-02-18T23:17:36.009329Z"
    }
   },
   "outputs": [
    {
     "name": "stdout",
     "output_type": "stream",
     "text": [
      "The percentage of first session in all sessions is  0.86\n"
     ]
    }
   ],
   "source": [
    "print('The percentage of first session in all sessions is' , round(5167409/(830360+5167409),2))"
   ]
  },
  {
   "cell_type": "code",
   "execution_count": 42,
   "metadata": {
    "ExecuteTime": {
     "end_time": "2019-02-18T23:05:15.646804Z",
     "start_time": "2019-02-18T23:05:15.326400Z"
    }
   },
   "outputs": [
    {
     "data": {
      "text/plain": [
       "True     5165730\n",
       "False     832039\n",
       "Name: is_session, dtype: int64"
      ]
     },
     "execution_count": 42,
     "metadata": {},
     "output_type": "execute_result"
    }
   ],
   "source": [
    "df.is_session.value_counts()"
   ]
  },
  {
   "cell_type": "code",
   "execution_count": 71,
   "metadata": {
    "ExecuteTime": {
     "end_time": "2019-02-18T23:18:01.310283Z",
     "start_time": "2019-02-18T23:18:01.307268Z"
    }
   },
   "outputs": [
    {
     "name": "stdout",
     "output_type": "stream",
     "text": [
      "The percentage of online session in all sessions is 0.86\n"
     ]
    }
   ],
   "source": [
    "print('The percentage of online session in all sessions is' , round(5165730/(832039+5165730),2))"
   ]
  },
  {
   "cell_type": "code",
   "execution_count": 60,
   "metadata": {
    "ExecuteTime": {
     "end_time": "2019-02-18T23:09:18.632063Z",
     "start_time": "2019-02-18T23:09:18.218816Z"
    }
   },
   "outputs": [],
   "source": [
    "country = df.country.value_counts().nlargest(10)"
   ]
  },
  {
   "cell_type": "code",
   "execution_count": 62,
   "metadata": {
    "ExecuteTime": {
     "end_time": "2019-02-18T23:09:33.654562Z",
     "start_time": "2019-02-18T23:09:33.427799Z"
    }
   },
   "outputs": [
    {
     "data": {
      "text/plain": [
       "<matplotlib.axes._subplots.AxesSubplot at 0x7f8cbccd7208>"
      ]
     },
     "execution_count": 62,
     "metadata": {},
     "output_type": "execute_result"
    },
    {
     "data": {
      "image/png": "[encoded data removed]",
      "text/plain": [
       "<matplotlib.figure.Figure at 0x7f8cbcffb748>"
      ]
     },
     "metadata": {},
     "output_type": "display_data"
    }
   ],
   "source": [
    "country .plot.bar(color = 'SkyBlue')"
   ]
  },
  {
   "cell_type": "markdown",
   "metadata": {},
   "source": [
    "Most users are from US."
   ]
  },
  {
   "cell_type": "code",
   "execution_count": 78,
   "metadata": {
    "ExecuteTime": {
     "end_time": "2019-02-18T23:19:30.682224Z",
     "start_time": "2019-02-18T23:19:30.261161Z"
    },
    "collapsed": true
   },
   "outputs": [],
   "source": [
    "os = df.os_name.value_counts()"
   ]
  },
  {
   "cell_type": "code",
   "execution_count": 79,
   "metadata": {
    "ExecuteTime": {
     "end_time": "2019-02-18T23:19:31.360944Z",
     "start_time": "2019-02-18T23:19:31.170270Z"
    }
   },
   "outputs": [
    {
     "data": {
      "text/plain": [
       "<matplotlib.axes._subplots.AxesSubplot at 0x7f8c7c622d68>"
      ]
     },
     "execution_count": 79,
     "metadata": {},
     "output_type": "execute_result"
    },
    {
     "data": {
      "image/png": "[encoded data removed]",
      "text/plain": [
       "<matplotlib.figure.Figure at 0x7f8c7c5ec278>"
      ]
     },
     "metadata": {},
     "output_type": "display_data"
    }
   ],
   "source": [
    "os.plot.bar(color = 'SkyBlue')"
   ]
  }
 ],
 "metadata": {
  "anaconda-cloud": {},
  "kernelspec": {
   "display_name": "Python [Root]",
   "language": "python",
   "name": "Python [Root]"
  },
  "language_info": {
   "codemirror_mode": {
    "name": "ipython",
    "version": 3
   },
   "file_extension": ".py",
   "mimetype": "text/x-python",
   "name": "python",
   "nbconvert_exporter": "python",
   "pygments_lexer": "ipython3",
   "version": "3.5.2"
  }
 },
 "nbformat": 4,
 "nbformat_minor": 2
}
