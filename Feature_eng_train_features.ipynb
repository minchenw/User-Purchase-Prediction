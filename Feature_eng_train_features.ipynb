{
 "cells": [
  {
   "cell_type": "code",
   "execution_count": 1,
   "metadata": {
    "ExecuteTime": {
     "end_time": "2019-02-22T04:55:41.051314Z",
     "start_time": "2019-02-22T04:55:40.067561Z"
    },
    "collapsed": true
   },
   "outputs": [],
   "source": [
    "import os\n",
    "import boto3 \n",
    "import pandas as pd\n",
    "import scipy.stats"
   ]
  },
  {
   "cell_type": "code",
   "execution_count": 23,
   "metadata": {
    "ExecuteTime": {
     "end_time": "2019-02-22T05:16:15.984310Z",
     "start_time": "2019-02-22T05:15:28.820991Z"
    }
   },
   "outputs": [
    {
     "data": {
      "text/html": [
       "<div>\n",
       "<table border=\"1\" class=\"dataframe\">\n",
       "  <thead>\n",
       "    <tr style=\"text-align: right;\">\n",
       "      <th></th>\n",
       "      <th>Unnamed: 0</th>\n",
       "      <th>session_id</th>\n",
       "      <th>timezone</th>\n",
       "      <th>timezone_offset</th>\n",
       "      <th>previous_sessions_duration</th>\n",
       "      <th>is_user_first_session</th>\n",
       "      <th>is_session</th>\n",
       "      <th>country</th>\n",
       "      <th>region</th>\n",
       "      <th>city</th>\n",
       "      <th>...</th>\n",
       "      <th>locale</th>\n",
       "      <th>os_name</th>\n",
       "      <th>session_index</th>\n",
       "      <th>device_id</th>\n",
       "      <th>user_id_hash</th>\n",
       "      <th>start_dow</th>\n",
       "      <th>start_hour</th>\n",
       "      <th>start_date</th>\n",
       "      <th>create_date</th>\n",
       "      <th>create_session_time</th>\n",
       "    </tr>\n",
       "  </thead>\n",
       "  <tbody>\n",
       "    <tr>\n",
       "      <th>0</th>\n",
       "      <td>0</td>\n",
       "      <td>5558845121177764917</td>\n",
       "      <td>Asia/Manila</td>\n",
       "      <td>28800000.0</td>\n",
       "      <td>25837591</td>\n",
       "      <td>False</td>\n",
       "      <td>True</td>\n",
       "      <td>PH</td>\n",
       "      <td>00</td>\n",
       "      <td>makati</td>\n",
       "      <td>...</td>\n",
       "      <td>en_GB</td>\n",
       "      <td>Android OS</td>\n",
       "      <td>30</td>\n",
       "      <td>546a3d98-d540-4e72-ad82-9ebd64e0839b</td>\n",
       "      <td>9943447915df3a45fd6720a026af905b6da6b56a37701b...</td>\n",
       "      <td>3</td>\n",
       "      <td>1</td>\n",
       "      <td>2018-11-15</td>\n",
       "      <td>2018-10-07</td>\n",
       "      <td>39</td>\n",
       "    </tr>\n",
       "    <tr>\n",
       "      <th>1</th>\n",
       "      <td>1</td>\n",
       "      <td>18781111175537580</td>\n",
       "      <td>Asia/Manila</td>\n",
       "      <td>28800000.0</td>\n",
       "      <td>11343848</td>\n",
       "      <td>False</td>\n",
       "      <td>True</td>\n",
       "      <td>PH</td>\n",
       "      <td>00</td>\n",
       "      <td>makati</td>\n",
       "      <td>...</td>\n",
       "      <td>en_GB</td>\n",
       "      <td>Android OS</td>\n",
       "      <td>10</td>\n",
       "      <td>546a3d98-d540-4e72-ad82-9ebd64e0839b</td>\n",
       "      <td>9943447915df3a45fd6720a026af905b6da6b56a37701b...</td>\n",
       "      <td>3</td>\n",
       "      <td>7</td>\n",
       "      <td>2018-10-11</td>\n",
       "      <td>2018-10-07</td>\n",
       "      <td>4</td>\n",
       "    </tr>\n",
       "    <tr>\n",
       "      <th>2</th>\n",
       "      <td>2</td>\n",
       "      <td>1477540082628742048</td>\n",
       "      <td>Asia/Manila</td>\n",
       "      <td>28800000.0</td>\n",
       "      <td>13499724</td>\n",
       "      <td>False</td>\n",
       "      <td>True</td>\n",
       "      <td>PH</td>\n",
       "      <td>11</td>\n",
       "      <td>davao city</td>\n",
       "      <td>...</td>\n",
       "      <td>en_GB</td>\n",
       "      <td>Android OS</td>\n",
       "      <td>13</td>\n",
       "      <td>546a3d98-d540-4e72-ad82-9ebd64e0839b</td>\n",
       "      <td>9943447915df3a45fd6720a026af905b6da6b56a37701b...</td>\n",
       "      <td>6</td>\n",
       "      <td>19</td>\n",
       "      <td>2018-10-21</td>\n",
       "      <td>2018-10-07</td>\n",
       "      <td>14</td>\n",
       "    </tr>\n",
       "    <tr>\n",
       "      <th>3</th>\n",
       "      <td>3</td>\n",
       "      <td>8184875317380844086</td>\n",
       "      <td>Asia/Manila</td>\n",
       "      <td>28800000.0</td>\n",
       "      <td>32788010</td>\n",
       "      <td>False</td>\n",
       "      <td>True</td>\n",
       "      <td>PH</td>\n",
       "      <td>00</td>\n",
       "      <td>makati</td>\n",
       "      <td>...</td>\n",
       "      <td>en_GB</td>\n",
       "      <td>Android OS</td>\n",
       "      <td>41</td>\n",
       "      <td>546a3d98-d540-4e72-ad82-9ebd64e0839b</td>\n",
       "      <td>9943447915df3a45fd6720a026af905b6da6b56a37701b...</td>\n",
       "      <td>1</td>\n",
       "      <td>7</td>\n",
       "      <td>2018-11-20</td>\n",
       "      <td>2018-10-07</td>\n",
       "      <td>44</td>\n",
       "    </tr>\n",
       "    <tr>\n",
       "      <th>4</th>\n",
       "      <td>4</td>\n",
       "      <td>4706180700083856343</td>\n",
       "      <td>Asia/Manila</td>\n",
       "      <td>28800000.0</td>\n",
       "      <td>5872534</td>\n",
       "      <td>False</td>\n",
       "      <td>True</td>\n",
       "      <td>PH</td>\n",
       "      <td>11</td>\n",
       "      <td>davao city</td>\n",
       "      <td>...</td>\n",
       "      <td>en_GB</td>\n",
       "      <td>Android OS</td>\n",
       "      <td>4</td>\n",
       "      <td>546a3d98-d540-4e72-ad82-9ebd64e0839b</td>\n",
       "      <td>9943447915df3a45fd6720a026af905b6da6b56a37701b...</td>\n",
       "      <td>0</td>\n",
       "      <td>19</td>\n",
       "      <td>2018-10-08</td>\n",
       "      <td>2018-10-07</td>\n",
       "      <td>1</td>\n",
       "    </tr>\n",
       "  </tbody>\n",
       "</table>\n",
       "<p>5 rows × 22 columns</p>\n",
       "</div>"
      ],
      "text/plain": [
       "   Unnamed: 0           session_id     timezone  timezone_offset  \\\n",
       "0           0  5558845121177764917  Asia/Manila       28800000.0   \n",
       "1           1    18781111175537580  Asia/Manila       28800000.0   \n",
       "2           2  1477540082628742048  Asia/Manila       28800000.0   \n",
       "3           3  8184875317380844086  Asia/Manila       28800000.0   \n",
       "4           4  4706180700083856343  Asia/Manila       28800000.0   \n",
       "\n",
       "   previous_sessions_duration is_user_first_session is_session country region  \\\n",
       "0                    25837591                 False       True      PH     00   \n",
       "1                    11343848                 False       True      PH     00   \n",
       "2                    13499724                 False       True      PH     11   \n",
       "3                    32788010                 False       True      PH     00   \n",
       "4                     5872534                 False       True      PH     11   \n",
       "\n",
       "         city         ...          locale     os_name session_index  \\\n",
       "0      makati         ...           en_GB  Android OS            30   \n",
       "1      makati         ...           en_GB  Android OS            10   \n",
       "2  davao city         ...           en_GB  Android OS            13   \n",
       "3      makati         ...           en_GB  Android OS            41   \n",
       "4  davao city         ...           en_GB  Android OS             4   \n",
       "\n",
       "                              device_id  \\\n",
       "0  546a3d98-d540-4e72-ad82-9ebd64e0839b   \n",
       "1  546a3d98-d540-4e72-ad82-9ebd64e0839b   \n",
       "2  546a3d98-d540-4e72-ad82-9ebd64e0839b   \n",
       "3  546a3d98-d540-4e72-ad82-9ebd64e0839b   \n",
       "4  546a3d98-d540-4e72-ad82-9ebd64e0839b   \n",
       "\n",
       "                                        user_id_hash start_dow start_hour  \\\n",
       "0  9943447915df3a45fd6720a026af905b6da6b56a37701b...         3          1   \n",
       "1  9943447915df3a45fd6720a026af905b6da6b56a37701b...         3          7   \n",
       "2  9943447915df3a45fd6720a026af905b6da6b56a37701b...         6         19   \n",
       "3  9943447915df3a45fd6720a026af905b6da6b56a37701b...         1          7   \n",
       "4  9943447915df3a45fd6720a026af905b6da6b56a37701b...         0         19   \n",
       "\n",
       "   start_date  create_date create_session_time  \n",
       "0  2018-11-15   2018-10-07                  39  \n",
       "1  2018-10-11   2018-10-07                   4  \n",
       "2  2018-10-21   2018-10-07                  14  \n",
       "3  2018-11-20   2018-10-07                  44  \n",
       "4  2018-10-08   2018-10-07                   1  \n",
       "\n",
       "[5 rows x 22 columns]"
      ]
     },
     "execution_count": 23,
     "metadata": {},
     "output_type": "execute_result"
    }
   ],
   "source": [
    "bucket_name = 'advanced-ml-project' # Add your bucket name\n",
    "file_name = 'sessions_train.csv'\n",
    "s3 = boto3.client('s3')\n",
    "obj = s3.get_object(Bucket=bucket_name, Key=file_name) # S3 uses key-value structure where key is your file name\n",
    "df_train = pd.read_csv(obj['Body'])\n",
    "df_train.head()"
   ]
  },
  {
   "cell_type": "code",
   "execution_count": null,
   "metadata": {
    "ExecuteTime": {
     "end_time": "2019-02-22T02:59:08.086514Z",
     "start_time": "2019-02-22T02:59:03.709898Z"
    },
    "collapsed": true,
    "scrolled": true
   },
   "outputs": [],
   "source": [
    "bucket_name = 'advanced-ml-project' # Add your bucket name\n",
    "file_name = 'train_feature2.csv'\n",
    "s3 = boto3.client('s3')\n",
    "obj = s3.get_object(Bucket=bucket_name, Key=file_name) # S3 uses key-value structure where key is your file name\n",
    "train_feature = pd.read_csv(obj['Body'])\n",
    "train_feature.head()"
   ]
  },
  {
   "cell_type": "markdown",
   "metadata": {},
   "source": [
    "### Time_stamp"
   ]
  },
  {
   "cell_type": "markdown",
   "metadata": {},
   "source": [
    "* aggregate features - user-level"
   ]
  },
  {
   "cell_type": "code",
   "execution_count": 4,
   "metadata": {
    "ExecuteTime": {
     "end_time": "2019-02-22T04:56:54.657029Z",
     "start_time": "2019-02-22T04:56:53.961758Z"
    },
    "collapsed": true
   },
   "outputs": [],
   "source": [
    "df_train = df_train.drop(['Unnamed: 0'], axis=1)"
   ]
  },
  {
   "cell_type": "code",
   "execution_count": 5,
   "metadata": {
    "ExecuteTime": {
     "end_time": "2019-02-22T04:56:55.222722Z",
     "start_time": "2019-02-22T04:56:55.187970Z"
    }
   },
   "outputs": [
    {
     "data": {
      "text/html": [
       "<div>\n",
       "<table border=\"1\" class=\"dataframe\">\n",
       "  <thead>\n",
       "    <tr style=\"text-align: right;\">\n",
       "      <th></th>\n",
       "      <th>session_id</th>\n",
       "      <th>timezone</th>\n",
       "      <th>timezone_offset</th>\n",
       "      <th>previous_sessions_duration</th>\n",
       "      <th>is_user_first_session</th>\n",
       "      <th>is_session</th>\n",
       "      <th>country</th>\n",
       "      <th>region</th>\n",
       "      <th>city</th>\n",
       "      <th>latitude</th>\n",
       "      <th>...</th>\n",
       "      <th>locale</th>\n",
       "      <th>os_name</th>\n",
       "      <th>session_index</th>\n",
       "      <th>device_id</th>\n",
       "      <th>user_id_hash</th>\n",
       "      <th>start_dow</th>\n",
       "      <th>start_hour</th>\n",
       "      <th>start_date</th>\n",
       "      <th>create_date</th>\n",
       "      <th>create_session_time</th>\n",
       "    </tr>\n",
       "  </thead>\n",
       "  <tbody>\n",
       "    <tr>\n",
       "      <th>0</th>\n",
       "      <td>5558845121177764917</td>\n",
       "      <td>Asia/Manila</td>\n",
       "      <td>28800000.0</td>\n",
       "      <td>25837591</td>\n",
       "      <td>False</td>\n",
       "      <td>True</td>\n",
       "      <td>PH</td>\n",
       "      <td>00</td>\n",
       "      <td>makati</td>\n",
       "      <td>14.554729</td>\n",
       "      <td>...</td>\n",
       "      <td>en_GB</td>\n",
       "      <td>Android OS</td>\n",
       "      <td>30</td>\n",
       "      <td>546a3d98-d540-4e72-ad82-9ebd64e0839b</td>\n",
       "      <td>9943447915df3a45fd6720a026af905b6da6b56a37701b...</td>\n",
       "      <td>3</td>\n",
       "      <td>1</td>\n",
       "      <td>2018-11-15</td>\n",
       "      <td>2018-10-07</td>\n",
       "      <td>39</td>\n",
       "    </tr>\n",
       "    <tr>\n",
       "      <th>1</th>\n",
       "      <td>18781111175537580</td>\n",
       "      <td>Asia/Manila</td>\n",
       "      <td>28800000.0</td>\n",
       "      <td>11343848</td>\n",
       "      <td>False</td>\n",
       "      <td>True</td>\n",
       "      <td>PH</td>\n",
       "      <td>00</td>\n",
       "      <td>makati</td>\n",
       "      <td>14.554729</td>\n",
       "      <td>...</td>\n",
       "      <td>en_GB</td>\n",
       "      <td>Android OS</td>\n",
       "      <td>10</td>\n",
       "      <td>546a3d98-d540-4e72-ad82-9ebd64e0839b</td>\n",
       "      <td>9943447915df3a45fd6720a026af905b6da6b56a37701b...</td>\n",
       "      <td>3</td>\n",
       "      <td>7</td>\n",
       "      <td>2018-10-11</td>\n",
       "      <td>2018-10-07</td>\n",
       "      <td>4</td>\n",
       "    </tr>\n",
       "    <tr>\n",
       "      <th>2</th>\n",
       "      <td>1477540082628742048</td>\n",
       "      <td>Asia/Manila</td>\n",
       "      <td>28800000.0</td>\n",
       "      <td>13499724</td>\n",
       "      <td>False</td>\n",
       "      <td>True</td>\n",
       "      <td>PH</td>\n",
       "      <td>11</td>\n",
       "      <td>davao city</td>\n",
       "      <td>7.190708</td>\n",
       "      <td>...</td>\n",
       "      <td>en_GB</td>\n",
       "      <td>Android OS</td>\n",
       "      <td>13</td>\n",
       "      <td>546a3d98-d540-4e72-ad82-9ebd64e0839b</td>\n",
       "      <td>9943447915df3a45fd6720a026af905b6da6b56a37701b...</td>\n",
       "      <td>6</td>\n",
       "      <td>19</td>\n",
       "      <td>2018-10-21</td>\n",
       "      <td>2018-10-07</td>\n",
       "      <td>14</td>\n",
       "    </tr>\n",
       "    <tr>\n",
       "      <th>3</th>\n",
       "      <td>8184875317380844086</td>\n",
       "      <td>Asia/Manila</td>\n",
       "      <td>28800000.0</td>\n",
       "      <td>32788010</td>\n",
       "      <td>False</td>\n",
       "      <td>True</td>\n",
       "      <td>PH</td>\n",
       "      <td>00</td>\n",
       "      <td>makati</td>\n",
       "      <td>14.554729</td>\n",
       "      <td>...</td>\n",
       "      <td>en_GB</td>\n",
       "      <td>Android OS</td>\n",
       "      <td>41</td>\n",
       "      <td>546a3d98-d540-4e72-ad82-9ebd64e0839b</td>\n",
       "      <td>9943447915df3a45fd6720a026af905b6da6b56a37701b...</td>\n",
       "      <td>1</td>\n",
       "      <td>7</td>\n",
       "      <td>2018-11-20</td>\n",
       "      <td>2018-10-07</td>\n",
       "      <td>44</td>\n",
       "    </tr>\n",
       "    <tr>\n",
       "      <th>4</th>\n",
       "      <td>4706180700083856343</td>\n",
       "      <td>Asia/Manila</td>\n",
       "      <td>28800000.0</td>\n",
       "      <td>5872534</td>\n",
       "      <td>False</td>\n",
       "      <td>True</td>\n",
       "      <td>PH</td>\n",
       "      <td>11</td>\n",
       "      <td>davao city</td>\n",
       "      <td>7.190708</td>\n",
       "      <td>...</td>\n",
       "      <td>en_GB</td>\n",
       "      <td>Android OS</td>\n",
       "      <td>4</td>\n",
       "      <td>546a3d98-d540-4e72-ad82-9ebd64e0839b</td>\n",
       "      <td>9943447915df3a45fd6720a026af905b6da6b56a37701b...</td>\n",
       "      <td>0</td>\n",
       "      <td>19</td>\n",
       "      <td>2018-10-08</td>\n",
       "      <td>2018-10-07</td>\n",
       "      <td>1</td>\n",
       "    </tr>\n",
       "  </tbody>\n",
       "</table>\n",
       "<p>5 rows × 21 columns</p>\n",
       "</div>"
      ],
      "text/plain": [
       "            session_id     timezone  timezone_offset  \\\n",
       "0  5558845121177764917  Asia/Manila       28800000.0   \n",
       "1    18781111175537580  Asia/Manila       28800000.0   \n",
       "2  1477540082628742048  Asia/Manila       28800000.0   \n",
       "3  8184875317380844086  Asia/Manila       28800000.0   \n",
       "4  4706180700083856343  Asia/Manila       28800000.0   \n",
       "\n",
       "   previous_sessions_duration is_user_first_session is_session country region  \\\n",
       "0                    25837591                 False       True      PH     00   \n",
       "1                    11343848                 False       True      PH     00   \n",
       "2                    13499724                 False       True      PH     11   \n",
       "3                    32788010                 False       True      PH     00   \n",
       "4                     5872534                 False       True      PH     11   \n",
       "\n",
       "         city   latitude         ...          locale     os_name  \\\n",
       "0      makati  14.554729         ...           en_GB  Android OS   \n",
       "1      makati  14.554729         ...           en_GB  Android OS   \n",
       "2  davao city   7.190708         ...           en_GB  Android OS   \n",
       "3      makati  14.554729         ...           en_GB  Android OS   \n",
       "4  davao city   7.190708         ...           en_GB  Android OS   \n",
       "\n",
       "  session_index                             device_id  \\\n",
       "0            30  546a3d98-d540-4e72-ad82-9ebd64e0839b   \n",
       "1            10  546a3d98-d540-4e72-ad82-9ebd64e0839b   \n",
       "2            13  546a3d98-d540-4e72-ad82-9ebd64e0839b   \n",
       "3            41  546a3d98-d540-4e72-ad82-9ebd64e0839b   \n",
       "4             4  546a3d98-d540-4e72-ad82-9ebd64e0839b   \n",
       "\n",
       "                                        user_id_hash start_dow  start_hour  \\\n",
       "0  9943447915df3a45fd6720a026af905b6da6b56a37701b...         3           1   \n",
       "1  9943447915df3a45fd6720a026af905b6da6b56a37701b...         3           7   \n",
       "2  9943447915df3a45fd6720a026af905b6da6b56a37701b...         6          19   \n",
       "3  9943447915df3a45fd6720a026af905b6da6b56a37701b...         1           7   \n",
       "4  9943447915df3a45fd6720a026af905b6da6b56a37701b...         0          19   \n",
       "\n",
       "   start_date create_date create_session_time  \n",
       "0  2018-11-15  2018-10-07                  39  \n",
       "1  2018-10-11  2018-10-07                   4  \n",
       "2  2018-10-21  2018-10-07                  14  \n",
       "3  2018-11-20  2018-10-07                  44  \n",
       "4  2018-10-08  2018-10-07                   1  \n",
       "\n",
       "[5 rows x 21 columns]"
      ]
     },
     "execution_count": 5,
     "metadata": {},
     "output_type": "execute_result"
    }
   ],
   "source": [
    "df_train.head()"
   ]
  },
  {
   "cell_type": "code",
   "execution_count": null,
   "metadata": {
    "ExecuteTime": {
     "end_time": "2019-02-18T18:40:58.890721Z",
     "start_time": "2019-02-18T18:40:55.839434Z"
    },
    "collapsed": true
   },
   "outputs": [],
   "source": [
    "pd.isnull(df_train).any()"
   ]
  },
  {
   "cell_type": "code",
   "execution_count": null,
   "metadata": {
    "ExecuteTime": {
     "end_time": "2019-02-18T07:42:34.378969Z",
     "start_time": "2019-02-18T07:42:34.200422Z"
    },
    "collapsed": true
   },
   "outputs": [],
   "source": [
    "train_feature = pd.DataFrame(df_train.user_id_hash.unique(), columns=['user_id_hash'])"
   ]
  },
  {
   "cell_type": "code",
   "execution_count": null,
   "metadata": {
    "ExecuteTime": {
     "end_time": "2019-02-18T07:45:31.578716Z",
     "start_time": "2019-02-18T07:43:01.299204Z"
    },
    "collapsed": true
   },
   "outputs": [],
   "source": [
    "train_feature['most_freq_dow'] = train_feature.user_id_hash.map(df_train.groupby('user_id_hash').start_dow.agg(lambda x: x.value_counts().index[0]))"
   ]
  },
  {
   "cell_type": "code",
   "execution_count": null,
   "metadata": {
    "ExecuteTime": {
     "end_time": "2019-02-18T07:49:05.344998Z",
     "start_time": "2019-02-18T07:46:32.789453Z"
    },
    "collapsed": true
   },
   "outputs": [],
   "source": [
    "train_feature['most_freq_hour'] = train_feature.user_id_hash.map(df_train.groupby('user_id_hash').start_hour.agg(lambda x: x.value_counts().index[0]))"
   ]
  },
  {
   "cell_type": "code",
   "execution_count": null,
   "metadata": {
    "ExecuteTime": {
     "end_time": "2019-02-18T07:49:06.504235Z",
     "start_time": "2019-02-18T07:49:05.346311Z"
    },
    "collapsed": true
   },
   "outputs": [],
   "source": [
    "train_feature['median_create_session_time'] = train_feature.user_id_hash.map(df_train.groupby('user_id_hash').create_session_time.median())"
   ]
  },
  {
   "cell_type": "code",
   "execution_count": null,
   "metadata": {
    "ExecuteTime": {
     "end_time": "2019-02-22T02:59:54.284688Z",
     "start_time": "2019-02-22T02:59:54.281242Z"
    },
    "collapsed": true
   },
   "outputs": [],
   "source": [
    "# seems no much use\n",
    "def ent(data):\n",
    "    p_data = data.value_counts()/len(data)  # calculates the probabilities\n",
    "    # input probabilities to get the entropy\n",
    "    entropy = scipy.stats.entropy(p_data)\n",
    "    return entropy"
   ]
  },
  {
   "cell_type": "code",
   "execution_count": null,
   "metadata": {
    "ExecuteTime": {
     "end_time": "2019-02-22T03:09:45.496231Z",
     "start_time": "2019-02-22T03:03:28.152912Z"
    },
    "collapsed": true
   },
   "outputs": [],
   "source": [
    "train_feature['user_entropy'] = train_feature.user_id_hash.map(df_train.groupby('user_id_hash').session_id.apply(ent))"
   ]
  },
  {
   "cell_type": "code",
   "execution_count": null,
   "metadata": {
    "ExecuteTime": {
     "end_time": "2019-02-22T03:09:55.590403Z",
     "start_time": "2019-02-22T03:09:55.547306Z"
    },
    "collapsed": true
   },
   "outputs": [],
   "source": [
    "train_feature.head()"
   ]
  },
  {
   "cell_type": "markdown",
   "metadata": {},
   "source": [
    "### session "
   ]
  },
  {
   "cell_type": "markdown",
   "metadata": {
    "ExecuteTime": {
     "end_time": "2019-02-18T07:50:19.598066Z",
     "start_time": "2019-02-18T07:50:19.595785Z"
    },
    "collapsed": true
   },
   "source": [
    "* study more on user session properties to get duration, interval and frequency features."
   ]
  },
  {
   "cell_type": "code",
   "execution_count": null,
   "metadata": {
    "ExecuteTime": {
     "end_time": "2019-02-20T19:46:10.638242Z",
     "start_time": "2019-02-20T19:45:56.942389Z"
    },
    "collapsed": true
   },
   "outputs": [],
   "source": [
    "train_feature['session_count'] = train_feature.user_id_hash.map(df_train.groupby('user_id_hash').session_index.agg(lambda x: max(x)))"
   ]
  },
  {
   "cell_type": "code",
   "execution_count": null,
   "metadata": {
    "ExecuteTime": {
     "end_time": "2019-02-18T07:50:44.622026Z",
     "start_time": "2019-02-18T07:50:43.593368Z"
    },
    "collapsed": true
   },
   "outputs": [],
   "source": [
    "train_feature['session_durations'] = train_feature.user_id_hash.map(df_train.groupby('user_id_hash').previous_sessions_duration.sum())"
   ]
  },
  {
   "cell_type": "code",
   "execution_count": null,
   "metadata": {
    "ExecuteTime": {
     "end_time": "2019-02-20T19:46:12.804488Z",
     "start_time": "2019-02-20T19:46:12.767913Z"
    },
    "collapsed": true
   },
   "outputs": [],
   "source": [
    "train_feature['mean_session_durations'] = train_feature.session_durations/train_feature.session_count"
   ]
  },
  {
   "cell_type": "code",
   "execution_count": null,
   "metadata": {
    "ExecuteTime": {
     "end_time": "2019-02-20T19:46:13.195831Z",
     "start_time": "2019-02-20T19:46:13.187199Z"
    },
    "collapsed": true
   },
   "outputs": [],
   "source": [
    "train_feature['mean_session_interval'] = train_feature.median_create_session_time/train_feature.session_count"
   ]
  },
  {
   "cell_type": "code",
   "execution_count": null,
   "metadata": {
    "ExecuteTime": {
     "end_time": "2019-02-20T19:46:23.890044Z",
     "start_time": "2019-02-20T19:46:23.884424Z"
    },
    "collapsed": true
   },
   "outputs": [],
   "source": [
    "import numpy as np\n",
    "train_feature['mean_session_interval'].replace(np.inf, 0, inplace=True)"
   ]
  },
  {
   "cell_type": "code",
   "execution_count": null,
   "metadata": {
    "ExecuteTime": {
     "end_time": "2019-02-20T19:46:43.092965Z",
     "start_time": "2019-02-20T19:46:34.699446Z"
    },
    "collapsed": true
   },
   "outputs": [],
   "source": [
    "date_info = df_train.groupby('user_id_hash').start_date.nunique()\n",
    "train_feature['active_date'] = train_feature.user_id_hash.map(date_info)\n",
    "train_feature.active_date = train_feature.active_date.fillna(train_feature['active_date'].value_counts().index[0])\n",
    "train_feature['session_per_active_day'] = train_feature.session_count.div(train_feature.active_date)\n",
    "train_feature['purchase_per_active_day'] = train_feature.purchase_counts.div(train_feature.active_date)"
   ]
  },
  {
   "cell_type": "code",
   "execution_count": null,
   "metadata": {
    "ExecuteTime": {
     "end_time": "2019-02-20T19:46:46.940736Z",
     "start_time": "2019-02-20T19:46:44.453072Z"
    },
    "collapsed": true
   },
   "outputs": [],
   "source": [
    "create_time = df_train.groupby('user_id_hash').create_session_time.max()\n",
    "train_feature['create_time'] = train_feature.user_id_hash.map(create_time)\n",
    "train_feature.create_time = train_feature.create_time.fillna(train_feature['create_time'].value_counts().index[0])\n",
    "train_feature['session_per_day'] = train_feature.session_count.div(train_feature.create_time)\n",
    "train_feature['purchase_per_day'] = train_feature.purchase_counts.div(train_feature.create_time)"
   ]
  },
  {
   "cell_type": "code",
   "execution_count": null,
   "metadata": {
    "ExecuteTime": {
     "end_time": "2019-02-20T19:46:47.034224Z",
     "start_time": "2019-02-20T19:46:46.942645Z"
    },
    "collapsed": true
   },
   "outputs": [],
   "source": [
    "train_feature = train_feature.drop(['active_date','create_time'], axis=1)"
   ]
  },
  {
   "cell_type": "code",
   "execution_count": null,
   "metadata": {
    "ExecuteTime": {
     "end_time": "2019-02-20T19:46:47.783539Z",
     "start_time": "2019-02-20T19:46:47.756192Z"
    },
    "collapsed": true
   },
   "outputs": [],
   "source": [
    "train_feature.purchase_per_day  = train_feature.purchase_per_day .fillna(train_feature['purchase_per_day'].value_counts().index[0])"
   ]
  },
  {
   "cell_type": "code",
   "execution_count": null,
   "metadata": {
    "ExecuteTime": {
     "end_time": "2019-02-22T03:24:36.191233Z",
     "start_time": "2019-02-22T03:23:27.328789Z"
    },
    "collapsed": true
   },
   "outputs": [],
   "source": [
    "# the day interval between the latest session day and pred day\n",
    "# useful\n",
    "df_train['start_date'] = pd.to_datetime(df_train['start_date'])\n",
    "df_train ['pred_time'] = '2018-12-1'\n",
    "df_train ['pred_time'] = pd.to_datetime(df_train ['pred_time'])\n",
    "df_train ['date_interval'] = df_train['pred_time']-df_train['start_date']\n",
    "df_train['last_session_time'] = df_train.date_interval.apply(lambda x: int(str(x).split(' ')[0]))"
   ]
  },
  {
   "cell_type": "code",
   "execution_count": null,
   "metadata": {
    "ExecuteTime": {
     "end_time": "2019-02-22T03:25:58.523345Z",
     "start_time": "2019-02-22T03:25:57.442012Z"
    },
    "collapsed": true
   },
   "outputs": [],
   "source": [
    "df_train = df_train.drop(['pred_time','date_interval'], axis=1)"
   ]
  },
  {
   "cell_type": "code",
   "execution_count": null,
   "metadata": {
    "ExecuteTime": {
     "end_time": "2019-02-22T03:26:13.851519Z",
     "start_time": "2019-02-22T03:26:11.425903Z"
    },
    "collapsed": true
   },
   "outputs": [],
   "source": [
    "train_feature['last_session_time'] = train_feature.user_id_hash.map(df_train.groupby('user_id_hash').last_session_time.min())"
   ]
  },
  {
   "cell_type": "code",
   "execution_count": null,
   "metadata": {
    "ExecuteTime": {
     "end_time": "2019-02-22T03:26:16.126569Z",
     "start_time": "2019-02-22T03:26:16.083409Z"
    },
    "collapsed": true
   },
   "outputs": [],
   "source": [
    "train_feature.head()"
   ]
  },
  {
   "cell_type": "markdown",
   "metadata": {},
   "source": [
    "### join events info to get more features"
   ]
  },
  {
   "cell_type": "code",
   "execution_count": 28,
   "metadata": {
    "ExecuteTime": {
     "end_time": "2019-02-22T05:38:11.697091Z",
     "start_time": "2019-02-22T05:20:09.604396Z"
    },
    "scrolled": true
   },
   "outputs": [
    {
     "data": {
      "text/html": [
       "<div>\n",
       "<table border=\"1\" class=\"dataframe\">\n",
       "  <thead>\n",
       "    <tr style=\"text-align: right;\">\n",
       "      <th></th>\n",
       "      <th>app_id</th>\n",
       "      <th>session_id</th>\n",
       "      <th>event</th>\n",
       "      <th>event_timestamp</th>\n",
       "      <th>event_value</th>\n",
       "      <th>user_id_hash</th>\n",
       "    </tr>\n",
       "  </thead>\n",
       "  <tbody>\n",
       "    <tr>\n",
       "      <th>0</th>\n",
       "      <td>4724682771660800</td>\n",
       "      <td>5558845121177764917</td>\n",
       "      <td>45</td>\n",
       "      <td>1542215397132</td>\n",
       "      <td>0.0</td>\n",
       "      <td>9943447915df3a45fd6720a026af905b6da6b56a37701b...</td>\n",
       "    </tr>\n",
       "    <tr>\n",
       "      <th>1</th>\n",
       "      <td>4724682771660800</td>\n",
       "      <td>5558845121177764917</td>\n",
       "      <td>45</td>\n",
       "      <td>1542215484895</td>\n",
       "      <td>0.0</td>\n",
       "      <td>9943447915df3a45fd6720a026af905b6da6b56a37701b...</td>\n",
       "    </tr>\n",
       "    <tr>\n",
       "      <th>2</th>\n",
       "      <td>4724682771660800</td>\n",
       "      <td>7689508378645584666</td>\n",
       "      <td>.m5100869650219008</td>\n",
       "      <td>1541124410372</td>\n",
       "      <td>0.0</td>\n",
       "      <td>9943447915df3a45fd6720a026af905b6da6b56a37701b...</td>\n",
       "    </tr>\n",
       "    <tr>\n",
       "      <th>3</th>\n",
       "      <td>4724682771660800</td>\n",
       "      <td>2201961907282901522</td>\n",
       "      <td>4</td>\n",
       "      <td>1543713091129</td>\n",
       "      <td>0.0</td>\n",
       "      <td>9943447915df3a45fd6720a026af905b6da6b56a37701b...</td>\n",
       "    </tr>\n",
       "    <tr>\n",
       "      <th>4</th>\n",
       "      <td>4724682771660800</td>\n",
       "      <td>2201961907282901522</td>\n",
       "      <td>6</td>\n",
       "      <td>1543713093116</td>\n",
       "      <td>0.0</td>\n",
       "      <td>9943447915df3a45fd6720a026af905b6da6b56a37701b...</td>\n",
       "    </tr>\n",
       "  </tbody>\n",
       "</table>\n",
       "</div>"
      ],
      "text/plain": [
       "             app_id           session_id               event  event_timestamp  \\\n",
       "0  4724682771660800  5558845121177764917                  45    1542215397132   \n",
       "1  4724682771660800  5558845121177764917                  45    1542215484895   \n",
       "2  4724682771660800  7689508378645584666  .m5100869650219008    1541124410372   \n",
       "3  4724682771660800  2201961907282901522                   4    1543713091129   \n",
       "4  4724682771660800  2201961907282901522                   6    1543713093116   \n",
       "\n",
       "   event_value                                       user_id_hash  \n",
       "0          0.0  9943447915df3a45fd6720a026af905b6da6b56a37701b...  \n",
       "1          0.0  9943447915df3a45fd6720a026af905b6da6b56a37701b...  \n",
       "2          0.0  9943447915df3a45fd6720a026af905b6da6b56a37701b...  \n",
       "3          0.0  9943447915df3a45fd6720a026af905b6da6b56a37701b...  \n",
       "4          0.0  9943447915df3a45fd6720a026af905b6da6b56a37701b...  "
      ]
     },
     "execution_count": 28,
     "metadata": {},
     "output_type": "execute_result"
    }
   ],
   "source": [
    "file_name = 'events.csv'\n",
    "s3 = boto3.client('s3')\n",
    "obj = s3.get_object(Bucket=bucket_name, Key=file_name) # S3 uses key-value structure where key is your file name\n",
    "event = pd.read_csv(obj['Body'])\n",
    "event.head()"
   ]
  },
  {
   "cell_type": "code",
   "execution_count": 29,
   "metadata": {
    "ExecuteTime": {
     "end_time": "2019-02-22T05:38:23.228543Z",
     "start_time": "2019-02-22T05:38:18.264716Z"
    },
    "collapsed": true
   },
   "outputs": [],
   "source": [
    "purchase_event = event[event['event']=='8']"
   ]
  },
  {
   "cell_type": "code",
   "execution_count": 30,
   "metadata": {
    "ExecuteTime": {
     "end_time": "2019-02-22T05:38:25.487098Z",
     "start_time": "2019-02-22T05:38:25.291859Z"
    },
    "collapsed": true
   },
   "outputs": [],
   "source": [
    "last_purchase_time = purchase_event.groupby('session_id', as_index=False).event_timestamp.max().rename(columns={'event_timestamp':'last_purchase_time'})\n",
    "df_event = purchase_event.groupby('session_id',as_index=False).app_id.count().rename(columns={'app_id':'purchase_counts'})\n",
    "purchase_time = purchase_event.groupby('session_id',as_index=False).event_timestamp.median().rename(columns={'event_timestamp':'purchase_time'})\n",
    "total_amount = purchase_event.groupby('session_id', as_index=False).event_value.sum().rename(columns={'event_value':'total_amount'})"
   ]
  },
  {
   "cell_type": "code",
   "execution_count": 31,
   "metadata": {
    "ExecuteTime": {
     "end_time": "2019-02-22T05:38:26.924901Z",
     "start_time": "2019-02-22T05:38:26.793703Z"
    },
    "collapsed": true
   },
   "outputs": [],
   "source": [
    "# get session level purchase count and purchase time info\n",
    "df_event2 = pd.merge(df_event, purchase_time, how='left', on=['session_id'])\n",
    "df_event2 = pd.merge(df_event2, last_purchase_time, how='left', on=['session_id'])\n",
    "df_event2 = pd.merge(df_event2, total_amount, how='left', on=['session_id'])"
   ]
  },
  {
   "cell_type": "code",
   "execution_count": 32,
   "metadata": {
    "ExecuteTime": {
     "end_time": "2019-02-22T05:38:28.234017Z",
     "start_time": "2019-02-22T05:38:28.224143Z"
    }
   },
   "outputs": [
    {
     "data": {
      "text/html": [
       "<div>\n",
       "<table border=\"1\" class=\"dataframe\">\n",
       "  <thead>\n",
       "    <tr style=\"text-align: right;\">\n",
       "      <th></th>\n",
       "      <th>session_id</th>\n",
       "      <th>purchase_counts</th>\n",
       "      <th>purchase_time</th>\n",
       "      <th>last_purchase_time</th>\n",
       "      <th>total_amount</th>\n",
       "    </tr>\n",
       "  </thead>\n",
       "  <tbody>\n",
       "    <tr>\n",
       "      <th>0</th>\n",
       "      <td>44097414271980</td>\n",
       "      <td>1</td>\n",
       "      <td>1543345213863</td>\n",
       "      <td>1543345213863</td>\n",
       "      <td>13.993</td>\n",
       "    </tr>\n",
       "    <tr>\n",
       "      <th>1</th>\n",
       "      <td>139239025219926</td>\n",
       "      <td>1</td>\n",
       "      <td>1543896256185</td>\n",
       "      <td>1543896256185</td>\n",
       "      <td>3.493</td>\n",
       "    </tr>\n",
       "    <tr>\n",
       "      <th>2</th>\n",
       "      <td>198661066907208</td>\n",
       "      <td>1</td>\n",
       "      <td>1543274061363</td>\n",
       "      <td>1543274061363</td>\n",
       "      <td>3.493</td>\n",
       "    </tr>\n",
       "    <tr>\n",
       "      <th>3</th>\n",
       "      <td>277838121971337</td>\n",
       "      <td>1</td>\n",
       "      <td>1540754187045</td>\n",
       "      <td>1540754187045</td>\n",
       "      <td>3.493</td>\n",
       "    </tr>\n",
       "    <tr>\n",
       "      <th>4</th>\n",
       "      <td>330581615202681</td>\n",
       "      <td>1</td>\n",
       "      <td>1541774849854</td>\n",
       "      <td>1541774849854</td>\n",
       "      <td>1.393</td>\n",
       "    </tr>\n",
       "  </tbody>\n",
       "</table>\n",
       "</div>"
      ],
      "text/plain": [
       "        session_id  purchase_counts  purchase_time  last_purchase_time  \\\n",
       "0   44097414271980                1  1543345213863       1543345213863   \n",
       "1  139239025219926                1  1543896256185       1543896256185   \n",
       "2  198661066907208                1  1543274061363       1543274061363   \n",
       "3  277838121971337                1  1540754187045       1540754187045   \n",
       "4  330581615202681                1  1541774849854       1541774849854   \n",
       "\n",
       "   total_amount  \n",
       "0        13.993  \n",
       "1         3.493  \n",
       "2         3.493  \n",
       "3         3.493  \n",
       "4         1.393  "
      ]
     },
     "execution_count": 32,
     "metadata": {},
     "output_type": "execute_result"
    }
   ],
   "source": [
    "df_event2.head()"
   ]
  },
  {
   "cell_type": "code",
   "execution_count": 33,
   "metadata": {
    "ExecuteTime": {
     "end_time": "2019-02-22T05:38:33.040983Z",
     "start_time": "2019-02-22T05:38:28.718799Z"
    },
    "collapsed": true
   },
   "outputs": [],
   "source": [
    "# based on session train dataframe join event train, thus we only get info\n",
    "df_train2 = pd.merge(df_train,df_event2, how='left', on=['session_id'])"
   ]
  },
  {
   "cell_type": "code",
   "execution_count": null,
   "metadata": {
    "ExecuteTime": {
     "end_time": "2019-02-22T03:58:18.389532Z",
     "start_time": "2019-02-22T03:58:14.244818Z"
    },
    "collapsed": true
   },
   "outputs": [],
   "source": [
    "# user purchase count\n",
    "train_feature['purchase_counts'] = train_feature.user_id_hash.map(df_train2.groupby('user_id_hash').purchase_counts.sum())"
   ]
  },
  {
   "cell_type": "code",
   "execution_count": null,
   "metadata": {
    "ExecuteTime": {
     "end_time": "2019-02-22T03:58:49.198651Z",
     "start_time": "2019-02-22T03:58:49.137406Z"
    },
    "collapsed": true
   },
   "outputs": [],
   "source": [
    "df_train2['purchase_time'] = pd.to_datetime(df_train2.purchase_time + df_train2.timezone_offset, unit='ms')"
   ]
  },
  {
   "cell_type": "code",
   "execution_count": 85,
   "metadata": {
    "ExecuteTime": {
     "end_time": "2019-02-22T03:59:15.853139Z",
     "start_time": "2019-02-22T03:59:15.680420Z"
    },
    "collapsed": true
   },
   "outputs": [],
   "source": [
    "df_train2['purchase_dow'] = df_train2.purchase_time.dt.dayofweek\n",
    "df_train2['purchase_hour'] = df_train2.purchase_time.dt.hour"
   ]
  },
  {
   "cell_type": "code",
   "execution_count": 94,
   "metadata": {
    "ExecuteTime": {
     "end_time": "2019-02-22T04:04:58.970378Z",
     "start_time": "2019-02-22T04:04:43.107437Z"
    },
    "collapsed": true
   },
   "outputs": [],
   "source": [
    "# most frequent purchase dow / hour\n",
    "train_feature['most_frequent_purchase_dow'] = train_feature.user_id_hash.map(df_train2[df_train2.purchase_counts>0].groupby('user_id_hash').purchase_dow.agg(lambda x: x.value_counts().index[0]))\n",
    "train_feature.most_frequent_purchase_dow = train_feature.most_frequent_purchase_dow.fillna(7)"
   ]
  },
  {
   "cell_type": "code",
   "execution_count": null,
   "metadata": {
    "collapsed": true
   },
   "outputs": [],
   "source": [
    "train_feature['most_frequent_purchase_hour'] = train_feature.user_id_hash.map(df_train2[df_train2.purchase_counts>0].groupby('user_id_hash').purchase_hour.agg(lambda x: x.value_counts().index[0]))\n",
    "train_feature.most_frequent_purchase_hour = train_feature.most_frequent_purchase_hour.fillna(24)"
   ]
  },
  {
   "cell_type": "code",
   "execution_count": null,
   "metadata": {
    "collapsed": true
   },
   "outputs": [],
   "source": [
    "train_feature['purchase_perc'] = train_feature.purchase_counts/test_feature.session_count"
   ]
  },
  {
   "cell_type": "code",
   "execution_count": 97,
   "metadata": {
    "ExecuteTime": {
     "end_time": "2019-02-22T04:06:16.583476Z",
     "start_time": "2019-02-22T04:06:14.133312Z"
    },
    "collapsed": true
   },
   "outputs": [],
   "source": [
    "train_feature['total_amount']= train_feature.user_id_hash.map(df_train2.groupby('user_id_hash').total_amount.sum())"
   ]
  },
  {
   "cell_type": "code",
   "execution_count": 103,
   "metadata": {
    "ExecuteTime": {
     "end_time": "2019-02-22T04:12:01.219159Z",
     "start_time": "2019-02-22T04:12:01.043313Z"
    }
   },
   "outputs": [
    {
     "data": {
      "text/plain": [
       "Timedelta('60 days 23:12:10.195000')"
      ]
     },
     "execution_count": 103,
     "metadata": {},
     "output_type": "execute_result"
    }
   ],
   "source": [
    "df_train2.date_interval.max()"
   ]
  },
  {
   "cell_type": "code",
   "execution_count": 106,
   "metadata": {
    "ExecuteTime": {
     "end_time": "2019-02-22T04:14:56.816517Z",
     "start_time": "2019-02-22T04:13:46.095873Z"
    },
    "collapsed": true
   },
   "outputs": [],
   "source": [
    "# the day interval between the latest purchase day and pred day\n",
    "# useful\n",
    "df_train2 ['pred_time'] = '2018-12-1'\n",
    "df_train2 ['pred_time'] = pd.to_datetime(df_train2 ['pred_time'])\n",
    "df_train2 ['date_interval'] = df_train2['pred_time']-df_train2['purchase_time']\n",
    "df_train2.date_interval = df_train2.date_interval.fillna('100 days')\n",
    "df_train2['last_purchase_time'] = df_train2.date_interval.apply(lambda x: int(str(x).split(' ')[0]))"
   ]
  },
  {
   "cell_type": "code",
   "execution_count": 107,
   "metadata": {
    "ExecuteTime": {
     "end_time": "2019-02-22T04:15:21.601093Z",
     "start_time": "2019-02-22T04:15:18.463769Z"
    },
    "collapsed": true
   },
   "outputs": [],
   "source": [
    "train_feature['last_purchase_time'] = train_feature.user_id_hash.map(df_train2.groupby('user_id_hash').last_purchase_time.min())"
   ]
  },
  {
   "cell_type": "code",
   "execution_count": 109,
   "metadata": {
    "ExecuteTime": {
     "end_time": "2019-02-22T04:16:33.396113Z",
     "start_time": "2019-02-22T04:16:33.386465Z"
    },
    "collapsed": true
   },
   "outputs": [],
   "source": [
    "train_feature['purchase_counts'] = train_feature['purchase_counts'].fillna(0)\n",
    "train_feature['total_amount'] = train_feature['total_amount'].fillna(0)"
   ]
  },
  {
   "cell_type": "code",
   "execution_count": null,
   "metadata": {},
   "outputs": [],
   "source": [
    "train_feature['cost_per_purchase'] = (train_feature.total_amount+1).div((train_feature.purchase_counts+1))"
   ]
  },
  {
   "cell_type": "markdown",
   "metadata": {},
   "source": [
    "### geographic"
   ]
  },
  {
   "cell_type": "markdown",
   "metadata": {},
   "source": [
    "* most frequent country/region/city\n",
    "\n",
    "* mean encoding"
   ]
  },
  {
   "cell_type": "code",
   "execution_count": 44,
   "metadata": {
    "ExecuteTime": {
     "end_time": "2019-02-22T06:02:26.768827Z",
     "start_time": "2019-02-22T06:02:26.489204Z"
    }
   },
   "outputs": [
    {
     "data": {
      "text/plain": [
       "754"
      ]
     },
     "execution_count": 44,
     "metadata": {},
     "output_type": "execute_result"
    }
   ],
   "source": [
    "df_train2.region.nunique()"
   ]
  },
  {
   "cell_type": "code",
   "execution_count": 45,
   "metadata": {
    "ExecuteTime": {
     "end_time": "2019-02-22T06:02:27.903311Z",
     "start_time": "2019-02-22T06:02:27.560563Z"
    }
   },
   "outputs": [
    {
     "data": {
      "text/plain": [
       "30998"
      ]
     },
     "execution_count": 45,
     "metadata": {},
     "output_type": "execute_result"
    }
   ],
   "source": [
    "df_train2.city.nunique()"
   ]
  },
  {
   "cell_type": "code",
   "execution_count": 56,
   "metadata": {
    "ExecuteTime": {
     "end_time": "2019-02-22T06:11:55.011678Z",
     "start_time": "2019-02-22T06:11:53.264202Z"
    },
    "collapsed": true
   },
   "outputs": [],
   "source": [
    "df_train2.country = df_train2.country.fillna(df_train2['country'].value_counts().index[0])\n",
    "df_train2.region = df_train2.region.fillna(df_train2['region'].value_counts().index[0])\n",
    "df_train2.city = df_train2.city.fillna(df_train2['city'].value_counts().index[0])"
   ]
  },
  {
   "cell_type": "code",
   "execution_count": 41,
   "metadata": {
    "ExecuteTime": {
     "end_time": "2019-02-22T06:01:56.129567Z",
     "start_time": "2019-02-22T05:42:22.752315Z"
    }
   },
   "outputs": [],
   "source": [
    "train_feature['most_freq_country'] = train_feature.user_id_hash.map(df_train2.groupby('user_id_hash').country.agg(lambda x: x.value_counts().index[0]))\n",
    "train_feature['most_freq_region'] = train_feature.user_id_hash.map(df_train2.groupby('user_id_hash').region.agg(lambda x: x.value_counts().index[0]))\n",
    "train_feature['most_freq_city'] = train_feature.user_id_hash.map(df_train2.groupby('user_id_hash').city.agg(lambda x: x.value_counts().index[0]))"
   ]
  },
  {
   "cell_type": "code",
   "execution_count": 57,
   "metadata": {
    "ExecuteTime": {
     "end_time": "2019-02-22T06:12:01.980753Z",
     "start_time": "2019-02-22T06:12:01.322706Z"
    }
   },
   "outputs": [],
   "source": [
    "# no much use\n",
    "country_mean_purchase_perc = df_train2.groupby('country').purchase_counts.sum()/df_train2.country.value_counts()\n",
    "train_feature['country_mean_purchase_perc'] = train_feature[\"most_freq_country\"].map(country_mean_purchase_perc)\n",
    "train_feature.country_mean_purchase_perc = train_feature.country_mean_purchase_perc.fillna(0)"
   ]
  },
  {
   "cell_type": "markdown",
   "metadata": {},
   "source": [
    "### device info"
   ]
  },
  {
   "cell_type": "code",
   "execution_count": 50,
   "metadata": {
    "ExecuteTime": {
     "end_time": "2019-02-22T06:04:25.156587Z",
     "start_time": "2019-02-22T06:04:24.735521Z"
    }
   },
   "outputs": [],
   "source": [
    "df_train2.os_name = ['iOS' if x=='iPhone OS' else x for x in df_train2['os_name']]"
   ]
  },
  {
   "cell_type": "code",
   "execution_count": 55,
   "metadata": {
    "ExecuteTime": {
     "end_time": "2019-02-22T06:11:50.183396Z",
     "start_time": "2019-02-22T06:05:15.264125Z"
    },
    "collapsed": true
   },
   "outputs": [],
   "source": [
    "df_train2.os_name = df_train2.os_name.fillna(df_train2['os_name'].value_counts().index[0])\n",
    "train_feature['most_freq_os'] = train_feature.user_id_hash.map(df_train.groupby('user_id_hash').os_name.agg(lambda x: x.value_counts().index[0]))"
   ]
  },
  {
   "cell_type": "code",
   "execution_count": 60,
   "metadata": {
    "ExecuteTime": {
     "end_time": "2019-02-22T06:12:43.071446Z",
     "start_time": "2019-02-22T06:12:42.431195Z"
    }
   },
   "outputs": [],
   "source": [
    "# no much use\n",
    "os_mean_purchase_perc = df_train2.groupby('os_name').purchase_counts.sum()/df_train2.os_name.value_counts()\n",
    "train_feature['os_mean_purchase_perc'] = train_feature[\"most_freq_os\"].map(os_mean_purchase_perc)\n",
    "train_feature.os_mean_purchase_perc = train_feature.os_mean_purchase_perc.fillna(0)"
   ]
  },
  {
   "cell_type": "markdown",
   "metadata": {},
   "source": [
    "### Label encoding"
   ]
  },
  {
   "cell_type": "markdown",
   "metadata": {
    "ExecuteTime": {
     "end_time": "2019-02-19T00:05:22.934376Z",
     "start_time": "2019-02-19T00:05:22.931172Z"
    }
   },
   "source": [
    "* Use label encoding encode categorical columns"
   ]
  },
  {
   "cell_type": "code",
   "execution_count": null,
   "metadata": {
    "collapsed": true
   },
   "outputs": [],
   "source": [
    "# fillna by most frequentist value\n",
    "cols = list(train_feature.columns)\n",
    "for col in cols:\n",
    "    train_feature[col] = train_feature[col].fillna(train_feature[col].value_counts().index[0])"
   ]
  },
  {
   "cell_type": "code",
   "execution_count": null,
   "metadata": {
    "collapsed": true
   },
   "outputs": [],
   "source": [
    "import numpy as np\n",
    "cols = list(train_feature.columns)\n",
    "for col in cols:\n",
    "    train_feature[col].replace(np.inf, 0, inplace=True)"
   ]
  },
  {
   "cell_type": "code",
   "execution_count": 62,
   "metadata": {
    "ExecuteTime": {
     "end_time": "2019-02-22T06:13:18.849251Z",
     "start_time": "2019-02-22T06:13:17.725384Z"
    },
    "collapsed": true
   },
   "outputs": [],
   "source": [
    "from sklearn.preprocessing import LabelEncoder\n",
    "cols = ['most_freq_country', 'most_freq_region', 'most_freq_city', 'most_freq_os']\n",
    "for col in cols:\n",
    "    encoder = LabelEncoder()\n",
    "    train_feature[col] = encoder.fit_transform(train_feature[col])"
   ]
  },
  {
   "cell_type": "code",
   "execution_count": 66,
   "metadata": {
    "ExecuteTime": {
     "end_time": "2019-02-22T06:14:20.501562Z",
     "start_time": "2019-02-22T06:14:20.473606Z"
    }
   },
   "outputs": [
    {
     "data": {
      "text/html": [
       "<div>\n",
       "<table border=\"1\" class=\"dataframe\">\n",
       "  <thead>\n",
       "    <tr style=\"text-align: right;\">\n",
       "      <th></th>\n",
       "      <th>user_id_hash</th>\n",
       "      <th>most_freq_dow</th>\n",
       "      <th>most_freq_hour</th>\n",
       "      <th>median_create_session_time</th>\n",
       "      <th>session_count</th>\n",
       "      <th>session_durations</th>\n",
       "      <th>mean_session_durations</th>\n",
       "      <th>mean_session_interval</th>\n",
       "      <th>most_freq_country</th>\n",
       "      <th>most_freq_region</th>\n",
       "      <th>...</th>\n",
       "      <th>total_amount</th>\n",
       "      <th>session_per_active_day</th>\n",
       "      <th>purchase_per_active_day</th>\n",
       "      <th>session_per_day</th>\n",
       "      <th>purchase_per_day</th>\n",
       "      <th>user_entropy</th>\n",
       "      <th>last_session_time</th>\n",
       "      <th>last_purchase_time</th>\n",
       "      <th>country_mean_purchase_perc</th>\n",
       "      <th>os_mean_purchase_perc</th>\n",
       "    </tr>\n",
       "  </thead>\n",
       "  <tbody>\n",
       "    <tr>\n",
       "      <th>0</th>\n",
       "      <td>9943447915df3a45fd6720a026af905b6da6b56a37701b...</td>\n",
       "      <td>6</td>\n",
       "      <td>7</td>\n",
       "      <td>36.0</td>\n",
       "      <td>46</td>\n",
       "      <td>938183565</td>\n",
       "      <td>2.039529e+07</td>\n",
       "      <td>0.782609</td>\n",
       "      <td>162</td>\n",
       "      <td>0</td>\n",
       "      <td>...</td>\n",
       "      <td>3.493</td>\n",
       "      <td>2.555556</td>\n",
       "      <td>0.055556</td>\n",
       "      <td>0.851852</td>\n",
       "      <td>0.018519</td>\n",
       "      <td>3.828641</td>\n",
       "      <td>1</td>\n",
       "      <td>19</td>\n",
       "      <td>0.005269</td>\n",
       "      <td>0.028374</td>\n",
       "    </tr>\n",
       "    <tr>\n",
       "      <th>1</th>\n",
       "      <td>43f75f8042d3c80c45e222bdd09267f4584684c54d6fae...</td>\n",
       "      <td>5</td>\n",
       "      <td>23</td>\n",
       "      <td>0.0</td>\n",
       "      <td>3</td>\n",
       "      <td>6074816</td>\n",
       "      <td>2.024939e+06</td>\n",
       "      <td>0.000000</td>\n",
       "      <td>69</td>\n",
       "      <td>281</td>\n",
       "      <td>...</td>\n",
       "      <td>0.000</td>\n",
       "      <td>1.500000</td>\n",
       "      <td>0.000000</td>\n",
       "      <td>3.000000</td>\n",
       "      <td>0.000000</td>\n",
       "      <td>1.098612</td>\n",
       "      <td>20</td>\n",
       "      <td>100</td>\n",
       "      <td>0.060754</td>\n",
       "      <td>0.078831</td>\n",
       "    </tr>\n",
       "    <tr>\n",
       "      <th>2</th>\n",
       "      <td>999524249720812f2d8c0390293efd58e1ac84d587a01c...</td>\n",
       "      <td>2</td>\n",
       "      <td>22</td>\n",
       "      <td>0.0</td>\n",
       "      <td>1</td>\n",
       "      <td>0</td>\n",
       "      <td>0.000000e+00</td>\n",
       "      <td>0.000000</td>\n",
       "      <td>210</td>\n",
       "      <td>299</td>\n",
       "      <td>...</td>\n",
       "      <td>0.000</td>\n",
       "      <td>1.000000</td>\n",
       "      <td>0.000000</td>\n",
       "      <td>0.000000</td>\n",
       "      <td>0.000000</td>\n",
       "      <td>0.000000</td>\n",
       "      <td>45</td>\n",
       "      <td>100</td>\n",
       "      <td>0.068370</td>\n",
       "      <td>0.078831</td>\n",
       "    </tr>\n",
       "    <tr>\n",
       "      <th>3</th>\n",
       "      <td>4e6bc35cf7fd79a5312047651e7865915f4a6bec193cf2...</td>\n",
       "      <td>3</td>\n",
       "      <td>15</td>\n",
       "      <td>2.0</td>\n",
       "      <td>1</td>\n",
       "      <td>596967</td>\n",
       "      <td>5.969670e+05</td>\n",
       "      <td>2.000000</td>\n",
       "      <td>94</td>\n",
       "      <td>162</td>\n",
       "      <td>...</td>\n",
       "      <td>0.000</td>\n",
       "      <td>0.500000</td>\n",
       "      <td>0.000000</td>\n",
       "      <td>0.250000</td>\n",
       "      <td>0.000000</td>\n",
       "      <td>0.693147</td>\n",
       "      <td>9</td>\n",
       "      <td>100</td>\n",
       "      <td>0.004529</td>\n",
       "      <td>0.028374</td>\n",
       "    </tr>\n",
       "    <tr>\n",
       "      <th>4</th>\n",
       "      <td>dc009148ee26d658e0240c7b7f6a258790a457737f96e8...</td>\n",
       "      <td>2</td>\n",
       "      <td>2</td>\n",
       "      <td>0.5</td>\n",
       "      <td>1</td>\n",
       "      <td>97482</td>\n",
       "      <td>9.748200e+04</td>\n",
       "      <td>0.500000</td>\n",
       "      <td>11</td>\n",
       "      <td>494</td>\n",
       "      <td>...</td>\n",
       "      <td>0.000</td>\n",
       "      <td>0.500000</td>\n",
       "      <td>0.000000</td>\n",
       "      <td>1.000000</td>\n",
       "      <td>0.000000</td>\n",
       "      <td>0.693147</td>\n",
       "      <td>38</td>\n",
       "      <td>100</td>\n",
       "      <td>0.067344</td>\n",
       "      <td>0.028374</td>\n",
       "    </tr>\n",
       "  </tbody>\n",
       "</table>\n",
       "<p>5 rows × 26 columns</p>\n",
       "</div>"
      ],
      "text/plain": [
       "                                        user_id_hash  most_freq_dow  \\\n",
       "0  9943447915df3a45fd6720a026af905b6da6b56a37701b...              6   \n",
       "1  43f75f8042d3c80c45e222bdd09267f4584684c54d6fae...              5   \n",
       "2  999524249720812f2d8c0390293efd58e1ac84d587a01c...              2   \n",
       "3  4e6bc35cf7fd79a5312047651e7865915f4a6bec193cf2...              3   \n",
       "4  dc009148ee26d658e0240c7b7f6a258790a457737f96e8...              2   \n",
       "\n",
       "   most_freq_hour  median_create_session_time  session_count  \\\n",
       "0               7                        36.0             46   \n",
       "1              23                         0.0              3   \n",
       "2              22                         0.0              1   \n",
       "3              15                         2.0              1   \n",
       "4               2                         0.5              1   \n",
       "\n",
       "   session_durations  mean_session_durations  mean_session_interval  \\\n",
       "0          938183565            2.039529e+07               0.782609   \n",
       "1            6074816            2.024939e+06               0.000000   \n",
       "2                  0            0.000000e+00               0.000000   \n",
       "3             596967            5.969670e+05               2.000000   \n",
       "4              97482            9.748200e+04               0.500000   \n",
       "\n",
       "   most_freq_country  most_freq_region          ...            total_amount  \\\n",
       "0                162                 0          ...                   3.493   \n",
       "1                 69               281          ...                   0.000   \n",
       "2                210               299          ...                   0.000   \n",
       "3                 94               162          ...                   0.000   \n",
       "4                 11               494          ...                   0.000   \n",
       "\n",
       "   session_per_active_day  purchase_per_active_day  session_per_day  \\\n",
       "0                2.555556                 0.055556         0.851852   \n",
       "1                1.500000                 0.000000         3.000000   \n",
       "2                1.000000                 0.000000         0.000000   \n",
       "3                0.500000                 0.000000         0.250000   \n",
       "4                0.500000                 0.000000         1.000000   \n",
       "\n",
       "   purchase_per_day  user_entropy  last_session_time  last_purchase_time  \\\n",
       "0          0.018519      3.828641                  1                  19   \n",
       "1          0.000000      1.098612                 20                 100   \n",
       "2          0.000000      0.000000                 45                 100   \n",
       "3          0.000000      0.693147                  9                 100   \n",
       "4          0.000000      0.693147                 38                 100   \n",
       "\n",
       "   country_mean_purchase_perc  os_mean_purchase_perc  \n",
       "0                    0.005269               0.028374  \n",
       "1                    0.060754               0.078831  \n",
       "2                    0.068370               0.078831  \n",
       "3                    0.004529               0.028374  \n",
       "4                    0.067344               0.028374  \n",
       "\n",
       "[5 rows x 26 columns]"
      ]
     },
     "execution_count": 66,
     "metadata": {},
     "output_type": "execute_result"
    }
   ],
   "source": [
    "train_feature.head()"
   ]
  },
  {
   "cell_type": "code",
   "execution_count": 97,
   "metadata": {
    "ExecuteTime": {
     "end_time": "2019-02-22T06:43:32.769493Z",
     "start_time": "2019-02-22T06:43:04.010055Z"
    }
   },
   "outputs": [],
   "source": [
    "train_feature.to_csv('feature_eng/train_feature2.csv', index=False)"
   ]
  },
  {
   "cell_type": "markdown",
   "metadata": {},
   "source": [
    "### Combine train features and labels"
   ]
  },
  {
   "cell_type": "code",
   "execution_count": 71,
   "metadata": {
    "ExecuteTime": {
     "end_time": "2019-02-22T06:21:54.558055Z",
     "start_time": "2019-02-22T06:20:57.804683Z"
    }
   },
   "outputs": [
    {
     "data": {
      "text/html": [
       "<div>\n",
       "<table border=\"1\" class=\"dataframe\">\n",
       "  <thead>\n",
       "    <tr style=\"text-align: right;\">\n",
       "      <th></th>\n",
       "      <th>Unnamed: 0</th>\n",
       "      <th>session_id</th>\n",
       "      <th>timezone</th>\n",
       "      <th>timezone_offset</th>\n",
       "      <th>previous_sessions_duration</th>\n",
       "      <th>is_user_first_session</th>\n",
       "      <th>is_session</th>\n",
       "      <th>country</th>\n",
       "      <th>region</th>\n",
       "      <th>city</th>\n",
       "      <th>...</th>\n",
       "      <th>locale</th>\n",
       "      <th>os_name</th>\n",
       "      <th>session_index</th>\n",
       "      <th>device_id</th>\n",
       "      <th>user_id_hash</th>\n",
       "      <th>start_dow</th>\n",
       "      <th>start_hour</th>\n",
       "      <th>start_date</th>\n",
       "      <th>create_date</th>\n",
       "      <th>create_session_time</th>\n",
       "    </tr>\n",
       "  </thead>\n",
       "  <tbody>\n",
       "    <tr>\n",
       "      <th>0</th>\n",
       "      <td>0</td>\n",
       "      <td>5558845121177764917</td>\n",
       "      <td>Asia/Manila</td>\n",
       "      <td>28800000.0</td>\n",
       "      <td>25837591</td>\n",
       "      <td>False</td>\n",
       "      <td>True</td>\n",
       "      <td>PH</td>\n",
       "      <td>00</td>\n",
       "      <td>makati</td>\n",
       "      <td>...</td>\n",
       "      <td>en_GB</td>\n",
       "      <td>Android OS</td>\n",
       "      <td>30</td>\n",
       "      <td>546a3d98-d540-4e72-ad82-9ebd64e0839b</td>\n",
       "      <td>9943447915df3a45fd6720a026af905b6da6b56a37701b...</td>\n",
       "      <td>3</td>\n",
       "      <td>1</td>\n",
       "      <td>2018-11-15</td>\n",
       "      <td>2018-10-07</td>\n",
       "      <td>39</td>\n",
       "    </tr>\n",
       "    <tr>\n",
       "      <th>1</th>\n",
       "      <td>1</td>\n",
       "      <td>2201961907282901522</td>\n",
       "      <td>Asia/Manila</td>\n",
       "      <td>28800000.0</td>\n",
       "      <td>35050130</td>\n",
       "      <td>False</td>\n",
       "      <td>True</td>\n",
       "      <td>PH</td>\n",
       "      <td>00</td>\n",
       "      <td>quezon city</td>\n",
       "      <td>...</td>\n",
       "      <td>en_GB</td>\n",
       "      <td>Android OS</td>\n",
       "      <td>47</td>\n",
       "      <td>546a3d98-d540-4e72-ad82-9ebd64e0839b</td>\n",
       "      <td>9943447915df3a45fd6720a026af905b6da6b56a37701b...</td>\n",
       "      <td>6</td>\n",
       "      <td>9</td>\n",
       "      <td>2018-12-02</td>\n",
       "      <td>2018-10-07</td>\n",
       "      <td>56</td>\n",
       "    </tr>\n",
       "    <tr>\n",
       "      <th>2</th>\n",
       "      <td>2</td>\n",
       "      <td>18781111175537580</td>\n",
       "      <td>Asia/Manila</td>\n",
       "      <td>28800000.0</td>\n",
       "      <td>11343848</td>\n",
       "      <td>False</td>\n",
       "      <td>True</td>\n",
       "      <td>PH</td>\n",
       "      <td>00</td>\n",
       "      <td>makati</td>\n",
       "      <td>...</td>\n",
       "      <td>en_GB</td>\n",
       "      <td>Android OS</td>\n",
       "      <td>10</td>\n",
       "      <td>546a3d98-d540-4e72-ad82-9ebd64e0839b</td>\n",
       "      <td>9943447915df3a45fd6720a026af905b6da6b56a37701b...</td>\n",
       "      <td>3</td>\n",
       "      <td>7</td>\n",
       "      <td>2018-10-11</td>\n",
       "      <td>2018-10-07</td>\n",
       "      <td>4</td>\n",
       "    </tr>\n",
       "    <tr>\n",
       "      <th>3</th>\n",
       "      <td>3</td>\n",
       "      <td>1477540082628742048</td>\n",
       "      <td>Asia/Manila</td>\n",
       "      <td>28800000.0</td>\n",
       "      <td>13499724</td>\n",
       "      <td>False</td>\n",
       "      <td>True</td>\n",
       "      <td>PH</td>\n",
       "      <td>11</td>\n",
       "      <td>davao city</td>\n",
       "      <td>...</td>\n",
       "      <td>en_GB</td>\n",
       "      <td>Android OS</td>\n",
       "      <td>13</td>\n",
       "      <td>546a3d98-d540-4e72-ad82-9ebd64e0839b</td>\n",
       "      <td>9943447915df3a45fd6720a026af905b6da6b56a37701b...</td>\n",
       "      <td>6</td>\n",
       "      <td>19</td>\n",
       "      <td>2018-10-21</td>\n",
       "      <td>2018-10-07</td>\n",
       "      <td>14</td>\n",
       "    </tr>\n",
       "    <tr>\n",
       "      <th>4</th>\n",
       "      <td>4</td>\n",
       "      <td>8184875317380844086</td>\n",
       "      <td>Asia/Manila</td>\n",
       "      <td>28800000.0</td>\n",
       "      <td>32788010</td>\n",
       "      <td>False</td>\n",
       "      <td>True</td>\n",
       "      <td>PH</td>\n",
       "      <td>00</td>\n",
       "      <td>makati</td>\n",
       "      <td>...</td>\n",
       "      <td>en_GB</td>\n",
       "      <td>Android OS</td>\n",
       "      <td>41</td>\n",
       "      <td>546a3d98-d540-4e72-ad82-9ebd64e0839b</td>\n",
       "      <td>9943447915df3a45fd6720a026af905b6da6b56a37701b...</td>\n",
       "      <td>1</td>\n",
       "      <td>7</td>\n",
       "      <td>2018-11-20</td>\n",
       "      <td>2018-10-07</td>\n",
       "      <td>44</td>\n",
       "    </tr>\n",
       "  </tbody>\n",
       "</table>\n",
       "<p>5 rows × 22 columns</p>\n",
       "</div>"
      ],
      "text/plain": [
       "   Unnamed: 0           session_id     timezone  timezone_offset  \\\n",
       "0           0  5558845121177764917  Asia/Manila       28800000.0   \n",
       "1           1  2201961907282901522  Asia/Manila       28800000.0   \n",
       "2           2    18781111175537580  Asia/Manila       28800000.0   \n",
       "3           3  1477540082628742048  Asia/Manila       28800000.0   \n",
       "4           4  8184875317380844086  Asia/Manila       28800000.0   \n",
       "\n",
       "   previous_sessions_duration is_user_first_session is_session country region  \\\n",
       "0                    25837591                 False       True      PH     00   \n",
       "1                    35050130                 False       True      PH     00   \n",
       "2                    11343848                 False       True      PH     00   \n",
       "3                    13499724                 False       True      PH     11   \n",
       "4                    32788010                 False       True      PH     00   \n",
       "\n",
       "          city         ...          locale     os_name session_index  \\\n",
       "0       makati         ...           en_GB  Android OS            30   \n",
       "1  quezon city         ...           en_GB  Android OS            47   \n",
       "2       makati         ...           en_GB  Android OS            10   \n",
       "3   davao city         ...           en_GB  Android OS            13   \n",
       "4       makati         ...           en_GB  Android OS            41   \n",
       "\n",
       "                              device_id  \\\n",
       "0  546a3d98-d540-4e72-ad82-9ebd64e0839b   \n",
       "1  546a3d98-d540-4e72-ad82-9ebd64e0839b   \n",
       "2  546a3d98-d540-4e72-ad82-9ebd64e0839b   \n",
       "3  546a3d98-d540-4e72-ad82-9ebd64e0839b   \n",
       "4  546a3d98-d540-4e72-ad82-9ebd64e0839b   \n",
       "\n",
       "                                        user_id_hash start_dow start_hour  \\\n",
       "0  9943447915df3a45fd6720a026af905b6da6b56a37701b...         3          1   \n",
       "1  9943447915df3a45fd6720a026af905b6da6b56a37701b...         6          9   \n",
       "2  9943447915df3a45fd6720a026af905b6da6b56a37701b...         3          7   \n",
       "3  9943447915df3a45fd6720a026af905b6da6b56a37701b...         6         19   \n",
       "4  9943447915df3a45fd6720a026af905b6da6b56a37701b...         1          7   \n",
       "\n",
       "   start_date  create_date create_session_time  \n",
       "0  2018-11-15   2018-10-07                  39  \n",
       "1  2018-12-02   2018-10-07                  56  \n",
       "2  2018-10-11   2018-10-07                   4  \n",
       "3  2018-10-21   2018-10-07                  14  \n",
       "4  2018-11-20   2018-10-07                  44  \n",
       "\n",
       "[5 rows x 22 columns]"
      ]
     },
     "execution_count": 71,
     "metadata": {},
     "output_type": "execute_result"
    }
   ],
   "source": [
    "bucket_name = 'advanced-ml-project' # Add your bucket name\n",
    "file_name = 'sessions_new.csv'\n",
    "s3 = boto3.client('s3')\n",
    "obj = s3.get_object(Bucket=bucket_name, Key=file_name) # S3 uses key-value structure where key is your file name\n",
    "session = pd.read_csv(obj['Body'])\n",
    "session.head()"
   ]
  },
  {
   "cell_type": "code",
   "execution_count": 91,
   "metadata": {
    "ExecuteTime": {
     "end_time": "2019-02-22T06:42:33.629383Z",
     "start_time": "2019-02-22T06:42:33.290045Z"
    },
    "collapsed": true
   },
   "outputs": [],
   "source": [
    "# use more user(creates during pred time) to train\n",
    "# seems no much use\n",
    "train_list = pd.DataFrame(session.user_id_hash.unique(), columns=['user_id_hash'])"
   ]
  },
  {
   "cell_type": "code",
   "execution_count": 92,
   "metadata": {
    "ExecuteTime": {
     "end_time": "2019-02-22T06:42:36.486301Z",
     "start_time": "2019-02-22T06:42:35.694473Z"
    },
    "collapsed": true
   },
   "outputs": [],
   "source": [
    "train_feature2 = pd.merge(train_list, train_feature, how='left', on=['user_id_hash'])"
   ]
  },
  {
   "cell_type": "code",
   "execution_count": 93,
   "metadata": {
    "ExecuteTime": {
     "end_time": "2019-02-22T06:42:38.777673Z",
     "start_time": "2019-02-22T06:42:37.669844Z"
    },
    "collapsed": true
   },
   "outputs": [],
   "source": [
    "# fillna by most frequentist value\n",
    "cols = list(train_feature2.columns)\n",
    "for col in cols:\n",
    "    train_feature2[col] = train_feature2[col].fillna(train_feature2[col].value_counts().index[0])"
   ]
  },
  {
   "cell_type": "code",
   "execution_count": 94,
   "metadata": {
    "ExecuteTime": {
     "end_time": "2019-02-22T06:42:38.864914Z",
     "start_time": "2019-02-22T06:42:38.778976Z"
    },
    "collapsed": true
   },
   "outputs": [],
   "source": [
    "import numpy as np\n",
    "cols = list(train_feature2.columns)\n",
    "for col in cols:\n",
    "    train_feature2[col].replace(np.inf, 0, inplace=True)"
   ]
  },
  {
   "cell_type": "code",
   "execution_count": 68,
   "metadata": {
    "ExecuteTime": {
     "end_time": "2019-02-22T06:15:23.295814Z",
     "start_time": "2019-02-22T06:15:20.554667Z"
    }
   },
   "outputs": [
    {
     "data": {
      "text/html": [
       "<div>\n",
       "<table border=\"1\" class=\"dataframe\">\n",
       "  <thead>\n",
       "    <tr style=\"text-align: right;\">\n",
       "      <th></th>\n",
       "      <th>user_id_hash</th>\n",
       "      <th>user_purchase_binary_7_days</th>\n",
       "      <th>user_purchase_binary_14_days</th>\n",
       "    </tr>\n",
       "  </thead>\n",
       "  <tbody>\n",
       "    <tr>\n",
       "      <th>0</th>\n",
       "      <td>9943447915df3a45fd6720a026af905b6da6b56a37701b...</td>\n",
       "      <td>0.0</td>\n",
       "      <td>0.0</td>\n",
       "    </tr>\n",
       "    <tr>\n",
       "      <th>1</th>\n",
       "      <td>43f75f8042d3c80c45e222bdd09267f4584684c54d6fae...</td>\n",
       "      <td>0.0</td>\n",
       "      <td>0.0</td>\n",
       "    </tr>\n",
       "    <tr>\n",
       "      <th>2</th>\n",
       "      <td>999524249720812f2d8c0390293efd58e1ac84d587a01c...</td>\n",
       "      <td>0.0</td>\n",
       "      <td>0.0</td>\n",
       "    </tr>\n",
       "    <tr>\n",
       "      <th>3</th>\n",
       "      <td>4e6bc35cf7fd79a5312047651e7865915f4a6bec193cf2...</td>\n",
       "      <td>0.0</td>\n",
       "      <td>0.0</td>\n",
       "    </tr>\n",
       "    <tr>\n",
       "      <th>4</th>\n",
       "      <td>dc009148ee26d658e0240c7b7f6a258790a457737f96e8...</td>\n",
       "      <td>0.0</td>\n",
       "      <td>0.0</td>\n",
       "    </tr>\n",
       "  </tbody>\n",
       "</table>\n",
       "</div>"
      ],
      "text/plain": [
       "                                        user_id_hash  \\\n",
       "0  9943447915df3a45fd6720a026af905b6da6b56a37701b...   \n",
       "1  43f75f8042d3c80c45e222bdd09267f4584684c54d6fae...   \n",
       "2  999524249720812f2d8c0390293efd58e1ac84d587a01c...   \n",
       "3  4e6bc35cf7fd79a5312047651e7865915f4a6bec193cf2...   \n",
       "4  dc009148ee26d658e0240c7b7f6a258790a457737f96e8...   \n",
       "\n",
       "   user_purchase_binary_7_days  user_purchase_binary_14_days  \n",
       "0                          0.0                           0.0  \n",
       "1                          0.0                           0.0  \n",
       "2                          0.0                           0.0  \n",
       "3                          0.0                           0.0  \n",
       "4                          0.0                           0.0  "
      ]
     },
     "execution_count": 68,
     "metadata": {},
     "output_type": "execute_result"
    }
   ],
   "source": [
    "bucket_name = 'advanced-ml-project' # Add your bucket name\n",
    "file_name = 'train_label.csv'\n",
    "s3 = boto3.client('s3')\n",
    "obj = s3.get_object(Bucket=bucket_name, Key=file_name) # S3 uses key-value structure where key is your file name\n",
    "train_label = pd.read_csv(obj['Body'])\n",
    "train_label.head()"
   ]
  },
  {
   "cell_type": "code",
   "execution_count": 125,
   "metadata": {
    "ExecuteTime": {
     "end_time": "2019-02-22T07:12:10.978934Z",
     "start_time": "2019-02-22T07:12:10.276501Z"
    }
   },
   "outputs": [
    {
     "data": {
      "text/html": [
       "<div>\n",
       "<table border=\"1\" class=\"dataframe\">\n",
       "  <thead>\n",
       "    <tr style=\"text-align: right;\">\n",
       "      <th></th>\n",
       "      <th>user_id_hash</th>\n",
       "      <th>most_freq_dow</th>\n",
       "      <th>most_freq_hour</th>\n",
       "      <th>median_create_session_time</th>\n",
       "      <th>session_count</th>\n",
       "      <th>session_durations</th>\n",
       "      <th>mean_session_durations</th>\n",
       "      <th>mean_session_interval</th>\n",
       "      <th>most_freq_country</th>\n",
       "      <th>most_freq_region</th>\n",
       "      <th>...</th>\n",
       "      <th>purchase_per_active_day</th>\n",
       "      <th>session_per_day</th>\n",
       "      <th>purchase_per_day</th>\n",
       "      <th>user_entropy</th>\n",
       "      <th>last_session_time</th>\n",
       "      <th>last_purchase_time</th>\n",
       "      <th>country_mean_purchase_perc</th>\n",
       "      <th>os_mean_purchase_perc</th>\n",
       "      <th>user_purchase_binary_7_days</th>\n",
       "      <th>user_purchase_binary_14_days</th>\n",
       "    </tr>\n",
       "  </thead>\n",
       "  <tbody>\n",
       "    <tr>\n",
       "      <th>0</th>\n",
       "      <td>9943447915df3a45fd6720a026af905b6da6b56a37701b...</td>\n",
       "      <td>6</td>\n",
       "      <td>7</td>\n",
       "      <td>36.0</td>\n",
       "      <td>46</td>\n",
       "      <td>938183565</td>\n",
       "      <td>2.039529e+07</td>\n",
       "      <td>0.782609</td>\n",
       "      <td>162</td>\n",
       "      <td>0</td>\n",
       "      <td>...</td>\n",
       "      <td>0.055556</td>\n",
       "      <td>0.851852</td>\n",
       "      <td>0.018519</td>\n",
       "      <td>3.828641</td>\n",
       "      <td>1</td>\n",
       "      <td>19</td>\n",
       "      <td>0.005269</td>\n",
       "      <td>0.028374</td>\n",
       "      <td>0.0</td>\n",
       "      <td>0.0</td>\n",
       "    </tr>\n",
       "    <tr>\n",
       "      <th>1</th>\n",
       "      <td>43f75f8042d3c80c45e222bdd09267f4584684c54d6fae...</td>\n",
       "      <td>5</td>\n",
       "      <td>23</td>\n",
       "      <td>0.0</td>\n",
       "      <td>3</td>\n",
       "      <td>6074816</td>\n",
       "      <td>2.024939e+06</td>\n",
       "      <td>0.000000</td>\n",
       "      <td>69</td>\n",
       "      <td>281</td>\n",
       "      <td>...</td>\n",
       "      <td>0.000000</td>\n",
       "      <td>3.000000</td>\n",
       "      <td>0.000000</td>\n",
       "      <td>1.098612</td>\n",
       "      <td>20</td>\n",
       "      <td>100</td>\n",
       "      <td>0.060754</td>\n",
       "      <td>0.078831</td>\n",
       "      <td>0.0</td>\n",
       "      <td>0.0</td>\n",
       "    </tr>\n",
       "    <tr>\n",
       "      <th>2</th>\n",
       "      <td>999524249720812f2d8c0390293efd58e1ac84d587a01c...</td>\n",
       "      <td>2</td>\n",
       "      <td>22</td>\n",
       "      <td>0.0</td>\n",
       "      <td>1</td>\n",
       "      <td>0</td>\n",
       "      <td>0.000000e+00</td>\n",
       "      <td>0.000000</td>\n",
       "      <td>210</td>\n",
       "      <td>299</td>\n",
       "      <td>...</td>\n",
       "      <td>0.000000</td>\n",
       "      <td>0.000000</td>\n",
       "      <td>0.000000</td>\n",
       "      <td>0.000000</td>\n",
       "      <td>45</td>\n",
       "      <td>100</td>\n",
       "      <td>0.068370</td>\n",
       "      <td>0.078831</td>\n",
       "      <td>0.0</td>\n",
       "      <td>0.0</td>\n",
       "    </tr>\n",
       "    <tr>\n",
       "      <th>3</th>\n",
       "      <td>4e6bc35cf7fd79a5312047651e7865915f4a6bec193cf2...</td>\n",
       "      <td>3</td>\n",
       "      <td>15</td>\n",
       "      <td>2.0</td>\n",
       "      <td>1</td>\n",
       "      <td>596967</td>\n",
       "      <td>5.969670e+05</td>\n",
       "      <td>2.000000</td>\n",
       "      <td>94</td>\n",
       "      <td>162</td>\n",
       "      <td>...</td>\n",
       "      <td>0.000000</td>\n",
       "      <td>0.250000</td>\n",
       "      <td>0.000000</td>\n",
       "      <td>0.693147</td>\n",
       "      <td>9</td>\n",
       "      <td>100</td>\n",
       "      <td>0.004529</td>\n",
       "      <td>0.028374</td>\n",
       "      <td>0.0</td>\n",
       "      <td>0.0</td>\n",
       "    </tr>\n",
       "    <tr>\n",
       "      <th>4</th>\n",
       "      <td>dc009148ee26d658e0240c7b7f6a258790a457737f96e8...</td>\n",
       "      <td>2</td>\n",
       "      <td>2</td>\n",
       "      <td>0.5</td>\n",
       "      <td>1</td>\n",
       "      <td>97482</td>\n",
       "      <td>9.748200e+04</td>\n",
       "      <td>0.500000</td>\n",
       "      <td>11</td>\n",
       "      <td>494</td>\n",
       "      <td>...</td>\n",
       "      <td>0.000000</td>\n",
       "      <td>1.000000</td>\n",
       "      <td>0.000000</td>\n",
       "      <td>0.693147</td>\n",
       "      <td>38</td>\n",
       "      <td>100</td>\n",
       "      <td>0.067344</td>\n",
       "      <td>0.028374</td>\n",
       "      <td>0.0</td>\n",
       "      <td>0.0</td>\n",
       "    </tr>\n",
       "  </tbody>\n",
       "</table>\n",
       "<p>5 rows × 28 columns</p>\n",
       "</div>"
      ],
      "text/plain": [
       "                                        user_id_hash  most_freq_dow  \\\n",
       "0  9943447915df3a45fd6720a026af905b6da6b56a37701b...              6   \n",
       "1  43f75f8042d3c80c45e222bdd09267f4584684c54d6fae...              5   \n",
       "2  999524249720812f2d8c0390293efd58e1ac84d587a01c...              2   \n",
       "3  4e6bc35cf7fd79a5312047651e7865915f4a6bec193cf2...              3   \n",
       "4  dc009148ee26d658e0240c7b7f6a258790a457737f96e8...              2   \n",
       "\n",
       "   most_freq_hour  median_create_session_time  session_count  \\\n",
       "0               7                        36.0             46   \n",
       "1              23                         0.0              3   \n",
       "2              22                         0.0              1   \n",
       "3              15                         2.0              1   \n",
       "4               2                         0.5              1   \n",
       "\n",
       "   session_durations  mean_session_durations  mean_session_interval  \\\n",
       "0          938183565            2.039529e+07               0.782609   \n",
       "1            6074816            2.024939e+06               0.000000   \n",
       "2                  0            0.000000e+00               0.000000   \n",
       "3             596967            5.969670e+05               2.000000   \n",
       "4              97482            9.748200e+04               0.500000   \n",
       "\n",
       "   most_freq_country  most_freq_region              ...               \\\n",
       "0                162                 0              ...                \n",
       "1                 69               281              ...                \n",
       "2                210               299              ...                \n",
       "3                 94               162              ...                \n",
       "4                 11               494              ...                \n",
       "\n",
       "   purchase_per_active_day  session_per_day  purchase_per_day  user_entropy  \\\n",
       "0                 0.055556         0.851852          0.018519      3.828641   \n",
       "1                 0.000000         3.000000          0.000000      1.098612   \n",
       "2                 0.000000         0.000000          0.000000      0.000000   \n",
       "3                 0.000000         0.250000          0.000000      0.693147   \n",
       "4                 0.000000         1.000000          0.000000      0.693147   \n",
       "\n",
       "   last_session_time  last_purchase_time  country_mean_purchase_perc  \\\n",
       "0                  1                  19                    0.005269   \n",
       "1                 20                 100                    0.060754   \n",
       "2                 45                 100                    0.068370   \n",
       "3                  9                 100                    0.004529   \n",
       "4                 38                 100                    0.067344   \n",
       "\n",
       "   os_mean_purchase_perc  user_purchase_binary_7_days  \\\n",
       "0               0.028374                          0.0   \n",
       "1               0.078831                          0.0   \n",
       "2               0.078831                          0.0   \n",
       "3               0.028374                          0.0   \n",
       "4               0.028374                          0.0   \n",
       "\n",
       "   user_purchase_binary_14_days  \n",
       "0                           0.0  \n",
       "1                           0.0  \n",
       "2                           0.0  \n",
       "3                           0.0  \n",
       "4                           0.0  \n",
       "\n",
       "[5 rows x 28 columns]"
      ]
     },
     "execution_count": 125,
     "metadata": {},
     "output_type": "execute_result"
    }
   ],
   "source": [
    "train_dataset = pd.merge(train_feature, train_label, how='left', on='user_id_hash')\n",
    "train_dataset.head()"
   ]
  },
  {
   "cell_type": "code",
   "execution_count": 126,
   "metadata": {
    "ExecuteTime": {
     "end_time": "2019-02-22T07:12:48.252715Z",
     "start_time": "2019-02-22T07:12:17.522145Z"
    },
    "collapsed": true
   },
   "outputs": [],
   "source": [
    "train_dataset.to_csv('feature_eng/train_dataset2.csv', index=False)"
   ]
  },
  {
   "cell_type": "code",
   "execution_count": 116,
   "metadata": {
    "ExecuteTime": {
     "end_time": "2019-02-22T07:08:11.745235Z",
     "start_time": "2019-02-22T07:08:11.741973Z"
    }
   },
   "outputs": [
    {
     "data": {
      "text/plain": [
       "619706"
      ]
     },
     "execution_count": 116,
     "metadata": {},
     "output_type": "execute_result"
    }
   ],
   "source": [
    "len(train_feature)"
   ]
  },
  {
   "cell_type": "code",
   "execution_count": null,
   "metadata": {
    "collapsed": true
   },
   "outputs": [],
   "source": [
    "train_dataset2 = pd.merge(train_feature2, train_label, how='left', on='user_id_hash')\n",
    "train_dataset2.head()"
   ]
  },
  {
   "cell_type": "code",
   "execution_count": 127,
   "metadata": {
    "ExecuteTime": {
     "end_time": "2019-02-22T07:13:17.248337Z",
     "start_time": "2019-02-22T07:12:48.254030Z"
    },
    "collapsed": true
   },
   "outputs": [],
   "source": [
    "train_dataset2.to_csv('feature_eng/train_dataset3.csv', index=False)"
   ]
  }
 ],
 "metadata": {
  "anaconda-cloud": {},
  "kernelspec": {
   "display_name": "Python 3",
   "language": "python",
   "name": "python3"
  },
  "language_info": {
   "codemirror_mode": {
    "name": "ipython",
    "version": 3
   },
   "file_extension": ".py",
   "mimetype": "text/x-python",
   "name": "python",
   "nbconvert_exporter": "python",
   "pygments_lexer": "ipython3",
   "version": "3.6.6"
  }
 },
 "nbformat": 4,
 "nbformat_minor": 2
}
