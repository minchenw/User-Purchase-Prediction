{
 "cells": [
  {
   "cell_type": "code",
   "execution_count": 1,
   "metadata": {
    "ExecuteTime": {
     "end_time": "2019-02-18T18:38:16.184137Z",
     "start_time": "2019-02-18T18:38:15.459168Z"
    },
    "collapsed": true
   },
   "outputs": [],
   "source": [
    "import os\n",
    "import boto3 \n",
    "import pandas as pd"
   ]
  },
  {
   "cell_type": "code",
   "execution_count": 3,
   "metadata": {
    "ExecuteTime": {
     "end_time": "2019-02-18T18:40:23.703439Z",
     "start_time": "2019-02-18T18:38:31.858964Z"
    }
   },
   "outputs": [
    {
     "data": {
      "text/html": [
       "<div>\n",
       "<table border=\"1\" class=\"dataframe\">\n",
       "  <thead>\n",
       "    <tr style=\"text-align: right;\">\n",
       "      <th></th>\n",
       "      <th>Unnamed: 0</th>\n",
       "      <th>session_id</th>\n",
       "      <th>timezone</th>\n",
       "      <th>timezone_offset</th>\n",
       "      <th>previous_sessions_duration</th>\n",
       "      <th>is_user_first_session</th>\n",
       "      <th>is_session</th>\n",
       "      <th>country</th>\n",
       "      <th>region</th>\n",
       "      <th>city</th>\n",
       "      <th>...</th>\n",
       "      <th>locale</th>\n",
       "      <th>os_name</th>\n",
       "      <th>session_index</th>\n",
       "      <th>device_id</th>\n",
       "      <th>user_id_hash</th>\n",
       "      <th>start_dow</th>\n",
       "      <th>start_hour</th>\n",
       "      <th>start_date</th>\n",
       "      <th>create_date</th>\n",
       "      <th>create_session_time</th>\n",
       "    </tr>\n",
       "  </thead>\n",
       "  <tbody>\n",
       "    <tr>\n",
       "      <th>0</th>\n",
       "      <td>0</td>\n",
       "      <td>5558845121177764917</td>\n",
       "      <td>Asia/Manila</td>\n",
       "      <td>28800000.0</td>\n",
       "      <td>25837591</td>\n",
       "      <td>False</td>\n",
       "      <td>True</td>\n",
       "      <td>PH</td>\n",
       "      <td>00</td>\n",
       "      <td>makati</td>\n",
       "      <td>...</td>\n",
       "      <td>en_GB</td>\n",
       "      <td>Android OS</td>\n",
       "      <td>30</td>\n",
       "      <td>546a3d98-d540-4e72-ad82-9ebd64e0839b</td>\n",
       "      <td>9943447915df3a45fd6720a026af905b6da6b56a37701b...</td>\n",
       "      <td>3</td>\n",
       "      <td>1</td>\n",
       "      <td>2018-11-15</td>\n",
       "      <td>2018-10-07</td>\n",
       "      <td>39</td>\n",
       "    </tr>\n",
       "    <tr>\n",
       "      <th>1</th>\n",
       "      <td>1</td>\n",
       "      <td>18781111175537580</td>\n",
       "      <td>Asia/Manila</td>\n",
       "      <td>28800000.0</td>\n",
       "      <td>11343848</td>\n",
       "      <td>False</td>\n",
       "      <td>True</td>\n",
       "      <td>PH</td>\n",
       "      <td>00</td>\n",
       "      <td>makati</td>\n",
       "      <td>...</td>\n",
       "      <td>en_GB</td>\n",
       "      <td>Android OS</td>\n",
       "      <td>10</td>\n",
       "      <td>546a3d98-d540-4e72-ad82-9ebd64e0839b</td>\n",
       "      <td>9943447915df3a45fd6720a026af905b6da6b56a37701b...</td>\n",
       "      <td>3</td>\n",
       "      <td>7</td>\n",
       "      <td>2018-10-11</td>\n",
       "      <td>2018-10-07</td>\n",
       "      <td>4</td>\n",
       "    </tr>\n",
       "    <tr>\n",
       "      <th>2</th>\n",
       "      <td>2</td>\n",
       "      <td>1477540082628742048</td>\n",
       "      <td>Asia/Manila</td>\n",
       "      <td>28800000.0</td>\n",
       "      <td>13499724</td>\n",
       "      <td>False</td>\n",
       "      <td>True</td>\n",
       "      <td>PH</td>\n",
       "      <td>11</td>\n",
       "      <td>davao city</td>\n",
       "      <td>...</td>\n",
       "      <td>en_GB</td>\n",
       "      <td>Android OS</td>\n",
       "      <td>13</td>\n",
       "      <td>546a3d98-d540-4e72-ad82-9ebd64e0839b</td>\n",
       "      <td>9943447915df3a45fd6720a026af905b6da6b56a37701b...</td>\n",
       "      <td>6</td>\n",
       "      <td>19</td>\n",
       "      <td>2018-10-21</td>\n",
       "      <td>2018-10-07</td>\n",
       "      <td>14</td>\n",
       "    </tr>\n",
       "    <tr>\n",
       "      <th>3</th>\n",
       "      <td>3</td>\n",
       "      <td>8184875317380844086</td>\n",
       "      <td>Asia/Manila</td>\n",
       "      <td>28800000.0</td>\n",
       "      <td>32788010</td>\n",
       "      <td>False</td>\n",
       "      <td>True</td>\n",
       "      <td>PH</td>\n",
       "      <td>00</td>\n",
       "      <td>makati</td>\n",
       "      <td>...</td>\n",
       "      <td>en_GB</td>\n",
       "      <td>Android OS</td>\n",
       "      <td>41</td>\n",
       "      <td>546a3d98-d540-4e72-ad82-9ebd64e0839b</td>\n",
       "      <td>9943447915df3a45fd6720a026af905b6da6b56a37701b...</td>\n",
       "      <td>1</td>\n",
       "      <td>7</td>\n",
       "      <td>2018-11-20</td>\n",
       "      <td>2018-10-07</td>\n",
       "      <td>44</td>\n",
       "    </tr>\n",
       "    <tr>\n",
       "      <th>4</th>\n",
       "      <td>4</td>\n",
       "      <td>4706180700083856343</td>\n",
       "      <td>Asia/Manila</td>\n",
       "      <td>28800000.0</td>\n",
       "      <td>5872534</td>\n",
       "      <td>False</td>\n",
       "      <td>True</td>\n",
       "      <td>PH</td>\n",
       "      <td>11</td>\n",
       "      <td>davao city</td>\n",
       "      <td>...</td>\n",
       "      <td>en_GB</td>\n",
       "      <td>Android OS</td>\n",
       "      <td>4</td>\n",
       "      <td>546a3d98-d540-4e72-ad82-9ebd64e0839b</td>\n",
       "      <td>9943447915df3a45fd6720a026af905b6da6b56a37701b...</td>\n",
       "      <td>0</td>\n",
       "      <td>19</td>\n",
       "      <td>2018-10-08</td>\n",
       "      <td>2018-10-07</td>\n",
       "      <td>1</td>\n",
       "    </tr>\n",
       "  </tbody>\n",
       "</table>\n",
       "<p>5 rows × 22 columns</p>\n",
       "</div>"
      ],
      "text/plain": [
       "   Unnamed: 0           session_id     timezone  timezone_offset  \\\n",
       "0           0  5558845121177764917  Asia/Manila       28800000.0   \n",
       "1           1    18781111175537580  Asia/Manila       28800000.0   \n",
       "2           2  1477540082628742048  Asia/Manila       28800000.0   \n",
       "3           3  8184875317380844086  Asia/Manila       28800000.0   \n",
       "4           4  4706180700083856343  Asia/Manila       28800000.0   \n",
       "\n",
       "   previous_sessions_duration is_user_first_session is_session country region  \\\n",
       "0                    25837591                 False       True      PH     00   \n",
       "1                    11343848                 False       True      PH     00   \n",
       "2                    13499724                 False       True      PH     11   \n",
       "3                    32788010                 False       True      PH     00   \n",
       "4                     5872534                 False       True      PH     11   \n",
       "\n",
       "         city         ...          locale     os_name session_index  \\\n",
       "0      makati         ...           en_GB  Android OS            30   \n",
       "1      makati         ...           en_GB  Android OS            10   \n",
       "2  davao city         ...           en_GB  Android OS            13   \n",
       "3      makati         ...           en_GB  Android OS            41   \n",
       "4  davao city         ...           en_GB  Android OS             4   \n",
       "\n",
       "                              device_id  \\\n",
       "0  546a3d98-d540-4e72-ad82-9ebd64e0839b   \n",
       "1  546a3d98-d540-4e72-ad82-9ebd64e0839b   \n",
       "2  546a3d98-d540-4e72-ad82-9ebd64e0839b   \n",
       "3  546a3d98-d540-4e72-ad82-9ebd64e0839b   \n",
       "4  546a3d98-d540-4e72-ad82-9ebd64e0839b   \n",
       "\n",
       "                                        user_id_hash start_dow start_hour  \\\n",
       "0  9943447915df3a45fd6720a026af905b6da6b56a37701b...         3          1   \n",
       "1  9943447915df3a45fd6720a026af905b6da6b56a37701b...         3          7   \n",
       "2  9943447915df3a45fd6720a026af905b6da6b56a37701b...         6         19   \n",
       "3  9943447915df3a45fd6720a026af905b6da6b56a37701b...         1          7   \n",
       "4  9943447915df3a45fd6720a026af905b6da6b56a37701b...         0         19   \n",
       "\n",
       "   start_date  create_date create_session_time  \n",
       "0  2018-11-15   2018-10-07                  39  \n",
       "1  2018-10-11   2018-10-07                   4  \n",
       "2  2018-10-21   2018-10-07                  14  \n",
       "3  2018-11-20   2018-10-07                  44  \n",
       "4  2018-10-08   2018-10-07                   1  \n",
       "\n",
       "[5 rows x 22 columns]"
      ]
     },
     "execution_count": 3,
     "metadata": {},
     "output_type": "execute_result"
    }
   ],
   "source": [
    "bucket_name = 'advanced-ml-project' # Add your bucket name\n",
    "file_name = 'sessions_train.csv'\n",
    "s3 = boto3.client('s3')\n",
    "obj = s3.get_object(Bucket=bucket_name, Key=file_name) # S3 uses key-value structure where key is your file name\n",
    "df_train = pd.read_csv(obj['Body'])\n",
    "df_train.head()"
   ]
  },
  {
   "cell_type": "markdown",
   "metadata": {},
   "source": [
    "### Time_stamp"
   ]
  },
  {
   "cell_type": "markdown",
   "metadata": {},
   "source": [
    "* aggregate features - user-level"
   ]
  },
  {
   "cell_type": "code",
   "execution_count": 4,
   "metadata": {
    "ExecuteTime": {
     "end_time": "2019-02-18T18:40:53.793025Z",
     "start_time": "2019-02-18T18:40:53.186602Z"
    },
    "collapsed": true
   },
   "outputs": [],
   "source": [
    "df_train = df_train.drop(['Unnamed: 0'], axis=1)"
   ]
  },
  {
   "cell_type": "code",
   "execution_count": 5,
   "metadata": {
    "ExecuteTime": {
     "end_time": "2019-02-18T18:40:54.527542Z",
     "start_time": "2019-02-18T18:40:54.496048Z"
    }
   },
   "outputs": [
    {
     "data": {
      "text/html": [
       "<div>\n",
       "<table border=\"1\" class=\"dataframe\">\n",
       "  <thead>\n",
       "    <tr style=\"text-align: right;\">\n",
       "      <th></th>\n",
       "      <th>session_id</th>\n",
       "      <th>timezone</th>\n",
       "      <th>timezone_offset</th>\n",
       "      <th>previous_sessions_duration</th>\n",
       "      <th>is_user_first_session</th>\n",
       "      <th>is_session</th>\n",
       "      <th>country</th>\n",
       "      <th>region</th>\n",
       "      <th>city</th>\n",
       "      <th>latitude</th>\n",
       "      <th>...</th>\n",
       "      <th>locale</th>\n",
       "      <th>os_name</th>\n",
       "      <th>session_index</th>\n",
       "      <th>device_id</th>\n",
       "      <th>user_id_hash</th>\n",
       "      <th>start_dow</th>\n",
       "      <th>start_hour</th>\n",
       "      <th>start_date</th>\n",
       "      <th>create_date</th>\n",
       "      <th>create_session_time</th>\n",
       "    </tr>\n",
       "  </thead>\n",
       "  <tbody>\n",
       "    <tr>\n",
       "      <th>0</th>\n",
       "      <td>5558845121177764917</td>\n",
       "      <td>Asia/Manila</td>\n",
       "      <td>28800000.0</td>\n",
       "      <td>25837591</td>\n",
       "      <td>False</td>\n",
       "      <td>True</td>\n",
       "      <td>PH</td>\n",
       "      <td>00</td>\n",
       "      <td>makati</td>\n",
       "      <td>14.554729</td>\n",
       "      <td>...</td>\n",
       "      <td>en_GB</td>\n",
       "      <td>Android OS</td>\n",
       "      <td>30</td>\n",
       "      <td>546a3d98-d540-4e72-ad82-9ebd64e0839b</td>\n",
       "      <td>9943447915df3a45fd6720a026af905b6da6b56a37701b...</td>\n",
       "      <td>3</td>\n",
       "      <td>1</td>\n",
       "      <td>2018-11-15</td>\n",
       "      <td>2018-10-07</td>\n",
       "      <td>39</td>\n",
       "    </tr>\n",
       "    <tr>\n",
       "      <th>1</th>\n",
       "      <td>18781111175537580</td>\n",
       "      <td>Asia/Manila</td>\n",
       "      <td>28800000.0</td>\n",
       "      <td>11343848</td>\n",
       "      <td>False</td>\n",
       "      <td>True</td>\n",
       "      <td>PH</td>\n",
       "      <td>00</td>\n",
       "      <td>makati</td>\n",
       "      <td>14.554729</td>\n",
       "      <td>...</td>\n",
       "      <td>en_GB</td>\n",
       "      <td>Android OS</td>\n",
       "      <td>10</td>\n",
       "      <td>546a3d98-d540-4e72-ad82-9ebd64e0839b</td>\n",
       "      <td>9943447915df3a45fd6720a026af905b6da6b56a37701b...</td>\n",
       "      <td>3</td>\n",
       "      <td>7</td>\n",
       "      <td>2018-10-11</td>\n",
       "      <td>2018-10-07</td>\n",
       "      <td>4</td>\n",
       "    </tr>\n",
       "    <tr>\n",
       "      <th>2</th>\n",
       "      <td>1477540082628742048</td>\n",
       "      <td>Asia/Manila</td>\n",
       "      <td>28800000.0</td>\n",
       "      <td>13499724</td>\n",
       "      <td>False</td>\n",
       "      <td>True</td>\n",
       "      <td>PH</td>\n",
       "      <td>11</td>\n",
       "      <td>davao city</td>\n",
       "      <td>7.190708</td>\n",
       "      <td>...</td>\n",
       "      <td>en_GB</td>\n",
       "      <td>Android OS</td>\n",
       "      <td>13</td>\n",
       "      <td>546a3d98-d540-4e72-ad82-9ebd64e0839b</td>\n",
       "      <td>9943447915df3a45fd6720a026af905b6da6b56a37701b...</td>\n",
       "      <td>6</td>\n",
       "      <td>19</td>\n",
       "      <td>2018-10-21</td>\n",
       "      <td>2018-10-07</td>\n",
       "      <td>14</td>\n",
       "    </tr>\n",
       "    <tr>\n",
       "      <th>3</th>\n",
       "      <td>8184875317380844086</td>\n",
       "      <td>Asia/Manila</td>\n",
       "      <td>28800000.0</td>\n",
       "      <td>32788010</td>\n",
       "      <td>False</td>\n",
       "      <td>True</td>\n",
       "      <td>PH</td>\n",
       "      <td>00</td>\n",
       "      <td>makati</td>\n",
       "      <td>14.554729</td>\n",
       "      <td>...</td>\n",
       "      <td>en_GB</td>\n",
       "      <td>Android OS</td>\n",
       "      <td>41</td>\n",
       "      <td>546a3d98-d540-4e72-ad82-9ebd64e0839b</td>\n",
       "      <td>9943447915df3a45fd6720a026af905b6da6b56a37701b...</td>\n",
       "      <td>1</td>\n",
       "      <td>7</td>\n",
       "      <td>2018-11-20</td>\n",
       "      <td>2018-10-07</td>\n",
       "      <td>44</td>\n",
       "    </tr>\n",
       "    <tr>\n",
       "      <th>4</th>\n",
       "      <td>4706180700083856343</td>\n",
       "      <td>Asia/Manila</td>\n",
       "      <td>28800000.0</td>\n",
       "      <td>5872534</td>\n",
       "      <td>False</td>\n",
       "      <td>True</td>\n",
       "      <td>PH</td>\n",
       "      <td>11</td>\n",
       "      <td>davao city</td>\n",
       "      <td>7.190708</td>\n",
       "      <td>...</td>\n",
       "      <td>en_GB</td>\n",
       "      <td>Android OS</td>\n",
       "      <td>4</td>\n",
       "      <td>546a3d98-d540-4e72-ad82-9ebd64e0839b</td>\n",
       "      <td>9943447915df3a45fd6720a026af905b6da6b56a37701b...</td>\n",
       "      <td>0</td>\n",
       "      <td>19</td>\n",
       "      <td>2018-10-08</td>\n",
       "      <td>2018-10-07</td>\n",
       "      <td>1</td>\n",
       "    </tr>\n",
       "  </tbody>\n",
       "</table>\n",
       "<p>5 rows × 21 columns</p>\n",
       "</div>"
      ],
      "text/plain": [
       "            session_id     timezone  timezone_offset  \\\n",
       "0  5558845121177764917  Asia/Manila       28800000.0   \n",
       "1    18781111175537580  Asia/Manila       28800000.0   \n",
       "2  1477540082628742048  Asia/Manila       28800000.0   \n",
       "3  8184875317380844086  Asia/Manila       28800000.0   \n",
       "4  4706180700083856343  Asia/Manila       28800000.0   \n",
       "\n",
       "   previous_sessions_duration is_user_first_session is_session country region  \\\n",
       "0                    25837591                 False       True      PH     00   \n",
       "1                    11343848                 False       True      PH     00   \n",
       "2                    13499724                 False       True      PH     11   \n",
       "3                    32788010                 False       True      PH     00   \n",
       "4                     5872534                 False       True      PH     11   \n",
       "\n",
       "         city   latitude         ...          locale     os_name  \\\n",
       "0      makati  14.554729         ...           en_GB  Android OS   \n",
       "1      makati  14.554729         ...           en_GB  Android OS   \n",
       "2  davao city   7.190708         ...           en_GB  Android OS   \n",
       "3      makati  14.554729         ...           en_GB  Android OS   \n",
       "4  davao city   7.190708         ...           en_GB  Android OS   \n",
       "\n",
       "  session_index                             device_id  \\\n",
       "0            30  546a3d98-d540-4e72-ad82-9ebd64e0839b   \n",
       "1            10  546a3d98-d540-4e72-ad82-9ebd64e0839b   \n",
       "2            13  546a3d98-d540-4e72-ad82-9ebd64e0839b   \n",
       "3            41  546a3d98-d540-4e72-ad82-9ebd64e0839b   \n",
       "4             4  546a3d98-d540-4e72-ad82-9ebd64e0839b   \n",
       "\n",
       "                                        user_id_hash start_dow  start_hour  \\\n",
       "0  9943447915df3a45fd6720a026af905b6da6b56a37701b...         3           1   \n",
       "1  9943447915df3a45fd6720a026af905b6da6b56a37701b...         3           7   \n",
       "2  9943447915df3a45fd6720a026af905b6da6b56a37701b...         6          19   \n",
       "3  9943447915df3a45fd6720a026af905b6da6b56a37701b...         1           7   \n",
       "4  9943447915df3a45fd6720a026af905b6da6b56a37701b...         0          19   \n",
       "\n",
       "   start_date create_date create_session_time  \n",
       "0  2018-11-15  2018-10-07                  39  \n",
       "1  2018-10-11  2018-10-07                   4  \n",
       "2  2018-10-21  2018-10-07                  14  \n",
       "3  2018-11-20  2018-10-07                  44  \n",
       "4  2018-10-08  2018-10-07                   1  \n",
       "\n",
       "[5 rows x 21 columns]"
      ]
     },
     "execution_count": 5,
     "metadata": {},
     "output_type": "execute_result"
    }
   ],
   "source": [
    "df_train.head()"
   ]
  },
  {
   "cell_type": "code",
   "execution_count": 6,
   "metadata": {
    "ExecuteTime": {
     "end_time": "2019-02-18T18:40:58.890721Z",
     "start_time": "2019-02-18T18:40:55.839434Z"
    }
   },
   "outputs": [
    {
     "data": {
      "text/plain": [
       "session_id                    False\n",
       "timezone                       True\n",
       "timezone_offset               False\n",
       "previous_sessions_duration    False\n",
       "is_user_first_session         False\n",
       "is_session                    False\n",
       "country                        True\n",
       "region                         True\n",
       "city                           True\n",
       "latitude                       True\n",
       "longitude                      True\n",
       "locale                         True\n",
       "os_name                        True\n",
       "session_index                 False\n",
       "device_id                      True\n",
       "user_id_hash                  False\n",
       "start_dow                     False\n",
       "start_hour                    False\n",
       "start_date                    False\n",
       "create_date                   False\n",
       "create_session_time           False\n",
       "dtype: bool"
      ]
     },
     "execution_count": 6,
     "metadata": {},
     "output_type": "execute_result"
    }
   ],
   "source": [
    "pd.isnull(df_train).any()"
   ]
  },
  {
   "cell_type": "code",
   "execution_count": 9,
   "metadata": {
    "ExecuteTime": {
     "end_time": "2019-02-18T07:42:34.378969Z",
     "start_time": "2019-02-18T07:42:34.200422Z"
    },
    "collapsed": true
   },
   "outputs": [],
   "source": [
    "train_feature = pd.DataFrame(df_train.user_id_hash.unique(), columns=['user_id_hash'])"
   ]
  },
  {
   "cell_type": "code",
   "execution_count": 11,
   "metadata": {
    "ExecuteTime": {
     "end_time": "2019-02-18T07:45:31.578716Z",
     "start_time": "2019-02-18T07:43:01.299204Z"
    },
    "collapsed": true
   },
   "outputs": [],
   "source": [
    "train_feature['most_freq_dow'] = train_feature.user_id_hash.map(df_train.groupby('user_id_hash').start_dow.agg(lambda x: x.value_counts().index[0]))"
   ]
  },
  {
   "cell_type": "code",
   "execution_count": 12,
   "metadata": {
    "ExecuteTime": {
     "end_time": "2019-02-18T07:49:05.344998Z",
     "start_time": "2019-02-18T07:46:32.789453Z"
    },
    "collapsed": true
   },
   "outputs": [],
   "source": [
    "train_feature['most_freq_hour'] = train_feature.user_id_hash.map(df_train.groupby('user_id_hash').start_hour.agg(lambda x: x.value_counts().index[0]))"
   ]
  },
  {
   "cell_type": "code",
   "execution_count": 13,
   "metadata": {
    "ExecuteTime": {
     "end_time": "2019-02-18T07:49:06.504235Z",
     "start_time": "2019-02-18T07:49:05.346311Z"
    },
    "collapsed": true
   },
   "outputs": [],
   "source": [
    "train_feature['median_create_session_time'] = train_feature.user_id_hash.map(df_train.groupby('user_id_hash').create_session_time.median())"
   ]
  },
  {
   "cell_type": "markdown",
   "metadata": {},
   "source": [
    "### session "
   ]
  },
  {
   "cell_type": "markdown",
   "metadata": {
    "ExecuteTime": {
     "end_time": "2019-02-18T07:50:19.598066Z",
     "start_time": "2019-02-18T07:50:19.595785Z"
    },
    "collapsed": true
   },
   "source": [
    "* study more on user session properties to get duration, interval features."
   ]
  },
  {
   "cell_type": "code",
   "execution_count": 17,
   "metadata": {
    "ExecuteTime": {
     "end_time": "2019-02-18T07:50:43.592046Z",
     "start_time": "2019-02-18T07:50:23.343592Z"
    },
    "collapsed": true
   },
   "outputs": [],
   "source": [
    "train_feature['session_count'] = train_feature.user_id_hash.map(df_train.groupby('user_id_hash').session_index.agg(lambda x: max(x)-min(x)+1))"
   ]
  },
  {
   "cell_type": "code",
   "execution_count": 18,
   "metadata": {
    "ExecuteTime": {
     "end_time": "2019-02-18T07:50:44.622026Z",
     "start_time": "2019-02-18T07:50:43.593368Z"
    },
    "collapsed": true
   },
   "outputs": [],
   "source": [
    "train_feature['session_durations'] = train_feature.user_id_hash.map(df_train.groupby('user_id_hash').previous_sessions_duration.sum())"
   ]
  },
  {
   "cell_type": "code",
   "execution_count": 19,
   "metadata": {
    "ExecuteTime": {
     "end_time": "2019-02-18T07:50:46.777371Z",
     "start_time": "2019-02-18T07:50:46.766472Z"
    },
    "collapsed": true
   },
   "outputs": [],
   "source": [
    "train_feature['mean_session_durations'] = train_feature.session_durations/train_feature.session_count"
   ]
  },
  {
   "cell_type": "code",
   "execution_count": 20,
   "metadata": {
    "ExecuteTime": {
     "end_time": "2019-02-18T07:50:47.132189Z",
     "start_time": "2019-02-18T07:50:47.127860Z"
    },
    "collapsed": true
   },
   "outputs": [],
   "source": [
    "train_feature['mean_session_interval'] = train_feature.median_create_session_time/train_feature.session_count"
   ]
  },
  {
   "cell_type": "code",
   "execution_count": null,
   "metadata": {
    "collapsed": true
   },
   "outputs": [],
   "source": [
    "train_feature['mean_session_interval'].replace(np.inf, 0, inplace=True)"
   ]
  },
  {
   "cell_type": "markdown",
   "metadata": {},
   "source": [
    "### geographic"
   ]
  },
  {
   "cell_type": "markdown",
   "metadata": {},
   "source": [
    "* most frequent country/region/city"
   ]
  },
  {
   "cell_type": "code",
   "execution_count": 21,
   "metadata": {
    "ExecuteTime": {
     "end_time": "2019-02-18T07:51:08.967091Z",
     "start_time": "2019-02-18T07:51:08.576864Z"
    },
    "collapsed": true
   },
   "outputs": [],
   "source": [
    "df_train.country = df_train.country.fillna('others')\n",
    "df_train.region = df_train.region.fillna('others')\n",
    "df_train.city = df_train.city.fillna('others')"
   ]
  },
  {
   "cell_type": "code",
   "execution_count": 22,
   "metadata": {
    "ExecuteTime": {
     "end_time": "2019-02-18T07:59:49.969139Z",
     "start_time": "2019-02-18T07:51:14.104145Z"
    },
    "collapsed": true
   },
   "outputs": [],
   "source": [
    "train_feature['most_freq_country'] = train_feature.user_id_hash.map(df_train.groupby('user_id_hash').country.agg(lambda x: x.value_counts().index[0]))\n",
    "train_feature['most_freq_region'] = train_feature.user_id_hash.map(df_train.groupby('user_id_hash').region.agg(lambda x: x.value_counts().index[0]))\n",
    "train_feature['most_freq_city'] = train_feature.user_id_hash.map(df_train.groupby('user_id_hash').city.agg(lambda x: x.value_counts().index[0]))"
   ]
  },
  {
   "cell_type": "code",
   "execution_count": null,
   "metadata": {
    "ExecuteTime": {
     "end_time": "2019-02-18T07:39:53.452455Z",
     "start_time": "2019-02-18T07:36:43.091Z"
    },
    "collapsed": true
   },
   "outputs": [],
   "source": [
    "# leave local for now because it contains some error as well as some replicates en-us-us vs en-us"
   ]
  },
  {
   "cell_type": "markdown",
   "metadata": {},
   "source": [
    "### device info"
   ]
  },
  {
   "cell_type": "code",
   "execution_count": 23,
   "metadata": {
    "ExecuteTime": {
     "end_time": "2019-02-18T08:03:02.802509Z",
     "start_time": "2019-02-18T08:00:12.723337Z"
    },
    "collapsed": true
   },
   "outputs": [],
   "source": [
    "df_train.os_name = df_train.os_name.fillna('others')\n",
    "train_feature['most_freq_os'] = train_feature.user_id_hash.map(df_train.groupby('user_id_hash').os_name.agg(lambda x: x.value_counts().index[0]))"
   ]
  },
  {
   "cell_type": "code",
   "execution_count": null,
   "metadata": {
    "ExecuteTime": {
     "end_time": "2019-02-18T07:39:53.452977Z",
     "start_time": "2019-02-18T07:36:45.181Z"
    },
    "collapsed": true
   },
   "outputs": [],
   "source": [
    "# leave device id right now "
   ]
  },
  {
   "cell_type": "markdown",
   "metadata": {},
   "source": [
    "### join events info to get more features"
   ]
  },
  {
   "cell_type": "code",
   "execution_count": null,
   "metadata": {
    "ExecuteTime": {
     "start_time": "2019-02-18T08:03:26.167Z"
    },
    "collapsed": true
   },
   "outputs": [],
   "source": [
    "file_name = 'events.csv'\n",
    "s3 = boto3.client('s3')\n",
    "obj = s3.get_object(Bucket=bucket_name, Key=file_name) # S3 uses key-value structure where key is your file name\n",
    "event = pd.read_csv(obj['Body'])\n",
    "event.head()"
   ]
  },
  {
   "cell_type": "code",
   "execution_count": 29,
   "metadata": {
    "ExecuteTime": {
     "end_time": "2019-02-18T07:00:21.408246Z",
     "start_time": "2019-02-18T06:59:39.426373Z"
    },
    "collapsed": true
   },
   "outputs": [],
   "source": [
    "event['label'] = event.event.apply(lambda x: 1 if x=='8' else 0)"
   ]
  },
  {
   "cell_type": "code",
   "execution_count": null,
   "metadata": {
    "collapsed": true
   },
   "outputs": [],
   "source": [
    "df_event = event.groupby('session_id').label.sum()\n",
    "df_event = df_event.reset_index()"
   ]
  },
  {
   "cell_type": "code",
   "execution_count": null,
   "metadata": {
    "collapsed": true
   },
   "outputs": [],
   "source": [
    "purchase_time = event[event.label==1].groupby('session_id').event_timestamp.median()\n",
    "purchase_time = purchase_time.reset_index()"
   ]
  },
  {
   "cell_type": "code",
   "execution_count": null,
   "metadata": {
    "collapsed": true
   },
   "outputs": [],
   "source": [
    "# get session level purchase count and purchase time info\n",
    "df_event2 = pd.merge(df_event,purchase_time, how='left', on=['session_id'])"
   ]
  },
  {
   "cell_type": "code",
   "execution_count": null,
   "metadata": {
    "collapsed": true
   },
   "outputs": [],
   "source": [
    "# based on session train dataframe join event train, thus we only get info before Dec\n",
    "df_train2 = pd.merge(df_train,df_event2, how='left', on=['session_id'])"
   ]
  },
  {
   "cell_type": "code",
   "execution_count": null,
   "metadata": {
    "collapsed": true
   },
   "outputs": [],
   "source": [
    "# user purchase count\n",
    "train_feature['purchase_counts'] = train_feature.user_id_hash.map(df_train2.groupby('user_id_hash').label.sum())"
   ]
  },
  {
   "cell_type": "code",
   "execution_count": null,
   "metadata": {
    "collapsed": true
   },
   "outputs": [],
   "source": [
    "df_train2['purchase_time'] = pd.to_datetime(df_train2.event_timestamp+df_train2.timezone_offset, unit='ms')\n",
    "df_train2['purchase_dow'] = df_train2.median_purchase_time.dt.dayofweek\n",
    "df_train2['purchase_hour'] = df_train2.median_purchase_time.dt.hour"
   ]
  },
  {
   "cell_type": "code",
   "execution_count": null,
   "metadata": {
    "collapsed": true
   },
   "outputs": [],
   "source": [
    "# most frequent purchase dow / hour\n",
    "train_feature['most_frequent_purchase_dow'] = train_feature.user_id_hash.map(df_train2[df_train2.label>0].groupby('user_id_hash').purchase_dow.agg(lambda x: x.value_counts().index[0]))\n",
    "train_feature.most_frequent_purchase_dow = train_feature.most_frequent_purchase_dow.fillna(7)"
   ]
  },
  {
   "cell_type": "code",
   "execution_count": null,
   "metadata": {
    "collapsed": true
   },
   "outputs": [],
   "source": [
    "train_feature['most_frequent_purchase_hour'] = train_feature.user_id_hash.map(df_train2[df_train2.label>0].groupby('user_id_hash').purchase_hour.agg(lambda x: x.value_counts().index[0]))\n",
    "train_feature.most_frequent_purchase_hour = train_feature.most_frequent_purchase_hour.fillna(24)"
   ]
  },
  {
   "cell_type": "code",
   "execution_count": null,
   "metadata": {
    "collapsed": true
   },
   "outputs": [],
   "source": [
    "train_feature['purchase_perc'] = train_feature.purchase_counts/test_feature.session_count"
   ]
  },
  {
   "cell_type": "code",
   "execution_count": null,
   "metadata": {
    "collapsed": true
   },
   "outputs": [],
   "source": [
    "# add purchase amount info from event\n",
    "event_train = pd.read_csv('feature_eng/training_events.csv')\n",
    "\n",
    "total_amount = event_train.groupby('user_id_hash', as_index=False)['event_value'].\\\n",
    "    sum().rename(columns={'event_value':'total_amount'})\n",
    "\n",
    "train_feature = pd.merge(train_feature, total_amount, how='left', on='user_id_hash')\n",
    "train_feature.fillna(0, inplace=True)"
   ]
  },
  {
   "cell_type": "markdown",
   "metadata": {},
   "source": [
    "### Label encoding"
   ]
  },
  {
   "cell_type": "markdown",
   "metadata": {
    "ExecuteTime": {
     "end_time": "2019-02-19T00:05:22.934376Z",
     "start_time": "2019-02-19T00:05:22.931172Z"
    }
   },
   "source": [
    "* Use label encoding encode categorical columns"
   ]
  },
  {
   "cell_type": "code",
   "execution_count": null,
   "metadata": {
    "collapsed": true
   },
   "outputs": [],
   "source": [
    "# fillna by most frequentist value\n",
    "cols = list(train_feature.columns)\n",
    "for col in cols:\n",
    "    train_feature[col] = train_feature[col].fillna(train_feature[col].value_counts().index[0])"
   ]
  },
  {
   "cell_type": "code",
   "execution_count": null,
   "metadata": {
    "collapsed": true
   },
   "outputs": [],
   "source": [
    "from sklearn.preprocessing import LabelEncoder\n",
    "cols = ['most_freq_country', 'most_freq_region', 'most_freq_city', 'most_freq_os']\n",
    "for col in cols:\n",
    "    encoder = LabelEncoder()\n",
    "    train_feature[col] = encoder.fit_transform(train_feature[col])"
   ]
  },
  {
   "cell_type": "code",
   "execution_count": 10,
   "metadata": {
    "ExecuteTime": {
     "end_time": "2019-02-18T18:46:55.029703Z",
     "start_time": "2019-02-18T18:46:55.009549Z"
    }
   },
   "outputs": [
    {
     "data": {
      "text/html": [
       "<div>\n",
       "<table border=\"1\" class=\"dataframe\">\n",
       "  <thead>\n",
       "    <tr style=\"text-align: right;\">\n",
       "      <th></th>\n",
       "      <th>user_id_hash</th>\n",
       "      <th>most_freq_dow</th>\n",
       "      <th>most_freq_hour</th>\n",
       "      <th>median_create_session_time</th>\n",
       "      <th>session_count</th>\n",
       "      <th>session_durations</th>\n",
       "      <th>mean_session_durations</th>\n",
       "      <th>mean_session_interval</th>\n",
       "      <th>most_freq_country</th>\n",
       "      <th>most_freq_region</th>\n",
       "      <th>most_freq_city</th>\n",
       "      <th>most_freq_os</th>\n",
       "      <th>purchase_counts</th>\n",
       "      <th>most_frequent_purchase_dow</th>\n",
       "      <th>most_frequent_purchase_hour</th>\n",
       "      <th>purchase_perc</th>\n",
       "      <th>total_amount</th>\n",
       "    </tr>\n",
       "  </thead>\n",
       "  <tbody>\n",
       "    <tr>\n",
       "      <th>0</th>\n",
       "      <td>9943447915df3a45fd6720a026af905b6da6b56a37701b...</td>\n",
       "      <td>6</td>\n",
       "      <td>7</td>\n",
       "      <td>36.0</td>\n",
       "      <td>46</td>\n",
       "      <td>938183565</td>\n",
       "      <td>2.039529e+07</td>\n",
       "      <td>0.782609</td>\n",
       "      <td>162</td>\n",
       "      <td>0</td>\n",
       "      <td>13825</td>\n",
       "      <td>0</td>\n",
       "      <td>1.0</td>\n",
       "      <td>6.0</td>\n",
       "      <td>13.0</td>\n",
       "      <td>0.021739</td>\n",
       "      <td>3.493</td>\n",
       "    </tr>\n",
       "    <tr>\n",
       "      <th>1</th>\n",
       "      <td>43f75f8042d3c80c45e222bdd09267f4584684c54d6fae...</td>\n",
       "      <td>5</td>\n",
       "      <td>23</td>\n",
       "      <td>0.0</td>\n",
       "      <td>3</td>\n",
       "      <td>6074816</td>\n",
       "      <td>2.024939e+06</td>\n",
       "      <td>0.000000</td>\n",
       "      <td>69</td>\n",
       "      <td>281</td>\n",
       "      <td>22704</td>\n",
       "      <td>1</td>\n",
       "      <td>0.0</td>\n",
       "      <td>7.0</td>\n",
       "      <td>24.0</td>\n",
       "      <td>0.000000</td>\n",
       "      <td>0.000</td>\n",
       "    </tr>\n",
       "    <tr>\n",
       "      <th>2</th>\n",
       "      <td>999524249720812f2d8c0390293efd58e1ac84d587a01c...</td>\n",
       "      <td>2</td>\n",
       "      <td>22</td>\n",
       "      <td>0.0</td>\n",
       "      <td>1</td>\n",
       "      <td>0</td>\n",
       "      <td>0.000000e+00</td>\n",
       "      <td>0.000000</td>\n",
       "      <td>210</td>\n",
       "      <td>299</td>\n",
       "      <td>3615</td>\n",
       "      <td>1</td>\n",
       "      <td>0.0</td>\n",
       "      <td>7.0</td>\n",
       "      <td>24.0</td>\n",
       "      <td>0.000000</td>\n",
       "      <td>0.000</td>\n",
       "    </tr>\n",
       "    <tr>\n",
       "      <th>3</th>\n",
       "      <td>4e6bc35cf7fd79a5312047651e7865915f4a6bec193cf2...</td>\n",
       "      <td>3</td>\n",
       "      <td>15</td>\n",
       "      <td>2.0</td>\n",
       "      <td>1</td>\n",
       "      <td>596967</td>\n",
       "      <td>5.969670e+05</td>\n",
       "      <td>2.000000</td>\n",
       "      <td>94</td>\n",
       "      <td>162</td>\n",
       "      <td>8974</td>\n",
       "      <td>0</td>\n",
       "      <td>0.0</td>\n",
       "      <td>7.0</td>\n",
       "      <td>24.0</td>\n",
       "      <td>0.000000</td>\n",
       "      <td>0.000</td>\n",
       "    </tr>\n",
       "    <tr>\n",
       "      <th>4</th>\n",
       "      <td>dc009148ee26d658e0240c7b7f6a258790a457737f96e8...</td>\n",
       "      <td>2</td>\n",
       "      <td>2</td>\n",
       "      <td>0.5</td>\n",
       "      <td>1</td>\n",
       "      <td>97482</td>\n",
       "      <td>9.748200e+04</td>\n",
       "      <td>0.500000</td>\n",
       "      <td>11</td>\n",
       "      <td>494</td>\n",
       "      <td>22861</td>\n",
       "      <td>0</td>\n",
       "      <td>0.0</td>\n",
       "      <td>7.0</td>\n",
       "      <td>24.0</td>\n",
       "      <td>0.000000</td>\n",
       "      <td>0.000</td>\n",
       "    </tr>\n",
       "  </tbody>\n",
       "</table>\n",
       "</div>"
      ],
      "text/plain": [
       "                                        user_id_hash  most_freq_dow  \\\n",
       "0  9943447915df3a45fd6720a026af905b6da6b56a37701b...              6   \n",
       "1  43f75f8042d3c80c45e222bdd09267f4584684c54d6fae...              5   \n",
       "2  999524249720812f2d8c0390293efd58e1ac84d587a01c...              2   \n",
       "3  4e6bc35cf7fd79a5312047651e7865915f4a6bec193cf2...              3   \n",
       "4  dc009148ee26d658e0240c7b7f6a258790a457737f96e8...              2   \n",
       "\n",
       "   most_freq_hour  median_create_session_time  session_count  \\\n",
       "0               7                        36.0             46   \n",
       "1              23                         0.0              3   \n",
       "2              22                         0.0              1   \n",
       "3              15                         2.0              1   \n",
       "4               2                         0.5              1   \n",
       "\n",
       "   session_durations  mean_session_durations  mean_session_interval  \\\n",
       "0          938183565            2.039529e+07               0.782609   \n",
       "1            6074816            2.024939e+06               0.000000   \n",
       "2                  0            0.000000e+00               0.000000   \n",
       "3             596967            5.969670e+05               2.000000   \n",
       "4              97482            9.748200e+04               0.500000   \n",
       "\n",
       "   most_freq_country  most_freq_region  most_freq_city  most_freq_os  \\\n",
       "0                162                 0           13825             0   \n",
       "1                 69               281           22704             1   \n",
       "2                210               299            3615             1   \n",
       "3                 94               162            8974             0   \n",
       "4                 11               494           22861             0   \n",
       "\n",
       "   purchase_counts  most_frequent_purchase_dow  most_frequent_purchase_hour  \\\n",
       "0              1.0                         6.0                         13.0   \n",
       "1              0.0                         7.0                         24.0   \n",
       "2              0.0                         7.0                         24.0   \n",
       "3              0.0                         7.0                         24.0   \n",
       "4              0.0                         7.0                         24.0   \n",
       "\n",
       "   purchase_perc  total_amount  \n",
       "0       0.021739         3.493  \n",
       "1       0.000000         0.000  \n",
       "2       0.000000         0.000  \n",
       "3       0.000000         0.000  \n",
       "4       0.000000         0.000  "
      ]
     },
     "execution_count": 10,
     "metadata": {},
     "output_type": "execute_result"
    }
   ],
   "source": [
    "train_feature.head()"
   ]
  },
  {
   "cell_type": "code",
   "execution_count": null,
   "metadata": {
    "collapsed": true
   },
   "outputs": [],
   "source": [
    "train_feature.to_csv('feature_eng/train_feature.csv')"
   ]
  },
  {
   "cell_type": "markdown",
   "metadata": {},
   "source": [
    "### Combine train features and labels"
   ]
  },
  {
   "cell_type": "code",
   "execution_count": null,
   "metadata": {
    "collapsed": true
   },
   "outputs": [],
   "source": [
    "train_label = pd.read_csv('feature_eng/train_label.csv')\n",
    "train_dataset = pd.merge(training, train_label, how='left', on='user_id_hash')"
   ]
  },
  {
   "cell_type": "code",
   "execution_count": 14,
   "metadata": {
    "ExecuteTime": {
     "end_time": "2019-02-18T18:55:06.302447Z",
     "start_time": "2019-02-18T18:55:06.280100Z"
    }
   },
   "outputs": [
    {
     "data": {
      "text/html": [
       "<div>\n",
       "<table border=\"1\" class=\"dataframe\">\n",
       "  <thead>\n",
       "    <tr style=\"text-align: right;\">\n",
       "      <th></th>\n",
       "      <th>user_id_hash</th>\n",
       "      <th>most_freq_dow</th>\n",
       "      <th>most_freq_hour</th>\n",
       "      <th>median_create_session_time</th>\n",
       "      <th>session_count</th>\n",
       "      <th>session_durations</th>\n",
       "      <th>mean_session_durations</th>\n",
       "      <th>mean_session_interval</th>\n",
       "      <th>most_freq_country</th>\n",
       "      <th>most_freq_region</th>\n",
       "      <th>most_freq_city</th>\n",
       "      <th>most_freq_os</th>\n",
       "      <th>purchase_counts</th>\n",
       "      <th>most_frequent_purchase_dow</th>\n",
       "      <th>most_frequent_purchase_hour</th>\n",
       "      <th>purchase_perc</th>\n",
       "      <th>total_amount</th>\n",
       "      <th>user_purchase_binary_7_days</th>\n",
       "      <th>user_purchase_binary_14_days</th>\n",
       "    </tr>\n",
       "  </thead>\n",
       "  <tbody>\n",
       "    <tr>\n",
       "      <th>0</th>\n",
       "      <td>9943447915df3a45fd6720a026af905b6da6b56a37701b...</td>\n",
       "      <td>6</td>\n",
       "      <td>7</td>\n",
       "      <td>36.0</td>\n",
       "      <td>46</td>\n",
       "      <td>938183565</td>\n",
       "      <td>2.039529e+07</td>\n",
       "      <td>0.782609</td>\n",
       "      <td>162</td>\n",
       "      <td>0</td>\n",
       "      <td>13825</td>\n",
       "      <td>0</td>\n",
       "      <td>1.0</td>\n",
       "      <td>6.0</td>\n",
       "      <td>13.0</td>\n",
       "      <td>0.021739</td>\n",
       "      <td>3.493</td>\n",
       "      <td>0.0</td>\n",
       "      <td>0.0</td>\n",
       "    </tr>\n",
       "    <tr>\n",
       "      <th>1</th>\n",
       "      <td>43f75f8042d3c80c45e222bdd09267f4584684c54d6fae...</td>\n",
       "      <td>5</td>\n",
       "      <td>23</td>\n",
       "      <td>0.0</td>\n",
       "      <td>3</td>\n",
       "      <td>6074816</td>\n",
       "      <td>2.024939e+06</td>\n",
       "      <td>0.000000</td>\n",
       "      <td>69</td>\n",
       "      <td>281</td>\n",
       "      <td>22704</td>\n",
       "      <td>1</td>\n",
       "      <td>0.0</td>\n",
       "      <td>7.0</td>\n",
       "      <td>24.0</td>\n",
       "      <td>0.000000</td>\n",
       "      <td>0.000</td>\n",
       "      <td>0.0</td>\n",
       "      <td>0.0</td>\n",
       "    </tr>\n",
       "    <tr>\n",
       "      <th>2</th>\n",
       "      <td>999524249720812f2d8c0390293efd58e1ac84d587a01c...</td>\n",
       "      <td>2</td>\n",
       "      <td>22</td>\n",
       "      <td>0.0</td>\n",
       "      <td>1</td>\n",
       "      <td>0</td>\n",
       "      <td>0.000000e+00</td>\n",
       "      <td>0.000000</td>\n",
       "      <td>210</td>\n",
       "      <td>299</td>\n",
       "      <td>3615</td>\n",
       "      <td>1</td>\n",
       "      <td>0.0</td>\n",
       "      <td>7.0</td>\n",
       "      <td>24.0</td>\n",
       "      <td>0.000000</td>\n",
       "      <td>0.000</td>\n",
       "      <td>0.0</td>\n",
       "      <td>0.0</td>\n",
       "    </tr>\n",
       "    <tr>\n",
       "      <th>3</th>\n",
       "      <td>4e6bc35cf7fd79a5312047651e7865915f4a6bec193cf2...</td>\n",
       "      <td>3</td>\n",
       "      <td>15</td>\n",
       "      <td>2.0</td>\n",
       "      <td>1</td>\n",
       "      <td>596967</td>\n",
       "      <td>5.969670e+05</td>\n",
       "      <td>2.000000</td>\n",
       "      <td>94</td>\n",
       "      <td>162</td>\n",
       "      <td>8974</td>\n",
       "      <td>0</td>\n",
       "      <td>0.0</td>\n",
       "      <td>7.0</td>\n",
       "      <td>24.0</td>\n",
       "      <td>0.000000</td>\n",
       "      <td>0.000</td>\n",
       "      <td>0.0</td>\n",
       "      <td>0.0</td>\n",
       "    </tr>\n",
       "    <tr>\n",
       "      <th>4</th>\n",
       "      <td>dc009148ee26d658e0240c7b7f6a258790a457737f96e8...</td>\n",
       "      <td>2</td>\n",
       "      <td>2</td>\n",
       "      <td>0.5</td>\n",
       "      <td>1</td>\n",
       "      <td>97482</td>\n",
       "      <td>9.748200e+04</td>\n",
       "      <td>0.500000</td>\n",
       "      <td>11</td>\n",
       "      <td>494</td>\n",
       "      <td>22861</td>\n",
       "      <td>0</td>\n",
       "      <td>0.0</td>\n",
       "      <td>7.0</td>\n",
       "      <td>24.0</td>\n",
       "      <td>0.000000</td>\n",
       "      <td>0.000</td>\n",
       "      <td>0.0</td>\n",
       "      <td>0.0</td>\n",
       "    </tr>\n",
       "  </tbody>\n",
       "</table>\n",
       "</div>"
      ],
      "text/plain": [
       "                                        user_id_hash  most_freq_dow  \\\n",
       "0  9943447915df3a45fd6720a026af905b6da6b56a37701b...              6   \n",
       "1  43f75f8042d3c80c45e222bdd09267f4584684c54d6fae...              5   \n",
       "2  999524249720812f2d8c0390293efd58e1ac84d587a01c...              2   \n",
       "3  4e6bc35cf7fd79a5312047651e7865915f4a6bec193cf2...              3   \n",
       "4  dc009148ee26d658e0240c7b7f6a258790a457737f96e8...              2   \n",
       "\n",
       "   most_freq_hour  median_create_session_time  session_count  \\\n",
       "0               7                        36.0             46   \n",
       "1              23                         0.0              3   \n",
       "2              22                         0.0              1   \n",
       "3              15                         2.0              1   \n",
       "4               2                         0.5              1   \n",
       "\n",
       "   session_durations  mean_session_durations  mean_session_interval  \\\n",
       "0          938183565            2.039529e+07               0.782609   \n",
       "1            6074816            2.024939e+06               0.000000   \n",
       "2                  0            0.000000e+00               0.000000   \n",
       "3             596967            5.969670e+05               2.000000   \n",
       "4              97482            9.748200e+04               0.500000   \n",
       "\n",
       "   most_freq_country  most_freq_region  most_freq_city  most_freq_os  \\\n",
       "0                162                 0           13825             0   \n",
       "1                 69               281           22704             1   \n",
       "2                210               299            3615             1   \n",
       "3                 94               162            8974             0   \n",
       "4                 11               494           22861             0   \n",
       "\n",
       "   purchase_counts  most_frequent_purchase_dow  most_frequent_purchase_hour  \\\n",
       "0              1.0                         6.0                         13.0   \n",
       "1              0.0                         7.0                         24.0   \n",
       "2              0.0                         7.0                         24.0   \n",
       "3              0.0                         7.0                         24.0   \n",
       "4              0.0                         7.0                         24.0   \n",
       "\n",
       "   purchase_perc  total_amount  user_purchase_binary_7_days  \\\n",
       "0       0.021739         3.493                          0.0   \n",
       "1       0.000000         0.000                          0.0   \n",
       "2       0.000000         0.000                          0.0   \n",
       "3       0.000000         0.000                          0.0   \n",
       "4       0.000000         0.000                          0.0   \n",
       "\n",
       "   user_purchase_binary_14_days  \n",
       "0                           0.0  \n",
       "1                           0.0  \n",
       "2                           0.0  \n",
       "3                           0.0  \n",
       "4                           0.0  "
      ]
     },
     "execution_count": 14,
     "metadata": {},
     "output_type": "execute_result"
    }
   ],
   "source": [
    "train_dataset.head()"
   ]
  },
  {
   "cell_type": "code",
   "execution_count": null,
   "metadata": {
    "collapsed": true
   },
   "outputs": [],
   "source": [
    "train_dataset.to_csv('feature_eng/train_dataset.csv', index=False)"
   ]
  }
 ],
 "metadata": {
  "anaconda-cloud": {},
  "kernelspec": {
   "display_name": "Python [Root]",
   "language": "python",
   "name": "Python [Root]"
  },
  "language_info": {
   "codemirror_mode": {
    "name": "ipython",
    "version": 3
   },
   "file_extension": ".py",
   "mimetype": "text/x-python",
   "name": "python",
   "nbconvert_exporter": "python",
   "pygments_lexer": "ipython3",
   "version": "3.5.2"
  }
 },
 "nbformat": 4,
 "nbformat_minor": 2
}
