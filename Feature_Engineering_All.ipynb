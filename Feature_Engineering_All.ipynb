{
 "cells": [
  {
   "cell_type": "code",
   "execution_count": 1,
   "metadata": {
    "ExecuteTime": {
     "end_time": "2019-02-28T00:23:00.342397Z",
     "start_time": "2019-02-28T00:22:58.791291Z"
    }
   },
   "outputs": [],
   "source": [
    "import os\n",
    "import boto3 \n",
    "import numpy as np\n",
    "import pandas as pd\n",
    "import scipy.stats"
   ]
  },
  {
   "cell_type": "code",
   "execution_count": 2,
   "metadata": {
    "ExecuteTime": {
     "end_time": "2019-02-28T00:24:15.246111Z",
     "start_time": "2019-02-28T00:23:01.627019Z"
    }
   },
   "outputs": [
    {
     "data": {
      "text/html": [
       "<div>\n",
       "<style scoped>\n",
       "    .dataframe tbody tr th:only-of-type {\n",
       "        vertical-align: middle;\n",
       "    }\n",
       "\n",
       "    .dataframe tbody tr th {\n",
       "        vertical-align: top;\n",
       "    }\n",
       "\n",
       "    .dataframe thead th {\n",
       "        text-align: right;\n",
       "    }\n",
       "</style>\n",
       "<table border=\"1\" class=\"dataframe\">\n",
       "  <thead>\n",
       "    <tr style=\"text-align: right;\">\n",
       "      <th></th>\n",
       "      <th>Unnamed: 0</th>\n",
       "      <th>session_id</th>\n",
       "      <th>timezone</th>\n",
       "      <th>timezone_offset</th>\n",
       "      <th>previous_sessions_duration</th>\n",
       "      <th>is_user_first_session</th>\n",
       "      <th>is_session</th>\n",
       "      <th>country</th>\n",
       "      <th>region</th>\n",
       "      <th>city</th>\n",
       "      <th>...</th>\n",
       "      <th>locale</th>\n",
       "      <th>os_name</th>\n",
       "      <th>session_index</th>\n",
       "      <th>device_id</th>\n",
       "      <th>user_id_hash</th>\n",
       "      <th>start_dow</th>\n",
       "      <th>start_hour</th>\n",
       "      <th>start_date</th>\n",
       "      <th>create_date</th>\n",
       "      <th>create_session_time</th>\n",
       "    </tr>\n",
       "  </thead>\n",
       "  <tbody>\n",
       "    <tr>\n",
       "      <th>0</th>\n",
       "      <td>0</td>\n",
       "      <td>5558845121177764917</td>\n",
       "      <td>Asia/Manila</td>\n",
       "      <td>28800000.0</td>\n",
       "      <td>25837591</td>\n",
       "      <td>False</td>\n",
       "      <td>True</td>\n",
       "      <td>PH</td>\n",
       "      <td>00</td>\n",
       "      <td>makati</td>\n",
       "      <td>...</td>\n",
       "      <td>en_GB</td>\n",
       "      <td>Android OS</td>\n",
       "      <td>30</td>\n",
       "      <td>546a3d98-d540-4e72-ad82-9ebd64e0839b</td>\n",
       "      <td>9943447915df3a45fd6720a026af905b6da6b56a37701b...</td>\n",
       "      <td>3</td>\n",
       "      <td>1</td>\n",
       "      <td>2018-11-15</td>\n",
       "      <td>2018-10-07</td>\n",
       "      <td>39</td>\n",
       "    </tr>\n",
       "    <tr>\n",
       "      <th>1</th>\n",
       "      <td>1</td>\n",
       "      <td>18781111175537580</td>\n",
       "      <td>Asia/Manila</td>\n",
       "      <td>28800000.0</td>\n",
       "      <td>11343848</td>\n",
       "      <td>False</td>\n",
       "      <td>True</td>\n",
       "      <td>PH</td>\n",
       "      <td>00</td>\n",
       "      <td>makati</td>\n",
       "      <td>...</td>\n",
       "      <td>en_GB</td>\n",
       "      <td>Android OS</td>\n",
       "      <td>10</td>\n",
       "      <td>546a3d98-d540-4e72-ad82-9ebd64e0839b</td>\n",
       "      <td>9943447915df3a45fd6720a026af905b6da6b56a37701b...</td>\n",
       "      <td>3</td>\n",
       "      <td>7</td>\n",
       "      <td>2018-10-11</td>\n",
       "      <td>2018-10-07</td>\n",
       "      <td>4</td>\n",
       "    </tr>\n",
       "    <tr>\n",
       "      <th>2</th>\n",
       "      <td>2</td>\n",
       "      <td>1477540082628742048</td>\n",
       "      <td>Asia/Manila</td>\n",
       "      <td>28800000.0</td>\n",
       "      <td>13499724</td>\n",
       "      <td>False</td>\n",
       "      <td>True</td>\n",
       "      <td>PH</td>\n",
       "      <td>11</td>\n",
       "      <td>davao city</td>\n",
       "      <td>...</td>\n",
       "      <td>en_GB</td>\n",
       "      <td>Android OS</td>\n",
       "      <td>13</td>\n",
       "      <td>546a3d98-d540-4e72-ad82-9ebd64e0839b</td>\n",
       "      <td>9943447915df3a45fd6720a026af905b6da6b56a37701b...</td>\n",
       "      <td>6</td>\n",
       "      <td>19</td>\n",
       "      <td>2018-10-21</td>\n",
       "      <td>2018-10-07</td>\n",
       "      <td>14</td>\n",
       "    </tr>\n",
       "    <tr>\n",
       "      <th>3</th>\n",
       "      <td>3</td>\n",
       "      <td>8184875317380844086</td>\n",
       "      <td>Asia/Manila</td>\n",
       "      <td>28800000.0</td>\n",
       "      <td>32788010</td>\n",
       "      <td>False</td>\n",
       "      <td>True</td>\n",
       "      <td>PH</td>\n",
       "      <td>00</td>\n",
       "      <td>makati</td>\n",
       "      <td>...</td>\n",
       "      <td>en_GB</td>\n",
       "      <td>Android OS</td>\n",
       "      <td>41</td>\n",
       "      <td>546a3d98-d540-4e72-ad82-9ebd64e0839b</td>\n",
       "      <td>9943447915df3a45fd6720a026af905b6da6b56a37701b...</td>\n",
       "      <td>1</td>\n",
       "      <td>7</td>\n",
       "      <td>2018-11-20</td>\n",
       "      <td>2018-10-07</td>\n",
       "      <td>44</td>\n",
       "    </tr>\n",
       "    <tr>\n",
       "      <th>4</th>\n",
       "      <td>4</td>\n",
       "      <td>4706180700083856343</td>\n",
       "      <td>Asia/Manila</td>\n",
       "      <td>28800000.0</td>\n",
       "      <td>5872534</td>\n",
       "      <td>False</td>\n",
       "      <td>True</td>\n",
       "      <td>PH</td>\n",
       "      <td>11</td>\n",
       "      <td>davao city</td>\n",
       "      <td>...</td>\n",
       "      <td>en_GB</td>\n",
       "      <td>Android OS</td>\n",
       "      <td>4</td>\n",
       "      <td>546a3d98-d540-4e72-ad82-9ebd64e0839b</td>\n",
       "      <td>9943447915df3a45fd6720a026af905b6da6b56a37701b...</td>\n",
       "      <td>0</td>\n",
       "      <td>19</td>\n",
       "      <td>2018-10-08</td>\n",
       "      <td>2018-10-07</td>\n",
       "      <td>1</td>\n",
       "    </tr>\n",
       "  </tbody>\n",
       "</table>\n",
       "<p>5 rows × 22 columns</p>\n",
       "</div>"
      ],
      "text/plain": [
       "   Unnamed: 0           session_id     timezone  timezone_offset  \\\n",
       "0           0  5558845121177764917  Asia/Manila       28800000.0   \n",
       "1           1    18781111175537580  Asia/Manila       28800000.0   \n",
       "2           2  1477540082628742048  Asia/Manila       28800000.0   \n",
       "3           3  8184875317380844086  Asia/Manila       28800000.0   \n",
       "4           4  4706180700083856343  Asia/Manila       28800000.0   \n",
       "\n",
       "   previous_sessions_duration  is_user_first_session  is_session country  \\\n",
       "0                    25837591                  False        True      PH   \n",
       "1                    11343848                  False        True      PH   \n",
       "2                    13499724                  False        True      PH   \n",
       "3                    32788010                  False        True      PH   \n",
       "4                     5872534                  False        True      PH   \n",
       "\n",
       "  region        city         ...          locale     os_name session_index  \\\n",
       "0     00      makati         ...           en_GB  Android OS            30   \n",
       "1     00      makati         ...           en_GB  Android OS            10   \n",
       "2     11  davao city         ...           en_GB  Android OS            13   \n",
       "3     00      makati         ...           en_GB  Android OS            41   \n",
       "4     11  davao city         ...           en_GB  Android OS             4   \n",
       "\n",
       "                              device_id  \\\n",
       "0  546a3d98-d540-4e72-ad82-9ebd64e0839b   \n",
       "1  546a3d98-d540-4e72-ad82-9ebd64e0839b   \n",
       "2  546a3d98-d540-4e72-ad82-9ebd64e0839b   \n",
       "3  546a3d98-d540-4e72-ad82-9ebd64e0839b   \n",
       "4  546a3d98-d540-4e72-ad82-9ebd64e0839b   \n",
       "\n",
       "                                        user_id_hash start_dow start_hour  \\\n",
       "0  9943447915df3a45fd6720a026af905b6da6b56a37701b...         3          1   \n",
       "1  9943447915df3a45fd6720a026af905b6da6b56a37701b...         3          7   \n",
       "2  9943447915df3a45fd6720a026af905b6da6b56a37701b...         6         19   \n",
       "3  9943447915df3a45fd6720a026af905b6da6b56a37701b...         1          7   \n",
       "4  9943447915df3a45fd6720a026af905b6da6b56a37701b...         0         19   \n",
       "\n",
       "   start_date  create_date create_session_time  \n",
       "0  2018-11-15   2018-10-07                  39  \n",
       "1  2018-10-11   2018-10-07                   4  \n",
       "2  2018-10-21   2018-10-07                  14  \n",
       "3  2018-11-20   2018-10-07                  44  \n",
       "4  2018-10-08   2018-10-07                   1  \n",
       "\n",
       "[5 rows x 22 columns]"
      ]
     },
     "execution_count": 2,
     "metadata": {},
     "output_type": "execute_result"
    }
   ],
   "source": [
    "bucket_name = 'advanced-ml-project' # Add your bucket name\n",
    "file_name = 'sessions_train.csv'\n",
    "s3 = boto3.client('s3')\n",
    "obj = s3.get_object(Bucket=bucket_name, Key=file_name) # S3 uses key-value structure where key is your file name\n",
    "df_train = pd.read_csv(obj['Body'])\n",
    "df_train.head()"
   ]
  },
  {
   "cell_type": "markdown",
   "metadata": {},
   "source": [
    "### Overview"
   ]
  },
  {
   "cell_type": "code",
   "execution_count": 80,
   "metadata": {
    "ExecuteTime": {
     "end_time": "2019-02-28T01:13:15.053171Z",
     "start_time": "2019-02-28T01:13:12.071345Z"
    }
   },
   "outputs": [],
   "source": [
    "df_train = df_train.drop(['Unnamed: 0'], axis=1)"
   ]
  },
  {
   "cell_type": "code",
   "execution_count": 81,
   "metadata": {
    "ExecuteTime": {
     "end_time": "2019-02-28T01:13:15.884858Z",
     "start_time": "2019-02-28T01:13:15.826026Z"
    }
   },
   "outputs": [
    {
     "data": {
      "text/html": [
       "<div>\n",
       "<style scoped>\n",
       "    .dataframe tbody tr th:only-of-type {\n",
       "        vertical-align: middle;\n",
       "    }\n",
       "\n",
       "    .dataframe tbody tr th {\n",
       "        vertical-align: top;\n",
       "    }\n",
       "\n",
       "    .dataframe thead th {\n",
       "        text-align: right;\n",
       "    }\n",
       "</style>\n",
       "<table border=\"1\" class=\"dataframe\">\n",
       "  <thead>\n",
       "    <tr style=\"text-align: right;\">\n",
       "      <th></th>\n",
       "      <th>session_id</th>\n",
       "      <th>timezone</th>\n",
       "      <th>timezone_offset</th>\n",
       "      <th>previous_sessions_duration</th>\n",
       "      <th>is_user_first_session</th>\n",
       "      <th>is_session</th>\n",
       "      <th>country</th>\n",
       "      <th>region</th>\n",
       "      <th>city</th>\n",
       "      <th>latitude</th>\n",
       "      <th>...</th>\n",
       "      <th>locale</th>\n",
       "      <th>os_name</th>\n",
       "      <th>session_index</th>\n",
       "      <th>device_id</th>\n",
       "      <th>user_id_hash</th>\n",
       "      <th>start_dow</th>\n",
       "      <th>start_hour</th>\n",
       "      <th>start_date</th>\n",
       "      <th>create_date</th>\n",
       "      <th>create_session_time</th>\n",
       "    </tr>\n",
       "  </thead>\n",
       "  <tbody>\n",
       "    <tr>\n",
       "      <th>0</th>\n",
       "      <td>5558845121177764917</td>\n",
       "      <td>Asia/Manila</td>\n",
       "      <td>28800000.0</td>\n",
       "      <td>25837591</td>\n",
       "      <td>False</td>\n",
       "      <td>True</td>\n",
       "      <td>PH</td>\n",
       "      <td>00</td>\n",
       "      <td>makati</td>\n",
       "      <td>14.554729</td>\n",
       "      <td>...</td>\n",
       "      <td>en_GB</td>\n",
       "      <td>Android OS</td>\n",
       "      <td>30</td>\n",
       "      <td>546a3d98-d540-4e72-ad82-9ebd64e0839b</td>\n",
       "      <td>9943447915df3a45fd6720a026af905b6da6b56a37701b...</td>\n",
       "      <td>3</td>\n",
       "      <td>1</td>\n",
       "      <td>2018-11-15</td>\n",
       "      <td>2018-10-07</td>\n",
       "      <td>39</td>\n",
       "    </tr>\n",
       "    <tr>\n",
       "      <th>1</th>\n",
       "      <td>18781111175537580</td>\n",
       "      <td>Asia/Manila</td>\n",
       "      <td>28800000.0</td>\n",
       "      <td>11343848</td>\n",
       "      <td>False</td>\n",
       "      <td>True</td>\n",
       "      <td>PH</td>\n",
       "      <td>00</td>\n",
       "      <td>makati</td>\n",
       "      <td>14.554729</td>\n",
       "      <td>...</td>\n",
       "      <td>en_GB</td>\n",
       "      <td>Android OS</td>\n",
       "      <td>10</td>\n",
       "      <td>546a3d98-d540-4e72-ad82-9ebd64e0839b</td>\n",
       "      <td>9943447915df3a45fd6720a026af905b6da6b56a37701b...</td>\n",
       "      <td>3</td>\n",
       "      <td>7</td>\n",
       "      <td>2018-10-11</td>\n",
       "      <td>2018-10-07</td>\n",
       "      <td>4</td>\n",
       "    </tr>\n",
       "    <tr>\n",
       "      <th>2</th>\n",
       "      <td>1477540082628742048</td>\n",
       "      <td>Asia/Manila</td>\n",
       "      <td>28800000.0</td>\n",
       "      <td>13499724</td>\n",
       "      <td>False</td>\n",
       "      <td>True</td>\n",
       "      <td>PH</td>\n",
       "      <td>11</td>\n",
       "      <td>davao city</td>\n",
       "      <td>7.190708</td>\n",
       "      <td>...</td>\n",
       "      <td>en_GB</td>\n",
       "      <td>Android OS</td>\n",
       "      <td>13</td>\n",
       "      <td>546a3d98-d540-4e72-ad82-9ebd64e0839b</td>\n",
       "      <td>9943447915df3a45fd6720a026af905b6da6b56a37701b...</td>\n",
       "      <td>6</td>\n",
       "      <td>19</td>\n",
       "      <td>2018-10-21</td>\n",
       "      <td>2018-10-07</td>\n",
       "      <td>14</td>\n",
       "    </tr>\n",
       "    <tr>\n",
       "      <th>3</th>\n",
       "      <td>8184875317380844086</td>\n",
       "      <td>Asia/Manila</td>\n",
       "      <td>28800000.0</td>\n",
       "      <td>32788010</td>\n",
       "      <td>False</td>\n",
       "      <td>True</td>\n",
       "      <td>PH</td>\n",
       "      <td>00</td>\n",
       "      <td>makati</td>\n",
       "      <td>14.554729</td>\n",
       "      <td>...</td>\n",
       "      <td>en_GB</td>\n",
       "      <td>Android OS</td>\n",
       "      <td>41</td>\n",
       "      <td>546a3d98-d540-4e72-ad82-9ebd64e0839b</td>\n",
       "      <td>9943447915df3a45fd6720a026af905b6da6b56a37701b...</td>\n",
       "      <td>1</td>\n",
       "      <td>7</td>\n",
       "      <td>2018-11-20</td>\n",
       "      <td>2018-10-07</td>\n",
       "      <td>44</td>\n",
       "    </tr>\n",
       "    <tr>\n",
       "      <th>4</th>\n",
       "      <td>4706180700083856343</td>\n",
       "      <td>Asia/Manila</td>\n",
       "      <td>28800000.0</td>\n",
       "      <td>5872534</td>\n",
       "      <td>False</td>\n",
       "      <td>True</td>\n",
       "      <td>PH</td>\n",
       "      <td>11</td>\n",
       "      <td>davao city</td>\n",
       "      <td>7.190708</td>\n",
       "      <td>...</td>\n",
       "      <td>en_GB</td>\n",
       "      <td>Android OS</td>\n",
       "      <td>4</td>\n",
       "      <td>546a3d98-d540-4e72-ad82-9ebd64e0839b</td>\n",
       "      <td>9943447915df3a45fd6720a026af905b6da6b56a37701b...</td>\n",
       "      <td>0</td>\n",
       "      <td>19</td>\n",
       "      <td>2018-10-08</td>\n",
       "      <td>2018-10-07</td>\n",
       "      <td>1</td>\n",
       "    </tr>\n",
       "  </tbody>\n",
       "</table>\n",
       "<p>5 rows × 21 columns</p>\n",
       "</div>"
      ],
      "text/plain": [
       "            session_id     timezone  timezone_offset  \\\n",
       "0  5558845121177764917  Asia/Manila       28800000.0   \n",
       "1    18781111175537580  Asia/Manila       28800000.0   \n",
       "2  1477540082628742048  Asia/Manila       28800000.0   \n",
       "3  8184875317380844086  Asia/Manila       28800000.0   \n",
       "4  4706180700083856343  Asia/Manila       28800000.0   \n",
       "\n",
       "   previous_sessions_duration  is_user_first_session  is_session country  \\\n",
       "0                    25837591                  False        True      PH   \n",
       "1                    11343848                  False        True      PH   \n",
       "2                    13499724                  False        True      PH   \n",
       "3                    32788010                  False        True      PH   \n",
       "4                     5872534                  False        True      PH   \n",
       "\n",
       "  region        city   latitude         ...          locale     os_name  \\\n",
       "0     00      makati  14.554729         ...           en_GB  Android OS   \n",
       "1     00      makati  14.554729         ...           en_GB  Android OS   \n",
       "2     11  davao city   7.190708         ...           en_GB  Android OS   \n",
       "3     00      makati  14.554729         ...           en_GB  Android OS   \n",
       "4     11  davao city   7.190708         ...           en_GB  Android OS   \n",
       "\n",
       "  session_index                             device_id  \\\n",
       "0            30  546a3d98-d540-4e72-ad82-9ebd64e0839b   \n",
       "1            10  546a3d98-d540-4e72-ad82-9ebd64e0839b   \n",
       "2            13  546a3d98-d540-4e72-ad82-9ebd64e0839b   \n",
       "3            41  546a3d98-d540-4e72-ad82-9ebd64e0839b   \n",
       "4             4  546a3d98-d540-4e72-ad82-9ebd64e0839b   \n",
       "\n",
       "                                        user_id_hash start_dow  start_hour  \\\n",
       "0  9943447915df3a45fd6720a026af905b6da6b56a37701b...         3           1   \n",
       "1  9943447915df3a45fd6720a026af905b6da6b56a37701b...         3           7   \n",
       "2  9943447915df3a45fd6720a026af905b6da6b56a37701b...         6          19   \n",
       "3  9943447915df3a45fd6720a026af905b6da6b56a37701b...         1           7   \n",
       "4  9943447915df3a45fd6720a026af905b6da6b56a37701b...         0          19   \n",
       "\n",
       "   start_date create_date create_session_time  \n",
       "0  2018-11-15  2018-10-07                  39  \n",
       "1  2018-10-11  2018-10-07                   4  \n",
       "2  2018-10-21  2018-10-07                  14  \n",
       "3  2018-11-20  2018-10-07                  44  \n",
       "4  2018-10-08  2018-10-07                   1  \n",
       "\n",
       "[5 rows x 21 columns]"
      ]
     },
     "execution_count": 81,
     "metadata": {},
     "output_type": "execute_result"
    }
   ],
   "source": [
    "df_train.head()"
   ]
  },
  {
   "cell_type": "code",
   "execution_count": 6,
   "metadata": {
    "ExecuteTime": {
     "end_time": "2019-02-26T23:58:34.135298Z",
     "start_time": "2019-02-26T23:58:31.369052Z"
    }
   },
   "outputs": [
    {
     "data": {
      "text/plain": [
       "session_id                    False\n",
       "timezone                       True\n",
       "timezone_offset               False\n",
       "previous_sessions_duration    False\n",
       "is_user_first_session         False\n",
       "is_session                    False\n",
       "country                        True\n",
       "region                         True\n",
       "city                           True\n",
       "latitude                       True\n",
       "longitude                      True\n",
       "locale                         True\n",
       "os_name                        True\n",
       "session_index                 False\n",
       "device_id                      True\n",
       "user_id_hash                  False\n",
       "start_dow                     False\n",
       "start_hour                    False\n",
       "start_date                    False\n",
       "create_date                   False\n",
       "create_session_time           False\n",
       "dtype: bool"
      ]
     },
     "execution_count": 6,
     "metadata": {},
     "output_type": "execute_result"
    }
   ],
   "source": [
    "pd.isnull(df_train).any()"
   ]
  },
  {
   "cell_type": "code",
   "execution_count": 7,
   "metadata": {
    "ExecuteTime": {
     "end_time": "2019-02-26T23:58:47.167896Z",
     "start_time": "2019-02-26T23:58:46.522838Z"
    }
   },
   "outputs": [
    {
     "data": {
      "text/plain": [
       "619706"
      ]
     },
     "execution_count": 7,
     "metadata": {},
     "output_type": "execute_result"
    }
   ],
   "source": [
    "df_train.user_id_hash.nunique()"
   ]
  },
  {
   "cell_type": "code",
   "execution_count": null,
   "metadata": {
    "ExecuteTime": {
     "end_time": "2019-02-18T07:42:34.378969Z",
     "start_time": "2019-02-18T07:42:34.200422Z"
    },
    "collapsed": true
   },
   "outputs": [],
   "source": [
    "train_feature = pd.DataFrame(df_train.user_id_hash.unique(), columns=['user_id_hash'])"
   ]
  },
  {
   "cell_type": "markdown",
   "metadata": {},
   "source": [
    "### Purchase_related"
   ]
  },
  {
   "cell_type": "code",
   "execution_count": 82,
   "metadata": {
    "ExecuteTime": {
     "end_time": "2019-02-28T01:13:29.171115Z",
     "start_time": "2019-02-28T01:13:26.433877Z"
    },
    "scrolled": true
   },
   "outputs": [
    {
     "data": {
      "text/html": [
       "<div>\n",
       "<style scoped>\n",
       "    .dataframe tbody tr th:only-of-type {\n",
       "        vertical-align: middle;\n",
       "    }\n",
       "\n",
       "    .dataframe tbody tr th {\n",
       "        vertical-align: top;\n",
       "    }\n",
       "\n",
       "    .dataframe thead th {\n",
       "        text-align: right;\n",
       "    }\n",
       "</style>\n",
       "<table border=\"1\" class=\"dataframe\">\n",
       "  <thead>\n",
       "    <tr style=\"text-align: right;\">\n",
       "      <th></th>\n",
       "      <th>app_id</th>\n",
       "      <th>session_id</th>\n",
       "      <th>event</th>\n",
       "      <th>event_timestamp</th>\n",
       "      <th>event_value</th>\n",
       "      <th>user_id_hash</th>\n",
       "    </tr>\n",
       "  </thead>\n",
       "  <tbody>\n",
       "    <tr>\n",
       "      <th>0</th>\n",
       "      <td>4724682771660800</td>\n",
       "      <td>5159335150551901701</td>\n",
       "      <td>8</td>\n",
       "      <td>1541912600211</td>\n",
       "      <td>3.493</td>\n",
       "      <td>9943447915df3a45fd6720a026af905b6da6b56a37701b...</td>\n",
       "    </tr>\n",
       "    <tr>\n",
       "      <th>1</th>\n",
       "      <td>4724682771660800</td>\n",
       "      <td>845986603555615931</td>\n",
       "      <td>8</td>\n",
       "      <td>1543357433771</td>\n",
       "      <td>3.493</td>\n",
       "      <td>deaf54103e439789b069a95c4650dc6cdc24d6c9d700f1...</td>\n",
       "    </tr>\n",
       "    <tr>\n",
       "      <th>2</th>\n",
       "      <td>4724682771660800</td>\n",
       "      <td>2846996524173831068</td>\n",
       "      <td>8</td>\n",
       "      <td>1543023539172</td>\n",
       "      <td>3.493</td>\n",
       "      <td>deaf54103e439789b069a95c4650dc6cdc24d6c9d700f1...</td>\n",
       "    </tr>\n",
       "    <tr>\n",
       "      <th>3</th>\n",
       "      <td>4724682771660800</td>\n",
       "      <td>6141788581998894012</td>\n",
       "      <td>8</td>\n",
       "      <td>1543531139724</td>\n",
       "      <td>1.393</td>\n",
       "      <td>deaf54103e439789b069a95c4650dc6cdc24d6c9d700f1...</td>\n",
       "    </tr>\n",
       "    <tr>\n",
       "      <th>4</th>\n",
       "      <td>4724682771660800</td>\n",
       "      <td>6974128812803113234</td>\n",
       "      <td>8</td>\n",
       "      <td>1541437057644</td>\n",
       "      <td>1.393</td>\n",
       "      <td>b2ccdf1ae0d33e2e0a671d605f3fe4cdb72c7fc54bdd49...</td>\n",
       "    </tr>\n",
       "  </tbody>\n",
       "</table>\n",
       "</div>"
      ],
      "text/plain": [
       "             app_id           session_id  event  event_timestamp  event_value  \\\n",
       "0  4724682771660800  5159335150551901701      8    1541912600211        3.493   \n",
       "1  4724682771660800   845986603555615931      8    1543357433771        3.493   \n",
       "2  4724682771660800  2846996524173831068      8    1543023539172        3.493   \n",
       "3  4724682771660800  6141788581998894012      8    1543531139724        1.393   \n",
       "4  4724682771660800  6974128812803113234      8    1541437057644        1.393   \n",
       "\n",
       "                                        user_id_hash  \n",
       "0  9943447915df3a45fd6720a026af905b6da6b56a37701b...  \n",
       "1  deaf54103e439789b069a95c4650dc6cdc24d6c9d700f1...  \n",
       "2  deaf54103e439789b069a95c4650dc6cdc24d6c9d700f1...  \n",
       "3  deaf54103e439789b069a95c4650dc6cdc24d6c9d700f1...  \n",
       "4  b2ccdf1ae0d33e2e0a671d605f3fe4cdb72c7fc54bdd49...  "
      ]
     },
     "execution_count": 82,
     "metadata": {},
     "output_type": "execute_result"
    }
   ],
   "source": [
    "file_name = 'filtered_events.csv'\n",
    "s3 = boto3.client('s3')\n",
    "obj = s3.get_object(Bucket=bucket_name, Key=file_name) # S3 uses key-value structure where key is your file name\n",
    "purchase_event = pd.read_csv(obj['Body'])\n",
    "purchase_event.head()"
   ]
  },
  {
   "cell_type": "code",
   "execution_count": 83,
   "metadata": {
    "ExecuteTime": {
     "end_time": "2019-02-28T01:13:31.422696Z",
     "start_time": "2019-02-28T01:13:31.187955Z"
    }
   },
   "outputs": [],
   "source": [
    "last_purchase_time = purchase_event.groupby('session_id', as_index=False).event_timestamp.max().rename(columns={'event_timestamp':'last_purchase_time'})\n",
    "df_event = purchase_event.groupby('session_id',as_index=False).app_id.count().rename(columns={'app_id':'purchase_counts'})\n",
    "purchase_time = purchase_event.groupby('session_id',as_index=False).event_timestamp.median().rename(columns={'event_timestamp':'purchase_time'})\n",
    "total_amount = purchase_event.groupby('session_id', as_index=False).event_value.sum().rename(columns={'event_value':'total_amount'})"
   ]
  },
  {
   "cell_type": "code",
   "execution_count": 84,
   "metadata": {
    "ExecuteTime": {
     "end_time": "2019-02-28T01:13:31.592851Z",
     "start_time": "2019-02-28T01:13:31.459189Z"
    }
   },
   "outputs": [],
   "source": [
    "# get session level purchase count and purchase time info\n",
    "df_event2 = pd.merge(df_event, purchase_time, how='left', on=['session_id'])\n",
    "df_event2 = pd.merge(df_event2, last_purchase_time, how='left', on=['session_id'])\n",
    "df_event2 = pd.merge(df_event2, total_amount, how='left', on=['session_id'])"
   ]
  },
  {
   "cell_type": "code",
   "execution_count": 85,
   "metadata": {
    "ExecuteTime": {
     "end_time": "2019-02-28T01:13:31.845857Z",
     "start_time": "2019-02-28T01:13:31.835411Z"
    }
   },
   "outputs": [
    {
     "data": {
      "text/html": [
       "<div>\n",
       "<style scoped>\n",
       "    .dataframe tbody tr th:only-of-type {\n",
       "        vertical-align: middle;\n",
       "    }\n",
       "\n",
       "    .dataframe tbody tr th {\n",
       "        vertical-align: top;\n",
       "    }\n",
       "\n",
       "    .dataframe thead th {\n",
       "        text-align: right;\n",
       "    }\n",
       "</style>\n",
       "<table border=\"1\" class=\"dataframe\">\n",
       "  <thead>\n",
       "    <tr style=\"text-align: right;\">\n",
       "      <th></th>\n",
       "      <th>session_id</th>\n",
       "      <th>purchase_counts</th>\n",
       "      <th>purchase_time</th>\n",
       "      <th>last_purchase_time</th>\n",
       "      <th>total_amount</th>\n",
       "    </tr>\n",
       "  </thead>\n",
       "  <tbody>\n",
       "    <tr>\n",
       "      <th>0</th>\n",
       "      <td>44097414271980</td>\n",
       "      <td>1</td>\n",
       "      <td>1.543345e+12</td>\n",
       "      <td>1543345213863</td>\n",
       "      <td>13.993</td>\n",
       "    </tr>\n",
       "    <tr>\n",
       "      <th>1</th>\n",
       "      <td>139239025219926</td>\n",
       "      <td>1</td>\n",
       "      <td>1.543896e+12</td>\n",
       "      <td>1543896256185</td>\n",
       "      <td>3.493</td>\n",
       "    </tr>\n",
       "    <tr>\n",
       "      <th>2</th>\n",
       "      <td>198661066907208</td>\n",
       "      <td>1</td>\n",
       "      <td>1.543274e+12</td>\n",
       "      <td>1543274061363</td>\n",
       "      <td>3.493</td>\n",
       "    </tr>\n",
       "    <tr>\n",
       "      <th>3</th>\n",
       "      <td>277838121971337</td>\n",
       "      <td>1</td>\n",
       "      <td>1.540754e+12</td>\n",
       "      <td>1540754187045</td>\n",
       "      <td>3.493</td>\n",
       "    </tr>\n",
       "    <tr>\n",
       "      <th>4</th>\n",
       "      <td>330581615202681</td>\n",
       "      <td>1</td>\n",
       "      <td>1.541775e+12</td>\n",
       "      <td>1541774849854</td>\n",
       "      <td>1.393</td>\n",
       "    </tr>\n",
       "  </tbody>\n",
       "</table>\n",
       "</div>"
      ],
      "text/plain": [
       "        session_id  purchase_counts  purchase_time  last_purchase_time  \\\n",
       "0   44097414271980                1   1.543345e+12       1543345213863   \n",
       "1  139239025219926                1   1.543896e+12       1543896256185   \n",
       "2  198661066907208                1   1.543274e+12       1543274061363   \n",
       "3  277838121971337                1   1.540754e+12       1540754187045   \n",
       "4  330581615202681                1   1.541775e+12       1541774849854   \n",
       "\n",
       "   total_amount  \n",
       "0        13.993  \n",
       "1         3.493  \n",
       "2         3.493  \n",
       "3         3.493  \n",
       "4         1.393  "
      ]
     },
     "execution_count": 85,
     "metadata": {},
     "output_type": "execute_result"
    }
   ],
   "source": [
    "df_event2.head()"
   ]
  },
  {
   "cell_type": "code",
   "execution_count": 86,
   "metadata": {
    "ExecuteTime": {
     "end_time": "2019-02-28T01:13:42.204356Z",
     "start_time": "2019-02-28T01:13:34.792060Z"
    }
   },
   "outputs": [],
   "source": [
    "# based on session train dataframe join event train, thus we only get info\n",
    "df_train2 = pd.merge(df_train,df_event2, how='left', on=['session_id'])"
   ]
  },
  {
   "cell_type": "code",
   "execution_count": 87,
   "metadata": {
    "ExecuteTime": {
     "end_time": "2019-02-28T01:13:43.771552Z",
     "start_time": "2019-02-28T01:13:42.206272Z"
    }
   },
   "outputs": [],
   "source": [
    "df_train2['purchase_time'] = pd.to_datetime(df_train2.purchase_time + df_train2.timezone_offset, unit='ms')"
   ]
  },
  {
   "cell_type": "code",
   "execution_count": 11,
   "metadata": {
    "ExecuteTime": {
     "end_time": "2019-02-27T21:13:29.040357Z",
     "start_time": "2019-02-27T21:13:29.004110Z"
    }
   },
   "outputs": [
    {
     "data": {
      "text/html": [
       "<div>\n",
       "<style scoped>\n",
       "    .dataframe tbody tr th:only-of-type {\n",
       "        vertical-align: middle;\n",
       "    }\n",
       "\n",
       "    .dataframe tbody tr th {\n",
       "        vertical-align: top;\n",
       "    }\n",
       "\n",
       "    .dataframe thead th {\n",
       "        text-align: right;\n",
       "    }\n",
       "</style>\n",
       "<table border=\"1\" class=\"dataframe\">\n",
       "  <thead>\n",
       "    <tr style=\"text-align: right;\">\n",
       "      <th></th>\n",
       "      <th>session_id</th>\n",
       "      <th>timezone</th>\n",
       "      <th>timezone_offset</th>\n",
       "      <th>previous_sessions_duration</th>\n",
       "      <th>is_user_first_session</th>\n",
       "      <th>is_session</th>\n",
       "      <th>country</th>\n",
       "      <th>region</th>\n",
       "      <th>city</th>\n",
       "      <th>latitude</th>\n",
       "      <th>...</th>\n",
       "      <th>user_id_hash</th>\n",
       "      <th>start_dow</th>\n",
       "      <th>start_hour</th>\n",
       "      <th>start_date</th>\n",
       "      <th>create_date</th>\n",
       "      <th>create_session_time</th>\n",
       "      <th>purchase_counts</th>\n",
       "      <th>purchase_time</th>\n",
       "      <th>last_purchase_time</th>\n",
       "      <th>total_amount</th>\n",
       "    </tr>\n",
       "  </thead>\n",
       "  <tbody>\n",
       "    <tr>\n",
       "      <th>0</th>\n",
       "      <td>5558845121177764917</td>\n",
       "      <td>Asia/Manila</td>\n",
       "      <td>28800000.0</td>\n",
       "      <td>25837591</td>\n",
       "      <td>False</td>\n",
       "      <td>True</td>\n",
       "      <td>PH</td>\n",
       "      <td>00</td>\n",
       "      <td>makati</td>\n",
       "      <td>14.554729</td>\n",
       "      <td>...</td>\n",
       "      <td>9943447915df3a45fd6720a026af905b6da6b56a37701b...</td>\n",
       "      <td>3</td>\n",
       "      <td>1</td>\n",
       "      <td>2018-11-15</td>\n",
       "      <td>2018-10-07</td>\n",
       "      <td>39</td>\n",
       "      <td>NaN</td>\n",
       "      <td>NaT</td>\n",
       "      <td>NaN</td>\n",
       "      <td>NaN</td>\n",
       "    </tr>\n",
       "    <tr>\n",
       "      <th>1</th>\n",
       "      <td>18781111175537580</td>\n",
       "      <td>Asia/Manila</td>\n",
       "      <td>28800000.0</td>\n",
       "      <td>11343848</td>\n",
       "      <td>False</td>\n",
       "      <td>True</td>\n",
       "      <td>PH</td>\n",
       "      <td>00</td>\n",
       "      <td>makati</td>\n",
       "      <td>14.554729</td>\n",
       "      <td>...</td>\n",
       "      <td>9943447915df3a45fd6720a026af905b6da6b56a37701b...</td>\n",
       "      <td>3</td>\n",
       "      <td>7</td>\n",
       "      <td>2018-10-11</td>\n",
       "      <td>2018-10-07</td>\n",
       "      <td>4</td>\n",
       "      <td>NaN</td>\n",
       "      <td>NaT</td>\n",
       "      <td>NaN</td>\n",
       "      <td>NaN</td>\n",
       "    </tr>\n",
       "    <tr>\n",
       "      <th>2</th>\n",
       "      <td>1477540082628742048</td>\n",
       "      <td>Asia/Manila</td>\n",
       "      <td>28800000.0</td>\n",
       "      <td>13499724</td>\n",
       "      <td>False</td>\n",
       "      <td>True</td>\n",
       "      <td>PH</td>\n",
       "      <td>11</td>\n",
       "      <td>davao city</td>\n",
       "      <td>7.190708</td>\n",
       "      <td>...</td>\n",
       "      <td>9943447915df3a45fd6720a026af905b6da6b56a37701b...</td>\n",
       "      <td>6</td>\n",
       "      <td>19</td>\n",
       "      <td>2018-10-21</td>\n",
       "      <td>2018-10-07</td>\n",
       "      <td>14</td>\n",
       "      <td>NaN</td>\n",
       "      <td>NaT</td>\n",
       "      <td>NaN</td>\n",
       "      <td>NaN</td>\n",
       "    </tr>\n",
       "    <tr>\n",
       "      <th>3</th>\n",
       "      <td>8184875317380844086</td>\n",
       "      <td>Asia/Manila</td>\n",
       "      <td>28800000.0</td>\n",
       "      <td>32788010</td>\n",
       "      <td>False</td>\n",
       "      <td>True</td>\n",
       "      <td>PH</td>\n",
       "      <td>00</td>\n",
       "      <td>makati</td>\n",
       "      <td>14.554729</td>\n",
       "      <td>...</td>\n",
       "      <td>9943447915df3a45fd6720a026af905b6da6b56a37701b...</td>\n",
       "      <td>1</td>\n",
       "      <td>7</td>\n",
       "      <td>2018-11-20</td>\n",
       "      <td>2018-10-07</td>\n",
       "      <td>44</td>\n",
       "      <td>NaN</td>\n",
       "      <td>NaT</td>\n",
       "      <td>NaN</td>\n",
       "      <td>NaN</td>\n",
       "    </tr>\n",
       "    <tr>\n",
       "      <th>4</th>\n",
       "      <td>4706180700083856343</td>\n",
       "      <td>Asia/Manila</td>\n",
       "      <td>28800000.0</td>\n",
       "      <td>5872534</td>\n",
       "      <td>False</td>\n",
       "      <td>True</td>\n",
       "      <td>PH</td>\n",
       "      <td>11</td>\n",
       "      <td>davao city</td>\n",
       "      <td>7.190708</td>\n",
       "      <td>...</td>\n",
       "      <td>9943447915df3a45fd6720a026af905b6da6b56a37701b...</td>\n",
       "      <td>0</td>\n",
       "      <td>19</td>\n",
       "      <td>2018-10-08</td>\n",
       "      <td>2018-10-07</td>\n",
       "      <td>1</td>\n",
       "      <td>NaN</td>\n",
       "      <td>NaT</td>\n",
       "      <td>NaN</td>\n",
       "      <td>NaN</td>\n",
       "    </tr>\n",
       "  </tbody>\n",
       "</table>\n",
       "<p>5 rows × 25 columns</p>\n",
       "</div>"
      ],
      "text/plain": [
       "            session_id     timezone  timezone_offset  \\\n",
       "0  5558845121177764917  Asia/Manila       28800000.0   \n",
       "1    18781111175537580  Asia/Manila       28800000.0   \n",
       "2  1477540082628742048  Asia/Manila       28800000.0   \n",
       "3  8184875317380844086  Asia/Manila       28800000.0   \n",
       "4  4706180700083856343  Asia/Manila       28800000.0   \n",
       "\n",
       "   previous_sessions_duration  is_user_first_session  is_session country  \\\n",
       "0                    25837591                  False        True      PH   \n",
       "1                    11343848                  False        True      PH   \n",
       "2                    13499724                  False        True      PH   \n",
       "3                    32788010                  False        True      PH   \n",
       "4                     5872534                  False        True      PH   \n",
       "\n",
       "  region        city   latitude     ...       \\\n",
       "0     00      makati  14.554729     ...        \n",
       "1     00      makati  14.554729     ...        \n",
       "2     11  davao city   7.190708     ...        \n",
       "3     00      makati  14.554729     ...        \n",
       "4     11  davao city   7.190708     ...        \n",
       "\n",
       "                                        user_id_hash start_dow start_hour  \\\n",
       "0  9943447915df3a45fd6720a026af905b6da6b56a37701b...         3          1   \n",
       "1  9943447915df3a45fd6720a026af905b6da6b56a37701b...         3          7   \n",
       "2  9943447915df3a45fd6720a026af905b6da6b56a37701b...         6         19   \n",
       "3  9943447915df3a45fd6720a026af905b6da6b56a37701b...         1          7   \n",
       "4  9943447915df3a45fd6720a026af905b6da6b56a37701b...         0         19   \n",
       "\n",
       "   start_date create_date create_session_time  purchase_counts  purchase_time  \\\n",
       "0  2018-11-15  2018-10-07                  39              NaN            NaT   \n",
       "1  2018-10-11  2018-10-07                   4              NaN            NaT   \n",
       "2  2018-10-21  2018-10-07                  14              NaN            NaT   \n",
       "3  2018-11-20  2018-10-07                  44              NaN            NaT   \n",
       "4  2018-10-08  2018-10-07                   1              NaN            NaT   \n",
       "\n",
       "  last_purchase_time total_amount  \n",
       "0                NaN          NaN  \n",
       "1                NaN          NaN  \n",
       "2                NaN          NaN  \n",
       "3                NaN          NaN  \n",
       "4                NaN          NaN  \n",
       "\n",
       "[5 rows x 25 columns]"
      ]
     },
     "execution_count": 11,
     "metadata": {},
     "output_type": "execute_result"
    }
   ],
   "source": [
    "df_train2.head()"
   ]
  },
  {
   "cell_type": "code",
   "execution_count": null,
   "metadata": {
    "ExecuteTime": {
     "end_time": "2019-02-20T19:46:10.638242Z",
     "start_time": "2019-02-20T19:45:56.942389Z"
    },
    "collapsed": true
   },
   "outputs": [],
   "source": [
    "# user total session count\n",
    "train_feature['session_count'] = train_feature.user_id_hash.map(df_train.groupby('user_id_hash').session_index.agg(lambda x: max(x)-min(x)+1))"
   ]
  },
  {
   "cell_type": "code",
   "execution_count": null,
   "metadata": {
    "ExecuteTime": {
     "end_time": "2019-02-22T03:58:18.389532Z",
     "start_time": "2019-02-22T03:58:14.244818Z"
    },
    "collapsed": true
   },
   "outputs": [],
   "source": [
    "# user total purchase count\n",
    "train_feature['purchase_counts'] = train_feature.user_id_hash.map(df_train2.groupby('user_id_hash').purchase_counts.sum())"
   ]
  },
  {
   "cell_type": "code",
   "execution_count": null,
   "metadata": {
    "collapsed": true
   },
   "outputs": [],
   "source": [
    "# the percentage of purchase event count to session count\n",
    "train_feature['purchase_perc'] = train_feature.purchase_counts.div(test_feature.session_count)"
   ]
  },
  {
   "cell_type": "code",
   "execution_count": 97,
   "metadata": {
    "ExecuteTime": {
     "end_time": "2019-02-22T04:06:16.583476Z",
     "start_time": "2019-02-22T04:06:14.133312Z"
    },
    "collapsed": true
   },
   "outputs": [],
   "source": [
    "# user total purchase amount\n",
    "train_feature['total_amount']= train_feature.user_id_hash.map(df_train2.groupby('user_id_hash').total_amount.sum())\n",
    "train_feature.total_amount = train_feature.total_amount.fillna(0)"
   ]
  },
  {
   "cell_type": "code",
   "execution_count": 109,
   "metadata": {
    "ExecuteTime": {
     "end_time": "2019-02-22T04:16:33.396113Z",
     "start_time": "2019-02-22T04:16:33.386465Z"
    },
    "collapsed": true
   },
   "outputs": [],
   "source": [
    "train_feature['purchase_counts'] = train_feature['purchase_counts'].fillna(0)\n",
    "train_feature['total_amount'] = train_feature['total_amount'].fillna(0)"
   ]
  },
  {
   "cell_type": "code",
   "execution_count": null,
   "metadata": {},
   "outputs": [],
   "source": [
    "# avg cost per purchase event\n",
    "train_feature['cost_per_purchase'] = (train_feature.total_amount+1).div((train_feature.purchase_counts+1))"
   ]
  },
  {
   "cell_type": "code",
   "execution_count": null,
   "metadata": {
    "ExecuteTime": {
     "end_time": "2019-02-20T19:46:43.092965Z",
     "start_time": "2019-02-20T19:46:34.699446Z"
    },
    "collapsed": true
   },
   "outputs": [],
   "source": [
    "# avg session/purchasing times per user active day\n",
    "date_info = df_train.groupby('user_id_hash').start_date.nunique()\n",
    "train_feature['active_date'] = train_feature.user_id_hash.map(date_info)\n",
    "train_feature.active_date = train_feature.active_date.fillna(train_feature['active_date'].value_counts().index[0])\n",
    "train_feature['session_per_active_day'] = train_feature.session_count.div(train_feature.active_date)\n",
    "train_feature['purchase_per_active_day'] = train_feature.purchase_counts.div(train_feature.active_date)"
   ]
  },
  {
   "cell_type": "code",
   "execution_count": null,
   "metadata": {
    "ExecuteTime": {
     "end_time": "2019-02-20T19:46:46.940736Z",
     "start_time": "2019-02-20T19:46:44.453072Z"
    },
    "collapsed": true
   },
   "outputs": [],
   "source": [
    "# avg session/purchasing times per user day since the account created\n",
    "create_time = df_train.groupby('user_id_hash').create_session_time.max()\n",
    "train_feature['create_time'] = train_feature.user_id_hash.map(create_time)\n",
    "train_feature.create_time = train_feature.create_time.fillna(train_feature['create_time'].value_counts().index[0])\n",
    "train_feature['session_per_day'] = train_feature.session_count.div(train_feature.create_time)\n",
    "train_feature['purchase_per_day'] = train_feature.purchase_counts.div(train_feature.create_time)"
   ]
  },
  {
   "cell_type": "code",
   "execution_count": null,
   "metadata": {
    "ExecuteTime": {
     "end_time": "2019-02-20T19:46:47.783539Z",
     "start_time": "2019-02-20T19:46:47.756192Z"
    },
    "collapsed": true
   },
   "outputs": [],
   "source": [
    "train_feature.purchase_per_day  = train_feature.purchase_per_day .fillna(train_feature['purchase_per_day'].value_counts().index[0])"
   ]
  },
  {
   "cell_type": "code",
   "execution_count": null,
   "metadata": {
    "ExecuteTime": {
     "end_time": "2019-02-20T19:46:47.034224Z",
     "start_time": "2019-02-20T19:46:46.942645Z"
    },
    "collapsed": true
   },
   "outputs": [],
   "source": [
    "train_feature = train_feature.drop(['active_date','create_time'], axis=1)"
   ]
  },
  {
   "cell_type": "markdown",
   "metadata": {},
   "source": [
    "### Session-related"
   ]
  },
  {
   "cell_type": "markdown",
   "metadata": {
    "ExecuteTime": {
     "end_time": "2019-02-18T07:50:19.598066Z",
     "start_time": "2019-02-18T07:50:19.595785Z"
    },
    "collapsed": true
   },
   "source": [
    "* study more on user session properties to get duration, interval and frequency features."
   ]
  },
  {
   "cell_type": "code",
   "execution_count": null,
   "metadata": {
    "ExecuteTime": {
     "end_time": "2019-02-18T07:50:44.622026Z",
     "start_time": "2019-02-18T07:50:43.593368Z"
    },
    "collapsed": true
   },
   "outputs": [],
   "source": [
    "# user total session durations\n",
    "train_feature['session_durations'] = train_feature.user_id_hash.map(df_train.groupby('user_id_hash').previous_sessions_duration.sum())"
   ]
  },
  {
   "cell_type": "code",
   "execution_count": null,
   "metadata": {
    "ExecuteTime": {
     "end_time": "2019-02-20T19:46:12.804488Z",
     "start_time": "2019-02-20T19:46:12.767913Z"
    },
    "collapsed": true
   },
   "outputs": [],
   "source": [
    "# avg session duration\n",
    "train_feature['mean_session_durations'] = train_feature.session_durations.div(train_feature.session_count)"
   ]
  },
  {
   "cell_type": "code",
   "execution_count": null,
   "metadata": {
    "ExecuteTime": {
     "end_time": "2019-02-18T07:49:06.504235Z",
     "start_time": "2019-02-18T07:49:05.346311Z"
    },
    "collapsed": true
   },
   "outputs": [],
   "source": [
    "# the user's median active session day since the account created\n",
    "train_feature['median_create_session_time'] = train_feature.user_id_hash.map(df_train.groupby('user_id_hash').create_session_time.median())"
   ]
  },
  {
   "cell_type": "code",
   "execution_count": 71,
   "metadata": {
    "ExecuteTime": {
     "end_time": "2019-02-27T05:54:51.454650Z",
     "start_time": "2019-02-27T05:54:51.446469Z"
    }
   },
   "outputs": [],
   "source": [
    "# on average, the user has one session per x days\n",
    "train_feature['mean_session_interval'] = train_feature.median_create_session_time.div(train_feature.session_count)"
   ]
  },
  {
   "cell_type": "code",
   "execution_count": 74,
   "metadata": {
    "ExecuteTime": {
     "end_time": "2019-02-27T05:55:01.071483Z",
     "start_time": "2019-02-27T05:55:01.032012Z"
    }
   },
   "outputs": [],
   "source": [
    "train_feature['mean_session_interval'].replace(np.inf, 0, inplace=True)"
   ]
  },
  {
   "cell_type": "markdown",
   "metadata": {},
   "source": [
    "### Attributes-related"
   ]
  },
  {
   "cell_type": "code",
   "execution_count": 5,
   "metadata": {
    "ExecuteTime": {
     "end_time": "2019-02-28T00:39:32.844050Z",
     "start_time": "2019-02-28T00:39:30.103216Z"
    }
   },
   "outputs": [],
   "source": [
    "attr = pd.read_pickle('../LeanPlum/attr.pkl')"
   ]
  },
  {
   "cell_type": "code",
   "execution_count": 65,
   "metadata": {
    "ExecuteTime": {
     "end_time": "2019-02-28T01:04:28.316079Z",
     "start_time": "2019-02-28T01:04:28.197797Z"
    },
    "scrolled": true
   },
   "outputs": [
    {
     "data": {
      "text/html": [
       "<div>\n",
       "<style scoped>\n",
       "    .dataframe tbody tr th:only-of-type {\n",
       "        vertical-align: middle;\n",
       "    }\n",
       "\n",
       "    .dataframe tbody tr th {\n",
       "        vertical-align: top;\n",
       "    }\n",
       "\n",
       "    .dataframe thead th {\n",
       "        text-align: right;\n",
       "    }\n",
       "</style>\n",
       "<table border=\"1\" class=\"dataframe\">\n",
       "  <thead>\n",
       "    <tr style=\"text-align: right;\">\n",
       "      <th></th>\n",
       "      <th>user_id_hash</th>\n",
       "      <th>session_id</th>\n",
       "      <th>attr_0</th>\n",
       "      <th>attr_1</th>\n",
       "      <th>attr_2</th>\n",
       "      <th>attr_3</th>\n",
       "      <th>attr_4</th>\n",
       "      <th>attr_5</th>\n",
       "      <th>attr_6</th>\n",
       "      <th>attr_7</th>\n",
       "      <th>...</th>\n",
       "      <th>attr_19</th>\n",
       "      <th>attr_20</th>\n",
       "      <th>attr_22</th>\n",
       "      <th>attr_23</th>\n",
       "      <th>attr_24</th>\n",
       "      <th>attr_25</th>\n",
       "      <th>attr_26</th>\n",
       "      <th>attr_27</th>\n",
       "      <th>attr_28</th>\n",
       "      <th>attr_29</th>\n",
       "    </tr>\n",
       "  </thead>\n",
       "  <tbody>\n",
       "    <tr>\n",
       "      <th>0</th>\n",
       "      <td>002e447aed33ed4c51a68743cc293ef2148058b6a6239e...</td>\n",
       "      <td>2662933751290886254</td>\n",
       "      <td>NaN</td>\n",
       "      <td>NaN</td>\n",
       "      <td>NaN</td>\n",
       "      <td>0.029999</td>\n",
       "      <td>romance_the_royal_romance_01:3</td>\n",
       "      <td>3.0</td>\n",
       "      <td>romance_the_royal_romance_01:3</td>\n",
       "      <td>NaN</td>\n",
       "      <td>...</td>\n",
       "      <td>NaN</td>\n",
       "      <td>None</td>\n",
       "      <td>None</td>\n",
       "      <td>None</td>\n",
       "      <td>NaN</td>\n",
       "      <td>2.0</td>\n",
       "      <td>NaN</td>\n",
       "      <td>2.0</td>\n",
       "      <td>NaN</td>\n",
       "      <td>NaN</td>\n",
       "    </tr>\n",
       "    <tr>\n",
       "      <th>1</th>\n",
       "      <td>002e447aed33ed4c51a68743cc293ef2148058b6a6239e...</td>\n",
       "      <td>5793726669394503241</td>\n",
       "      <td>NaN</td>\n",
       "      <td>NaN</td>\n",
       "      <td>NaN</td>\n",
       "      <td>0.000000</td>\n",
       "      <td>romance_the_royal_romance_01:2</td>\n",
       "      <td>2.0</td>\n",
       "      <td>romance_the_royal_romance_01:2</td>\n",
       "      <td>NaN</td>\n",
       "      <td>...</td>\n",
       "      <td>1.0</td>\n",
       "      <td>None</td>\n",
       "      <td>None</td>\n",
       "      <td>None</td>\n",
       "      <td>NaN</td>\n",
       "      <td>0.0</td>\n",
       "      <td>NaN</td>\n",
       "      <td>0.0</td>\n",
       "      <td>NaN</td>\n",
       "      <td>NaN</td>\n",
       "    </tr>\n",
       "    <tr>\n",
       "      <th>2</th>\n",
       "      <td>002e447aed33ed4c51a68743cc293ef2148058b6a6239e...</td>\n",
       "      <td>6545122651035219326</td>\n",
       "      <td>0.0</td>\n",
       "      <td>0.0</td>\n",
       "      <td>0.0</td>\n",
       "      <td>0.059998</td>\n",
       "      <td>romance_the_royal_romance_01:6</td>\n",
       "      <td>6.0</td>\n",
       "      <td>romance_the_royal_romance_01:6</td>\n",
       "      <td>1.0</td>\n",
       "      <td>...</td>\n",
       "      <td>0.0</td>\n",
       "      <td>picker ya_romance_vampire</td>\n",
       "      <td>NaN</td>\n",
       "      <td>None</td>\n",
       "      <td>0.0</td>\n",
       "      <td>5.0</td>\n",
       "      <td>0.0</td>\n",
       "      <td>5.0</td>\n",
       "      <td>1.0</td>\n",
       "      <td>NaN</td>\n",
       "    </tr>\n",
       "    <tr>\n",
       "      <th>3</th>\n",
       "      <td>0061b4d30e8a9935b2ebeec954ff509b4f0cb500cd725c...</td>\n",
       "      <td>2302333863698307661</td>\n",
       "      <td>0.0</td>\n",
       "      <td>0.0</td>\n",
       "      <td>0.0</td>\n",
       "      <td>0.000000</td>\n",
       "      <td>romance_rules_of_engagement_01:1</td>\n",
       "      <td>0.0</td>\n",
       "      <td>NaN</td>\n",
       "      <td>4.0</td>\n",
       "      <td>...</td>\n",
       "      <td>2.0</td>\n",
       "      <td>picker ya_romance_vampire</td>\n",
       "      <td>NaN</td>\n",
       "      <td>None</td>\n",
       "      <td>NaN</td>\n",
       "      <td>0.0</td>\n",
       "      <td>0.0</td>\n",
       "      <td>0.0</td>\n",
       "      <td>1.0</td>\n",
       "      <td>NaN</td>\n",
       "    </tr>\n",
       "    <tr>\n",
       "      <th>4</th>\n",
       "      <td>00fbbf507c7d3c2f259cd3329d241c29d35712e2d4699f...</td>\n",
       "      <td>215362132811035045</td>\n",
       "      <td>0.0</td>\n",
       "      <td>0.0</td>\n",
       "      <td>0.0</td>\n",
       "      <td>0.000000</td>\n",
       "      <td>romance_high_school_story_01:2</td>\n",
       "      <td>1.0</td>\n",
       "      <td>romance_high_school_story_01:1</td>\n",
       "      <td>1.0</td>\n",
       "      <td>...</td>\n",
       "      <td>1.0</td>\n",
       "      <td>picker ya_romance_vampire</td>\n",
       "      <td>NaN</td>\n",
       "      <td>None</td>\n",
       "      <td>NaN</td>\n",
       "      <td>0.0</td>\n",
       "      <td>0.0</td>\n",
       "      <td>0.0</td>\n",
       "      <td>1.0</td>\n",
       "      <td>NaN</td>\n",
       "    </tr>\n",
       "  </tbody>\n",
       "</table>\n",
       "<p>5 rows × 31 columns</p>\n",
       "</div>"
      ],
      "text/plain": [
       "                                        user_id_hash           session_id  \\\n",
       "0  002e447aed33ed4c51a68743cc293ef2148058b6a6239e...  2662933751290886254   \n",
       "1  002e447aed33ed4c51a68743cc293ef2148058b6a6239e...  5793726669394503241   \n",
       "2  002e447aed33ed4c51a68743cc293ef2148058b6a6239e...  6545122651035219326   \n",
       "3  0061b4d30e8a9935b2ebeec954ff509b4f0cb500cd725c...  2302333863698307661   \n",
       "4  00fbbf507c7d3c2f259cd3329d241c29d35712e2d4699f...   215362132811035045   \n",
       "\n",
       "   attr_0  attr_1  attr_2    attr_3                            attr_4  attr_5  \\\n",
       "0     NaN     NaN     NaN  0.029999    romance_the_royal_romance_01:3     3.0   \n",
       "1     NaN     NaN     NaN  0.000000    romance_the_royal_romance_01:2     2.0   \n",
       "2     0.0     0.0     0.0  0.059998    romance_the_royal_romance_01:6     6.0   \n",
       "3     0.0     0.0     0.0  0.000000  romance_rules_of_engagement_01:1     0.0   \n",
       "4     0.0     0.0     0.0  0.000000    romance_high_school_story_01:2     1.0   \n",
       "\n",
       "                           attr_6  attr_7   ...     attr_19  \\\n",
       "0  romance_the_royal_romance_01:3     NaN   ...         NaN   \n",
       "1  romance_the_royal_romance_01:2     NaN   ...         1.0   \n",
       "2  romance_the_royal_romance_01:6     1.0   ...         0.0   \n",
       "3                             NaN     4.0   ...         2.0   \n",
       "4  romance_high_school_story_01:1     1.0   ...         1.0   \n",
       "\n",
       "                     attr_20  attr_22 attr_23 attr_24  attr_25  attr_26  \\\n",
       "0                       None     None    None     NaN      2.0      NaN   \n",
       "1                       None     None    None     NaN      0.0      NaN   \n",
       "2  picker ya_romance_vampire      NaN    None     0.0      5.0      0.0   \n",
       "3  picker ya_romance_vampire      NaN    None     NaN      0.0      0.0   \n",
       "4  picker ya_romance_vampire      NaN    None     NaN      0.0      0.0   \n",
       "\n",
       "   attr_27  attr_28  attr_29  \n",
       "0      2.0      NaN      NaN  \n",
       "1      0.0      NaN      NaN  \n",
       "2      5.0      1.0      NaN  \n",
       "3      0.0      1.0      NaN  \n",
       "4      0.0      1.0      NaN  \n",
       "\n",
       "[5 rows x 31 columns]"
      ]
     },
     "execution_count": 65,
     "metadata": {},
     "output_type": "execute_result"
    }
   ],
   "source": [
    "attr.head()"
   ]
  },
  {
   "cell_type": "code",
   "execution_count": 94,
   "metadata": {
    "ExecuteTime": {
     "end_time": "2019-02-28T01:59:21.213128Z",
     "start_time": "2019-02-28T01:59:18.733645Z"
    }
   },
   "outputs": [],
   "source": [
    "attr['attr_11'] = pd.to_numeric(attr['attr_11'] )"
   ]
  },
  {
   "cell_type": "code",
   "execution_count": 129,
   "metadata": {
    "ExecuteTime": {
     "end_time": "2019-02-28T03:47:05.145260Z",
     "start_time": "2019-02-28T03:47:03.305380Z"
    }
   },
   "outputs": [],
   "source": [
    "train_feature['attr_11'] = train_feature.user_id_hash.map(attr.groupby('user_id_hash').attr_11.max())"
   ]
  },
  {
   "cell_type": "code",
   "execution_count": 130,
   "metadata": {
    "ExecuteTime": {
     "end_time": "2019-02-28T03:47:07.857991Z",
     "start_time": "2019-02-28T03:47:07.848865Z"
    }
   },
   "outputs": [],
   "source": [
    "train_feature['attr_11'] = train_feature['attr_11'].fillna(0)"
   ]
  },
  {
   "cell_type": "markdown",
   "metadata": {},
   "source": [
    "### Time-related"
   ]
  },
  {
   "cell_type": "markdown",
   "metadata": {},
   "source": [
    "* aggregate features - user-level"
   ]
  },
  {
   "cell_type": "code",
   "execution_count": null,
   "metadata": {
    "ExecuteTime": {
     "end_time": "2019-02-18T07:45:31.578716Z",
     "start_time": "2019-02-18T07:43:01.299204Z"
    },
    "collapsed": true
   },
   "outputs": [],
   "source": [
    "# most frequent session active day of week \n",
    "train_feature['most_freq_dow'] = train_feature.user_id_hash.map(df_train.groupby('user_id_hash').start_dow.agg(lambda x: x.value_counts().index[0]))"
   ]
  },
  {
   "cell_type": "code",
   "execution_count": null,
   "metadata": {
    "ExecuteTime": {
     "end_time": "2019-02-18T07:49:05.344998Z",
     "start_time": "2019-02-18T07:46:32.789453Z"
    },
    "collapsed": true
   },
   "outputs": [],
   "source": [
    "# most frequent session active hour\n",
    "train_feature['most_freq_hour'] = train_feature.user_id_hash.map(df_train.groupby('user_id_hash').start_hour.agg(lambda x: x.value_counts().index[0]))"
   ]
  },
  {
   "cell_type": "code",
   "execution_count": 85,
   "metadata": {
    "ExecuteTime": {
     "end_time": "2019-02-22T03:59:15.853139Z",
     "start_time": "2019-02-22T03:59:15.680420Z"
    },
    "collapsed": true
   },
   "outputs": [],
   "source": [
    "df_train2['purchase_dow'] = df_train2.purchase_time.dt.dayofweek\n",
    "df_train2['purchase_hour'] = df_train2.purchase_time.dt.hour"
   ]
  },
  {
   "cell_type": "code",
   "execution_count": 94,
   "metadata": {
    "ExecuteTime": {
     "end_time": "2019-02-22T04:04:58.970378Z",
     "start_time": "2019-02-22T04:04:43.107437Z"
    },
    "collapsed": true
   },
   "outputs": [],
   "source": [
    "# most frequent purchase dow\n",
    "train_feature['most_frequent_purchase_dow'] = train_feature.user_id_hash.map(df_train2[df_train2.purchase_counts>0].groupby('user_id_hash').purchase_dow.agg(lambda x: x.value_counts().index[0]))\n",
    "train_feature.most_frequent_purchase_dow = train_feature.most_frequent_purchase_dow.fillna(7)"
   ]
  },
  {
   "cell_type": "code",
   "execution_count": null,
   "metadata": {
    "collapsed": true
   },
   "outputs": [],
   "source": [
    "# most frequent purchase hour\n",
    "train_feature['most_frequent_purchase_hour'] = train_feature.user_id_hash.map(df_train2[df_train2.purchase_counts>0].groupby('user_id_hash').purchase_hour.agg(lambda x: x.value_counts().index[0]))\n",
    "train_feature.most_frequent_purchase_hour = train_feature.most_frequent_purchase_hour.fillna(24)"
   ]
  },
  {
   "cell_type": "code",
   "execution_count": null,
   "metadata": {
    "ExecuteTime": {
     "end_time": "2019-02-22T03:24:36.191233Z",
     "start_time": "2019-02-22T03:23:27.328789Z"
    },
    "collapsed": true
   },
   "outputs": [],
   "source": [
    "# the day interval between the latest session day and pred day\n",
    "# useful\n",
    "df_train2['start_date'] = pd.to_datetime(df_train2['start_date'])\n",
    "df_train2 ['pred_time'] = '2018-12-1'\n",
    "df_train2 ['pred_time'] = pd.to_datetime(df_train2 ['pred_time'])\n",
    "df_train2 ['date_interval'] = df_train2['pred_time']-df_train2['start_date']\n",
    "df_train2['last_session_time'] = df_train2.date_interval.apply(lambda x: int(str(x).split(' ')[0]))"
   ]
  },
  {
   "cell_type": "code",
   "execution_count": null,
   "metadata": {
    "ExecuteTime": {
     "end_time": "2019-02-22T03:26:13.851519Z",
     "start_time": "2019-02-22T03:26:11.425903Z"
    },
    "collapsed": true
   },
   "outputs": [],
   "source": [
    "train_feature['last_session_time'] = train_feature.user_id_hash.map(df_train.groupby('user_id_hash').last_session_time.min())"
   ]
  },
  {
   "cell_type": "code",
   "execution_count": 106,
   "metadata": {
    "ExecuteTime": {
     "end_time": "2019-02-22T04:14:56.816517Z",
     "start_time": "2019-02-22T04:13:46.095873Z"
    },
    "collapsed": true
   },
   "outputs": [],
   "source": [
    "# the day interval between the latest purchase day and pred day\n",
    "# useful\n",
    "df_train2 ['date_interval'] = df_train2['pred_time']-df_train2['purchase_time']\n",
    "df_train2.date_interval = df_train2.date_interval.fillna('100 days')\n",
    "df_train2['last_purchase_time'] = df_train2.date_interval.apply(lambda x: int(str(x).split(' ')[0]))"
   ]
  },
  {
   "cell_type": "code",
   "execution_count": 107,
   "metadata": {
    "ExecuteTime": {
     "end_time": "2019-02-22T04:15:21.601093Z",
     "start_time": "2019-02-22T04:15:18.463769Z"
    },
    "collapsed": true
   },
   "outputs": [],
   "source": [
    "train_feature['last_purchase_time'] = train_feature.user_id_hash.map(df_train2.groupby('user_id_hash').last_purchase_time.min())"
   ]
  },
  {
   "cell_type": "code",
   "execution_count": null,
   "metadata": {
    "ExecuteTime": {
     "end_time": "2019-02-22T03:25:58.523345Z",
     "start_time": "2019-02-22T03:25:57.442012Z"
    },
    "collapsed": true
   },
   "outputs": [],
   "source": [
    "df_train2 = df_train2.drop(['pred_time','date_interval'], axis=1)"
   ]
  },
  {
   "cell_type": "markdown",
   "metadata": {},
   "source": [
    "### geographic"
   ]
  },
  {
   "cell_type": "markdown",
   "metadata": {},
   "source": [
    "* most frequent country/region/city\n",
    "\n",
    "* mean encoding"
   ]
  },
  {
   "cell_type": "code",
   "execution_count": 44,
   "metadata": {
    "ExecuteTime": {
     "end_time": "2019-02-22T06:02:26.768827Z",
     "start_time": "2019-02-22T06:02:26.489204Z"
    }
   },
   "outputs": [
    {
     "data": {
      "text/plain": [
       "754"
      ]
     },
     "execution_count": 44,
     "metadata": {},
     "output_type": "execute_result"
    }
   ],
   "source": [
    "df_train2.region.nunique()"
   ]
  },
  {
   "cell_type": "code",
   "execution_count": 45,
   "metadata": {
    "ExecuteTime": {
     "end_time": "2019-02-22T06:02:27.903311Z",
     "start_time": "2019-02-22T06:02:27.560563Z"
    }
   },
   "outputs": [
    {
     "data": {
      "text/plain": [
       "30998"
      ]
     },
     "execution_count": 45,
     "metadata": {},
     "output_type": "execute_result"
    }
   ],
   "source": [
    "df_train2.city.nunique()"
   ]
  },
  {
   "cell_type": "code",
   "execution_count": 56,
   "metadata": {
    "ExecuteTime": {
     "end_time": "2019-02-22T06:11:55.011678Z",
     "start_time": "2019-02-22T06:11:53.264202Z"
    },
    "collapsed": true
   },
   "outputs": [],
   "source": [
    "df_train2.country = df_train2.country.fillna(df_train2['country'].value_counts().index[0])\n",
    "df_train2.region = df_train2.region.fillna(df_train2['region'].value_counts().index[0])\n",
    "df_train2.city = df_train2.city.fillna(df_train2['city'].value_counts().index[0])"
   ]
  },
  {
   "cell_type": "code",
   "execution_count": 41,
   "metadata": {
    "ExecuteTime": {
     "end_time": "2019-02-22T06:01:56.129567Z",
     "start_time": "2019-02-22T05:42:22.752315Z"
    }
   },
   "outputs": [],
   "source": [
    "# most frequent country/region/city\n",
    "train_feature['most_freq_country'] = train_feature.user_id_hash.map(df_train2.groupby('user_id_hash').country.agg(lambda x: x.value_counts().index[0]))\n",
    "train_feature['most_freq_region'] = train_feature.user_id_hash.map(df_train2.groupby('user_id_hash').region.agg(lambda x: x.value_counts().index[0]))\n",
    "train_feature['most_freq_city'] = train_feature.user_id_hash.map(df_train2.groupby('user_id_hash').city.agg(lambda x: x.value_counts().index[0]))"
   ]
  },
  {
   "cell_type": "code",
   "execution_count": 57,
   "metadata": {
    "ExecuteTime": {
     "end_time": "2019-02-22T06:12:01.980753Z",
     "start_time": "2019-02-22T06:12:01.322706Z"
    }
   },
   "outputs": [],
   "source": [
    "# mean target encoding based on country\n",
    "country_mean_purchase_perc = df_train2.groupby('country').purchase_counts.sum()/df_train2.country.value_counts()\n",
    "train_feature['country_mean_purchase_perc'] = train_feature[\"most_freq_country\"].map(country_mean_purchase_perc)\n",
    "train_feature.country_mean_purchase_perc = train_feature.country_mean_purchase_perc.fillna(0)"
   ]
  },
  {
   "cell_type": "markdown",
   "metadata": {},
   "source": [
    "### device info"
   ]
  },
  {
   "cell_type": "code",
   "execution_count": 50,
   "metadata": {
    "ExecuteTime": {
     "end_time": "2019-02-22T06:04:25.156587Z",
     "start_time": "2019-02-22T06:04:24.735521Z"
    }
   },
   "outputs": [],
   "source": [
    "df_train2.os_name = ['iOS' if x=='iPhone OS' else x for x in df_train2['os_name']]"
   ]
  },
  {
   "cell_type": "code",
   "execution_count": 55,
   "metadata": {
    "ExecuteTime": {
     "end_time": "2019-02-22T06:11:50.183396Z",
     "start_time": "2019-02-22T06:05:15.264125Z"
    },
    "collapsed": true
   },
   "outputs": [],
   "source": [
    "# most frequent os \n",
    "df_train2.os_name = df_train2.os_name.fillna(df_train2['os_name'].value_counts().index[0])\n",
    "train_feature['most_freq_os'] = train_feature.user_id_hash.map(df_train.groupby('user_id_hash').os_name.agg(lambda x: x.value_counts().index[0]))"
   ]
  },
  {
   "cell_type": "code",
   "execution_count": 60,
   "metadata": {
    "ExecuteTime": {
     "end_time": "2019-02-22T06:12:43.071446Z",
     "start_time": "2019-02-22T06:12:42.431195Z"
    }
   },
   "outputs": [],
   "source": [
    "# mean target encoding based on os\n",
    "os_mean_purchase_perc = df_train2.groupby('os_name').purchase_counts.sum()/df_train2.os_name.value_counts()\n",
    "train_feature['os_mean_purchase_perc'] = train_feature[\"most_freq_os\"].map(os_mean_purchase_perc)\n",
    "train_feature.os_mean_purchase_perc = train_feature.os_mean_purchase_perc.fillna(0)"
   ]
  },
  {
   "cell_type": "markdown",
   "metadata": {},
   "source": [
    "### Others"
   ]
  },
  {
   "cell_type": "code",
   "execution_count": 48,
   "metadata": {
    "ExecuteTime": {
     "end_time": "2019-02-27T05:12:58.215893Z",
     "start_time": "2019-02-27T05:12:58.212525Z"
    }
   },
   "outputs": [],
   "source": [
    "# define the functin to calculate entropy\n",
    "def ent(data):\n",
    "    p_data = data.value_counts()/len(data)  # calculates the probabilities\n",
    "    # input probabilities to get the entropy\n",
    "    entropy = scipy.stats.entropy(p_data)\n",
    "    return entropy"
   ]
  },
  {
   "cell_type": "code",
   "execution_count": null,
   "metadata": {
    "ExecuteTime": {
     "end_time": "2019-02-22T03:09:45.496231Z",
     "start_time": "2019-02-22T03:03:28.152912Z"
    },
    "collapsed": true
   },
   "outputs": [],
   "source": [
    "# each user's session entropy\n",
    "train_feature['user_entropy'] = train_feature.user_id_hash.map(df_train.groupby('user_id_hash').session_id.apply(ent))"
   ]
  },
  {
   "cell_type": "markdown",
   "metadata": {},
   "source": [
    "### Label encoding"
   ]
  },
  {
   "cell_type": "markdown",
   "metadata": {
    "ExecuteTime": {
     "end_time": "2019-02-19T00:05:22.934376Z",
     "start_time": "2019-02-19T00:05:22.931172Z"
    }
   },
   "source": [
    "* Use label encoding encode categorical columns"
   ]
  },
  {
   "cell_type": "code",
   "execution_count": 77,
   "metadata": {
    "ExecuteTime": {
     "end_time": "2019-02-27T06:00:54.339535Z",
     "start_time": "2019-02-27T06:00:54.091741Z"
    }
   },
   "outputs": [
    {
     "data": {
      "text/plain": [
       "user_id_hash                   False\n",
       "most_freq_dow                  False\n",
       "most_freq_hour                 False\n",
       "median_create_session_time     False\n",
       "session_count                  False\n",
       "session_durations              False\n",
       "mean_session_durations         False\n",
       "mean_session_interval          False\n",
       "most_freq_country              False\n",
       "most_freq_region               False\n",
       "most_freq_city                 False\n",
       "most_freq_os                   False\n",
       "purchase_counts                False\n",
       "most_frequent_purchase_dow     False\n",
       "most_frequent_purchase_hour    False\n",
       "purchase_perc                  False\n",
       "total_amount                   False\n",
       "session_per_active_day         False\n",
       "purchase_per_active_day        False\n",
       "session_per_day                False\n",
       "purchase_per_day               False\n",
       "user_entropy                   False\n",
       "last_session_time              False\n",
       "last_purchase_time             False\n",
       "country_mean_purchase_perc     False\n",
       "os_mean_purchase_perc          False\n",
       "cost_per_purchase              False\n",
       "user_purchase_time_entropy     False\n",
       "dtype: bool"
      ]
     },
     "execution_count": 77,
     "metadata": {},
     "output_type": "execute_result"
    }
   ],
   "source": [
    "pd.isnull(train_feature).any()"
   ]
  },
  {
   "cell_type": "code",
   "execution_count": null,
   "metadata": {
    "collapsed": true
   },
   "outputs": [],
   "source": [
    "# fillna by most frequentist value\n",
    "cols = list(train_feature.columns)\n",
    "for col in cols:\n",
    "    train_feature[col] = train_feature[col].fillna(train_feature[col].value_counts().index[0])"
   ]
  },
  {
   "cell_type": "code",
   "execution_count": null,
   "metadata": {
    "collapsed": true
   },
   "outputs": [],
   "source": [
    "import numpy as np\n",
    "cols = list(train_feature.columns)\n",
    "for col in cols:\n",
    "    train_feature[col].replace(np.inf, 0, inplace=True)"
   ]
  },
  {
   "cell_type": "code",
   "execution_count": 62,
   "metadata": {
    "ExecuteTime": {
     "end_time": "2019-02-22T06:13:18.849251Z",
     "start_time": "2019-02-22T06:13:17.725384Z"
    },
    "collapsed": true
   },
   "outputs": [],
   "source": [
    "# use label encoding to transform categorical columns into numeric\n",
    "from sklearn.preprocessing import LabelEncoder\n",
    "cols = ['most_freq_country', 'most_freq_region', 'most_freq_city', 'most_freq_os']\n",
    "for col in cols:\n",
    "    encoder = LabelEncoder()\n",
    "    train_feature[col] = encoder.fit_transform(train_feature[col])"
   ]
  },
  {
   "cell_type": "code",
   "execution_count": 126,
   "metadata": {
    "ExecuteTime": {
     "end_time": "2019-02-28T03:42:24.525741Z",
     "start_time": "2019-02-28T03:42:24.496914Z"
    }
   },
   "outputs": [
    {
     "data": {
      "text/html": [
       "<div>\n",
       "<style scoped>\n",
       "    .dataframe tbody tr th:only-of-type {\n",
       "        vertical-align: middle;\n",
       "    }\n",
       "\n",
       "    .dataframe tbody tr th {\n",
       "        vertical-align: top;\n",
       "    }\n",
       "\n",
       "    .dataframe thead th {\n",
       "        text-align: right;\n",
       "    }\n",
       "</style>\n",
       "<table border=\"1\" class=\"dataframe\">\n",
       "  <thead>\n",
       "    <tr style=\"text-align: right;\">\n",
       "      <th></th>\n",
       "      <th>user_id_hash</th>\n",
       "      <th>most_freq_dow</th>\n",
       "      <th>most_freq_hour</th>\n",
       "      <th>median_create_session_time</th>\n",
       "      <th>session_count</th>\n",
       "      <th>session_durations</th>\n",
       "      <th>mean_session_durations</th>\n",
       "      <th>mean_session_interval</th>\n",
       "      <th>most_freq_country</th>\n",
       "      <th>most_freq_region</th>\n",
       "      <th>...</th>\n",
       "      <th>purchase_per_active_day</th>\n",
       "      <th>session_per_day</th>\n",
       "      <th>purchase_per_day</th>\n",
       "      <th>user_entropy</th>\n",
       "      <th>last_session_time</th>\n",
       "      <th>last_purchase_time</th>\n",
       "      <th>country_mean_purchase_perc</th>\n",
       "      <th>os_mean_purchase_perc</th>\n",
       "      <th>cost_per_purchase</th>\n",
       "      <th>attr_11</th>\n",
       "    </tr>\n",
       "  </thead>\n",
       "  <tbody>\n",
       "    <tr>\n",
       "      <th>0</th>\n",
       "      <td>9943447915df3a45fd6720a026af905b6da6b56a37701b...</td>\n",
       "      <td>6</td>\n",
       "      <td>7</td>\n",
       "      <td>36.0</td>\n",
       "      <td>46</td>\n",
       "      <td>938183565</td>\n",
       "      <td>2.039529e+07</td>\n",
       "      <td>0.782609</td>\n",
       "      <td>162</td>\n",
       "      <td>0</td>\n",
       "      <td>...</td>\n",
       "      <td>0.055556</td>\n",
       "      <td>0.851852</td>\n",
       "      <td>0.018519</td>\n",
       "      <td>3.828641</td>\n",
       "      <td>1</td>\n",
       "      <td>19</td>\n",
       "      <td>0.005269</td>\n",
       "      <td>0.028374</td>\n",
       "      <td>2.2465</td>\n",
       "      <td>3.49</td>\n",
       "    </tr>\n",
       "    <tr>\n",
       "      <th>1</th>\n",
       "      <td>43f75f8042d3c80c45e222bdd09267f4584684c54d6fae...</td>\n",
       "      <td>5</td>\n",
       "      <td>23</td>\n",
       "      <td>0.0</td>\n",
       "      <td>3</td>\n",
       "      <td>6074816</td>\n",
       "      <td>2.024939e+06</td>\n",
       "      <td>0.000000</td>\n",
       "      <td>69</td>\n",
       "      <td>281</td>\n",
       "      <td>...</td>\n",
       "      <td>0.000000</td>\n",
       "      <td>3.000000</td>\n",
       "      <td>0.000000</td>\n",
       "      <td>1.098612</td>\n",
       "      <td>20</td>\n",
       "      <td>100</td>\n",
       "      <td>0.060754</td>\n",
       "      <td>0.078831</td>\n",
       "      <td>1.0000</td>\n",
       "      <td>0.01</td>\n",
       "    </tr>\n",
       "    <tr>\n",
       "      <th>2</th>\n",
       "      <td>999524249720812f2d8c0390293efd58e1ac84d587a01c...</td>\n",
       "      <td>2</td>\n",
       "      <td>22</td>\n",
       "      <td>0.0</td>\n",
       "      <td>1</td>\n",
       "      <td>0</td>\n",
       "      <td>0.000000e+00</td>\n",
       "      <td>0.000000</td>\n",
       "      <td>210</td>\n",
       "      <td>299</td>\n",
       "      <td>...</td>\n",
       "      <td>0.000000</td>\n",
       "      <td>0.000000</td>\n",
       "      <td>0.000000</td>\n",
       "      <td>0.000000</td>\n",
       "      <td>45</td>\n",
       "      <td>100</td>\n",
       "      <td>0.068370</td>\n",
       "      <td>0.078831</td>\n",
       "      <td>1.0000</td>\n",
       "      <td>0.00</td>\n",
       "    </tr>\n",
       "    <tr>\n",
       "      <th>3</th>\n",
       "      <td>4e6bc35cf7fd79a5312047651e7865915f4a6bec193cf2...</td>\n",
       "      <td>3</td>\n",
       "      <td>15</td>\n",
       "      <td>2.0</td>\n",
       "      <td>1</td>\n",
       "      <td>596967</td>\n",
       "      <td>5.969670e+05</td>\n",
       "      <td>2.000000</td>\n",
       "      <td>94</td>\n",
       "      <td>162</td>\n",
       "      <td>...</td>\n",
       "      <td>0.000000</td>\n",
       "      <td>0.250000</td>\n",
       "      <td>0.000000</td>\n",
       "      <td>0.693147</td>\n",
       "      <td>9</td>\n",
       "      <td>100</td>\n",
       "      <td>0.004529</td>\n",
       "      <td>0.028374</td>\n",
       "      <td>1.0000</td>\n",
       "      <td>0.00</td>\n",
       "    </tr>\n",
       "    <tr>\n",
       "      <th>4</th>\n",
       "      <td>dc009148ee26d658e0240c7b7f6a258790a457737f96e8...</td>\n",
       "      <td>2</td>\n",
       "      <td>2</td>\n",
       "      <td>0.5</td>\n",
       "      <td>1</td>\n",
       "      <td>97482</td>\n",
       "      <td>9.748200e+04</td>\n",
       "      <td>0.500000</td>\n",
       "      <td>11</td>\n",
       "      <td>494</td>\n",
       "      <td>...</td>\n",
       "      <td>0.000000</td>\n",
       "      <td>1.000000</td>\n",
       "      <td>0.000000</td>\n",
       "      <td>0.693147</td>\n",
       "      <td>38</td>\n",
       "      <td>100</td>\n",
       "      <td>0.067344</td>\n",
       "      <td>0.028374</td>\n",
       "      <td>1.0000</td>\n",
       "      <td>0.00</td>\n",
       "    </tr>\n",
       "  </tbody>\n",
       "</table>\n",
       "<p>5 rows × 28 columns</p>\n",
       "</div>"
      ],
      "text/plain": [
       "                                        user_id_hash  most_freq_dow  \\\n",
       "0  9943447915df3a45fd6720a026af905b6da6b56a37701b...              6   \n",
       "1  43f75f8042d3c80c45e222bdd09267f4584684c54d6fae...              5   \n",
       "2  999524249720812f2d8c0390293efd58e1ac84d587a01c...              2   \n",
       "3  4e6bc35cf7fd79a5312047651e7865915f4a6bec193cf2...              3   \n",
       "4  dc009148ee26d658e0240c7b7f6a258790a457737f96e8...              2   \n",
       "\n",
       "   most_freq_hour  median_create_session_time  session_count  \\\n",
       "0               7                        36.0             46   \n",
       "1              23                         0.0              3   \n",
       "2              22                         0.0              1   \n",
       "3              15                         2.0              1   \n",
       "4               2                         0.5              1   \n",
       "\n",
       "   session_durations  mean_session_durations  mean_session_interval  \\\n",
       "0          938183565            2.039529e+07               0.782609   \n",
       "1            6074816            2.024939e+06               0.000000   \n",
       "2                  0            0.000000e+00               0.000000   \n",
       "3             596967            5.969670e+05               2.000000   \n",
       "4              97482            9.748200e+04               0.500000   \n",
       "\n",
       "   most_freq_country  most_freq_region   ...     purchase_per_active_day  \\\n",
       "0                162                 0   ...                    0.055556   \n",
       "1                 69               281   ...                    0.000000   \n",
       "2                210               299   ...                    0.000000   \n",
       "3                 94               162   ...                    0.000000   \n",
       "4                 11               494   ...                    0.000000   \n",
       "\n",
       "   session_per_day  purchase_per_day  user_entropy  last_session_time  \\\n",
       "0         0.851852          0.018519      3.828641                  1   \n",
       "1         3.000000          0.000000      1.098612                 20   \n",
       "2         0.000000          0.000000      0.000000                 45   \n",
       "3         0.250000          0.000000      0.693147                  9   \n",
       "4         1.000000          0.000000      0.693147                 38   \n",
       "\n",
       "   last_purchase_time  country_mean_purchase_perc  os_mean_purchase_perc  \\\n",
       "0                  19                    0.005269               0.028374   \n",
       "1                 100                    0.060754               0.078831   \n",
       "2                 100                    0.068370               0.078831   \n",
       "3                 100                    0.004529               0.028374   \n",
       "4                 100                    0.067344               0.028374   \n",
       "\n",
       "   cost_per_purchase  attr_11  \n",
       "0             2.2465     3.49  \n",
       "1             1.0000     0.01  \n",
       "2             1.0000     0.00  \n",
       "3             1.0000     0.00  \n",
       "4             1.0000     0.00  \n",
       "\n",
       "[5 rows x 28 columns]"
      ]
     },
     "execution_count": 126,
     "metadata": {},
     "output_type": "execute_result"
    }
   ],
   "source": [
    "train_feature.head()"
   ]
  },
  {
   "cell_type": "code",
   "execution_count": 112,
   "metadata": {
    "ExecuteTime": {
     "end_time": "2019-02-28T02:20:56.456693Z",
     "start_time": "2019-02-28T02:20:38.807755Z"
    }
   },
   "outputs": [],
   "source": [
    "train_feature.to_csv('../train_feature2.csv', index=False)"
   ]
  },
  {
   "cell_type": "markdown",
   "metadata": {},
   "source": [
    "### Combine train features and labels"
   ]
  },
  {
   "cell_type": "code",
   "execution_count": 103,
   "metadata": {
    "ExecuteTime": {
     "end_time": "2019-02-28T02:02:00.523170Z",
     "start_time": "2019-02-28T02:01:54.302639Z"
    }
   },
   "outputs": [
    {
     "data": {
      "text/html": [
       "<div>\n",
       "<style scoped>\n",
       "    .dataframe tbody tr th:only-of-type {\n",
       "        vertical-align: middle;\n",
       "    }\n",
       "\n",
       "    .dataframe tbody tr th {\n",
       "        vertical-align: top;\n",
       "    }\n",
       "\n",
       "    .dataframe thead th {\n",
       "        text-align: right;\n",
       "    }\n",
       "</style>\n",
       "<table border=\"1\" class=\"dataframe\">\n",
       "  <thead>\n",
       "    <tr style=\"text-align: right;\">\n",
       "      <th></th>\n",
       "      <th>user_id_hash</th>\n",
       "      <th>user_purchase_binary_7_days</th>\n",
       "      <th>user_purchase_binary_14_days</th>\n",
       "    </tr>\n",
       "  </thead>\n",
       "  <tbody>\n",
       "    <tr>\n",
       "      <th>0</th>\n",
       "      <td>9943447915df3a45fd6720a026af905b6da6b56a37701b...</td>\n",
       "      <td>0.0</td>\n",
       "      <td>0.0</td>\n",
       "    </tr>\n",
       "    <tr>\n",
       "      <th>1</th>\n",
       "      <td>43f75f8042d3c80c45e222bdd09267f4584684c54d6fae...</td>\n",
       "      <td>0.0</td>\n",
       "      <td>0.0</td>\n",
       "    </tr>\n",
       "    <tr>\n",
       "      <th>2</th>\n",
       "      <td>999524249720812f2d8c0390293efd58e1ac84d587a01c...</td>\n",
       "      <td>0.0</td>\n",
       "      <td>0.0</td>\n",
       "    </tr>\n",
       "    <tr>\n",
       "      <th>3</th>\n",
       "      <td>4e6bc35cf7fd79a5312047651e7865915f4a6bec193cf2...</td>\n",
       "      <td>0.0</td>\n",
       "      <td>0.0</td>\n",
       "    </tr>\n",
       "    <tr>\n",
       "      <th>4</th>\n",
       "      <td>dc009148ee26d658e0240c7b7f6a258790a457737f96e8...</td>\n",
       "      <td>0.0</td>\n",
       "      <td>0.0</td>\n",
       "    </tr>\n",
       "  </tbody>\n",
       "</table>\n",
       "</div>"
      ],
      "text/plain": [
       "                                        user_id_hash  \\\n",
       "0  9943447915df3a45fd6720a026af905b6da6b56a37701b...   \n",
       "1  43f75f8042d3c80c45e222bdd09267f4584684c54d6fae...   \n",
       "2  999524249720812f2d8c0390293efd58e1ac84d587a01c...   \n",
       "3  4e6bc35cf7fd79a5312047651e7865915f4a6bec193cf2...   \n",
       "4  dc009148ee26d658e0240c7b7f6a258790a457737f96e8...   \n",
       "\n",
       "   user_purchase_binary_7_days  user_purchase_binary_14_days  \n",
       "0                          0.0                           0.0  \n",
       "1                          0.0                           0.0  \n",
       "2                          0.0                           0.0  \n",
       "3                          0.0                           0.0  \n",
       "4                          0.0                           0.0  "
      ]
     },
     "execution_count": 103,
     "metadata": {},
     "output_type": "execute_result"
    }
   ],
   "source": [
    "bucket_name = 'advanced-ml-project' # Add your bucket name\n",
    "file_name = 'train_label.csv'\n",
    "s3 = boto3.client('s3')\n",
    "obj = s3.get_object(Bucket=bucket_name, Key=file_name) # S3 uses key-value structure where key is your file name\n",
    "train_label = pd.read_csv(obj['Body'])\n",
    "train_label.head()"
   ]
  },
  {
   "cell_type": "code",
   "execution_count": 127,
   "metadata": {
    "ExecuteTime": {
     "end_time": "2019-02-28T03:42:30.707194Z",
     "start_time": "2019-02-28T03:42:29.542576Z"
    }
   },
   "outputs": [
    {
     "data": {
      "text/html": [
       "<div>\n",
       "<style scoped>\n",
       "    .dataframe tbody tr th:only-of-type {\n",
       "        vertical-align: middle;\n",
       "    }\n",
       "\n",
       "    .dataframe tbody tr th {\n",
       "        vertical-align: top;\n",
       "    }\n",
       "\n",
       "    .dataframe thead th {\n",
       "        text-align: right;\n",
       "    }\n",
       "</style>\n",
       "<table border=\"1\" class=\"dataframe\">\n",
       "  <thead>\n",
       "    <tr style=\"text-align: right;\">\n",
       "      <th></th>\n",
       "      <th>user_id_hash</th>\n",
       "      <th>most_freq_dow</th>\n",
       "      <th>most_freq_hour</th>\n",
       "      <th>median_create_session_time</th>\n",
       "      <th>session_count</th>\n",
       "      <th>session_durations</th>\n",
       "      <th>mean_session_durations</th>\n",
       "      <th>mean_session_interval</th>\n",
       "      <th>most_freq_country</th>\n",
       "      <th>most_freq_region</th>\n",
       "      <th>...</th>\n",
       "      <th>purchase_per_day</th>\n",
       "      <th>user_entropy</th>\n",
       "      <th>last_session_time</th>\n",
       "      <th>last_purchase_time</th>\n",
       "      <th>country_mean_purchase_perc</th>\n",
       "      <th>os_mean_purchase_perc</th>\n",
       "      <th>cost_per_purchase</th>\n",
       "      <th>attr_11</th>\n",
       "      <th>user_purchase_binary_7_days</th>\n",
       "      <th>user_purchase_binary_14_days</th>\n",
       "    </tr>\n",
       "  </thead>\n",
       "  <tbody>\n",
       "    <tr>\n",
       "      <th>0</th>\n",
       "      <td>9943447915df3a45fd6720a026af905b6da6b56a37701b...</td>\n",
       "      <td>6</td>\n",
       "      <td>7</td>\n",
       "      <td>36.0</td>\n",
       "      <td>46</td>\n",
       "      <td>938183565</td>\n",
       "      <td>2.039529e+07</td>\n",
       "      <td>0.782609</td>\n",
       "      <td>162</td>\n",
       "      <td>0</td>\n",
       "      <td>...</td>\n",
       "      <td>0.018519</td>\n",
       "      <td>3.828641</td>\n",
       "      <td>1</td>\n",
       "      <td>19</td>\n",
       "      <td>0.005269</td>\n",
       "      <td>0.028374</td>\n",
       "      <td>2.2465</td>\n",
       "      <td>3.49</td>\n",
       "      <td>0.0</td>\n",
       "      <td>0.0</td>\n",
       "    </tr>\n",
       "    <tr>\n",
       "      <th>1</th>\n",
       "      <td>43f75f8042d3c80c45e222bdd09267f4584684c54d6fae...</td>\n",
       "      <td>5</td>\n",
       "      <td>23</td>\n",
       "      <td>0.0</td>\n",
       "      <td>3</td>\n",
       "      <td>6074816</td>\n",
       "      <td>2.024939e+06</td>\n",
       "      <td>0.000000</td>\n",
       "      <td>69</td>\n",
       "      <td>281</td>\n",
       "      <td>...</td>\n",
       "      <td>0.000000</td>\n",
       "      <td>1.098612</td>\n",
       "      <td>20</td>\n",
       "      <td>100</td>\n",
       "      <td>0.060754</td>\n",
       "      <td>0.078831</td>\n",
       "      <td>1.0000</td>\n",
       "      <td>0.01</td>\n",
       "      <td>0.0</td>\n",
       "      <td>0.0</td>\n",
       "    </tr>\n",
       "    <tr>\n",
       "      <th>2</th>\n",
       "      <td>999524249720812f2d8c0390293efd58e1ac84d587a01c...</td>\n",
       "      <td>2</td>\n",
       "      <td>22</td>\n",
       "      <td>0.0</td>\n",
       "      <td>1</td>\n",
       "      <td>0</td>\n",
       "      <td>0.000000e+00</td>\n",
       "      <td>0.000000</td>\n",
       "      <td>210</td>\n",
       "      <td>299</td>\n",
       "      <td>...</td>\n",
       "      <td>0.000000</td>\n",
       "      <td>0.000000</td>\n",
       "      <td>45</td>\n",
       "      <td>100</td>\n",
       "      <td>0.068370</td>\n",
       "      <td>0.078831</td>\n",
       "      <td>1.0000</td>\n",
       "      <td>0.00</td>\n",
       "      <td>0.0</td>\n",
       "      <td>0.0</td>\n",
       "    </tr>\n",
       "    <tr>\n",
       "      <th>3</th>\n",
       "      <td>4e6bc35cf7fd79a5312047651e7865915f4a6bec193cf2...</td>\n",
       "      <td>3</td>\n",
       "      <td>15</td>\n",
       "      <td>2.0</td>\n",
       "      <td>1</td>\n",
       "      <td>596967</td>\n",
       "      <td>5.969670e+05</td>\n",
       "      <td>2.000000</td>\n",
       "      <td>94</td>\n",
       "      <td>162</td>\n",
       "      <td>...</td>\n",
       "      <td>0.000000</td>\n",
       "      <td>0.693147</td>\n",
       "      <td>9</td>\n",
       "      <td>100</td>\n",
       "      <td>0.004529</td>\n",
       "      <td>0.028374</td>\n",
       "      <td>1.0000</td>\n",
       "      <td>0.00</td>\n",
       "      <td>0.0</td>\n",
       "      <td>0.0</td>\n",
       "    </tr>\n",
       "    <tr>\n",
       "      <th>4</th>\n",
       "      <td>dc009148ee26d658e0240c7b7f6a258790a457737f96e8...</td>\n",
       "      <td>2</td>\n",
       "      <td>2</td>\n",
       "      <td>0.5</td>\n",
       "      <td>1</td>\n",
       "      <td>97482</td>\n",
       "      <td>9.748200e+04</td>\n",
       "      <td>0.500000</td>\n",
       "      <td>11</td>\n",
       "      <td>494</td>\n",
       "      <td>...</td>\n",
       "      <td>0.000000</td>\n",
       "      <td>0.693147</td>\n",
       "      <td>38</td>\n",
       "      <td>100</td>\n",
       "      <td>0.067344</td>\n",
       "      <td>0.028374</td>\n",
       "      <td>1.0000</td>\n",
       "      <td>0.00</td>\n",
       "      <td>0.0</td>\n",
       "      <td>0.0</td>\n",
       "    </tr>\n",
       "  </tbody>\n",
       "</table>\n",
       "<p>5 rows × 30 columns</p>\n",
       "</div>"
      ],
      "text/plain": [
       "                                        user_id_hash  most_freq_dow  \\\n",
       "0  9943447915df3a45fd6720a026af905b6da6b56a37701b...              6   \n",
       "1  43f75f8042d3c80c45e222bdd09267f4584684c54d6fae...              5   \n",
       "2  999524249720812f2d8c0390293efd58e1ac84d587a01c...              2   \n",
       "3  4e6bc35cf7fd79a5312047651e7865915f4a6bec193cf2...              3   \n",
       "4  dc009148ee26d658e0240c7b7f6a258790a457737f96e8...              2   \n",
       "\n",
       "   most_freq_hour  median_create_session_time  session_count  \\\n",
       "0               7                        36.0             46   \n",
       "1              23                         0.0              3   \n",
       "2              22                         0.0              1   \n",
       "3              15                         2.0              1   \n",
       "4               2                         0.5              1   \n",
       "\n",
       "   session_durations  mean_session_durations  mean_session_interval  \\\n",
       "0          938183565            2.039529e+07               0.782609   \n",
       "1            6074816            2.024939e+06               0.000000   \n",
       "2                  0            0.000000e+00               0.000000   \n",
       "3             596967            5.969670e+05               2.000000   \n",
       "4              97482            9.748200e+04               0.500000   \n",
       "\n",
       "   most_freq_country  most_freq_region              ...               \\\n",
       "0                162                 0              ...                \n",
       "1                 69               281              ...                \n",
       "2                210               299              ...                \n",
       "3                 94               162              ...                \n",
       "4                 11               494              ...                \n",
       "\n",
       "   purchase_per_day  user_entropy  last_session_time  last_purchase_time  \\\n",
       "0          0.018519      3.828641                  1                  19   \n",
       "1          0.000000      1.098612                 20                 100   \n",
       "2          0.000000      0.000000                 45                 100   \n",
       "3          0.000000      0.693147                  9                 100   \n",
       "4          0.000000      0.693147                 38                 100   \n",
       "\n",
       "   country_mean_purchase_perc  os_mean_purchase_perc  cost_per_purchase  \\\n",
       "0                    0.005269               0.028374             2.2465   \n",
       "1                    0.060754               0.078831             1.0000   \n",
       "2                    0.068370               0.078831             1.0000   \n",
       "3                    0.004529               0.028374             1.0000   \n",
       "4                    0.067344               0.028374             1.0000   \n",
       "\n",
       "   attr_11  user_purchase_binary_7_days  user_purchase_binary_14_days  \n",
       "0     3.49                          0.0                           0.0  \n",
       "1     0.01                          0.0                           0.0  \n",
       "2     0.00                          0.0                           0.0  \n",
       "3     0.00                          0.0                           0.0  \n",
       "4     0.00                          0.0                           0.0  \n",
       "\n",
       "[5 rows x 30 columns]"
      ]
     },
     "execution_count": 127,
     "metadata": {},
     "output_type": "execute_result"
    }
   ],
   "source": [
    "train_dataset = pd.merge(train_feature, train_label, how='left', on='user_id_hash')\n",
    "train_dataset.head()"
   ]
  },
  {
   "cell_type": "code",
   "execution_count": 128,
   "metadata": {
    "ExecuteTime": {
     "end_time": "2019-02-28T03:42:50.024189Z",
     "start_time": "2019-02-28T03:42:32.431755Z"
    }
   },
   "outputs": [],
   "source": [
    "train_dataset.to_csv('../train_dataset2.csv', index=False)"
   ]
  },
  {
   "cell_type": "code",
   "execution_count": null,
   "metadata": {},
   "outputs": [],
   "source": []
  }
 ],
 "metadata": {
  "anaconda-cloud": {},
  "kernelspec": {
   "display_name": "Python 3",
   "language": "python",
   "name": "python3"
  },
  "language_info": {
   "codemirror_mode": {
    "name": "ipython",
    "version": 3
   },
   "file_extension": ".py",
   "mimetype": "text/x-python",
   "name": "python",
   "nbconvert_exporter": "python",
   "pygments_lexer": "ipython3",
   "version": "3.6.6"
  }
 },
 "nbformat": 4,
 "nbformat_minor": 2
}
