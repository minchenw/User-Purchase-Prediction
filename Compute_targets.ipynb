{
 "cells": [
  {
   "cell_type": "code",
   "execution_count": 1,
   "metadata": {
    "ExecuteTime": {
     "end_time": "2019-02-18T22:28:07.200194Z",
     "start_time": "2019-02-18T22:28:06.480941Z"
    },
    "collapsed": true
   },
   "outputs": [],
   "source": [
    "import pandas as pd\n",
    "import numpy as np\n",
    "import boto3 "
   ]
  },
  {
   "cell_type": "markdown",
   "metadata": {},
   "source": [
    "## Load Event Data"
   ]
  },
  {
   "cell_type": "code",
   "execution_count": 34,
   "metadata": {
    "ExecuteTime": {
     "end_time": "2019-02-18T22:36:54.527871Z",
     "start_time": "2019-02-18T22:36:51.163851Z"
    }
   },
   "outputs": [],
   "source": [
    "bucket_name = 'advanced-ml-project' # Add your bucket name\n",
    "file_name = 'event.csv'\n",
    "s3 = boto3.client('s3')\n",
    "obj = s3.get_object(Bucket=bucket_name, Key=file_name) # S3 uses key-value structure where key is your file name\n",
    "data = pd.read_csv(obj['Body'])"
   ]
  },
  {
   "cell_type": "code",
   "execution_count": 5,
   "metadata": {
    "ExecuteTime": {
     "end_time": "2019-02-18T17:27:53.183039Z",
     "start_time": "2019-02-18T17:27:33.102490Z"
    }
   },
   "outputs": [
    {
     "data": {
      "text/plain": [
       "app_id             111946597\n",
       "session_id         111946597\n",
       "event              111946597\n",
       "event_timestamp    111946597\n",
       "event_value        111946534\n",
       "user_id_hash       111946597\n",
       "dtype: int64"
      ]
     },
     "execution_count": 5,
     "metadata": {},
     "output_type": "execute_result"
    }
   ],
   "source": [
    "data.count()"
   ]
  },
  {
   "cell_type": "markdown",
   "metadata": {},
   "source": [
    "## Only Keep Rows with Event Index 8"
   ]
  },
  {
   "cell_type": "code",
   "execution_count": 6,
   "metadata": {
    "ExecuteTime": {
     "end_time": "2019-02-18T17:28:54.209036Z",
     "start_time": "2019-02-18T17:27:57.968388Z"
    },
    "collapsed": true
   },
   "outputs": [],
   "source": [
    "data.drop(data[data['event'] != '8' ].index , inplace=True);"
   ]
  },
  {
   "cell_type": "code",
   "execution_count": 7,
   "metadata": {
    "ExecuteTime": {
     "end_time": "2019-02-18T17:28:58.976480Z",
     "start_time": "2019-02-18T17:28:58.757121Z"
    }
   },
   "outputs": [
    {
     "data": {
      "text/html": [
       "<div>\n",
       "<table border=\"1\" class=\"dataframe\">\n",
       "  <thead>\n",
       "    <tr style=\"text-align: right;\">\n",
       "      <th></th>\n",
       "      <th>app_id</th>\n",
       "      <th>session_id</th>\n",
       "      <th>event</th>\n",
       "      <th>event_timestamp</th>\n",
       "      <th>event_value</th>\n",
       "      <th>user_id_hash</th>\n",
       "    </tr>\n",
       "  </thead>\n",
       "  <tbody>\n",
       "    <tr>\n",
       "      <th>279</th>\n",
       "      <td>4724682771660800</td>\n",
       "      <td>5159335150551901701</td>\n",
       "      <td>8</td>\n",
       "      <td>1541912600211</td>\n",
       "      <td>3.493</td>\n",
       "      <td>9943447915df3a45fd6720a026af905b6da6b56a37701b...</td>\n",
       "    </tr>\n",
       "    <tr>\n",
       "      <th>2898</th>\n",
       "      <td>4724682771660800</td>\n",
       "      <td>845986603555615931</td>\n",
       "      <td>8</td>\n",
       "      <td>1543357433771</td>\n",
       "      <td>3.493</td>\n",
       "      <td>deaf54103e439789b069a95c4650dc6cdc24d6c9d700f1...</td>\n",
       "    </tr>\n",
       "    <tr>\n",
       "      <th>2970</th>\n",
       "      <td>4724682771660800</td>\n",
       "      <td>2846996524173831068</td>\n",
       "      <td>8</td>\n",
       "      <td>1543023539172</td>\n",
       "      <td>3.493</td>\n",
       "      <td>deaf54103e439789b069a95c4650dc6cdc24d6c9d700f1...</td>\n",
       "    </tr>\n",
       "    <tr>\n",
       "      <th>3002</th>\n",
       "      <td>4724682771660800</td>\n",
       "      <td>6141788581998894012</td>\n",
       "      <td>8</td>\n",
       "      <td>1543531139724</td>\n",
       "      <td>1.393</td>\n",
       "      <td>deaf54103e439789b069a95c4650dc6cdc24d6c9d700f1...</td>\n",
       "    </tr>\n",
       "    <tr>\n",
       "      <th>3597</th>\n",
       "      <td>4724682771660800</td>\n",
       "      <td>6974128812803113234</td>\n",
       "      <td>8</td>\n",
       "      <td>1541437057644</td>\n",
       "      <td>1.393</td>\n",
       "      <td>b2ccdf1ae0d33e2e0a671d605f3fe4cdb72c7fc54bdd49...</td>\n",
       "    </tr>\n",
       "  </tbody>\n",
       "</table>\n",
       "</div>"
      ],
      "text/plain": [
       "                app_id           session_id event  event_timestamp  \\\n",
       "279   4724682771660800  5159335150551901701     8    1541912600211   \n",
       "2898  4724682771660800   845986603555615931     8    1543357433771   \n",
       "2970  4724682771660800  2846996524173831068     8    1543023539172   \n",
       "3002  4724682771660800  6141788581998894012     8    1543531139724   \n",
       "3597  4724682771660800  6974128812803113234     8    1541437057644   \n",
       "\n",
       "      event_value                                       user_id_hash  \n",
       "279         3.493  9943447915df3a45fd6720a026af905b6da6b56a37701b...  \n",
       "2898        3.493  deaf54103e439789b069a95c4650dc6cdc24d6c9d700f1...  \n",
       "2970        3.493  deaf54103e439789b069a95c4650dc6cdc24d6c9d700f1...  \n",
       "3002        1.393  deaf54103e439789b069a95c4650dc6cdc24d6c9d700f1...  \n",
       "3597        1.393  b2ccdf1ae0d33e2e0a671d605f3fe4cdb72c7fc54bdd49...  "
      ]
     },
     "execution_count": 7,
     "metadata": {},
     "output_type": "execute_result"
    }
   ],
   "source": [
    "data.head()"
   ]
  },
  {
   "cell_type": "code",
   "execution_count": 17,
   "metadata": {
    "ExecuteTime": {
     "end_time": "2019-02-18T17:31:04.950393Z",
     "start_time": "2019-02-18T17:31:04.946711Z"
    }
   },
   "outputs": [
    {
     "name": "stdout",
     "output_type": "stream",
     "text": [
      "Number of Rows: 265034\n"
     ]
    }
   ],
   "source": [
    "print( 'Number of Rows:', len(data))"
   ]
  },
  {
   "cell_type": "code",
   "execution_count": 18,
   "metadata": {
    "ExecuteTime": {
     "end_time": "2019-02-18T17:31:17.075822Z",
     "start_time": "2019-02-18T17:31:17.052159Z"
    }
   },
   "outputs": [
    {
     "name": "stdout",
     "output_type": "stream",
     "text": [
      "Number of Unique Users:  34200\n"
     ]
    }
   ],
   "source": [
    "unique_users = len(data['user_id_hash'].unique())\n",
    "print(\"Number of Unique Users: \",unique_users)"
   ]
  },
  {
   "cell_type": "code",
   "execution_count": 19,
   "metadata": {
    "ExecuteTime": {
     "end_time": "2019-02-18T17:31:27.527457Z",
     "start_time": "2019-02-18T17:31:27.524823Z"
    },
    "collapsed": true
   },
   "outputs": [],
   "source": [
    "data.reset_index(inplace=True, drop=True);"
   ]
  },
  {
   "cell_type": "markdown",
   "metadata": {},
   "source": [
    "## Save Filtered Event Dataframe"
   ]
  },
  {
   "cell_type": "code",
   "execution_count": 21,
   "metadata": {
    "ExecuteTime": {
     "end_time": "2019-02-18T17:31:42.618873Z",
     "start_time": "2019-02-18T17:31:40.326743Z"
    },
    "collapsed": true
   },
   "outputs": [],
   "source": [
    "data.to_csv('feature_eng/filtered_events.csv', index=False);"
   ]
  },
  {
   "cell_type": "markdown",
   "metadata": {},
   "source": [
    "## Load CSV Back into Dataframe - Start From Here if need to rerun stuff!"
   ]
  },
  {
   "cell_type": "code",
   "execution_count": 4,
   "metadata": {
    "ExecuteTime": {
     "end_time": "2019-02-18T22:28:26.679053Z",
     "start_time": "2019-02-18T22:28:26.303821Z"
    }
   },
   "outputs": [
    {
     "data": {
      "text/html": [
       "<div>\n",
       "<table border=\"1\" class=\"dataframe\">\n",
       "  <thead>\n",
       "    <tr style=\"text-align: right;\">\n",
       "      <th></th>\n",
       "      <th>app_id</th>\n",
       "      <th>session_id</th>\n",
       "      <th>event</th>\n",
       "      <th>event_timestamp</th>\n",
       "      <th>event_value</th>\n",
       "      <th>user_id_hash</th>\n",
       "    </tr>\n",
       "  </thead>\n",
       "  <tbody>\n",
       "    <tr>\n",
       "      <th>0</th>\n",
       "      <td>4724682771660800</td>\n",
       "      <td>5159335150551901701</td>\n",
       "      <td>8</td>\n",
       "      <td>1541912600211</td>\n",
       "      <td>3.493</td>\n",
       "      <td>9943447915df3a45fd6720a026af905b6da6b56a37701b...</td>\n",
       "    </tr>\n",
       "    <tr>\n",
       "      <th>1</th>\n",
       "      <td>4724682771660800</td>\n",
       "      <td>845986603555615931</td>\n",
       "      <td>8</td>\n",
       "      <td>1543357433771</td>\n",
       "      <td>3.493</td>\n",
       "      <td>deaf54103e439789b069a95c4650dc6cdc24d6c9d700f1...</td>\n",
       "    </tr>\n",
       "    <tr>\n",
       "      <th>2</th>\n",
       "      <td>4724682771660800</td>\n",
       "      <td>2846996524173831068</td>\n",
       "      <td>8</td>\n",
       "      <td>1543023539172</td>\n",
       "      <td>3.493</td>\n",
       "      <td>deaf54103e439789b069a95c4650dc6cdc24d6c9d700f1...</td>\n",
       "    </tr>\n",
       "    <tr>\n",
       "      <th>3</th>\n",
       "      <td>4724682771660800</td>\n",
       "      <td>6141788581998894012</td>\n",
       "      <td>8</td>\n",
       "      <td>1543531139724</td>\n",
       "      <td>1.393</td>\n",
       "      <td>deaf54103e439789b069a95c4650dc6cdc24d6c9d700f1...</td>\n",
       "    </tr>\n",
       "    <tr>\n",
       "      <th>4</th>\n",
       "      <td>4724682771660800</td>\n",
       "      <td>6974128812803113234</td>\n",
       "      <td>8</td>\n",
       "      <td>1541437057644</td>\n",
       "      <td>1.393</td>\n",
       "      <td>b2ccdf1ae0d33e2e0a671d605f3fe4cdb72c7fc54bdd49...</td>\n",
       "    </tr>\n",
       "  </tbody>\n",
       "</table>\n",
       "</div>"
      ],
      "text/plain": [
       "             app_id           session_id  event  event_timestamp  event_value  \\\n",
       "0  4724682771660800  5159335150551901701      8    1541912600211        3.493   \n",
       "1  4724682771660800   845986603555615931      8    1543357433771        3.493   \n",
       "2  4724682771660800  2846996524173831068      8    1543023539172        3.493   \n",
       "3  4724682771660800  6141788581998894012      8    1543531139724        1.393   \n",
       "4  4724682771660800  6974128812803113234      8    1541437057644        1.393   \n",
       "\n",
       "                                        user_id_hash  \n",
       "0  9943447915df3a45fd6720a026af905b6da6b56a37701b...  \n",
       "1  deaf54103e439789b069a95c4650dc6cdc24d6c9d700f1...  \n",
       "2  deaf54103e439789b069a95c4650dc6cdc24d6c9d700f1...  \n",
       "3  deaf54103e439789b069a95c4650dc6cdc24d6c9d700f1...  \n",
       "4  b2ccdf1ae0d33e2e0a671d605f3fe4cdb72c7fc54bdd49...  "
      ]
     },
     "execution_count": 4,
     "metadata": {},
     "output_type": "execute_result"
    }
   ],
   "source": [
    "filtered_events = pd.read_csv('feature_eng/filtered_events.csv')\n",
    "filtered_events.head()"
   ]
  },
  {
   "cell_type": "markdown",
   "metadata": {},
   "source": [
    "## Load Total Users"
   ]
  },
  {
   "cell_type": "code",
   "execution_count": 38,
   "metadata": {
    "ExecuteTime": {
     "end_time": "2019-02-18T23:23:27.488607Z",
     "start_time": "2019-02-18T23:23:25.700902Z"
    }
   },
   "outputs": [
    {
     "name": "stdout",
     "output_type": "stream",
     "text": [
      "Number of Total Unique Users in trainset:  619706\n"
     ]
    }
   ],
   "source": [
    "users = pd.read_csv('feature_eng/train_feature.csv')\n",
    "users = pd.DataFrame(users['user_id_hash'].unique(), columns= ['user_id_hash'])\n",
    "print(\"Number of Total Unique Users in trainset: \", len(users))"
   ]
  },
  {
   "cell_type": "markdown",
   "metadata": {},
   "source": [
    "Note that there are way more users we need to predict on than we actually have data for"
   ]
  },
  {
   "cell_type": "markdown",
   "metadata": {},
   "source": [
    "## Convert UTC Epoch Time to human readable date"
   ]
  },
  {
   "cell_type": "code",
   "execution_count": 6,
   "metadata": {
    "ExecuteTime": {
     "end_time": "2019-02-18T22:28:49.691280Z",
     "start_time": "2019-02-18T22:28:49.682649Z"
    },
    "collapsed": true
   },
   "outputs": [],
   "source": [
    "filtered_events['event_timestamp'] = pd.to_datetime(filtered_events['event_timestamp'], unit='ms')"
   ]
  },
  {
   "cell_type": "code",
   "execution_count": 7,
   "metadata": {
    "ExecuteTime": {
     "end_time": "2019-02-18T22:28:50.661782Z",
     "start_time": "2019-02-18T22:28:50.650816Z"
    }
   },
   "outputs": [
    {
     "data": {
      "text/html": [
       "<div>\n",
       "<table border=\"1\" class=\"dataframe\">\n",
       "  <thead>\n",
       "    <tr style=\"text-align: right;\">\n",
       "      <th></th>\n",
       "      <th>app_id</th>\n",
       "      <th>session_id</th>\n",
       "      <th>event</th>\n",
       "      <th>event_timestamp</th>\n",
       "      <th>event_value</th>\n",
       "      <th>user_id_hash</th>\n",
       "    </tr>\n",
       "  </thead>\n",
       "  <tbody>\n",
       "    <tr>\n",
       "      <th>0</th>\n",
       "      <td>4724682771660800</td>\n",
       "      <td>5159335150551901701</td>\n",
       "      <td>8</td>\n",
       "      <td>2018-11-11 05:03:20.211</td>\n",
       "      <td>3.493</td>\n",
       "      <td>9943447915df3a45fd6720a026af905b6da6b56a37701b...</td>\n",
       "    </tr>\n",
       "    <tr>\n",
       "      <th>1</th>\n",
       "      <td>4724682771660800</td>\n",
       "      <td>845986603555615931</td>\n",
       "      <td>8</td>\n",
       "      <td>2018-11-27 22:23:53.771</td>\n",
       "      <td>3.493</td>\n",
       "      <td>deaf54103e439789b069a95c4650dc6cdc24d6c9d700f1...</td>\n",
       "    </tr>\n",
       "    <tr>\n",
       "      <th>2</th>\n",
       "      <td>4724682771660800</td>\n",
       "      <td>2846996524173831068</td>\n",
       "      <td>8</td>\n",
       "      <td>2018-11-24 01:38:59.172</td>\n",
       "      <td>3.493</td>\n",
       "      <td>deaf54103e439789b069a95c4650dc6cdc24d6c9d700f1...</td>\n",
       "    </tr>\n",
       "    <tr>\n",
       "      <th>3</th>\n",
       "      <td>4724682771660800</td>\n",
       "      <td>6141788581998894012</td>\n",
       "      <td>8</td>\n",
       "      <td>2018-11-29 22:38:59.724</td>\n",
       "      <td>1.393</td>\n",
       "      <td>deaf54103e439789b069a95c4650dc6cdc24d6c9d700f1...</td>\n",
       "    </tr>\n",
       "    <tr>\n",
       "      <th>4</th>\n",
       "      <td>4724682771660800</td>\n",
       "      <td>6974128812803113234</td>\n",
       "      <td>8</td>\n",
       "      <td>2018-11-05 16:57:37.644</td>\n",
       "      <td>1.393</td>\n",
       "      <td>b2ccdf1ae0d33e2e0a671d605f3fe4cdb72c7fc54bdd49...</td>\n",
       "    </tr>\n",
       "  </tbody>\n",
       "</table>\n",
       "</div>"
      ],
      "text/plain": [
       "             app_id           session_id  event         event_timestamp  \\\n",
       "0  4724682771660800  5159335150551901701      8 2018-11-11 05:03:20.211   \n",
       "1  4724682771660800   845986603555615931      8 2018-11-27 22:23:53.771   \n",
       "2  4724682771660800  2846996524173831068      8 2018-11-24 01:38:59.172   \n",
       "3  4724682771660800  6141788581998894012      8 2018-11-29 22:38:59.724   \n",
       "4  4724682771660800  6974128812803113234      8 2018-11-05 16:57:37.644   \n",
       "\n",
       "   event_value                                       user_id_hash  \n",
       "0        3.493  9943447915df3a45fd6720a026af905b6da6b56a37701b...  \n",
       "1        3.493  deaf54103e439789b069a95c4650dc6cdc24d6c9d700f1...  \n",
       "2        3.493  deaf54103e439789b069a95c4650dc6cdc24d6c9d700f1...  \n",
       "3        1.393  deaf54103e439789b069a95c4650dc6cdc24d6c9d700f1...  \n",
       "4        1.393  b2ccdf1ae0d33e2e0a671d605f3fe4cdb72c7fc54bdd49...  "
      ]
     },
     "execution_count": 7,
     "metadata": {},
     "output_type": "execute_result"
    }
   ],
   "source": [
    "filtered_events.head()"
   ]
  },
  {
   "cell_type": "code",
   "execution_count": 8,
   "metadata": {
    "ExecuteTime": {
     "end_time": "2019-02-18T22:28:54.221890Z",
     "start_time": "2019-02-18T22:28:54.216066Z"
    }
   },
   "outputs": [
    {
     "name": "stdout",
     "output_type": "stream",
     "text": [
      "Earliest Date:  2018-10-01 07:35:42.211000\n",
      "Latest Date: 2018-12-14 23:58:42.037000\n"
     ]
    }
   ],
   "source": [
    "print( \"Earliest Date: \", filtered_events.event_timestamp.min())\n",
    "print( \"Latest Date:\", filtered_events.event_timestamp.max())"
   ]
  },
  {
   "cell_type": "markdown",
   "metadata": {},
   "source": [
    "## Save Data from Oct 1 - Nov 30 to use in training features"
   ]
  },
  {
   "cell_type": "code",
   "execution_count": 29,
   "metadata": {
    "ExecuteTime": {
     "end_time": "2019-02-18T17:35:27.158112Z",
     "start_time": "2019-02-18T17:35:24.614855Z"
    }
   },
   "outputs": [
    {
     "name": "stdout",
     "output_type": "stream",
     "text": [
      "Earliest Training Date: 2018-10-01 07:35:42.211000\n",
      "Latest Training Date: 2018-11-30 23:59:42.541000\n"
     ]
    }
   ],
   "source": [
    "training_set = filtered_events[filtered_events.event_timestamp < '2018-12-01'].copy()\n",
    "print('Earliest Training Date:', training_set.event_timestamp.min())\n",
    "print( \"Latest Training Date:\", training_set.event_timestamp.max())\n",
    "training_set.to_csv('feature_eng/training_events.csv', index=False);"
   ]
  },
  {
   "cell_type": "markdown",
   "metadata": {},
   "source": [
    "## Take Data from Dec 1 - Dec 14 to form Training label"
   ]
  },
  {
   "cell_type": "code",
   "execution_count": 9,
   "metadata": {
    "ExecuteTime": {
     "end_time": "2019-02-18T22:29:37.375852Z",
     "start_time": "2019-02-18T22:29:37.368491Z"
    },
    "collapsed": true
   },
   "outputs": [],
   "source": [
    "label_set = filtered_events[filtered_events.event_timestamp >= '2018-12-01'].copy()"
   ]
  },
  {
   "cell_type": "code",
   "execution_count": 11,
   "metadata": {
    "ExecuteTime": {
     "end_time": "2019-02-18T22:29:47.690980Z",
     "start_time": "2019-02-18T22:29:47.686557Z"
    }
   },
   "outputs": [
    {
     "name": "stdout",
     "output_type": "stream",
     "text": [
      "Earliest Date: 2018-12-01 00:00:42.221000\n",
      "Latest Date: 2018-12-14 23:58:42.037000\n"
     ]
    }
   ],
   "source": [
    "print(\"Earliest Date:\", label_set.event_timestamp.min())\n",
    "print(\"Latest Date:\", label_set.event_timestamp.max())"
   ]
  },
  {
   "cell_type": "markdown",
   "metadata": {},
   "source": [
    "### Take subset of label_set to get data from Dec 1 through Dec 7"
   ]
  },
  {
   "cell_type": "code",
   "execution_count": 12,
   "metadata": {
    "ExecuteTime": {
     "end_time": "2019-02-18T22:29:59.480893Z",
     "start_time": "2019-02-18T22:29:59.475768Z"
    },
    "collapsed": true
   },
   "outputs": [],
   "source": [
    "seven_days_data = label_set[label_set.event_timestamp < '2018-12-08'].copy()"
   ]
  },
  {
   "cell_type": "code",
   "execution_count": 13,
   "metadata": {
    "ExecuteTime": {
     "end_time": "2019-02-18T22:30:01.277487Z",
     "start_time": "2019-02-18T22:30:01.272725Z"
    }
   },
   "outputs": [
    {
     "name": "stdout",
     "output_type": "stream",
     "text": [
      "Earliest Date: 2018-12-01 00:00:42.221000\n",
      "Latest Date: 2018-12-07 23:59:57.656000\n"
     ]
    }
   ],
   "source": [
    "print(\"Earliest Date:\", seven_days_data.event_timestamp.min())\n",
    "print(\"Latest Date:\", seven_days_data.event_timestamp.max())"
   ]
  },
  {
   "cell_type": "code",
   "execution_count": 15,
   "metadata": {
    "ExecuteTime": {
     "end_time": "2019-02-18T22:30:33.189056Z",
     "start_time": "2019-02-18T22:30:33.165540Z"
    }
   },
   "outputs": [
    {
     "name": "stdout",
     "output_type": "stream",
     "text": [
      "Number of Total Unique Users in train label: 6126\n",
      "Number of Total Unique Users in 7 Day Sub Set: 4729\n",
      "Number of Total Unique Users in Entire Filtered Events Set: 34200\n"
     ]
    }
   ],
   "source": [
    "print(\"Number of Total Unique Users in train label:\", len(label_set['user_id_hash'].unique()))\n",
    "print(\"Number of Total Unique Users in 7 Day Sub Set:\", len(seven_days_data['user_id_hash'].unique()))\n",
    "print(\"Number of Total Unique Users in Entire Filtered Events Set:\", len(filtered_events['user_id_hash'].unique()))"
   ]
  },
  {
   "cell_type": "markdown",
   "metadata": {},
   "source": [
    "## Add Labels on Train users"
   ]
  },
  {
   "cell_type": "code",
   "execution_count": 18,
   "metadata": {
    "ExecuteTime": {
     "end_time": "2019-02-18T22:32:59.674977Z",
     "start_time": "2019-02-18T22:32:59.657134Z"
    },
    "collapsed": true
   },
   "outputs": [],
   "source": [
    "seven_days_data = seven_days_data.groupby('user_id_hash', as_index=False)['event_value'].sum()\n",
    "seven_days_data['user_purchase_binary_7_days'] = seven_days_data['event_value'].apply(lambda x: 1 if x > 0 else 0)\n",
    "seven_days_data.drop(['event_value'],axis=1, inplace=True)"
   ]
  },
  {
   "cell_type": "code",
   "execution_count": 19,
   "metadata": {
    "ExecuteTime": {
     "end_time": "2019-02-18T22:33:09.807306Z",
     "start_time": "2019-02-18T22:33:09.803885Z"
    }
   },
   "outputs": [
    {
     "data": {
      "text/plain": [
       "4729"
      ]
     },
     "execution_count": 19,
     "metadata": {},
     "output_type": "execute_result"
    }
   ],
   "source": [
    "len(seven_days_data)"
   ]
  },
  {
   "cell_type": "code",
   "execution_count": 20,
   "metadata": {
    "ExecuteTime": {
     "end_time": "2019-02-18T22:33:22.363786Z",
     "start_time": "2019-02-18T22:33:22.343670Z"
    },
    "collapsed": true
   },
   "outputs": [],
   "source": [
    "fourteen_days_data = label_set.groupby('user_id_hash', as_index=False)['event_value'].sum()\n",
    "fourteen_days_data['user_purchase_binary_14_days'] = fourteen_days_data['event_value'].apply(lambda x: 1 if x > 0 else 0)\n",
    "fourteen_days_data.drop(['event_value'],axis=1, inplace=True)"
   ]
  },
  {
   "cell_type": "code",
   "execution_count": 21,
   "metadata": {
    "ExecuteTime": {
     "end_time": "2019-02-18T22:33:30.483647Z",
     "start_time": "2019-02-18T22:33:30.480277Z"
    }
   },
   "outputs": [
    {
     "data": {
      "text/plain": [
       "6126"
      ]
     },
     "execution_count": 21,
     "metadata": {},
     "output_type": "execute_result"
    }
   ],
   "source": [
    "len(fourteen_days_data)"
   ]
  },
  {
   "cell_type": "code",
   "execution_count": 22,
   "metadata": {
    "ExecuteTime": {
     "end_time": "2019-02-18T22:33:37.572850Z",
     "start_time": "2019-02-18T22:33:37.193533Z"
    },
    "collapsed": true
   },
   "outputs": [],
   "source": [
    "train_labels = pd.merge(users, seven_days_data, how='left', on='user_id_hash')\n",
    "train_labels = pd.merge(train_labels, fourteen_days_data, how='left', on='user_id_hash')\n",
    "train_labels.fillna(0, inplace=True)"
   ]
  },
  {
   "cell_type": "code",
   "execution_count": 26,
   "metadata": {
    "ExecuteTime": {
     "end_time": "2019-02-18T22:34:15.286269Z",
     "start_time": "2019-02-18T22:34:15.270810Z"
    }
   },
   "outputs": [
    {
     "data": {
      "text/plain": [
       "0.0    614996\n",
       "1.0      4710\n",
       "Name: user_purchase_binary_7_days, dtype: int64"
      ]
     },
     "execution_count": 26,
     "metadata": {},
     "output_type": "execute_result"
    }
   ],
   "source": [
    "train_labels.user_purchase_binary_7_days.value_counts()"
   ]
  },
  {
   "cell_type": "code",
   "execution_count": 27,
   "metadata": {
    "ExecuteTime": {
     "end_time": "2019-02-18T22:34:23.950103Z",
     "start_time": "2019-02-18T22:34:23.934805Z"
    }
   },
   "outputs": [
    {
     "data": {
      "text/plain": [
       "0.0    613607\n",
       "1.0      6099\n",
       "Name: user_purchase_binary_14_days, dtype: int64"
      ]
     },
     "execution_count": 27,
     "metadata": {},
     "output_type": "execute_result"
    }
   ],
   "source": [
    "train_labels.user_purchase_binary_14_days.value_counts()"
   ]
  },
  {
   "cell_type": "code",
   "execution_count": 61,
   "metadata": {
    "ExecuteTime": {
     "end_time": "2019-02-18T17:44:39.079465Z",
     "start_time": "2019-02-18T17:44:35.539207Z"
    },
    "collapsed": true
   },
   "outputs": [],
   "source": [
    "train_labels.to_csv('feature_eng/train_label.csv', index=False);"
   ]
  },
  {
   "cell_type": "markdown",
   "metadata": {},
   "source": [
    "## Events EDA"
   ]
  },
  {
   "cell_type": "code",
   "execution_count": 39,
   "metadata": {
    "ExecuteTime": {
     "end_time": "2019-02-18T23:26:06.224018Z",
     "start_time": "2019-02-18T23:26:06.072532Z"
    },
    "collapsed": true
   },
   "outputs": [],
   "source": [
    "import matplotlib.pyplot as plt\n",
    "%matplotlib inline"
   ]
  },
  {
   "cell_type": "code",
   "execution_count": 59,
   "metadata": {
    "ExecuteTime": {
     "end_time": "2019-02-18T23:41:08.067839Z",
     "start_time": "2019-02-18T23:41:08.065254Z"
    },
    "collapsed": true
   },
   "outputs": [],
   "source": [
    "x = ['Dec 1 - Dec 14', 'Dec 1 - Dec 7', 'Oct 1 - Dec 1']"
   ]
  },
  {
   "cell_type": "code",
   "execution_count": 60,
   "metadata": {
    "ExecuteTime": {
     "end_time": "2019-02-18T23:41:08.821331Z",
     "start_time": "2019-02-18T23:41:08.801288Z"
    },
    "collapsed": true
   },
   "outputs": [],
   "source": [
    "counts = [len(fourteen_days_data['user_id_hash'].unique()), \n",
    "          len(seven_days_data['user_id_hash'].unique()), \n",
    "          len(filtered_events['user_id_hash'].unique())-len(fourteen_days_data['user_id_hash'].unique())]"
   ]
  },
  {
   "cell_type": "code",
   "execution_count": 61,
   "metadata": {
    "ExecuteTime": {
     "end_time": "2019-02-18T23:41:09.622271Z",
     "start_time": "2019-02-18T23:41:09.619536Z"
    },
    "collapsed": true
   },
   "outputs": [],
   "source": [
    "x_pos = [i for i, _ in enumerate(x)]"
   ]
  },
  {
   "cell_type": "code",
   "execution_count": 69,
   "metadata": {
    "ExecuteTime": {
     "end_time": "2019-02-18T23:48:13.726826Z",
     "start_time": "2019-02-18T23:48:13.563370Z"
    }
   },
   "outputs": [
    {
     "data": {
      "image/png": "[encoded data removed]",
      "text/plain": [
       "<matplotlib.figure.Figure at 0x7f79881af630>"
      ]
     },
     "metadata": {},
     "output_type": "display_data"
    }
   ],
   "source": [
    "plt.style.use('ggplot')\n",
    "plt.bar(x_pos, counts, color = 'lightblue')\n",
    "plt.xlabel(\"Date Range\")\n",
    "plt.ylabel(\"Total Unique Users\")\n",
    "plt.xticks(x_pos, x)\n",
    "plt.title(\"Users Associated with Event Index 8\")\n",
    "plt.show()"
   ]
  },
  {
   "cell_type": "code",
   "execution_count": 71,
   "metadata": {
    "ExecuteTime": {
     "end_time": "2019-02-18T23:48:41.373459Z",
     "start_time": "2019-02-18T23:48:41.358611Z"
    },
    "collapsed": true
   },
   "outputs": [],
   "source": [
    "before_dec = filtered_events[filtered_events.event_timestamp < '2018-12-01'].copy()"
   ]
  },
  {
   "cell_type": "code",
   "execution_count": 72,
   "metadata": {
    "ExecuteTime": {
     "end_time": "2019-02-18T23:49:43.811181Z",
     "start_time": "2019-02-18T23:49:43.806731Z"
    }
   },
   "outputs": [],
   "source": [
    "users_purchased_dec = fourteen_days_data[fourteen_days_data.user_purchase_binary_14_days == 1]['user_id_hash']"
   ]
  },
  {
   "cell_type": "code",
   "execution_count": 73,
   "metadata": {
    "ExecuteTime": {
     "end_time": "2019-02-18T23:50:04.167017Z",
     "start_time": "2019-02-18T23:50:04.144514Z"
    },
    "collapsed": true
   },
   "outputs": [],
   "source": [
    "users_who_purchased_before = before_dec[before_dec.user_id_hash.isin(users_purchased_dec)].copy()"
   ]
  },
  {
   "cell_type": "code",
   "execution_count": 74,
   "metadata": {
    "ExecuteTime": {
     "end_time": "2019-02-18T23:50:07.533750Z",
     "start_time": "2019-02-18T23:50:07.527665Z"
    },
    "collapsed": true
   },
   "outputs": [],
   "source": [
    "num_users = len(users_who_purchased_before.user_id_hash.unique())"
   ]
  },
  {
   "cell_type": "code",
   "execution_count": 78,
   "metadata": {
    "ExecuteTime": {
     "end_time": "2019-02-18T23:54:05.925123Z",
     "start_time": "2019-02-18T23:54:05.922160Z"
    }
   },
   "outputs": [
    {
     "name": "stdout",
     "output_type": "stream",
     "text": [
      "Number of Users purchased on Dec 1- Dec 14 that also purchased (index 8) during Oct and Nov is 4533\n"
     ]
    }
   ],
   "source": [
    "print(\"Number of Users purchased on Dec 1- Dec 14 that also purchased (index 8) during Oct and Nov is\", num_users)"
   ]
  },
  {
   "cell_type": "code",
   "execution_count": 81,
   "metadata": {
    "ExecuteTime": {
     "end_time": "2019-02-18T23:55:07.875978Z",
     "start_time": "2019-02-18T23:55:07.872630Z"
    }
   },
   "outputs": [
    {
     "name": "stdout",
     "output_type": "stream",
     "text": [
      "Total Number of users who purchased on Dec 1- Dec 14 is 6125\n"
     ]
    }
   ],
   "source": [
    "print('Total Number of users who purchased on Dec 1- Dec 14 is', fourteen_days_data.user_purchase_binary_14_days.sum())"
   ]
  },
  {
   "cell_type": "code",
   "execution_count": 82,
   "metadata": {
    "ExecuteTime": {
     "end_time": "2019-02-18T23:56:29.816224Z",
     "start_time": "2019-02-18T23:56:29.813168Z"
    }
   },
   "outputs": [
    {
     "name": "stdout",
     "output_type": "stream",
     "text": [
      "0.74 percentage of users purchased on Dec 1- Dec 14 have purchased before\n"
     ]
    }
   ],
   "source": [
    "print(round(4533/6125,2), 'percentage of users purchased on Dec 1- Dec 14 have purchased before')"
   ]
  },
  {
   "cell_type": "markdown",
   "metadata": {},
   "source": [
    "Thus, we can see whether the user has purchased before is a good indicator of the user's purchase activity."
   ]
  }
 ],
 "metadata": {
  "anaconda-cloud": {},
  "kernelspec": {
   "display_name": "Python [Root]",
   "language": "python",
   "name": "Python [Root]"
  },
  "language_info": {
   "codemirror_mode": {
    "name": "ipython",
    "version": 3
   },
   "file_extension": ".py",
   "mimetype": "text/x-python",
   "name": "python",
   "nbconvert_exporter": "python",
   "pygments_lexer": "ipython3",
   "version": "3.5.2"
  }
 },
 "nbformat": 4,
 "nbformat_minor": 2
}
