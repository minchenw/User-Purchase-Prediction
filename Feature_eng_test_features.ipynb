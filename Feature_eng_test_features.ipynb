{
 "cells": [
  {
   "cell_type": "code",
   "execution_count": 29,
   "metadata": {
    "ExecuteTime": {
     "end_time": "2019-02-22T07:26:57.470702Z",
     "start_time": "2019-02-22T07:26:57.467906Z"
    },
    "collapsed": true
   },
   "outputs": [],
   "source": [
    "import os\n",
    "import boto3 \n",
    "import pandas as pd\n",
    "import scipy.stats"
   ]
  },
  {
   "cell_type": "code",
   "execution_count": 2,
   "metadata": {
    "ExecuteTime": {
     "end_time": "2019-02-22T05:59:00.953646Z",
     "start_time": "2019-02-22T05:58:35.231645Z"
    }
   },
   "outputs": [
    {
     "data": {
      "text/html": [
       "<div>\n",
       "<table border=\"1\" class=\"dataframe\">\n",
       "  <thead>\n",
       "    <tr style=\"text-align: right;\">\n",
       "      <th></th>\n",
       "      <th>Unnamed: 0</th>\n",
       "      <th>session_id</th>\n",
       "      <th>timezone</th>\n",
       "      <th>timezone_offset</th>\n",
       "      <th>previous_sessions_duration</th>\n",
       "      <th>is_user_first_session</th>\n",
       "      <th>is_session</th>\n",
       "      <th>country</th>\n",
       "      <th>region</th>\n",
       "      <th>city</th>\n",
       "      <th>...</th>\n",
       "      <th>locale</th>\n",
       "      <th>os_name</th>\n",
       "      <th>session_index</th>\n",
       "      <th>device_id</th>\n",
       "      <th>user_id_hash</th>\n",
       "      <th>start_dow</th>\n",
       "      <th>start_hour</th>\n",
       "      <th>start_date</th>\n",
       "      <th>create_date</th>\n",
       "      <th>create_session_time</th>\n",
       "    </tr>\n",
       "  </thead>\n",
       "  <tbody>\n",
       "    <tr>\n",
       "      <th>0</th>\n",
       "      <td>0</td>\n",
       "      <td>5558845121177764917</td>\n",
       "      <td>Asia/Manila</td>\n",
       "      <td>28800000.0</td>\n",
       "      <td>25837591</td>\n",
       "      <td>False</td>\n",
       "      <td>True</td>\n",
       "      <td>PH</td>\n",
       "      <td>00</td>\n",
       "      <td>makati</td>\n",
       "      <td>...</td>\n",
       "      <td>en_GB</td>\n",
       "      <td>Android OS</td>\n",
       "      <td>30</td>\n",
       "      <td>546a3d98-d540-4e72-ad82-9ebd64e0839b</td>\n",
       "      <td>9943447915df3a45fd6720a026af905b6da6b56a37701b...</td>\n",
       "      <td>3</td>\n",
       "      <td>1</td>\n",
       "      <td>2018-11-15</td>\n",
       "      <td>2018-10-07</td>\n",
       "      <td>39</td>\n",
       "    </tr>\n",
       "    <tr>\n",
       "      <th>1</th>\n",
       "      <td>1</td>\n",
       "      <td>2201961907282901522</td>\n",
       "      <td>Asia/Manila</td>\n",
       "      <td>28800000.0</td>\n",
       "      <td>35050130</td>\n",
       "      <td>False</td>\n",
       "      <td>True</td>\n",
       "      <td>PH</td>\n",
       "      <td>00</td>\n",
       "      <td>quezon city</td>\n",
       "      <td>...</td>\n",
       "      <td>en_GB</td>\n",
       "      <td>Android OS</td>\n",
       "      <td>47</td>\n",
       "      <td>546a3d98-d540-4e72-ad82-9ebd64e0839b</td>\n",
       "      <td>9943447915df3a45fd6720a026af905b6da6b56a37701b...</td>\n",
       "      <td>6</td>\n",
       "      <td>9</td>\n",
       "      <td>2018-12-02</td>\n",
       "      <td>2018-10-07</td>\n",
       "      <td>56</td>\n",
       "    </tr>\n",
       "    <tr>\n",
       "      <th>2</th>\n",
       "      <td>2</td>\n",
       "      <td>18781111175537580</td>\n",
       "      <td>Asia/Manila</td>\n",
       "      <td>28800000.0</td>\n",
       "      <td>11343848</td>\n",
       "      <td>False</td>\n",
       "      <td>True</td>\n",
       "      <td>PH</td>\n",
       "      <td>00</td>\n",
       "      <td>makati</td>\n",
       "      <td>...</td>\n",
       "      <td>en_GB</td>\n",
       "      <td>Android OS</td>\n",
       "      <td>10</td>\n",
       "      <td>546a3d98-d540-4e72-ad82-9ebd64e0839b</td>\n",
       "      <td>9943447915df3a45fd6720a026af905b6da6b56a37701b...</td>\n",
       "      <td>3</td>\n",
       "      <td>7</td>\n",
       "      <td>2018-10-11</td>\n",
       "      <td>2018-10-07</td>\n",
       "      <td>4</td>\n",
       "    </tr>\n",
       "    <tr>\n",
       "      <th>3</th>\n",
       "      <td>3</td>\n",
       "      <td>1477540082628742048</td>\n",
       "      <td>Asia/Manila</td>\n",
       "      <td>28800000.0</td>\n",
       "      <td>13499724</td>\n",
       "      <td>False</td>\n",
       "      <td>True</td>\n",
       "      <td>PH</td>\n",
       "      <td>11</td>\n",
       "      <td>davao city</td>\n",
       "      <td>...</td>\n",
       "      <td>en_GB</td>\n",
       "      <td>Android OS</td>\n",
       "      <td>13</td>\n",
       "      <td>546a3d98-d540-4e72-ad82-9ebd64e0839b</td>\n",
       "      <td>9943447915df3a45fd6720a026af905b6da6b56a37701b...</td>\n",
       "      <td>6</td>\n",
       "      <td>19</td>\n",
       "      <td>2018-10-21</td>\n",
       "      <td>2018-10-07</td>\n",
       "      <td>14</td>\n",
       "    </tr>\n",
       "    <tr>\n",
       "      <th>4</th>\n",
       "      <td>4</td>\n",
       "      <td>8184875317380844086</td>\n",
       "      <td>Asia/Manila</td>\n",
       "      <td>28800000.0</td>\n",
       "      <td>32788010</td>\n",
       "      <td>False</td>\n",
       "      <td>True</td>\n",
       "      <td>PH</td>\n",
       "      <td>00</td>\n",
       "      <td>makati</td>\n",
       "      <td>...</td>\n",
       "      <td>en_GB</td>\n",
       "      <td>Android OS</td>\n",
       "      <td>41</td>\n",
       "      <td>546a3d98-d540-4e72-ad82-9ebd64e0839b</td>\n",
       "      <td>9943447915df3a45fd6720a026af905b6da6b56a37701b...</td>\n",
       "      <td>1</td>\n",
       "      <td>7</td>\n",
       "      <td>2018-11-20</td>\n",
       "      <td>2018-10-07</td>\n",
       "      <td>44</td>\n",
       "    </tr>\n",
       "  </tbody>\n",
       "</table>\n",
       "<p>5 rows × 22 columns</p>\n",
       "</div>"
      ],
      "text/plain": [
       "   Unnamed: 0           session_id     timezone  timezone_offset  \\\n",
       "0           0  5558845121177764917  Asia/Manila       28800000.0   \n",
       "1           1  2201961907282901522  Asia/Manila       28800000.0   \n",
       "2           2    18781111175537580  Asia/Manila       28800000.0   \n",
       "3           3  1477540082628742048  Asia/Manila       28800000.0   \n",
       "4           4  8184875317380844086  Asia/Manila       28800000.0   \n",
       "\n",
       "   previous_sessions_duration is_user_first_session is_session country region  \\\n",
       "0                    25837591                 False       True      PH     00   \n",
       "1                    35050130                 False       True      PH     00   \n",
       "2                    11343848                 False       True      PH     00   \n",
       "3                    13499724                 False       True      PH     11   \n",
       "4                    32788010                 False       True      PH     00   \n",
       "\n",
       "          city         ...          locale     os_name session_index  \\\n",
       "0       makati         ...           en_GB  Android OS            30   \n",
       "1  quezon city         ...           en_GB  Android OS            47   \n",
       "2       makati         ...           en_GB  Android OS            10   \n",
       "3   davao city         ...           en_GB  Android OS            13   \n",
       "4       makati         ...           en_GB  Android OS            41   \n",
       "\n",
       "                              device_id  \\\n",
       "0  546a3d98-d540-4e72-ad82-9ebd64e0839b   \n",
       "1  546a3d98-d540-4e72-ad82-9ebd64e0839b   \n",
       "2  546a3d98-d540-4e72-ad82-9ebd64e0839b   \n",
       "3  546a3d98-d540-4e72-ad82-9ebd64e0839b   \n",
       "4  546a3d98-d540-4e72-ad82-9ebd64e0839b   \n",
       "\n",
       "                                        user_id_hash start_dow start_hour  \\\n",
       "0  9943447915df3a45fd6720a026af905b6da6b56a37701b...         3          1   \n",
       "1  9943447915df3a45fd6720a026af905b6da6b56a37701b...         6          9   \n",
       "2  9943447915df3a45fd6720a026af905b6da6b56a37701b...         3          7   \n",
       "3  9943447915df3a45fd6720a026af905b6da6b56a37701b...         6         19   \n",
       "4  9943447915df3a45fd6720a026af905b6da6b56a37701b...         1          7   \n",
       "\n",
       "   start_date  create_date create_session_time  \n",
       "0  2018-11-15   2018-10-07                  39  \n",
       "1  2018-12-02   2018-10-07                  56  \n",
       "2  2018-10-11   2018-10-07                   4  \n",
       "3  2018-10-21   2018-10-07                  14  \n",
       "4  2018-11-20   2018-10-07                  44  \n",
       "\n",
       "[5 rows x 22 columns]"
      ]
     },
     "execution_count": 2,
     "metadata": {},
     "output_type": "execute_result"
    }
   ],
   "source": [
    "bucket_name = 'advanced-ml-project' # Add your bucket name\n",
    "file_name = 'sessions_test.csv'\n",
    "s3 = boto3.client('s3')\n",
    "obj = s3.get_object(Bucket=bucket_name, Key=file_name) # S3 uses key-value structure where key is your file name\n",
    "df_test = pd.read_csv(obj['Body'])\n",
    "df_test.head()"
   ]
  },
  {
   "cell_type": "code",
   "execution_count": 3,
   "metadata": {
    "ExecuteTime": {
     "end_time": "2019-02-22T03:07:55.166769Z",
     "start_time": "2019-02-22T03:07:52.102169Z"
    }
   },
   "outputs": [
    {
     "data": {
      "text/html": [
       "<div>\n",
       "<table border=\"1\" class=\"dataframe\">\n",
       "  <thead>\n",
       "    <tr style=\"text-align: right;\">\n",
       "      <th></th>\n",
       "      <th>user_id_hash</th>\n",
       "      <th>most_freq_dow</th>\n",
       "      <th>most_freq_hour</th>\n",
       "      <th>median_create_session_time</th>\n",
       "      <th>session_count</th>\n",
       "      <th>session_durations</th>\n",
       "      <th>mean_session_durations</th>\n",
       "      <th>mean_session_interval</th>\n",
       "      <th>most_freq_country</th>\n",
       "      <th>most_freq_region</th>\n",
       "      <th>...</th>\n",
       "      <th>most_freq_os</th>\n",
       "      <th>purchase_counts</th>\n",
       "      <th>most_frequent_purchase_dow</th>\n",
       "      <th>most_frequent_purchase_hour</th>\n",
       "      <th>purchase_perc</th>\n",
       "      <th>total_amount</th>\n",
       "      <th>session_per_active_day</th>\n",
       "      <th>purchase_per_active_day</th>\n",
       "      <th>session_per_day</th>\n",
       "      <th>purchase_per_day</th>\n",
       "    </tr>\n",
       "  </thead>\n",
       "  <tbody>\n",
       "    <tr>\n",
       "      <th>0</th>\n",
       "      <td>e469dfaed039ead9110165d9bc457acb11609ca34057dc...</td>\n",
       "      <td>5.0</td>\n",
       "      <td>10.0</td>\n",
       "      <td>0.5</td>\n",
       "      <td>2.0</td>\n",
       "      <td>713088.0</td>\n",
       "      <td>356544.0</td>\n",
       "      <td>0.250000</td>\n",
       "      <td>207</td>\n",
       "      <td>192</td>\n",
       "      <td>...</td>\n",
       "      <td>1</td>\n",
       "      <td>0.0</td>\n",
       "      <td>7.0</td>\n",
       "      <td>24.0</td>\n",
       "      <td>0.0</td>\n",
       "      <td>0.0</td>\n",
       "      <td>1.0</td>\n",
       "      <td>0.0</td>\n",
       "      <td>2.000000</td>\n",
       "      <td>0.0</td>\n",
       "    </tr>\n",
       "    <tr>\n",
       "      <th>1</th>\n",
       "      <td>afcc639a324b6c598ef83d360450afa011cb2dd1358bf9...</td>\n",
       "      <td>3.0</td>\n",
       "      <td>19.0</td>\n",
       "      <td>1.0</td>\n",
       "      <td>1.0</td>\n",
       "      <td>1717320.0</td>\n",
       "      <td>1717320.0</td>\n",
       "      <td>1.000000</td>\n",
       "      <td>140</td>\n",
       "      <td>299</td>\n",
       "      <td>...</td>\n",
       "      <td>0</td>\n",
       "      <td>0.0</td>\n",
       "      <td>7.0</td>\n",
       "      <td>24.0</td>\n",
       "      <td>0.0</td>\n",
       "      <td>0.0</td>\n",
       "      <td>0.5</td>\n",
       "      <td>0.0</td>\n",
       "      <td>0.500000</td>\n",
       "      <td>0.0</td>\n",
       "    </tr>\n",
       "    <tr>\n",
       "      <th>2</th>\n",
       "      <td>fd5a7cf211d08e3e00f7be6a9df6e6ea3d2e5c22a5d9c3...</td>\n",
       "      <td>6.0</td>\n",
       "      <td>18.0</td>\n",
       "      <td>8.0</td>\n",
       "      <td>3.0</td>\n",
       "      <td>3041967.0</td>\n",
       "      <td>1013989.0</td>\n",
       "      <td>2.666667</td>\n",
       "      <td>207</td>\n",
       "      <td>624</td>\n",
       "      <td>...</td>\n",
       "      <td>0</td>\n",
       "      <td>0.0</td>\n",
       "      <td>7.0</td>\n",
       "      <td>24.0</td>\n",
       "      <td>0.0</td>\n",
       "      <td>0.0</td>\n",
       "      <td>1.0</td>\n",
       "      <td>0.0</td>\n",
       "      <td>0.300000</td>\n",
       "      <td>0.0</td>\n",
       "    </tr>\n",
       "    <tr>\n",
       "      <th>3</th>\n",
       "      <td>00bfff98b9d0329f014c2eeac7ce47cd18b2bc6e10d608...</td>\n",
       "      <td>5.0</td>\n",
       "      <td>12.0</td>\n",
       "      <td>2.0</td>\n",
       "      <td>10.0</td>\n",
       "      <td>92005829.0</td>\n",
       "      <td>9200582.9</td>\n",
       "      <td>0.200000</td>\n",
       "      <td>220</td>\n",
       "      <td>290</td>\n",
       "      <td>...</td>\n",
       "      <td>0</td>\n",
       "      <td>0.0</td>\n",
       "      <td>7.0</td>\n",
       "      <td>24.0</td>\n",
       "      <td>0.0</td>\n",
       "      <td>0.0</td>\n",
       "      <td>2.5</td>\n",
       "      <td>0.0</td>\n",
       "      <td>0.526316</td>\n",
       "      <td>0.0</td>\n",
       "    </tr>\n",
       "    <tr>\n",
       "      <th>4</th>\n",
       "      <td>0d298f3638c43e915c119d4935e1ce8d168f81b5e3e8c1...</td>\n",
       "      <td>6.0</td>\n",
       "      <td>8.0</td>\n",
       "      <td>1.0</td>\n",
       "      <td>1.0</td>\n",
       "      <td>10441.0</td>\n",
       "      <td>10441.0</td>\n",
       "      <td>1.000000</td>\n",
       "      <td>171</td>\n",
       "      <td>112</td>\n",
       "      <td>...</td>\n",
       "      <td>0</td>\n",
       "      <td>0.0</td>\n",
       "      <td>7.0</td>\n",
       "      <td>24.0</td>\n",
       "      <td>0.0</td>\n",
       "      <td>0.0</td>\n",
       "      <td>0.5</td>\n",
       "      <td>0.0</td>\n",
       "      <td>0.500000</td>\n",
       "      <td>0.0</td>\n",
       "    </tr>\n",
       "  </tbody>\n",
       "</table>\n",
       "<p>5 rows × 21 columns</p>\n",
       "</div>"
      ],
      "text/plain": [
       "                                        user_id_hash  most_freq_dow  \\\n",
       "0  e469dfaed039ead9110165d9bc457acb11609ca34057dc...            5.0   \n",
       "1  afcc639a324b6c598ef83d360450afa011cb2dd1358bf9...            3.0   \n",
       "2  fd5a7cf211d08e3e00f7be6a9df6e6ea3d2e5c22a5d9c3...            6.0   \n",
       "3  00bfff98b9d0329f014c2eeac7ce47cd18b2bc6e10d608...            5.0   \n",
       "4  0d298f3638c43e915c119d4935e1ce8d168f81b5e3e8c1...            6.0   \n",
       "\n",
       "   most_freq_hour  median_create_session_time  session_count  \\\n",
       "0            10.0                         0.5            2.0   \n",
       "1            19.0                         1.0            1.0   \n",
       "2            18.0                         8.0            3.0   \n",
       "3            12.0                         2.0           10.0   \n",
       "4             8.0                         1.0            1.0   \n",
       "\n",
       "   session_durations  mean_session_durations  mean_session_interval  \\\n",
       "0           713088.0                356544.0               0.250000   \n",
       "1          1717320.0               1717320.0               1.000000   \n",
       "2          3041967.0               1013989.0               2.666667   \n",
       "3         92005829.0               9200582.9               0.200000   \n",
       "4            10441.0                 10441.0               1.000000   \n",
       "\n",
       "   most_freq_country  most_freq_region        ...         most_freq_os  \\\n",
       "0                207               192        ...                    1   \n",
       "1                140               299        ...                    0   \n",
       "2                207               624        ...                    0   \n",
       "3                220               290        ...                    0   \n",
       "4                171               112        ...                    0   \n",
       "\n",
       "   purchase_counts  most_frequent_purchase_dow  most_frequent_purchase_hour  \\\n",
       "0              0.0                         7.0                         24.0   \n",
       "1              0.0                         7.0                         24.0   \n",
       "2              0.0                         7.0                         24.0   \n",
       "3              0.0                         7.0                         24.0   \n",
       "4              0.0                         7.0                         24.0   \n",
       "\n",
       "   purchase_perc  total_amount  session_per_active_day  \\\n",
       "0            0.0           0.0                     1.0   \n",
       "1            0.0           0.0                     0.5   \n",
       "2            0.0           0.0                     1.0   \n",
       "3            0.0           0.0                     2.5   \n",
       "4            0.0           0.0                     0.5   \n",
       "\n",
       "   purchase_per_active_day  session_per_day  purchase_per_day  \n",
       "0                      0.0         2.000000               0.0  \n",
       "1                      0.0         0.500000               0.0  \n",
       "2                      0.0         0.300000               0.0  \n",
       "3                      0.0         0.526316               0.0  \n",
       "4                      0.0         0.500000               0.0  \n",
       "\n",
       "[5 rows x 21 columns]"
      ]
     },
     "execution_count": 3,
     "metadata": {},
     "output_type": "execute_result"
    }
   ],
   "source": [
    "bucket_name = 'advanced-ml-project' # Add your bucket name\n",
    "file_name = 'test_feature2.csv'\n",
    "s3 = boto3.client('s3')\n",
    "obj = s3.get_object(Bucket=bucket_name, Key=file_name) # S3 uses key-value structure where key is your file name\n",
    "test_feature = pd.read_csv(obj['Body'])\n",
    "test_feature.head()"
   ]
  },
  {
   "cell_type": "code",
   "execution_count": 11,
   "metadata": {
    "ExecuteTime": {
     "end_time": "2019-02-22T06:09:52.528669Z",
     "start_time": "2019-02-22T06:09:51.553715Z"
    },
    "collapsed": true
   },
   "outputs": [],
   "source": [
    "test_feature = pd.read_csv('feature_eng/test_feature2.csv')"
   ]
  },
  {
   "cell_type": "markdown",
   "metadata": {},
   "source": [
    "### Time_stamp"
   ]
  },
  {
   "cell_type": "markdown",
   "metadata": {},
   "source": [
    "* aggregate features - user-level"
   ]
  },
  {
   "cell_type": "code",
   "execution_count": 3,
   "metadata": {
    "ExecuteTime": {
     "end_time": "2019-02-22T05:37:51.827901Z",
     "start_time": "2019-02-22T05:37:51.432636Z"
    },
    "collapsed": true
   },
   "outputs": [],
   "source": [
    "df_test = df_test.drop(['Unnamed: 0'], axis=1)"
   ]
  },
  {
   "cell_type": "code",
   "execution_count": 4,
   "metadata": {
    "ExecuteTime": {
     "end_time": "2019-02-22T05:37:51.864180Z",
     "start_time": "2019-02-22T05:37:51.829209Z"
    }
   },
   "outputs": [
    {
     "data": {
      "text/html": [
       "<div>\n",
       "<table border=\"1\" class=\"dataframe\">\n",
       "  <thead>\n",
       "    <tr style=\"text-align: right;\">\n",
       "      <th></th>\n",
       "      <th>session_id</th>\n",
       "      <th>timezone</th>\n",
       "      <th>timezone_offset</th>\n",
       "      <th>previous_sessions_duration</th>\n",
       "      <th>is_user_first_session</th>\n",
       "      <th>is_session</th>\n",
       "      <th>country</th>\n",
       "      <th>region</th>\n",
       "      <th>city</th>\n",
       "      <th>latitude</th>\n",
       "      <th>...</th>\n",
       "      <th>locale</th>\n",
       "      <th>os_name</th>\n",
       "      <th>session_index</th>\n",
       "      <th>device_id</th>\n",
       "      <th>user_id_hash</th>\n",
       "      <th>start_dow</th>\n",
       "      <th>start_hour</th>\n",
       "      <th>start_date</th>\n",
       "      <th>create_date</th>\n",
       "      <th>create_session_time</th>\n",
       "    </tr>\n",
       "  </thead>\n",
       "  <tbody>\n",
       "    <tr>\n",
       "      <th>0</th>\n",
       "      <td>5558845121177764917</td>\n",
       "      <td>Asia/Manila</td>\n",
       "      <td>28800000.0</td>\n",
       "      <td>25837591</td>\n",
       "      <td>False</td>\n",
       "      <td>True</td>\n",
       "      <td>PH</td>\n",
       "      <td>00</td>\n",
       "      <td>makati</td>\n",
       "      <td>14.554729</td>\n",
       "      <td>...</td>\n",
       "      <td>en_GB</td>\n",
       "      <td>Android OS</td>\n",
       "      <td>30</td>\n",
       "      <td>546a3d98-d540-4e72-ad82-9ebd64e0839b</td>\n",
       "      <td>9943447915df3a45fd6720a026af905b6da6b56a37701b...</td>\n",
       "      <td>3</td>\n",
       "      <td>1</td>\n",
       "      <td>2018-11-15</td>\n",
       "      <td>2018-10-07</td>\n",
       "      <td>39</td>\n",
       "    </tr>\n",
       "    <tr>\n",
       "      <th>1</th>\n",
       "      <td>2201961907282901522</td>\n",
       "      <td>Asia/Manila</td>\n",
       "      <td>28800000.0</td>\n",
       "      <td>35050130</td>\n",
       "      <td>False</td>\n",
       "      <td>True</td>\n",
       "      <td>PH</td>\n",
       "      <td>00</td>\n",
       "      <td>quezon city</td>\n",
       "      <td>14.676041</td>\n",
       "      <td>...</td>\n",
       "      <td>en_GB</td>\n",
       "      <td>Android OS</td>\n",
       "      <td>47</td>\n",
       "      <td>546a3d98-d540-4e72-ad82-9ebd64e0839b</td>\n",
       "      <td>9943447915df3a45fd6720a026af905b6da6b56a37701b...</td>\n",
       "      <td>6</td>\n",
       "      <td>9</td>\n",
       "      <td>2018-12-02</td>\n",
       "      <td>2018-10-07</td>\n",
       "      <td>56</td>\n",
       "    </tr>\n",
       "    <tr>\n",
       "      <th>2</th>\n",
       "      <td>18781111175537580</td>\n",
       "      <td>Asia/Manila</td>\n",
       "      <td>28800000.0</td>\n",
       "      <td>11343848</td>\n",
       "      <td>False</td>\n",
       "      <td>True</td>\n",
       "      <td>PH</td>\n",
       "      <td>00</td>\n",
       "      <td>makati</td>\n",
       "      <td>14.554729</td>\n",
       "      <td>...</td>\n",
       "      <td>en_GB</td>\n",
       "      <td>Android OS</td>\n",
       "      <td>10</td>\n",
       "      <td>546a3d98-d540-4e72-ad82-9ebd64e0839b</td>\n",
       "      <td>9943447915df3a45fd6720a026af905b6da6b56a37701b...</td>\n",
       "      <td>3</td>\n",
       "      <td>7</td>\n",
       "      <td>2018-10-11</td>\n",
       "      <td>2018-10-07</td>\n",
       "      <td>4</td>\n",
       "    </tr>\n",
       "    <tr>\n",
       "      <th>3</th>\n",
       "      <td>1477540082628742048</td>\n",
       "      <td>Asia/Manila</td>\n",
       "      <td>28800000.0</td>\n",
       "      <td>13499724</td>\n",
       "      <td>False</td>\n",
       "      <td>True</td>\n",
       "      <td>PH</td>\n",
       "      <td>11</td>\n",
       "      <td>davao city</td>\n",
       "      <td>7.190708</td>\n",
       "      <td>...</td>\n",
       "      <td>en_GB</td>\n",
       "      <td>Android OS</td>\n",
       "      <td>13</td>\n",
       "      <td>546a3d98-d540-4e72-ad82-9ebd64e0839b</td>\n",
       "      <td>9943447915df3a45fd6720a026af905b6da6b56a37701b...</td>\n",
       "      <td>6</td>\n",
       "      <td>19</td>\n",
       "      <td>2018-10-21</td>\n",
       "      <td>2018-10-07</td>\n",
       "      <td>14</td>\n",
       "    </tr>\n",
       "    <tr>\n",
       "      <th>4</th>\n",
       "      <td>8184875317380844086</td>\n",
       "      <td>Asia/Manila</td>\n",
       "      <td>28800000.0</td>\n",
       "      <td>32788010</td>\n",
       "      <td>False</td>\n",
       "      <td>True</td>\n",
       "      <td>PH</td>\n",
       "      <td>00</td>\n",
       "      <td>makati</td>\n",
       "      <td>14.554729</td>\n",
       "      <td>...</td>\n",
       "      <td>en_GB</td>\n",
       "      <td>Android OS</td>\n",
       "      <td>41</td>\n",
       "      <td>546a3d98-d540-4e72-ad82-9ebd64e0839b</td>\n",
       "      <td>9943447915df3a45fd6720a026af905b6da6b56a37701b...</td>\n",
       "      <td>1</td>\n",
       "      <td>7</td>\n",
       "      <td>2018-11-20</td>\n",
       "      <td>2018-10-07</td>\n",
       "      <td>44</td>\n",
       "    </tr>\n",
       "  </tbody>\n",
       "</table>\n",
       "<p>5 rows × 21 columns</p>\n",
       "</div>"
      ],
      "text/plain": [
       "            session_id     timezone  timezone_offset  \\\n",
       "0  5558845121177764917  Asia/Manila       28800000.0   \n",
       "1  2201961907282901522  Asia/Manila       28800000.0   \n",
       "2    18781111175537580  Asia/Manila       28800000.0   \n",
       "3  1477540082628742048  Asia/Manila       28800000.0   \n",
       "4  8184875317380844086  Asia/Manila       28800000.0   \n",
       "\n",
       "   previous_sessions_duration is_user_first_session is_session country region  \\\n",
       "0                    25837591                 False       True      PH     00   \n",
       "1                    35050130                 False       True      PH     00   \n",
       "2                    11343848                 False       True      PH     00   \n",
       "3                    13499724                 False       True      PH     11   \n",
       "4                    32788010                 False       True      PH     00   \n",
       "\n",
       "          city   latitude         ...          locale     os_name  \\\n",
       "0       makati  14.554729         ...           en_GB  Android OS   \n",
       "1  quezon city  14.676041         ...           en_GB  Android OS   \n",
       "2       makati  14.554729         ...           en_GB  Android OS   \n",
       "3   davao city   7.190708         ...           en_GB  Android OS   \n",
       "4       makati  14.554729         ...           en_GB  Android OS   \n",
       "\n",
       "  session_index                             device_id  \\\n",
       "0            30  546a3d98-d540-4e72-ad82-9ebd64e0839b   \n",
       "1            47  546a3d98-d540-4e72-ad82-9ebd64e0839b   \n",
       "2            10  546a3d98-d540-4e72-ad82-9ebd64e0839b   \n",
       "3            13  546a3d98-d540-4e72-ad82-9ebd64e0839b   \n",
       "4            41  546a3d98-d540-4e72-ad82-9ebd64e0839b   \n",
       "\n",
       "                                        user_id_hash start_dow  start_hour  \\\n",
       "0  9943447915df3a45fd6720a026af905b6da6b56a37701b...         3           1   \n",
       "1  9943447915df3a45fd6720a026af905b6da6b56a37701b...         6           9   \n",
       "2  9943447915df3a45fd6720a026af905b6da6b56a37701b...         3           7   \n",
       "3  9943447915df3a45fd6720a026af905b6da6b56a37701b...         6          19   \n",
       "4  9943447915df3a45fd6720a026af905b6da6b56a37701b...         1           7   \n",
       "\n",
       "   start_date create_date create_session_time  \n",
       "0  2018-11-15  2018-10-07                  39  \n",
       "1  2018-12-02  2018-10-07                  56  \n",
       "2  2018-10-11  2018-10-07                   4  \n",
       "3  2018-10-21  2018-10-07                  14  \n",
       "4  2018-11-20  2018-10-07                  44  \n",
       "\n",
       "[5 rows x 21 columns]"
      ]
     },
     "execution_count": 4,
     "metadata": {},
     "output_type": "execute_result"
    }
   ],
   "source": [
    "df_test.head()"
   ]
  },
  {
   "cell_type": "code",
   "execution_count": 5,
   "metadata": {
    "ExecuteTime": {
     "end_time": "2019-02-22T05:37:54.964852Z",
     "start_time": "2019-02-22T05:37:53.152976Z"
    }
   },
   "outputs": [
    {
     "data": {
      "text/plain": [
       "session_id                    False\n",
       "timezone                       True\n",
       "timezone_offset               False\n",
       "previous_sessions_duration    False\n",
       "is_user_first_session         False\n",
       "is_session                    False\n",
       "country                        True\n",
       "region                         True\n",
       "city                           True\n",
       "latitude                       True\n",
       "longitude                      True\n",
       "locale                         True\n",
       "os_name                        True\n",
       "session_index                 False\n",
       "device_id                      True\n",
       "user_id_hash                  False\n",
       "start_dow                     False\n",
       "start_hour                    False\n",
       "start_date                    False\n",
       "create_date                   False\n",
       "create_session_time           False\n",
       "dtype: bool"
      ]
     },
     "execution_count": 5,
     "metadata": {},
     "output_type": "execute_result"
    }
   ],
   "source": [
    "pd.isnull(df_test).any()"
   ]
  },
  {
   "cell_type": "code",
   "execution_count": 7,
   "metadata": {
    "ExecuteTime": {
     "end_time": "2019-02-18T08:49:21.576324Z",
     "start_time": "2019-02-18T08:49:17.401698Z"
    },
    "collapsed": true
   },
   "outputs": [],
   "source": [
    "# get test user_id_hash from submission file\n",
    "file_name = 'sample_submission_2.csv'\n",
    "s3 = boto3.client('s3')\n",
    "obj = s3.get_object(Bucket=bucket_name, Key=file_name) # S3 uses key-value structure where key is your file name\n",
    "test_user = pd.read_csv(obj['Body'])"
   ]
  },
  {
   "cell_type": "code",
   "execution_count": 8,
   "metadata": {
    "ExecuteTime": {
     "end_time": "2019-02-18T08:49:24.552129Z",
     "start_time": "2019-02-18T08:49:24.467169Z"
    },
    "collapsed": true
   },
   "outputs": [],
   "source": [
    "test_feature = pd.DataFrame(test_user.user_id_hash.unique(), columns=['user_id_hash'])"
   ]
  },
  {
   "cell_type": "code",
   "execution_count": 10,
   "metadata": {
    "ExecuteTime": {
     "end_time": "2019-02-18T08:52:25.698421Z",
     "start_time": "2019-02-18T08:49:42.974575Z"
    },
    "collapsed": true
   },
   "outputs": [],
   "source": [
    "test_feature['most_freq_dow'] = test_feature.user_id_hash.map(df_test.groupby('user_id_hash').start_dow.agg(lambda x: x.value_counts().index[0]))"
   ]
  },
  {
   "cell_type": "code",
   "execution_count": 11,
   "metadata": {
    "ExecuteTime": {
     "end_time": "2019-02-18T08:55:08.338660Z",
     "start_time": "2019-02-18T08:52:25.699826Z"
    },
    "collapsed": true
   },
   "outputs": [],
   "source": [
    "test_feature['most_freq_hour'] = test_feature.user_id_hash.map(df_test.groupby('user_id_hash').start_hour.agg(lambda x: x.value_counts().index[0]))"
   ]
  },
  {
   "cell_type": "code",
   "execution_count": 12,
   "metadata": {
    "ExecuteTime": {
     "end_time": "2019-02-18T08:55:09.636039Z",
     "start_time": "2019-02-18T08:55:08.340107Z"
    },
    "collapsed": true
   },
   "outputs": [],
   "source": [
    "test_feature['median_create_session_time'] = test_feature.user_id_hash.map(df_test.groupby('user_id_hash').create_session_time.median())"
   ]
  },
  {
   "cell_type": "code",
   "execution_count": 29,
   "metadata": {
    "ExecuteTime": {
     "end_time": "2019-02-22T03:27:02.981599Z",
     "start_time": "2019-02-22T03:27:02.978227Z"
    },
    "collapsed": true
   },
   "outputs": [],
   "source": [
    "def ent(data):\n",
    "    p_data = data.value_counts()/len(data)  # calculates the probabilities\n",
    "    # input probabilities to get the entropy\n",
    "    entropy = scipy.stats.entropy(p_data)\n",
    "    return entropy"
   ]
  },
  {
   "cell_type": "code",
   "execution_count": 32,
   "metadata": {
    "ExecuteTime": {
     "end_time": "2019-02-22T03:30:49.168174Z",
     "start_time": "2019-02-22T03:27:40.891034Z"
    },
    "collapsed": true
   },
   "outputs": [],
   "source": [
    "test_feature['user_entropy'] = test_feature.user_id_hash.map(df_test.groupby('user_id_hash').session_id.apply(ent))"
   ]
  },
  {
   "cell_type": "code",
   "execution_count": 33,
   "metadata": {
    "ExecuteTime": {
     "end_time": "2019-02-22T03:31:10.316640Z",
     "start_time": "2019-02-22T03:31:10.282383Z"
    }
   },
   "outputs": [
    {
     "data": {
      "text/html": [
       "<div>\n",
       "<table border=\"1\" class=\"dataframe\">\n",
       "  <thead>\n",
       "    <tr style=\"text-align: right;\">\n",
       "      <th></th>\n",
       "      <th>user_id_hash</th>\n",
       "      <th>most_freq_dow</th>\n",
       "      <th>most_freq_hour</th>\n",
       "      <th>median_create_session_time</th>\n",
       "      <th>session_count</th>\n",
       "      <th>session_durations</th>\n",
       "      <th>mean_session_durations</th>\n",
       "      <th>mean_session_interval</th>\n",
       "      <th>most_freq_country</th>\n",
       "      <th>most_freq_region</th>\n",
       "      <th>...</th>\n",
       "      <th>purchase_counts</th>\n",
       "      <th>most_frequent_purchase_dow</th>\n",
       "      <th>most_frequent_purchase_hour</th>\n",
       "      <th>purchase_perc</th>\n",
       "      <th>total_amount</th>\n",
       "      <th>session_per_active_day</th>\n",
       "      <th>purchase_per_active_day</th>\n",
       "      <th>session_per_day</th>\n",
       "      <th>purchase_per_day</th>\n",
       "      <th>user_entropy</th>\n",
       "    </tr>\n",
       "  </thead>\n",
       "  <tbody>\n",
       "    <tr>\n",
       "      <th>0</th>\n",
       "      <td>e469dfaed039ead9110165d9bc457acb11609ca34057dc...</td>\n",
       "      <td>5.0</td>\n",
       "      <td>10.0</td>\n",
       "      <td>0.5</td>\n",
       "      <td>2.0</td>\n",
       "      <td>713088.0</td>\n",
       "      <td>356544.0</td>\n",
       "      <td>0.250000</td>\n",
       "      <td>207</td>\n",
       "      <td>192</td>\n",
       "      <td>...</td>\n",
       "      <td>0.0</td>\n",
       "      <td>7.0</td>\n",
       "      <td>24.0</td>\n",
       "      <td>0.0</td>\n",
       "      <td>0.0</td>\n",
       "      <td>1.0</td>\n",
       "      <td>0.0</td>\n",
       "      <td>2.000000</td>\n",
       "      <td>0.0</td>\n",
       "      <td>0.693147</td>\n",
       "    </tr>\n",
       "    <tr>\n",
       "      <th>1</th>\n",
       "      <td>afcc639a324b6c598ef83d360450afa011cb2dd1358bf9...</td>\n",
       "      <td>3.0</td>\n",
       "      <td>19.0</td>\n",
       "      <td>1.0</td>\n",
       "      <td>1.0</td>\n",
       "      <td>1717320.0</td>\n",
       "      <td>1717320.0</td>\n",
       "      <td>1.000000</td>\n",
       "      <td>140</td>\n",
       "      <td>299</td>\n",
       "      <td>...</td>\n",
       "      <td>0.0</td>\n",
       "      <td>7.0</td>\n",
       "      <td>24.0</td>\n",
       "      <td>0.0</td>\n",
       "      <td>0.0</td>\n",
       "      <td>0.5</td>\n",
       "      <td>0.0</td>\n",
       "      <td>0.500000</td>\n",
       "      <td>0.0</td>\n",
       "      <td>0.693147</td>\n",
       "    </tr>\n",
       "    <tr>\n",
       "      <th>2</th>\n",
       "      <td>fd5a7cf211d08e3e00f7be6a9df6e6ea3d2e5c22a5d9c3...</td>\n",
       "      <td>6.0</td>\n",
       "      <td>18.0</td>\n",
       "      <td>8.0</td>\n",
       "      <td>3.0</td>\n",
       "      <td>3041967.0</td>\n",
       "      <td>1013989.0</td>\n",
       "      <td>2.666667</td>\n",
       "      <td>207</td>\n",
       "      <td>624</td>\n",
       "      <td>...</td>\n",
       "      <td>0.0</td>\n",
       "      <td>7.0</td>\n",
       "      <td>24.0</td>\n",
       "      <td>0.0</td>\n",
       "      <td>0.0</td>\n",
       "      <td>1.0</td>\n",
       "      <td>0.0</td>\n",
       "      <td>0.300000</td>\n",
       "      <td>0.0</td>\n",
       "      <td>1.609438</td>\n",
       "    </tr>\n",
       "    <tr>\n",
       "      <th>3</th>\n",
       "      <td>00bfff98b9d0329f014c2eeac7ce47cd18b2bc6e10d608...</td>\n",
       "      <td>5.0</td>\n",
       "      <td>12.0</td>\n",
       "      <td>2.0</td>\n",
       "      <td>10.0</td>\n",
       "      <td>92005829.0</td>\n",
       "      <td>9200582.9</td>\n",
       "      <td>0.200000</td>\n",
       "      <td>220</td>\n",
       "      <td>290</td>\n",
       "      <td>...</td>\n",
       "      <td>0.0</td>\n",
       "      <td>7.0</td>\n",
       "      <td>24.0</td>\n",
       "      <td>0.0</td>\n",
       "      <td>0.0</td>\n",
       "      <td>2.5</td>\n",
       "      <td>0.0</td>\n",
       "      <td>0.526316</td>\n",
       "      <td>0.0</td>\n",
       "      <td>2.302585</td>\n",
       "    </tr>\n",
       "    <tr>\n",
       "      <th>4</th>\n",
       "      <td>0d298f3638c43e915c119d4935e1ce8d168f81b5e3e8c1...</td>\n",
       "      <td>6.0</td>\n",
       "      <td>8.0</td>\n",
       "      <td>1.0</td>\n",
       "      <td>1.0</td>\n",
       "      <td>10441.0</td>\n",
       "      <td>10441.0</td>\n",
       "      <td>1.000000</td>\n",
       "      <td>171</td>\n",
       "      <td>112</td>\n",
       "      <td>...</td>\n",
       "      <td>0.0</td>\n",
       "      <td>7.0</td>\n",
       "      <td>24.0</td>\n",
       "      <td>0.0</td>\n",
       "      <td>0.0</td>\n",
       "      <td>0.5</td>\n",
       "      <td>0.0</td>\n",
       "      <td>0.500000</td>\n",
       "      <td>0.0</td>\n",
       "      <td>0.693147</td>\n",
       "    </tr>\n",
       "  </tbody>\n",
       "</table>\n",
       "<p>5 rows × 22 columns</p>\n",
       "</div>"
      ],
      "text/plain": [
       "                                        user_id_hash  most_freq_dow  \\\n",
       "0  e469dfaed039ead9110165d9bc457acb11609ca34057dc...            5.0   \n",
       "1  afcc639a324b6c598ef83d360450afa011cb2dd1358bf9...            3.0   \n",
       "2  fd5a7cf211d08e3e00f7be6a9df6e6ea3d2e5c22a5d9c3...            6.0   \n",
       "3  00bfff98b9d0329f014c2eeac7ce47cd18b2bc6e10d608...            5.0   \n",
       "4  0d298f3638c43e915c119d4935e1ce8d168f81b5e3e8c1...            6.0   \n",
       "\n",
       "   most_freq_hour  median_create_session_time  session_count  \\\n",
       "0            10.0                         0.5            2.0   \n",
       "1            19.0                         1.0            1.0   \n",
       "2            18.0                         8.0            3.0   \n",
       "3            12.0                         2.0           10.0   \n",
       "4             8.0                         1.0            1.0   \n",
       "\n",
       "   session_durations  mean_session_durations  mean_session_interval  \\\n",
       "0           713088.0                356544.0               0.250000   \n",
       "1          1717320.0               1717320.0               1.000000   \n",
       "2          3041967.0               1013989.0               2.666667   \n",
       "3         92005829.0               9200582.9               0.200000   \n",
       "4            10441.0                 10441.0               1.000000   \n",
       "\n",
       "   most_freq_country  most_freq_region      ...       purchase_counts  \\\n",
       "0                207               192      ...                   0.0   \n",
       "1                140               299      ...                   0.0   \n",
       "2                207               624      ...                   0.0   \n",
       "3                220               290      ...                   0.0   \n",
       "4                171               112      ...                   0.0   \n",
       "\n",
       "   most_frequent_purchase_dow  most_frequent_purchase_hour  purchase_perc  \\\n",
       "0                         7.0                         24.0            0.0   \n",
       "1                         7.0                         24.0            0.0   \n",
       "2                         7.0                         24.0            0.0   \n",
       "3                         7.0                         24.0            0.0   \n",
       "4                         7.0                         24.0            0.0   \n",
       "\n",
       "   total_amount  session_per_active_day  purchase_per_active_day  \\\n",
       "0           0.0                     1.0                      0.0   \n",
       "1           0.0                     0.5                      0.0   \n",
       "2           0.0                     1.0                      0.0   \n",
       "3           0.0                     2.5                      0.0   \n",
       "4           0.0                     0.5                      0.0   \n",
       "\n",
       "   session_per_day  purchase_per_day  user_entropy  \n",
       "0         2.000000               0.0      0.693147  \n",
       "1         0.500000               0.0      0.693147  \n",
       "2         0.300000               0.0      1.609438  \n",
       "3         0.526316               0.0      2.302585  \n",
       "4         0.500000               0.0      0.693147  \n",
       "\n",
       "[5 rows x 22 columns]"
      ]
     },
     "execution_count": 33,
     "metadata": {},
     "output_type": "execute_result"
    }
   ],
   "source": [
    "test_feature.head()"
   ]
  },
  {
   "cell_type": "markdown",
   "metadata": {},
   "source": [
    "### session "
   ]
  },
  {
   "cell_type": "markdown",
   "metadata": {},
   "source": [
    "* study more on user session properties to get duration, interval, frequency features."
   ]
  },
  {
   "cell_type": "code",
   "execution_count": 14,
   "metadata": {
    "ExecuteTime": {
     "end_time": "2019-02-18T08:55:09.675711Z",
     "start_time": "2019-02-18T08:55:09.673133Z"
    },
    "collapsed": true
   },
   "outputs": [],
   "source": [
    "#previous time duration/max session index"
   ]
  },
  {
   "cell_type": "code",
   "execution_count": 6,
   "metadata": {
    "ExecuteTime": {
     "end_time": "2019-02-20T20:21:56.174847Z",
     "start_time": "2019-02-20T20:21:39.739834Z"
    },
    "collapsed": true
   },
   "outputs": [],
   "source": [
    "test_feature['session_count'] = test_feature.user_id_hash.map(df_test.groupby('user_id_hash').session_index.agg(lambda x: max(x)))"
   ]
  },
  {
   "cell_type": "code",
   "execution_count": 16,
   "metadata": {
    "ExecuteTime": {
     "end_time": "2019-02-18T08:55:31.684039Z",
     "start_time": "2019-02-18T08:55:30.552654Z"
    },
    "collapsed": true
   },
   "outputs": [],
   "source": [
    "test_feature['session_durations'] = test_feature.user_id_hash.map(df_test.groupby('user_id_hash').previous_sessions_duration.sum())"
   ]
  },
  {
   "cell_type": "code",
   "execution_count": 7,
   "metadata": {
    "ExecuteTime": {
     "end_time": "2019-02-20T20:22:10.732317Z",
     "start_time": "2019-02-20T20:22:10.673208Z"
    },
    "collapsed": true
   },
   "outputs": [],
   "source": [
    "test_feature['mean_session_durations'] = test_feature.session_durations/test_feature.session_count"
   ]
  },
  {
   "cell_type": "code",
   "execution_count": 8,
   "metadata": {
    "ExecuteTime": {
     "end_time": "2019-02-20T20:22:18.284937Z",
     "start_time": "2019-02-20T20:22:18.277757Z"
    },
    "collapsed": true
   },
   "outputs": [],
   "source": [
    "test_feature['mean_session_interval'] = test_feature.median_create_session_time/test_feature.session_count"
   ]
  },
  {
   "cell_type": "code",
   "execution_count": 11,
   "metadata": {
    "ExecuteTime": {
     "end_time": "2019-02-20T20:22:31.674048Z",
     "start_time": "2019-02-20T20:22:27.241423Z"
    },
    "collapsed": true
   },
   "outputs": [],
   "source": [
    "date_info = df_test.groupby('user_id_hash').start_date.nunique()\n",
    "test_feature['active_date'] = test_feature.user_id_hash.map(date_info)\n",
    "test_feature.active_date = test_feature.active_date.fillna(test_feature['active_date'].value_counts().index[0])\n",
    "test_feature['session_per_active_day'] = test_feature.session_count.div(test_feature.active_date)\n",
    "test_feature['purchase_per_active_day'] = test_feature.purchase_counts.div(test_feature.active_date)"
   ]
  },
  {
   "cell_type": "code",
   "execution_count": 12,
   "metadata": {
    "ExecuteTime": {
     "end_time": "2019-02-20T20:22:33.160881Z",
     "start_time": "2019-02-20T20:22:32.002869Z"
    },
    "collapsed": true
   },
   "outputs": [],
   "source": [
    "create_time = df_test.groupby('user_id_hash').create_session_time.max()\n",
    "test_feature['create_time'] = test_feature.user_id_hash.map(create_time)\n",
    "test_feature.create_time = test_feature.create_time.fillna(test_feature['create_time'].value_counts().index[0])\n",
    "test_feature['session_per_day'] = test_feature.session_count.div(test_feature.create_time)\n",
    "test_feature['purchase_per_day'] = test_feature.purchase_counts.div(test_feature.create_time)"
   ]
  },
  {
   "cell_type": "code",
   "execution_count": 13,
   "metadata": {
    "ExecuteTime": {
     "end_time": "2019-02-20T20:22:34.219947Z",
     "start_time": "2019-02-20T20:22:34.145738Z"
    },
    "collapsed": true
   },
   "outputs": [],
   "source": [
    "test_feature = test_feature.drop(['active_date','create_time'], axis=1)"
   ]
  },
  {
   "cell_type": "code",
   "execution_count": 10,
   "metadata": {
    "ExecuteTime": {
     "end_time": "2019-02-22T03:11:16.932507Z",
     "start_time": "2019-02-22T03:11:16.903368Z"
    }
   },
   "outputs": [
    {
     "data": {
      "text/html": [
       "<div>\n",
       "<table border=\"1\" class=\"dataframe\">\n",
       "  <thead>\n",
       "    <tr style=\"text-align: right;\">\n",
       "      <th></th>\n",
       "      <th>Unnamed: 0</th>\n",
       "      <th>session_id</th>\n",
       "      <th>timezone</th>\n",
       "      <th>timezone_offset</th>\n",
       "      <th>previous_sessions_duration</th>\n",
       "      <th>is_user_first_session</th>\n",
       "      <th>is_session</th>\n",
       "      <th>country</th>\n",
       "      <th>region</th>\n",
       "      <th>city</th>\n",
       "      <th>...</th>\n",
       "      <th>os_name</th>\n",
       "      <th>session_index</th>\n",
       "      <th>device_id</th>\n",
       "      <th>user_id_hash</th>\n",
       "      <th>start_dow</th>\n",
       "      <th>start_hour</th>\n",
       "      <th>start_date</th>\n",
       "      <th>create_date</th>\n",
       "      <th>create_session_time</th>\n",
       "      <th>pred_time</th>\n",
       "    </tr>\n",
       "  </thead>\n",
       "  <tbody>\n",
       "    <tr>\n",
       "      <th>0</th>\n",
       "      <td>0</td>\n",
       "      <td>5558845121177764917</td>\n",
       "      <td>Asia/Manila</td>\n",
       "      <td>28800000.0</td>\n",
       "      <td>25837591</td>\n",
       "      <td>False</td>\n",
       "      <td>True</td>\n",
       "      <td>PH</td>\n",
       "      <td>00</td>\n",
       "      <td>makati</td>\n",
       "      <td>...</td>\n",
       "      <td>Android OS</td>\n",
       "      <td>30</td>\n",
       "      <td>546a3d98-d540-4e72-ad82-9ebd64e0839b</td>\n",
       "      <td>9943447915df3a45fd6720a026af905b6da6b56a37701b...</td>\n",
       "      <td>3</td>\n",
       "      <td>1</td>\n",
       "      <td>2018-11-15</td>\n",
       "      <td>2018-10-07</td>\n",
       "      <td>39</td>\n",
       "      <td>2018-12-1</td>\n",
       "    </tr>\n",
       "    <tr>\n",
       "      <th>1</th>\n",
       "      <td>1</td>\n",
       "      <td>2201961907282901522</td>\n",
       "      <td>Asia/Manila</td>\n",
       "      <td>28800000.0</td>\n",
       "      <td>35050130</td>\n",
       "      <td>False</td>\n",
       "      <td>True</td>\n",
       "      <td>PH</td>\n",
       "      <td>00</td>\n",
       "      <td>quezon city</td>\n",
       "      <td>...</td>\n",
       "      <td>Android OS</td>\n",
       "      <td>47</td>\n",
       "      <td>546a3d98-d540-4e72-ad82-9ebd64e0839b</td>\n",
       "      <td>9943447915df3a45fd6720a026af905b6da6b56a37701b...</td>\n",
       "      <td>6</td>\n",
       "      <td>9</td>\n",
       "      <td>2018-12-02</td>\n",
       "      <td>2018-10-07</td>\n",
       "      <td>56</td>\n",
       "      <td>2018-12-1</td>\n",
       "    </tr>\n",
       "    <tr>\n",
       "      <th>2</th>\n",
       "      <td>2</td>\n",
       "      <td>18781111175537580</td>\n",
       "      <td>Asia/Manila</td>\n",
       "      <td>28800000.0</td>\n",
       "      <td>11343848</td>\n",
       "      <td>False</td>\n",
       "      <td>True</td>\n",
       "      <td>PH</td>\n",
       "      <td>00</td>\n",
       "      <td>makati</td>\n",
       "      <td>...</td>\n",
       "      <td>Android OS</td>\n",
       "      <td>10</td>\n",
       "      <td>546a3d98-d540-4e72-ad82-9ebd64e0839b</td>\n",
       "      <td>9943447915df3a45fd6720a026af905b6da6b56a37701b...</td>\n",
       "      <td>3</td>\n",
       "      <td>7</td>\n",
       "      <td>2018-10-11</td>\n",
       "      <td>2018-10-07</td>\n",
       "      <td>4</td>\n",
       "      <td>2018-12-1</td>\n",
       "    </tr>\n",
       "    <tr>\n",
       "      <th>3</th>\n",
       "      <td>3</td>\n",
       "      <td>1477540082628742048</td>\n",
       "      <td>Asia/Manila</td>\n",
       "      <td>28800000.0</td>\n",
       "      <td>13499724</td>\n",
       "      <td>False</td>\n",
       "      <td>True</td>\n",
       "      <td>PH</td>\n",
       "      <td>11</td>\n",
       "      <td>davao city</td>\n",
       "      <td>...</td>\n",
       "      <td>Android OS</td>\n",
       "      <td>13</td>\n",
       "      <td>546a3d98-d540-4e72-ad82-9ebd64e0839b</td>\n",
       "      <td>9943447915df3a45fd6720a026af905b6da6b56a37701b...</td>\n",
       "      <td>6</td>\n",
       "      <td>19</td>\n",
       "      <td>2018-10-21</td>\n",
       "      <td>2018-10-07</td>\n",
       "      <td>14</td>\n",
       "      <td>2018-12-1</td>\n",
       "    </tr>\n",
       "    <tr>\n",
       "      <th>4</th>\n",
       "      <td>4</td>\n",
       "      <td>8184875317380844086</td>\n",
       "      <td>Asia/Manila</td>\n",
       "      <td>28800000.0</td>\n",
       "      <td>32788010</td>\n",
       "      <td>False</td>\n",
       "      <td>True</td>\n",
       "      <td>PH</td>\n",
       "      <td>00</td>\n",
       "      <td>makati</td>\n",
       "      <td>...</td>\n",
       "      <td>Android OS</td>\n",
       "      <td>41</td>\n",
       "      <td>546a3d98-d540-4e72-ad82-9ebd64e0839b</td>\n",
       "      <td>9943447915df3a45fd6720a026af905b6da6b56a37701b...</td>\n",
       "      <td>1</td>\n",
       "      <td>7</td>\n",
       "      <td>2018-11-20</td>\n",
       "      <td>2018-10-07</td>\n",
       "      <td>44</td>\n",
       "      <td>2018-12-1</td>\n",
       "    </tr>\n",
       "  </tbody>\n",
       "</table>\n",
       "<p>5 rows × 23 columns</p>\n",
       "</div>"
      ],
      "text/plain": [
       "   Unnamed: 0           session_id     timezone  timezone_offset  \\\n",
       "0           0  5558845121177764917  Asia/Manila       28800000.0   \n",
       "1           1  2201961907282901522  Asia/Manila       28800000.0   \n",
       "2           2    18781111175537580  Asia/Manila       28800000.0   \n",
       "3           3  1477540082628742048  Asia/Manila       28800000.0   \n",
       "4           4  8184875317380844086  Asia/Manila       28800000.0   \n",
       "\n",
       "   previous_sessions_duration is_user_first_session is_session country region  \\\n",
       "0                    25837591                 False       True      PH     00   \n",
       "1                    35050130                 False       True      PH     00   \n",
       "2                    11343848                 False       True      PH     00   \n",
       "3                    13499724                 False       True      PH     11   \n",
       "4                    32788010                 False       True      PH     00   \n",
       "\n",
       "          city    ...         os_name  session_index  \\\n",
       "0       makati    ...      Android OS             30   \n",
       "1  quezon city    ...      Android OS             47   \n",
       "2       makati    ...      Android OS             10   \n",
       "3   davao city    ...      Android OS             13   \n",
       "4       makati    ...      Android OS             41   \n",
       "\n",
       "                              device_id  \\\n",
       "0  546a3d98-d540-4e72-ad82-9ebd64e0839b   \n",
       "1  546a3d98-d540-4e72-ad82-9ebd64e0839b   \n",
       "2  546a3d98-d540-4e72-ad82-9ebd64e0839b   \n",
       "3  546a3d98-d540-4e72-ad82-9ebd64e0839b   \n",
       "4  546a3d98-d540-4e72-ad82-9ebd64e0839b   \n",
       "\n",
       "                                        user_id_hash  start_dow start_hour  \\\n",
       "0  9943447915df3a45fd6720a026af905b6da6b56a37701b...          3          1   \n",
       "1  9943447915df3a45fd6720a026af905b6da6b56a37701b...          6          9   \n",
       "2  9943447915df3a45fd6720a026af905b6da6b56a37701b...          3          7   \n",
       "3  9943447915df3a45fd6720a026af905b6da6b56a37701b...          6         19   \n",
       "4  9943447915df3a45fd6720a026af905b6da6b56a37701b...          1          7   \n",
       "\n",
       "   start_date  create_date  create_session_time  pred_time  \n",
       "0  2018-11-15   2018-10-07                   39  2018-12-1  \n",
       "1  2018-12-02   2018-10-07                   56  2018-12-1  \n",
       "2  2018-10-11   2018-10-07                    4  2018-12-1  \n",
       "3  2018-10-21   2018-10-07                   14  2018-12-1  \n",
       "4  2018-11-20   2018-10-07                   44  2018-12-1  \n",
       "\n",
       "[5 rows x 23 columns]"
      ]
     },
     "execution_count": 10,
     "metadata": {},
     "output_type": "execute_result"
    }
   ],
   "source": [
    "df_test.head()"
   ]
  },
  {
   "cell_type": "code",
   "execution_count": 17,
   "metadata": {
    "ExecuteTime": {
     "end_time": "2019-02-22T03:19:03.274444Z",
     "start_time": "2019-02-22T03:19:02.281552Z"
    },
    "collapsed": true
   },
   "outputs": [],
   "source": [
    "df_test['start_date'] = pd.to_datetime(df_test['start_date'])\n",
    "df_test ['pred_time'] = '2018-12-15'\n",
    "df_test ['pred_time'] = pd.to_datetime(df_test ['pred_time'])\n",
    "df_test ['date_interval'] = df_test['pred_time']-df_test['start_date']\n",
    "df_test.last_session_time = df_test.date_interval.apply(lambda x: int(str(x).split(' ')[0]))"
   ]
  },
  {
   "cell_type": "code",
   "execution_count": 20,
   "metadata": {
    "ExecuteTime": {
     "end_time": "2019-02-22T03:19:58.059055Z",
     "start_time": "2019-02-22T03:19:56.724964Z"
    },
    "collapsed": true
   },
   "outputs": [],
   "source": [
    "df_test ['pred_time'] = '2018-12-15'\n",
    "df_test ['pred_time'] = pd.to_datetime(df_test ['pred_time'])\n",
    "df_test ['date_interval'] = df_test['pred_time']-df_test['start_date']"
   ]
  },
  {
   "cell_type": "code",
   "execution_count": 26,
   "metadata": {
    "ExecuteTime": {
     "end_time": "2019-02-22T03:23:56.528064Z",
     "start_time": "2019-02-22T03:23:17.179206Z"
    },
    "collapsed": true
   },
   "outputs": [],
   "source": [
    "df_test['last_session_time']= df_test.date_interval.apply(lambda x: int(str(x).split(' ')[0]))"
   ]
  },
  {
   "cell_type": "code",
   "execution_count": 28,
   "metadata": {
    "ExecuteTime": {
     "end_time": "2019-02-22T03:24:34.206654Z",
     "start_time": "2019-02-22T03:24:33.587352Z"
    },
    "collapsed": true
   },
   "outputs": [],
   "source": [
    "df_test = df_test.drop(['pred_time','date_interval'], axis=1)"
   ]
  },
  {
   "cell_type": "code",
   "execution_count": 34,
   "metadata": {
    "ExecuteTime": {
     "end_time": "2019-02-22T03:31:30.263649Z",
     "start_time": "2019-02-22T03:31:29.144032Z"
    },
    "collapsed": true
   },
   "outputs": [],
   "source": [
    "test_feature['last_session_time'] = test_feature.user_id_hash.map(df_test.groupby('user_id_hash').last_session_time.min())"
   ]
  },
  {
   "cell_type": "code",
   "execution_count": 14,
   "metadata": {
    "ExecuteTime": {
     "end_time": "2019-02-20T20:22:34.557313Z",
     "start_time": "2019-02-20T20:22:34.541250Z"
    },
    "collapsed": true
   },
   "outputs": [],
   "source": [
    "test_feature.purchase_per_day  = test_feature.purchase_per_day .fillna(test_feature['purchase_per_day'].value_counts().index[0])"
   ]
  },
  {
   "cell_type": "markdown",
   "metadata": {},
   "source": [
    "### join events info to get more features"
   ]
  },
  {
   "cell_type": "code",
   "execution_count": 4,
   "metadata": {
    "ExecuteTime": {
     "end_time": "2019-02-22T06:08:44.222901Z",
     "start_time": "2019-02-22T05:59:21.050402Z"
    }
   },
   "outputs": [
    {
     "data": {
      "text/html": [
       "<div>\n",
       "<table border=\"1\" class=\"dataframe\">\n",
       "  <thead>\n",
       "    <tr style=\"text-align: right;\">\n",
       "      <th></th>\n",
       "      <th>app_id</th>\n",
       "      <th>session_id</th>\n",
       "      <th>event</th>\n",
       "      <th>event_timestamp</th>\n",
       "      <th>event_value</th>\n",
       "      <th>user_id_hash</th>\n",
       "    </tr>\n",
       "  </thead>\n",
       "  <tbody>\n",
       "    <tr>\n",
       "      <th>0</th>\n",
       "      <td>4724682771660800</td>\n",
       "      <td>5558845121177764917</td>\n",
       "      <td>45</td>\n",
       "      <td>1542215397132</td>\n",
       "      <td>0.0</td>\n",
       "      <td>9943447915df3a45fd6720a026af905b6da6b56a37701b...</td>\n",
       "    </tr>\n",
       "    <tr>\n",
       "      <th>1</th>\n",
       "      <td>4724682771660800</td>\n",
       "      <td>5558845121177764917</td>\n",
       "      <td>45</td>\n",
       "      <td>1542215484895</td>\n",
       "      <td>0.0</td>\n",
       "      <td>9943447915df3a45fd6720a026af905b6da6b56a37701b...</td>\n",
       "    </tr>\n",
       "    <tr>\n",
       "      <th>2</th>\n",
       "      <td>4724682771660800</td>\n",
       "      <td>7689508378645584666</td>\n",
       "      <td>.m5100869650219008</td>\n",
       "      <td>1541124410372</td>\n",
       "      <td>0.0</td>\n",
       "      <td>9943447915df3a45fd6720a026af905b6da6b56a37701b...</td>\n",
       "    </tr>\n",
       "    <tr>\n",
       "      <th>3</th>\n",
       "      <td>4724682771660800</td>\n",
       "      <td>2201961907282901522</td>\n",
       "      <td>4</td>\n",
       "      <td>1543713091129</td>\n",
       "      <td>0.0</td>\n",
       "      <td>9943447915df3a45fd6720a026af905b6da6b56a37701b...</td>\n",
       "    </tr>\n",
       "    <tr>\n",
       "      <th>4</th>\n",
       "      <td>4724682771660800</td>\n",
       "      <td>2201961907282901522</td>\n",
       "      <td>6</td>\n",
       "      <td>1543713093116</td>\n",
       "      <td>0.0</td>\n",
       "      <td>9943447915df3a45fd6720a026af905b6da6b56a37701b...</td>\n",
       "    </tr>\n",
       "  </tbody>\n",
       "</table>\n",
       "</div>"
      ],
      "text/plain": [
       "             app_id           session_id               event  event_timestamp  \\\n",
       "0  4724682771660800  5558845121177764917                  45    1542215397132   \n",
       "1  4724682771660800  5558845121177764917                  45    1542215484895   \n",
       "2  4724682771660800  7689508378645584666  .m5100869650219008    1541124410372   \n",
       "3  4724682771660800  2201961907282901522                   4    1543713091129   \n",
       "4  4724682771660800  2201961907282901522                   6    1543713093116   \n",
       "\n",
       "   event_value                                       user_id_hash  \n",
       "0          0.0  9943447915df3a45fd6720a026af905b6da6b56a37701b...  \n",
       "1          0.0  9943447915df3a45fd6720a026af905b6da6b56a37701b...  \n",
       "2          0.0  9943447915df3a45fd6720a026af905b6da6b56a37701b...  \n",
       "3          0.0  9943447915df3a45fd6720a026af905b6da6b56a37701b...  \n",
       "4          0.0  9943447915df3a45fd6720a026af905b6da6b56a37701b...  "
      ]
     },
     "execution_count": 4,
     "metadata": {},
     "output_type": "execute_result"
    }
   ],
   "source": [
    "file_name = 'events.csv'\n",
    "s3 = boto3.client('s3')\n",
    "obj = s3.get_object(Bucket=bucket_name, Key=file_name) # S3 uses key-value structure where key is your file name\n",
    "event = pd.read_csv(obj['Body'])\n",
    "event.head()"
   ]
  },
  {
   "cell_type": "code",
   "execution_count": 5,
   "metadata": {
    "ExecuteTime": {
     "end_time": "2019-02-22T06:09:30.740777Z",
     "start_time": "2019-02-22T06:09:25.740030Z"
    },
    "collapsed": true
   },
   "outputs": [],
   "source": [
    "purchase_event = event[event['event']=='8']"
   ]
  },
  {
   "cell_type": "code",
   "execution_count": 6,
   "metadata": {
    "ExecuteTime": {
     "end_time": "2019-02-22T06:09:30.939649Z",
     "start_time": "2019-02-22T06:09:30.742138Z"
    },
    "collapsed": true
   },
   "outputs": [],
   "source": [
    "last_purchase_time = purchase_event.groupby('session_id', as_index=False).event_timestamp.max().rename(columns={'event_timestamp':'last_purchase_time'})\n",
    "df_event = purchase_event.groupby('session_id',as_index=False).app_id.count().rename(columns={'app_id':'purchase_counts'})\n",
    "purchase_time = purchase_event.groupby('session_id',as_index=False).event_timestamp.median().rename(columns={'event_timestamp':'purchase_time'})\n",
    "total_amount = purchase_event.groupby('session_id', as_index=False).event_value.sum().rename(columns={'event_value':'total_amount'})"
   ]
  },
  {
   "cell_type": "code",
   "execution_count": 7,
   "metadata": {
    "ExecuteTime": {
     "end_time": "2019-02-22T06:09:31.072069Z",
     "start_time": "2019-02-22T06:09:30.941065Z"
    },
    "collapsed": true
   },
   "outputs": [],
   "source": [
    "# get session level purchase count and purchase time info\n",
    "df_event2 = pd.merge(df_event, purchase_time, how='left', on=['session_id'])\n",
    "df_event2 = pd.merge(df_event2, last_purchase_time, how='left', on=['session_id'])\n",
    "df_event2 = pd.merge(df_event2, total_amount, how='left', on=['session_id'])"
   ]
  },
  {
   "cell_type": "code",
   "execution_count": 8,
   "metadata": {
    "ExecuteTime": {
     "end_time": "2019-02-22T06:09:31.083018Z",
     "start_time": "2019-02-22T06:09:31.073371Z"
    }
   },
   "outputs": [
    {
     "data": {
      "text/html": [
       "<div>\n",
       "<table border=\"1\" class=\"dataframe\">\n",
       "  <thead>\n",
       "    <tr style=\"text-align: right;\">\n",
       "      <th></th>\n",
       "      <th>session_id</th>\n",
       "      <th>purchase_counts</th>\n",
       "      <th>purchase_time</th>\n",
       "      <th>last_purchase_time</th>\n",
       "      <th>total_amount</th>\n",
       "    </tr>\n",
       "  </thead>\n",
       "  <tbody>\n",
       "    <tr>\n",
       "      <th>0</th>\n",
       "      <td>44097414271980</td>\n",
       "      <td>1</td>\n",
       "      <td>1543345213863</td>\n",
       "      <td>1543345213863</td>\n",
       "      <td>13.993</td>\n",
       "    </tr>\n",
       "    <tr>\n",
       "      <th>1</th>\n",
       "      <td>139239025219926</td>\n",
       "      <td>1</td>\n",
       "      <td>1543896256185</td>\n",
       "      <td>1543896256185</td>\n",
       "      <td>3.493</td>\n",
       "    </tr>\n",
       "    <tr>\n",
       "      <th>2</th>\n",
       "      <td>198661066907208</td>\n",
       "      <td>1</td>\n",
       "      <td>1543274061363</td>\n",
       "      <td>1543274061363</td>\n",
       "      <td>3.493</td>\n",
       "    </tr>\n",
       "    <tr>\n",
       "      <th>3</th>\n",
       "      <td>277838121971337</td>\n",
       "      <td>1</td>\n",
       "      <td>1540754187045</td>\n",
       "      <td>1540754187045</td>\n",
       "      <td>3.493</td>\n",
       "    </tr>\n",
       "    <tr>\n",
       "      <th>4</th>\n",
       "      <td>330581615202681</td>\n",
       "      <td>1</td>\n",
       "      <td>1541774849854</td>\n",
       "      <td>1541774849854</td>\n",
       "      <td>1.393</td>\n",
       "    </tr>\n",
       "  </tbody>\n",
       "</table>\n",
       "</div>"
      ],
      "text/plain": [
       "        session_id  purchase_counts  purchase_time  last_purchase_time  \\\n",
       "0   44097414271980                1  1543345213863       1543345213863   \n",
       "1  139239025219926                1  1543896256185       1543896256185   \n",
       "2  198661066907208                1  1543274061363       1543274061363   \n",
       "3  277838121971337                1  1540754187045       1540754187045   \n",
       "4  330581615202681                1  1541774849854       1541774849854   \n",
       "\n",
       "   total_amount  \n",
       "0        13.993  \n",
       "1         3.493  \n",
       "2         3.493  \n",
       "3         3.493  \n",
       "4         1.393  "
      ]
     },
     "execution_count": 8,
     "metadata": {},
     "output_type": "execute_result"
    }
   ],
   "source": [
    "df_event2.head()"
   ]
  },
  {
   "cell_type": "code",
   "execution_count": 9,
   "metadata": {
    "ExecuteTime": {
     "end_time": "2019-02-22T06:09:33.561592Z",
     "start_time": "2019-02-22T06:09:31.084280Z"
    },
    "collapsed": true
   },
   "outputs": [],
   "source": [
    "# based on session train dataframe join event train, thus we only get info before Dec\n",
    "df_test2 = pd.merge(df_test,df_event2, how='left', on=['session_id'])"
   ]
  },
  {
   "cell_type": "code",
   "execution_count": null,
   "metadata": {
    "ExecuteTime": {
     "end_time": "2019-02-22T06:09:33.697206Z",
     "start_time": "2019-02-22T06:09:33.563015Z"
    }
   },
   "outputs": [],
   "source": [
    "# user purchase count\n",
    "test_feature['purchase_counts'] = test_feature.user_id_hash.map(df_test2.groupby('user_id_hash').purchase_counts.sum())"
   ]
  },
  {
   "cell_type": "code",
   "execution_count": 45,
   "metadata": {
    "ExecuteTime": {
     "end_time": "2019-02-22T04:39:12.900166Z",
     "start_time": "2019-02-22T04:39:12.802191Z"
    },
    "collapsed": true
   },
   "outputs": [],
   "source": [
    "df_test2['purchase_time'] = pd.to_datetime(df_test2.purchase_time + df_test2.timezone_offset, unit='ms')"
   ]
  },
  {
   "cell_type": "code",
   "execution_count": 46,
   "metadata": {
    "ExecuteTime": {
     "end_time": "2019-02-22T04:39:15.070784Z",
     "start_time": "2019-02-22T04:39:15.009324Z"
    },
    "collapsed": true
   },
   "outputs": [],
   "source": [
    "df_test2['purchase_dow'] = df_test2.purchase_time.dt.dayofweek\n",
    "df_test2['purchase_hour'] = df_test2.purchase_time.dt.hour"
   ]
  },
  {
   "cell_type": "code",
   "execution_count": 34,
   "metadata": {
    "ExecuteTime": {
     "end_time": "2019-02-18T09:56:51.089876Z",
     "start_time": "2019-02-18T09:56:50.997768Z"
    }
   },
   "outputs": [
    {
     "data": {
      "text/html": [
       "<div>\n",
       "<table border=\"1\" class=\"dataframe\">\n",
       "  <thead>\n",
       "    <tr style=\"text-align: right;\">\n",
       "      <th></th>\n",
       "      <th>session_id</th>\n",
       "      <th>timezone</th>\n",
       "      <th>timezone_offset</th>\n",
       "      <th>previous_sessions_duration</th>\n",
       "      <th>is_user_first_session</th>\n",
       "      <th>is_session</th>\n",
       "      <th>country</th>\n",
       "      <th>region</th>\n",
       "      <th>city</th>\n",
       "      <th>latitude</th>\n",
       "      <th>...</th>\n",
       "      <th>device_id</th>\n",
       "      <th>user_id_hash</th>\n",
       "      <th>start_dow</th>\n",
       "      <th>start_hour</th>\n",
       "      <th>start_date</th>\n",
       "      <th>create_date</th>\n",
       "      <th>create_session_time</th>\n",
       "      <th>label</th>\n",
       "      <th>event_timestamp</th>\n",
       "      <th>purchase_time</th>\n",
       "    </tr>\n",
       "  </thead>\n",
       "  <tbody>\n",
       "    <tr>\n",
       "      <th>0</th>\n",
       "      <td>5558845121177764917</td>\n",
       "      <td>Asia/Manila</td>\n",
       "      <td>28800000.0</td>\n",
       "      <td>25837591</td>\n",
       "      <td>False</td>\n",
       "      <td>True</td>\n",
       "      <td>PH</td>\n",
       "      <td>00</td>\n",
       "      <td>makati</td>\n",
       "      <td>14.554729</td>\n",
       "      <td>...</td>\n",
       "      <td>546a3d98-d540-4e72-ad82-9ebd64e0839b</td>\n",
       "      <td>9943447915df3a45fd6720a026af905b6da6b56a37701b...</td>\n",
       "      <td>3</td>\n",
       "      <td>1</td>\n",
       "      <td>2018-11-15</td>\n",
       "      <td>2018-10-07</td>\n",
       "      <td>39</td>\n",
       "      <td>0.0</td>\n",
       "      <td>NaN</td>\n",
       "      <td>NaT</td>\n",
       "    </tr>\n",
       "    <tr>\n",
       "      <th>1</th>\n",
       "      <td>2201961907282901522</td>\n",
       "      <td>Asia/Manila</td>\n",
       "      <td>28800000.0</td>\n",
       "      <td>35050130</td>\n",
       "      <td>False</td>\n",
       "      <td>True</td>\n",
       "      <td>PH</td>\n",
       "      <td>00</td>\n",
       "      <td>quezon city</td>\n",
       "      <td>14.676041</td>\n",
       "      <td>...</td>\n",
       "      <td>546a3d98-d540-4e72-ad82-9ebd64e0839b</td>\n",
       "      <td>9943447915df3a45fd6720a026af905b6da6b56a37701b...</td>\n",
       "      <td>6</td>\n",
       "      <td>9</td>\n",
       "      <td>2018-12-02</td>\n",
       "      <td>2018-10-07</td>\n",
       "      <td>56</td>\n",
       "      <td>0.0</td>\n",
       "      <td>NaN</td>\n",
       "      <td>NaT</td>\n",
       "    </tr>\n",
       "    <tr>\n",
       "      <th>2</th>\n",
       "      <td>18781111175537580</td>\n",
       "      <td>Asia/Manila</td>\n",
       "      <td>28800000.0</td>\n",
       "      <td>11343848</td>\n",
       "      <td>False</td>\n",
       "      <td>True</td>\n",
       "      <td>PH</td>\n",
       "      <td>00</td>\n",
       "      <td>makati</td>\n",
       "      <td>14.554729</td>\n",
       "      <td>...</td>\n",
       "      <td>546a3d98-d540-4e72-ad82-9ebd64e0839b</td>\n",
       "      <td>9943447915df3a45fd6720a026af905b6da6b56a37701b...</td>\n",
       "      <td>3</td>\n",
       "      <td>7</td>\n",
       "      <td>2018-10-11</td>\n",
       "      <td>2018-10-07</td>\n",
       "      <td>4</td>\n",
       "      <td>0.0</td>\n",
       "      <td>NaN</td>\n",
       "      <td>NaT</td>\n",
       "    </tr>\n",
       "    <tr>\n",
       "      <th>3</th>\n",
       "      <td>1477540082628742048</td>\n",
       "      <td>Asia/Manila</td>\n",
       "      <td>28800000.0</td>\n",
       "      <td>13499724</td>\n",
       "      <td>False</td>\n",
       "      <td>True</td>\n",
       "      <td>PH</td>\n",
       "      <td>11</td>\n",
       "      <td>davao city</td>\n",
       "      <td>7.190708</td>\n",
       "      <td>...</td>\n",
       "      <td>546a3d98-d540-4e72-ad82-9ebd64e0839b</td>\n",
       "      <td>9943447915df3a45fd6720a026af905b6da6b56a37701b...</td>\n",
       "      <td>6</td>\n",
       "      <td>19</td>\n",
       "      <td>2018-10-21</td>\n",
       "      <td>2018-10-07</td>\n",
       "      <td>14</td>\n",
       "      <td>0.0</td>\n",
       "      <td>NaN</td>\n",
       "      <td>NaT</td>\n",
       "    </tr>\n",
       "    <tr>\n",
       "      <th>4</th>\n",
       "      <td>8184875317380844086</td>\n",
       "      <td>Asia/Manila</td>\n",
       "      <td>28800000.0</td>\n",
       "      <td>32788010</td>\n",
       "      <td>False</td>\n",
       "      <td>True</td>\n",
       "      <td>PH</td>\n",
       "      <td>00</td>\n",
       "      <td>makati</td>\n",
       "      <td>14.554729</td>\n",
       "      <td>...</td>\n",
       "      <td>546a3d98-d540-4e72-ad82-9ebd64e0839b</td>\n",
       "      <td>9943447915df3a45fd6720a026af905b6da6b56a37701b...</td>\n",
       "      <td>1</td>\n",
       "      <td>7</td>\n",
       "      <td>2018-11-20</td>\n",
       "      <td>2018-10-07</td>\n",
       "      <td>44</td>\n",
       "      <td>NaN</td>\n",
       "      <td>NaN</td>\n",
       "      <td>NaT</td>\n",
       "    </tr>\n",
       "  </tbody>\n",
       "</table>\n",
       "<p>5 rows × 24 columns</p>\n",
       "</div>"
      ],
      "text/plain": [
       "            session_id     timezone  timezone_offset  \\\n",
       "0  5558845121177764917  Asia/Manila       28800000.0   \n",
       "1  2201961907282901522  Asia/Manila       28800000.0   \n",
       "2    18781111175537580  Asia/Manila       28800000.0   \n",
       "3  1477540082628742048  Asia/Manila       28800000.0   \n",
       "4  8184875317380844086  Asia/Manila       28800000.0   \n",
       "\n",
       "   previous_sessions_duration is_user_first_session is_session country region  \\\n",
       "0                    25837591                 False       True      PH     00   \n",
       "1                    35050130                 False       True      PH     00   \n",
       "2                    11343848                 False       True      PH     00   \n",
       "3                    13499724                 False       True      PH     11   \n",
       "4                    32788010                 False       True      PH     00   \n",
       "\n",
       "          city   latitude      ...                                  device_id  \\\n",
       "0       makati  14.554729      ...       546a3d98-d540-4e72-ad82-9ebd64e0839b   \n",
       "1  quezon city  14.676041      ...       546a3d98-d540-4e72-ad82-9ebd64e0839b   \n",
       "2       makati  14.554729      ...       546a3d98-d540-4e72-ad82-9ebd64e0839b   \n",
       "3   davao city   7.190708      ...       546a3d98-d540-4e72-ad82-9ebd64e0839b   \n",
       "4       makati  14.554729      ...       546a3d98-d540-4e72-ad82-9ebd64e0839b   \n",
       "\n",
       "                                        user_id_hash start_dow  start_hour  \\\n",
       "0  9943447915df3a45fd6720a026af905b6da6b56a37701b...         3           1   \n",
       "1  9943447915df3a45fd6720a026af905b6da6b56a37701b...         6           9   \n",
       "2  9943447915df3a45fd6720a026af905b6da6b56a37701b...         3           7   \n",
       "3  9943447915df3a45fd6720a026af905b6da6b56a37701b...         6          19   \n",
       "4  9943447915df3a45fd6720a026af905b6da6b56a37701b...         1           7   \n",
       "\n",
       "   start_date create_date  create_session_time  label event_timestamp  \\\n",
       "0  2018-11-15  2018-10-07                   39    0.0             NaN   \n",
       "1  2018-12-02  2018-10-07                   56    0.0             NaN   \n",
       "2  2018-10-11  2018-10-07                    4    0.0             NaN   \n",
       "3  2018-10-21  2018-10-07                   14    0.0             NaN   \n",
       "4  2018-11-20  2018-10-07                   44    NaN             NaN   \n",
       "\n",
       "  purchase_time  \n",
       "0           NaT  \n",
       "1           NaT  \n",
       "2           NaT  \n",
       "3           NaT  \n",
       "4           NaT  \n",
       "\n",
       "[5 rows x 24 columns]"
      ]
     },
     "execution_count": 34,
     "metadata": {},
     "output_type": "execute_result"
    }
   ],
   "source": [
    "# most frequent purchase dow / hour\n",
    "test_feature['most_frequent_purchase_dow'] = test_feature.user_id_hash.map(df_test2[df_test2.purchase_counts>0].groupby('user_id_hash').purchase_dow.agg(lambda x: x.value_counts().index[0]))\n",
    "test_feature.most_frequent_purchase_dow = train_feature.most_frequent_purchase_dow.fillna(7)"
   ]
  },
  {
   "cell_type": "code",
   "execution_count": 41,
   "metadata": {
    "ExecuteTime": {
     "end_time": "2019-02-18T09:57:38.310789Z",
     "start_time": "2019-02-18T09:57:28.826306Z"
    },
    "collapsed": true
   },
   "outputs": [],
   "source": [
    "test_feature['most_frequent_purchase_hour'] = test_feature.user_id_hash.map(df_test2[df_test2.purchase_counts>0].groupby('user_id_hash').purchase_hour.agg(lambda x: x.value_counts().index[0]))\n",
    "test_feature.most_frequent_purchase_hour = test_feature.most_frequent_purchase_hour.fillna(24)"
   ]
  },
  {
   "cell_type": "code",
   "execution_count": 44,
   "metadata": {
    "ExecuteTime": {
     "end_time": "2019-02-18T09:57:43.468814Z",
     "start_time": "2019-02-18T09:57:43.464446Z"
    },
    "collapsed": true
   },
   "outputs": [],
   "source": [
    "test_feature['purchase_perc'] = test_feature.purchase_counts/test_feature.session_count"
   ]
  },
  {
   "cell_type": "code",
   "execution_count": 47,
   "metadata": {
    "ExecuteTime": {
     "end_time": "2019-02-22T04:39:24.641544Z",
     "start_time": "2019-02-22T04:39:23.401428Z"
    },
    "collapsed": true
   },
   "outputs": [],
   "source": [
    "test_feature['total_amount']= test_feature.user_id_hash.map(df_test2.groupby('user_id_hash').total_amount.sum())\n"
   ]
  },
  {
   "cell_type": "code",
   "execution_count": 48,
   "metadata": {
    "ExecuteTime": {
     "end_time": "2019-02-22T04:40:07.691844Z",
     "start_time": "2019-02-22T04:39:26.424684Z"
    },
    "collapsed": true
   },
   "outputs": [],
   "source": [
    "df_test2 ['pred_time'] = '2018-12-15'\n",
    "df_test2 ['pred_time'] = pd.to_datetime(df_test2 ['pred_time'])\n",
    "df_test2 ['date_interval'] = df_test2['pred_time']-df_test2['purchase_time']\n",
    "df_test2.date_interval = df_test2.date_interval.fillna('100 days')\n",
    "df_test2['last_purchase_time'] = df_test2.date_interval.apply(lambda x: int(str(x).split(' ')[0]))"
   ]
  },
  {
   "cell_type": "code",
   "execution_count": 49,
   "metadata": {
    "ExecuteTime": {
     "end_time": "2019-02-22T04:40:09.046426Z",
     "start_time": "2019-02-22T04:40:07.693178Z"
    },
    "collapsed": true
   },
   "outputs": [],
   "source": [
    "test_feature['last_purchase_time'] = test_feature.user_id_hash.map(df_test2.groupby('user_id_hash').last_purchase_time.min())"
   ]
  },
  {
   "cell_type": "code",
   "execution_count": 50,
   "metadata": {
    "ExecuteTime": {
     "end_time": "2019-02-22T04:40:09.053834Z",
     "start_time": "2019-02-22T04:40:09.047748Z"
    },
    "collapsed": true
   },
   "outputs": [],
   "source": [
    "test_feature['purchase_counts'] = test_feature['purchase_counts'].fillna(0)\n",
    "test_feature['total_amount'] = test_feature['total_amount'].fillna(0)"
   ]
  },
  {
   "cell_type": "code",
   "execution_count": null,
   "metadata": {},
   "outputs": [],
   "source": [
    "test_feature['cost_per_purchase'] = (test_feature.total_amount+1).div((test_feature.purchase_counts+1))"
   ]
  },
  {
   "cell_type": "markdown",
   "metadata": {},
   "source": [
    "### geographic"
   ]
  },
  {
   "cell_type": "markdown",
   "metadata": {},
   "source": [
    "* most frequent country/region/city"
   ]
  },
  {
   "cell_type": "code",
   "execution_count": 12,
   "metadata": {
    "ExecuteTime": {
     "end_time": "2019-02-22T06:14:48.284350Z",
     "start_time": "2019-02-22T06:14:47.185146Z"
    },
    "collapsed": true
   },
   "outputs": [],
   "source": [
    "df_test2.country = df_test2.country.fillna(df_test2['country'].value_counts().index[0])\n",
    "df_test2.region = df_test2.region.fillna(df_test2['region'].value_counts().index[0])\n",
    "df_test2.city = df_test2.city.fillna(df_test2['city'].value_counts().index[0])"
   ]
  },
  {
   "cell_type": "code",
   "execution_count": 13,
   "metadata": {
    "ExecuteTime": {
     "end_time": "2019-02-22T06:25:40.569926Z",
     "start_time": "2019-02-22T06:15:06.104648Z"
    },
    "collapsed": true
   },
   "outputs": [],
   "source": [
    "test_feature['most_freq_country'] = test_feature.user_id_hash.map(df_test2.groupby('user_id_hash').country.agg(lambda x: x.value_counts().index[0]))\n",
    "test_feature['most_freq_region'] = test_feature.user_id_hash.map(df_test2.groupby('user_id_hash').region.agg(lambda x: x.value_counts().index[0]))\n",
    "test_feature['most_freq_city'] = test_feature.user_id_hash.map(df_test2.groupby('user_id_hash').city.agg(lambda x: x.value_counts().index[0]))"
   ]
  },
  {
   "cell_type": "code",
   "execution_count": 14,
   "metadata": {
    "ExecuteTime": {
     "end_time": "2019-02-22T06:28:20.405135Z",
     "start_time": "2019-02-22T06:28:20.016285Z"
    },
    "collapsed": true
   },
   "outputs": [],
   "source": [
    "country_mean_purchase_perc = df_test2.groupby('country').purchase_counts.sum()/df_test2.country.value_counts()\n",
    "test_feature['country_mean_purchase_perc'] = test_feature[\"most_freq_country\"].map(country_mean_purchase_perc)\n",
    "test_feature.country_mean_purchase_perc = test_feature.country_mean_purchase_perc.fillna(0)"
   ]
  },
  {
   "cell_type": "markdown",
   "metadata": {},
   "source": [
    "### device info"
   ]
  },
  {
   "cell_type": "code",
   "execution_count": 16,
   "metadata": {
    "ExecuteTime": {
     "end_time": "2019-02-22T06:29:05.098242Z",
     "start_time": "2019-02-22T06:29:04.848094Z"
    },
    "collapsed": true
   },
   "outputs": [],
   "source": [
    "df_test2.os_name = ['iOS' if x=='iPhone OS' else x for x in df_test2['os_name']]"
   ]
  },
  {
   "cell_type": "code",
   "execution_count": 17,
   "metadata": {
    "ExecuteTime": {
     "end_time": "2019-02-22T06:32:20.510257Z",
     "start_time": "2019-02-22T06:29:05.806800Z"
    }
   },
   "outputs": [],
   "source": [
    "df_test2.os_name = df_test2.os_name.fillna(df_test2['os_name'].value_counts().index[0])\n",
    "test_feature['most_freq_os'] = test_feature.user_id_hash.map(df_test2.groupby('user_id_hash').os_name.agg(lambda x: x.value_counts().index[0]))"
   ]
  },
  {
   "cell_type": "code",
   "execution_count": 19,
   "metadata": {
    "ExecuteTime": {
     "end_time": "2019-02-22T06:38:20.849114Z",
     "start_time": "2019-02-22T06:38:20.449036Z"
    }
   },
   "outputs": [],
   "source": [
    "os_mean_purchase_perc = df_test2.groupby('os_name').purchase_counts.sum()/df_test2.os_name.value_counts()\n",
    "test_feature['os_mean_purchase_perc'] = test_feature[\"most_freq_os\"].map(os_mean_purchase_perc)\n",
    "test_feature.os_mean_purchase_perc = test_feature.os_mean_purchase_perc.fillna(0)"
   ]
  },
  {
   "cell_type": "markdown",
   "metadata": {},
   "source": [
    "### label encoding"
   ]
  },
  {
   "cell_type": "markdown",
   "metadata": {},
   "source": [
    "* Use label encoding encode categorical columns"
   ]
  },
  {
   "cell_type": "code",
   "execution_count": 20,
   "metadata": {
    "ExecuteTime": {
     "end_time": "2019-02-22T06:38:23.114824Z",
     "start_time": "2019-02-22T06:38:22.838965Z"
    }
   },
   "outputs": [
    {
     "data": {
      "text/plain": [
       "user_id_hash                   False\n",
       "most_freq_dow                  False\n",
       "most_freq_hour                 False\n",
       "median_create_session_time     False\n",
       "session_count                  False\n",
       "session_durations              False\n",
       "mean_session_durations         False\n",
       "mean_session_interval          False\n",
       "most_freq_country               True\n",
       "most_freq_region                True\n",
       "most_freq_city                  True\n",
       "most_freq_os                    True\n",
       "purchase_counts                False\n",
       "most_frequent_purchase_dow     False\n",
       "most_frequent_purchase_hour    False\n",
       "purchase_perc                  False\n",
       "total_amount                   False\n",
       "session_per_active_day         False\n",
       "purchase_per_active_day        False\n",
       "session_per_day                False\n",
       "purchase_per_day               False\n",
       "user_entropy                   False\n",
       "last_session_time              False\n",
       "last_purchase_time             False\n",
       "country_mean_purchase_perc     False\n",
       "os_mean_purchase_perc          False\n",
       "dtype: bool"
      ]
     },
     "execution_count": 20,
     "metadata": {},
     "output_type": "execute_result"
    }
   ],
   "source": [
    "pd.isnull(test_feature).any()"
   ]
  },
  {
   "cell_type": "code",
   "execution_count": 21,
   "metadata": {
    "ExecuteTime": {
     "end_time": "2019-02-22T06:38:29.680577Z",
     "start_time": "2019-02-22T06:38:29.000073Z"
    },
    "collapsed": true
   },
   "outputs": [],
   "source": [
    "# fillna by most frequentist value\n",
    "cols = list(test_feature.columns)\n",
    "for col in cols:\n",
    "    test_feature[col] = test_feature[col].fillna(test_feature[col].value_counts().index[0])"
   ]
  },
  {
   "cell_type": "code",
   "execution_count": 22,
   "metadata": {
    "ExecuteTime": {
     "end_time": "2019-02-22T06:38:30.857979Z",
     "start_time": "2019-02-22T06:38:30.720167Z"
    },
    "collapsed": true
   },
   "outputs": [],
   "source": [
    "import numpy as np\n",
    "cols = list(test_feature.columns)\n",
    "for col in cols:\n",
    "    test_feature[col].replace(np.inf, 0, inplace=True)"
   ]
  },
  {
   "cell_type": "code",
   "execution_count": 23,
   "metadata": {
    "ExecuteTime": {
     "end_time": "2019-02-22T06:38:33.027725Z",
     "start_time": "2019-02-22T06:38:32.324344Z"
    },
    "collapsed": true
   },
   "outputs": [],
   "source": [
    "from sklearn.preprocessing import LabelEncoder\n",
    "cols = ['most_freq_country', 'most_freq_region', 'most_freq_city', 'most_freq_os']\n",
    "for col in cols:\n",
    "    encoder = LabelEncoder()\n",
    "    test_feature[col] = encoder.fit_transform(test_feature[col])"
   ]
  },
  {
   "cell_type": "code",
   "execution_count": 24,
   "metadata": {
    "ExecuteTime": {
     "end_time": "2019-02-22T06:38:38.366550Z",
     "start_time": "2019-02-22T06:38:38.338035Z"
    }
   },
   "outputs": [
    {
     "data": {
      "text/html": [
       "<div>\n",
       "<table border=\"1\" class=\"dataframe\">\n",
       "  <thead>\n",
       "    <tr style=\"text-align: right;\">\n",
       "      <th></th>\n",
       "      <th>user_id_hash</th>\n",
       "      <th>most_freq_dow</th>\n",
       "      <th>most_freq_hour</th>\n",
       "      <th>median_create_session_time</th>\n",
       "      <th>session_count</th>\n",
       "      <th>session_durations</th>\n",
       "      <th>mean_session_durations</th>\n",
       "      <th>mean_session_interval</th>\n",
       "      <th>most_freq_country</th>\n",
       "      <th>most_freq_region</th>\n",
       "      <th>...</th>\n",
       "      <th>total_amount</th>\n",
       "      <th>session_per_active_day</th>\n",
       "      <th>purchase_per_active_day</th>\n",
       "      <th>session_per_day</th>\n",
       "      <th>purchase_per_day</th>\n",
       "      <th>user_entropy</th>\n",
       "      <th>last_session_time</th>\n",
       "      <th>last_purchase_time</th>\n",
       "      <th>country_mean_purchase_perc</th>\n",
       "      <th>os_mean_purchase_perc</th>\n",
       "    </tr>\n",
       "  </thead>\n",
       "  <tbody>\n",
       "    <tr>\n",
       "      <th>0</th>\n",
       "      <td>e469dfaed039ead9110165d9bc457acb11609ca34057dc...</td>\n",
       "      <td>5.0</td>\n",
       "      <td>10.0</td>\n",
       "      <td>0.5</td>\n",
       "      <td>2.0</td>\n",
       "      <td>713088.0</td>\n",
       "      <td>356544.0</td>\n",
       "      <td>0.250000</td>\n",
       "      <td>206</td>\n",
       "      <td>193</td>\n",
       "      <td>...</td>\n",
       "      <td>0.0</td>\n",
       "      <td>1.0</td>\n",
       "      <td>0.0</td>\n",
       "      <td>2.000000</td>\n",
       "      <td>0.0</td>\n",
       "      <td>0.693147</td>\n",
       "      <td>49.0</td>\n",
       "      <td>100.0</td>\n",
       "      <td>0.076365</td>\n",
       "      <td>0.087887</td>\n",
       "    </tr>\n",
       "    <tr>\n",
       "      <th>1</th>\n",
       "      <td>afcc639a324b6c598ef83d360450afa011cb2dd1358bf9...</td>\n",
       "      <td>3.0</td>\n",
       "      <td>19.0</td>\n",
       "      <td>1.0</td>\n",
       "      <td>1.0</td>\n",
       "      <td>1717320.0</td>\n",
       "      <td>1717320.0</td>\n",
       "      <td>1.000000</td>\n",
       "      <td>139</td>\n",
       "      <td>300</td>\n",
       "      <td>...</td>\n",
       "      <td>0.0</td>\n",
       "      <td>0.5</td>\n",
       "      <td>0.0</td>\n",
       "      <td>0.500000</td>\n",
       "      <td>0.0</td>\n",
       "      <td>0.693147</td>\n",
       "      <td>23.0</td>\n",
       "      <td>100.0</td>\n",
       "      <td>0.016374</td>\n",
       "      <td>0.033249</td>\n",
       "    </tr>\n",
       "    <tr>\n",
       "      <th>2</th>\n",
       "      <td>fd5a7cf211d08e3e00f7be6a9df6e6ea3d2e5c22a5d9c3...</td>\n",
       "      <td>6.0</td>\n",
       "      <td>18.0</td>\n",
       "      <td>8.0</td>\n",
       "      <td>3.0</td>\n",
       "      <td>3041967.0</td>\n",
       "      <td>1013989.0</td>\n",
       "      <td>2.666667</td>\n",
       "      <td>206</td>\n",
       "      <td>625</td>\n",
       "      <td>...</td>\n",
       "      <td>0.0</td>\n",
       "      <td>1.0</td>\n",
       "      <td>0.0</td>\n",
       "      <td>0.300000</td>\n",
       "      <td>0.0</td>\n",
       "      <td>1.609438</td>\n",
       "      <td>39.0</td>\n",
       "      <td>100.0</td>\n",
       "      <td>0.076365</td>\n",
       "      <td>0.033249</td>\n",
       "    </tr>\n",
       "    <tr>\n",
       "      <th>3</th>\n",
       "      <td>00bfff98b9d0329f014c2eeac7ce47cd18b2bc6e10d608...</td>\n",
       "      <td>5.0</td>\n",
       "      <td>12.0</td>\n",
       "      <td>2.0</td>\n",
       "      <td>10.0</td>\n",
       "      <td>92005829.0</td>\n",
       "      <td>9200582.9</td>\n",
       "      <td>0.200000</td>\n",
       "      <td>219</td>\n",
       "      <td>291</td>\n",
       "      <td>...</td>\n",
       "      <td>0.0</td>\n",
       "      <td>2.5</td>\n",
       "      <td>0.0</td>\n",
       "      <td>0.526316</td>\n",
       "      <td>0.0</td>\n",
       "      <td>2.302585</td>\n",
       "      <td>32.0</td>\n",
       "      <td>100.0</td>\n",
       "      <td>0.003304</td>\n",
       "      <td>0.033249</td>\n",
       "    </tr>\n",
       "    <tr>\n",
       "      <th>4</th>\n",
       "      <td>0d298f3638c43e915c119d4935e1ce8d168f81b5e3e8c1...</td>\n",
       "      <td>6.0</td>\n",
       "      <td>8.0</td>\n",
       "      <td>1.0</td>\n",
       "      <td>1.0</td>\n",
       "      <td>10441.0</td>\n",
       "      <td>10441.0</td>\n",
       "      <td>1.000000</td>\n",
       "      <td>170</td>\n",
       "      <td>113</td>\n",
       "      <td>...</td>\n",
       "      <td>0.0</td>\n",
       "      <td>0.5</td>\n",
       "      <td>0.0</td>\n",
       "      <td>0.500000</td>\n",
       "      <td>0.0</td>\n",
       "      <td>0.693147</td>\n",
       "      <td>62.0</td>\n",
       "      <td>100.0</td>\n",
       "      <td>0.004016</td>\n",
       "      <td>0.033249</td>\n",
       "    </tr>\n",
       "  </tbody>\n",
       "</table>\n",
       "<p>5 rows × 26 columns</p>\n",
       "</div>"
      ],
      "text/plain": [
       "                                        user_id_hash  most_freq_dow  \\\n",
       "0  e469dfaed039ead9110165d9bc457acb11609ca34057dc...            5.0   \n",
       "1  afcc639a324b6c598ef83d360450afa011cb2dd1358bf9...            3.0   \n",
       "2  fd5a7cf211d08e3e00f7be6a9df6e6ea3d2e5c22a5d9c3...            6.0   \n",
       "3  00bfff98b9d0329f014c2eeac7ce47cd18b2bc6e10d608...            5.0   \n",
       "4  0d298f3638c43e915c119d4935e1ce8d168f81b5e3e8c1...            6.0   \n",
       "\n",
       "   most_freq_hour  median_create_session_time  session_count  \\\n",
       "0            10.0                         0.5            2.0   \n",
       "1            19.0                         1.0            1.0   \n",
       "2            18.0                         8.0            3.0   \n",
       "3            12.0                         2.0           10.0   \n",
       "4             8.0                         1.0            1.0   \n",
       "\n",
       "   session_durations  mean_session_durations  mean_session_interval  \\\n",
       "0           713088.0                356544.0               0.250000   \n",
       "1          1717320.0               1717320.0               1.000000   \n",
       "2          3041967.0               1013989.0               2.666667   \n",
       "3         92005829.0               9200582.9               0.200000   \n",
       "4            10441.0                 10441.0               1.000000   \n",
       "\n",
       "   most_freq_country  most_freq_region          ...            total_amount  \\\n",
       "0                206               193          ...                     0.0   \n",
       "1                139               300          ...                     0.0   \n",
       "2                206               625          ...                     0.0   \n",
       "3                219               291          ...                     0.0   \n",
       "4                170               113          ...                     0.0   \n",
       "\n",
       "   session_per_active_day  purchase_per_active_day  session_per_day  \\\n",
       "0                     1.0                      0.0         2.000000   \n",
       "1                     0.5                      0.0         0.500000   \n",
       "2                     1.0                      0.0         0.300000   \n",
       "3                     2.5                      0.0         0.526316   \n",
       "4                     0.5                      0.0         0.500000   \n",
       "\n",
       "   purchase_per_day  user_entropy  last_session_time  last_purchase_time  \\\n",
       "0               0.0      0.693147               49.0               100.0   \n",
       "1               0.0      0.693147               23.0               100.0   \n",
       "2               0.0      1.609438               39.0               100.0   \n",
       "3               0.0      2.302585               32.0               100.0   \n",
       "4               0.0      0.693147               62.0               100.0   \n",
       "\n",
       "   country_mean_purchase_perc  os_mean_purchase_perc  \n",
       "0                    0.076365               0.087887  \n",
       "1                    0.016374               0.033249  \n",
       "2                    0.076365               0.033249  \n",
       "3                    0.003304               0.033249  \n",
       "4                    0.004016               0.033249  \n",
       "\n",
       "[5 rows x 26 columns]"
      ]
     },
     "execution_count": 24,
     "metadata": {},
     "output_type": "execute_result"
    }
   ],
   "source": [
    "test_feature.head()"
   ]
  },
  {
   "cell_type": "code",
   "execution_count": 25,
   "metadata": {
    "ExecuteTime": {
     "end_time": "2019-02-22T06:39:05.213401Z",
     "start_time": "2019-02-22T06:38:50.427396Z"
    },
    "collapsed": true
   },
   "outputs": [],
   "source": [
    "test_feature.to_csv('feature_eng/test_feature2.csv', index=False)"
   ]
  },
  {
   "cell_type": "code",
   "execution_count": null,
   "metadata": {
    "collapsed": true
   },
   "outputs": [],
   "source": []
  }
 ],
 "metadata": {
  "anaconda-cloud": {},
  "kernelspec": {
   "display_name": "Python 3",
   "language": "python",
   "name": "python3"
  },
  "language_info": {
   "codemirror_mode": {
    "name": "ipython",
    "version": 3
   },
   "file_extension": ".py",
   "mimetype": "text/x-python",
   "name": "python",
   "nbconvert_exporter": "python",
   "pygments_lexer": "ipython3",
   "version": "3.6.6"
  }
 },
 "nbformat": 4,
 "nbformat_minor": 2
}
