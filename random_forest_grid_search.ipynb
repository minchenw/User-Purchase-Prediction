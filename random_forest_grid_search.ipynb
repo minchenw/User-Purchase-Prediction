{
 "cells": [
  {
   "cell_type": "code",
   "execution_count": 1,
   "metadata": {
    "ExecuteTime": {
     "end_time": "2019-02-27T05:51:57.705048Z",
     "start_time": "2019-02-27T05:51:56.231457Z"
    }
   },
   "outputs": [
    {
     "name": "stderr",
     "output_type": "stream",
     "text": [
      "/Users/minchenwang/anaconda3/lib/python3.6/site-packages/sklearn/ensemble/weight_boosting.py:29: DeprecationWarning: numpy.core.umath_tests is an internal NumPy module and should not be imported. It will be removed in a future NumPy release.\n",
      "  from numpy.core.umath_tests import inner1d\n"
     ]
    }
   ],
   "source": [
    "import pandas as pd\n",
    "import numpy as np\n",
    "from sklearn.ensemble import RandomForestClassifier\n",
    "import os\n",
    "import boto3 "
   ]
  },
  {
   "cell_type": "markdown",
   "metadata": {},
   "source": [
    "### Import Data"
   ]
  },
  {
   "cell_type": "code",
   "execution_count": null,
   "metadata": {
    "ExecuteTime": {
     "end_time": "2019-02-27T05:25:58.497205Z",
     "start_time": "2019-02-27T05:25:54.778340Z"
    }
   },
   "outputs": [],
   "source": [
    "bucket_name = 'advanced-ml-project' # Add your bucket name\n",
    "file_name = 'train_dataset2.csv'\n",
    "s3 = boto3.client('s3')\n",
    "obj = s3.get_object(Bucket=bucket_name, Key=file_name) # S3 uses key-value structure where key is your file name\n",
    "df = pd.read_csv(obj['Body'])"
   ]
  },
  {
   "cell_type": "code",
   "execution_count": 32,
   "metadata": {
    "ExecuteTime": {
     "end_time": "2019-02-20T23:00:46.620954Z",
     "start_time": "2019-02-20T23:00:42.443609Z"
    },
    "collapsed": true
   },
   "outputs": [],
   "source": [
    "bucket_name = 'advanced-ml-project' # Add your bucket name\n",
    "file_name = 'test_feature2.csv'\n",
    "s3 = boto3.client('s3')\n",
    "obj = s3.get_object(Bucket=bucket_name, Key=file_name) # S3 uses key-value structure where key is your file name\n",
    "test = pd.read_csv(obj['Body'])"
   ]
  },
  {
   "cell_type": "code",
   "execution_count": 29,
   "metadata": {
    "ExecuteTime": {
     "end_time": "2019-02-27T05:57:08.081626Z",
     "start_time": "2019-02-27T05:57:05.096166Z"
    }
   },
   "outputs": [],
   "source": [
    "df = pd.read_csv('../train_dataset2.csv')"
   ]
  },
  {
   "cell_type": "code",
   "execution_count": 30,
   "metadata": {
    "ExecuteTime": {
     "end_time": "2019-02-27T05:57:09.070809Z",
     "start_time": "2019-02-27T05:57:09.066396Z"
    }
   },
   "outputs": [
    {
     "data": {
      "text/plain": [
       "619706"
      ]
     },
     "execution_count": 30,
     "metadata": {},
     "output_type": "execute_result"
    }
   ],
   "source": [
    "len(df)"
   ]
  },
  {
   "cell_type": "code",
   "execution_count": 60,
   "metadata": {
    "ExecuteTime": {
     "end_time": "2019-02-27T06:01:00.820186Z",
     "start_time": "2019-02-27T06:00:59.181656Z"
    }
   },
   "outputs": [],
   "source": [
    "test = pd.read_csv('../test_feature2.csv')"
   ]
  },
  {
   "cell_type": "code",
   "execution_count": 61,
   "metadata": {
    "ExecuteTime": {
     "end_time": "2019-02-27T06:01:01.339959Z",
     "start_time": "2019-02-27T06:01:01.314576Z"
    }
   },
   "outputs": [
    {
     "data": {
      "text/html": [
       "<div>\n",
       "<style scoped>\n",
       "    .dataframe tbody tr th:only-of-type {\n",
       "        vertical-align: middle;\n",
       "    }\n",
       "\n",
       "    .dataframe tbody tr th {\n",
       "        vertical-align: top;\n",
       "    }\n",
       "\n",
       "    .dataframe thead th {\n",
       "        text-align: right;\n",
       "    }\n",
       "</style>\n",
       "<table border=\"1\" class=\"dataframe\">\n",
       "  <thead>\n",
       "    <tr style=\"text-align: right;\">\n",
       "      <th></th>\n",
       "      <th>user_id_hash</th>\n",
       "      <th>most_freq_dow</th>\n",
       "      <th>most_freq_hour</th>\n",
       "      <th>median_create_session_time</th>\n",
       "      <th>session_count</th>\n",
       "      <th>session_durations</th>\n",
       "      <th>mean_session_durations</th>\n",
       "      <th>mean_session_interval</th>\n",
       "      <th>most_freq_country</th>\n",
       "      <th>most_freq_region</th>\n",
       "      <th>...</th>\n",
       "      <th>purchase_per_day</th>\n",
       "      <th>user_entropy</th>\n",
       "      <th>last_session_time</th>\n",
       "      <th>last_purchase_time</th>\n",
       "      <th>country_mean_purchase_perc</th>\n",
       "      <th>os_mean_purchase_perc</th>\n",
       "      <th>cost_per_purchase</th>\n",
       "      <th>user_purchase_time_entropy</th>\n",
       "      <th>user_purchase_binary_7_days</th>\n",
       "      <th>user_purchase_binary_14_days</th>\n",
       "    </tr>\n",
       "  </thead>\n",
       "  <tbody>\n",
       "    <tr>\n",
       "      <th>0</th>\n",
       "      <td>9943447915df3a45fd6720a026af905b6da6b56a37701b...</td>\n",
       "      <td>6</td>\n",
       "      <td>7</td>\n",
       "      <td>36.0</td>\n",
       "      <td>46</td>\n",
       "      <td>938183565</td>\n",
       "      <td>2.039529e+07</td>\n",
       "      <td>0.782609</td>\n",
       "      <td>162</td>\n",
       "      <td>0</td>\n",
       "      <td>...</td>\n",
       "      <td>0.018519</td>\n",
       "      <td>3.828641</td>\n",
       "      <td>1</td>\n",
       "      <td>19</td>\n",
       "      <td>0.005269</td>\n",
       "      <td>0.028374</td>\n",
       "      <td>2.2465</td>\n",
       "      <td>0.0</td>\n",
       "      <td>0.0</td>\n",
       "      <td>0.0</td>\n",
       "    </tr>\n",
       "    <tr>\n",
       "      <th>1</th>\n",
       "      <td>43f75f8042d3c80c45e222bdd09267f4584684c54d6fae...</td>\n",
       "      <td>5</td>\n",
       "      <td>23</td>\n",
       "      <td>0.0</td>\n",
       "      <td>3</td>\n",
       "      <td>6074816</td>\n",
       "      <td>2.024939e+06</td>\n",
       "      <td>0.000000</td>\n",
       "      <td>69</td>\n",
       "      <td>281</td>\n",
       "      <td>...</td>\n",
       "      <td>0.000000</td>\n",
       "      <td>1.098612</td>\n",
       "      <td>20</td>\n",
       "      <td>100</td>\n",
       "      <td>0.060754</td>\n",
       "      <td>0.078831</td>\n",
       "      <td>1.0000</td>\n",
       "      <td>0.0</td>\n",
       "      <td>0.0</td>\n",
       "      <td>0.0</td>\n",
       "    </tr>\n",
       "    <tr>\n",
       "      <th>2</th>\n",
       "      <td>999524249720812f2d8c0390293efd58e1ac84d587a01c...</td>\n",
       "      <td>2</td>\n",
       "      <td>22</td>\n",
       "      <td>0.0</td>\n",
       "      <td>1</td>\n",
       "      <td>0</td>\n",
       "      <td>0.000000e+00</td>\n",
       "      <td>0.000000</td>\n",
       "      <td>210</td>\n",
       "      <td>299</td>\n",
       "      <td>...</td>\n",
       "      <td>0.000000</td>\n",
       "      <td>0.000000</td>\n",
       "      <td>45</td>\n",
       "      <td>100</td>\n",
       "      <td>0.068370</td>\n",
       "      <td>0.078831</td>\n",
       "      <td>1.0000</td>\n",
       "      <td>0.0</td>\n",
       "      <td>0.0</td>\n",
       "      <td>0.0</td>\n",
       "    </tr>\n",
       "    <tr>\n",
       "      <th>3</th>\n",
       "      <td>4e6bc35cf7fd79a5312047651e7865915f4a6bec193cf2...</td>\n",
       "      <td>3</td>\n",
       "      <td>15</td>\n",
       "      <td>2.0</td>\n",
       "      <td>1</td>\n",
       "      <td>596967</td>\n",
       "      <td>5.969670e+05</td>\n",
       "      <td>2.000000</td>\n",
       "      <td>94</td>\n",
       "      <td>162</td>\n",
       "      <td>...</td>\n",
       "      <td>0.000000</td>\n",
       "      <td>0.693147</td>\n",
       "      <td>9</td>\n",
       "      <td>100</td>\n",
       "      <td>0.004529</td>\n",
       "      <td>0.028374</td>\n",
       "      <td>1.0000</td>\n",
       "      <td>0.0</td>\n",
       "      <td>0.0</td>\n",
       "      <td>0.0</td>\n",
       "    </tr>\n",
       "    <tr>\n",
       "      <th>4</th>\n",
       "      <td>dc009148ee26d658e0240c7b7f6a258790a457737f96e8...</td>\n",
       "      <td>2</td>\n",
       "      <td>2</td>\n",
       "      <td>0.5</td>\n",
       "      <td>1</td>\n",
       "      <td>97482</td>\n",
       "      <td>9.748200e+04</td>\n",
       "      <td>0.500000</td>\n",
       "      <td>11</td>\n",
       "      <td>494</td>\n",
       "      <td>...</td>\n",
       "      <td>0.000000</td>\n",
       "      <td>0.693147</td>\n",
       "      <td>38</td>\n",
       "      <td>100</td>\n",
       "      <td>0.067344</td>\n",
       "      <td>0.028374</td>\n",
       "      <td>1.0000</td>\n",
       "      <td>0.0</td>\n",
       "      <td>0.0</td>\n",
       "      <td>0.0</td>\n",
       "    </tr>\n",
       "  </tbody>\n",
       "</table>\n",
       "<p>5 rows × 30 columns</p>\n",
       "</div>"
      ],
      "text/plain": [
       "                                        user_id_hash  most_freq_dow  \\\n",
       "0  9943447915df3a45fd6720a026af905b6da6b56a37701b...              6   \n",
       "1  43f75f8042d3c80c45e222bdd09267f4584684c54d6fae...              5   \n",
       "2  999524249720812f2d8c0390293efd58e1ac84d587a01c...              2   \n",
       "3  4e6bc35cf7fd79a5312047651e7865915f4a6bec193cf2...              3   \n",
       "4  dc009148ee26d658e0240c7b7f6a258790a457737f96e8...              2   \n",
       "\n",
       "   most_freq_hour  median_create_session_time  session_count  \\\n",
       "0               7                        36.0             46   \n",
       "1              23                         0.0              3   \n",
       "2              22                         0.0              1   \n",
       "3              15                         2.0              1   \n",
       "4               2                         0.5              1   \n",
       "\n",
       "   session_durations  mean_session_durations  mean_session_interval  \\\n",
       "0          938183565            2.039529e+07               0.782609   \n",
       "1            6074816            2.024939e+06               0.000000   \n",
       "2                  0            0.000000e+00               0.000000   \n",
       "3             596967            5.969670e+05               2.000000   \n",
       "4              97482            9.748200e+04               0.500000   \n",
       "\n",
       "   most_freq_country  most_freq_region              ...               \\\n",
       "0                162                 0              ...                \n",
       "1                 69               281              ...                \n",
       "2                210               299              ...                \n",
       "3                 94               162              ...                \n",
       "4                 11               494              ...                \n",
       "\n",
       "   purchase_per_day  user_entropy  last_session_time  last_purchase_time  \\\n",
       "0          0.018519      3.828641                  1                  19   \n",
       "1          0.000000      1.098612                 20                 100   \n",
       "2          0.000000      0.000000                 45                 100   \n",
       "3          0.000000      0.693147                  9                 100   \n",
       "4          0.000000      0.693147                 38                 100   \n",
       "\n",
       "   country_mean_purchase_perc  os_mean_purchase_perc  cost_per_purchase  \\\n",
       "0                    0.005269               0.028374             2.2465   \n",
       "1                    0.060754               0.078831             1.0000   \n",
       "2                    0.068370               0.078831             1.0000   \n",
       "3                    0.004529               0.028374             1.0000   \n",
       "4                    0.067344               0.028374             1.0000   \n",
       "\n",
       "   user_purchase_time_entropy  user_purchase_binary_7_days  \\\n",
       "0                         0.0                          0.0   \n",
       "1                         0.0                          0.0   \n",
       "2                         0.0                          0.0   \n",
       "3                         0.0                          0.0   \n",
       "4                         0.0                          0.0   \n",
       "\n",
       "   user_purchase_binary_14_days  \n",
       "0                           0.0  \n",
       "1                           0.0  \n",
       "2                           0.0  \n",
       "3                           0.0  \n",
       "4                           0.0  \n",
       "\n",
       "[5 rows x 30 columns]"
      ]
     },
     "execution_count": 61,
     "metadata": {},
     "output_type": "execute_result"
    }
   ],
   "source": [
    "df.head()"
   ]
  },
  {
   "cell_type": "code",
   "execution_count": 62,
   "metadata": {
    "ExecuteTime": {
     "end_time": "2019-02-27T06:01:01.521668Z",
     "start_time": "2019-02-27T06:01:01.504222Z"
    }
   },
   "outputs": [
    {
     "data": {
      "text/plain": [
       "0.0    613607\n",
       "1.0      6099\n",
       "Name: user_purchase_binary_14_days, dtype: int64"
      ]
     },
     "execution_count": 62,
     "metadata": {},
     "output_type": "execute_result"
    }
   ],
   "source": [
    "df.user_purchase_binary_14_days.value_counts()"
   ]
  },
  {
   "cell_type": "code",
   "execution_count": 63,
   "metadata": {
    "ExecuteTime": {
     "end_time": "2019-02-27T06:01:01.676435Z",
     "start_time": "2019-02-27T06:01:01.664210Z"
    }
   },
   "outputs": [
    {
     "data": {
      "text/plain": [
       "0.0    614996\n",
       "1.0      4710\n",
       "Name: user_purchase_binary_7_days, dtype: int64"
      ]
     },
     "execution_count": 63,
     "metadata": {},
     "output_type": "execute_result"
    }
   ],
   "source": [
    "df.user_purchase_binary_7_days.value_counts()"
   ]
  },
  {
   "cell_type": "code",
   "execution_count": 64,
   "metadata": {
    "ExecuteTime": {
     "end_time": "2019-02-27T06:01:01.850902Z",
     "start_time": "2019-02-27T06:01:01.826675Z"
    },
    "scrolled": true
   },
   "outputs": [
    {
     "data": {
      "text/html": [
       "<div>\n",
       "<style scoped>\n",
       "    .dataframe tbody tr th:only-of-type {\n",
       "        vertical-align: middle;\n",
       "    }\n",
       "\n",
       "    .dataframe tbody tr th {\n",
       "        vertical-align: top;\n",
       "    }\n",
       "\n",
       "    .dataframe thead th {\n",
       "        text-align: right;\n",
       "    }\n",
       "</style>\n",
       "<table border=\"1\" class=\"dataframe\">\n",
       "  <thead>\n",
       "    <tr style=\"text-align: right;\">\n",
       "      <th></th>\n",
       "      <th>user_id_hash</th>\n",
       "      <th>most_freq_dow</th>\n",
       "      <th>most_freq_hour</th>\n",
       "      <th>median_create_session_time</th>\n",
       "      <th>session_count</th>\n",
       "      <th>session_durations</th>\n",
       "      <th>mean_session_durations</th>\n",
       "      <th>mean_session_interval</th>\n",
       "      <th>most_freq_country</th>\n",
       "      <th>most_freq_region</th>\n",
       "      <th>...</th>\n",
       "      <th>purchase_per_active_day</th>\n",
       "      <th>session_per_day</th>\n",
       "      <th>purchase_per_day</th>\n",
       "      <th>user_entropy</th>\n",
       "      <th>last_session_time</th>\n",
       "      <th>last_purchase_time</th>\n",
       "      <th>country_mean_purchase_perc</th>\n",
       "      <th>os_mean_purchase_perc</th>\n",
       "      <th>cost_per_purchase</th>\n",
       "      <th>user_purchase_time_entropy</th>\n",
       "    </tr>\n",
       "  </thead>\n",
       "  <tbody>\n",
       "    <tr>\n",
       "      <th>0</th>\n",
       "      <td>e469dfaed039ead9110165d9bc457acb11609ca34057dc...</td>\n",
       "      <td>5.0</td>\n",
       "      <td>10.0</td>\n",
       "      <td>0.5</td>\n",
       "      <td>2.0</td>\n",
       "      <td>713088.0</td>\n",
       "      <td>356544.0</td>\n",
       "      <td>0.250000</td>\n",
       "      <td>206</td>\n",
       "      <td>193</td>\n",
       "      <td>...</td>\n",
       "      <td>0.0</td>\n",
       "      <td>2.000000</td>\n",
       "      <td>0.0</td>\n",
       "      <td>0.693147</td>\n",
       "      <td>49.0</td>\n",
       "      <td>100.0</td>\n",
       "      <td>0.076365</td>\n",
       "      <td>0.087887</td>\n",
       "      <td>1.0</td>\n",
       "      <td>0.0</td>\n",
       "    </tr>\n",
       "    <tr>\n",
       "      <th>1</th>\n",
       "      <td>afcc639a324b6c598ef83d360450afa011cb2dd1358bf9...</td>\n",
       "      <td>3.0</td>\n",
       "      <td>19.0</td>\n",
       "      <td>1.0</td>\n",
       "      <td>1.0</td>\n",
       "      <td>1717320.0</td>\n",
       "      <td>1717320.0</td>\n",
       "      <td>1.000000</td>\n",
       "      <td>139</td>\n",
       "      <td>300</td>\n",
       "      <td>...</td>\n",
       "      <td>0.0</td>\n",
       "      <td>0.500000</td>\n",
       "      <td>0.0</td>\n",
       "      <td>0.693147</td>\n",
       "      <td>23.0</td>\n",
       "      <td>100.0</td>\n",
       "      <td>0.016374</td>\n",
       "      <td>0.033249</td>\n",
       "      <td>1.0</td>\n",
       "      <td>0.0</td>\n",
       "    </tr>\n",
       "    <tr>\n",
       "      <th>2</th>\n",
       "      <td>fd5a7cf211d08e3e00f7be6a9df6e6ea3d2e5c22a5d9c3...</td>\n",
       "      <td>6.0</td>\n",
       "      <td>18.0</td>\n",
       "      <td>8.0</td>\n",
       "      <td>3.0</td>\n",
       "      <td>3041967.0</td>\n",
       "      <td>1013989.0</td>\n",
       "      <td>2.666667</td>\n",
       "      <td>206</td>\n",
       "      <td>625</td>\n",
       "      <td>...</td>\n",
       "      <td>0.0</td>\n",
       "      <td>0.300000</td>\n",
       "      <td>0.0</td>\n",
       "      <td>1.609438</td>\n",
       "      <td>39.0</td>\n",
       "      <td>100.0</td>\n",
       "      <td>0.076365</td>\n",
       "      <td>0.033249</td>\n",
       "      <td>1.0</td>\n",
       "      <td>0.0</td>\n",
       "    </tr>\n",
       "    <tr>\n",
       "      <th>3</th>\n",
       "      <td>00bfff98b9d0329f014c2eeac7ce47cd18b2bc6e10d608...</td>\n",
       "      <td>5.0</td>\n",
       "      <td>12.0</td>\n",
       "      <td>2.0</td>\n",
       "      <td>10.0</td>\n",
       "      <td>92005829.0</td>\n",
       "      <td>9200582.9</td>\n",
       "      <td>0.200000</td>\n",
       "      <td>219</td>\n",
       "      <td>291</td>\n",
       "      <td>...</td>\n",
       "      <td>0.0</td>\n",
       "      <td>0.526316</td>\n",
       "      <td>0.0</td>\n",
       "      <td>2.302585</td>\n",
       "      <td>32.0</td>\n",
       "      <td>100.0</td>\n",
       "      <td>0.003304</td>\n",
       "      <td>0.033249</td>\n",
       "      <td>1.0</td>\n",
       "      <td>0.0</td>\n",
       "    </tr>\n",
       "    <tr>\n",
       "      <th>4</th>\n",
       "      <td>0d298f3638c43e915c119d4935e1ce8d168f81b5e3e8c1...</td>\n",
       "      <td>6.0</td>\n",
       "      <td>8.0</td>\n",
       "      <td>1.0</td>\n",
       "      <td>1.0</td>\n",
       "      <td>10441.0</td>\n",
       "      <td>10441.0</td>\n",
       "      <td>1.000000</td>\n",
       "      <td>170</td>\n",
       "      <td>113</td>\n",
       "      <td>...</td>\n",
       "      <td>0.0</td>\n",
       "      <td>0.500000</td>\n",
       "      <td>0.0</td>\n",
       "      <td>0.693147</td>\n",
       "      <td>62.0</td>\n",
       "      <td>100.0</td>\n",
       "      <td>0.004016</td>\n",
       "      <td>0.033249</td>\n",
       "      <td>1.0</td>\n",
       "      <td>0.0</td>\n",
       "    </tr>\n",
       "  </tbody>\n",
       "</table>\n",
       "<p>5 rows × 28 columns</p>\n",
       "</div>"
      ],
      "text/plain": [
       "                                        user_id_hash  most_freq_dow  \\\n",
       "0  e469dfaed039ead9110165d9bc457acb11609ca34057dc...            5.0   \n",
       "1  afcc639a324b6c598ef83d360450afa011cb2dd1358bf9...            3.0   \n",
       "2  fd5a7cf211d08e3e00f7be6a9df6e6ea3d2e5c22a5d9c3...            6.0   \n",
       "3  00bfff98b9d0329f014c2eeac7ce47cd18b2bc6e10d608...            5.0   \n",
       "4  0d298f3638c43e915c119d4935e1ce8d168f81b5e3e8c1...            6.0   \n",
       "\n",
       "   most_freq_hour  median_create_session_time  session_count  \\\n",
       "0            10.0                         0.5            2.0   \n",
       "1            19.0                         1.0            1.0   \n",
       "2            18.0                         8.0            3.0   \n",
       "3            12.0                         2.0           10.0   \n",
       "4             8.0                         1.0            1.0   \n",
       "\n",
       "   session_durations  mean_session_durations  mean_session_interval  \\\n",
       "0           713088.0                356544.0               0.250000   \n",
       "1          1717320.0               1717320.0               1.000000   \n",
       "2          3041967.0               1013989.0               2.666667   \n",
       "3         92005829.0               9200582.9               0.200000   \n",
       "4            10441.0                 10441.0               1.000000   \n",
       "\n",
       "   most_freq_country  most_freq_region             ...              \\\n",
       "0                206               193             ...               \n",
       "1                139               300             ...               \n",
       "2                206               625             ...               \n",
       "3                219               291             ...               \n",
       "4                170               113             ...               \n",
       "\n",
       "   purchase_per_active_day  session_per_day  purchase_per_day  user_entropy  \\\n",
       "0                      0.0         2.000000               0.0      0.693147   \n",
       "1                      0.0         0.500000               0.0      0.693147   \n",
       "2                      0.0         0.300000               0.0      1.609438   \n",
       "3                      0.0         0.526316               0.0      2.302585   \n",
       "4                      0.0         0.500000               0.0      0.693147   \n",
       "\n",
       "   last_session_time  last_purchase_time  country_mean_purchase_perc  \\\n",
       "0               49.0               100.0                    0.076365   \n",
       "1               23.0               100.0                    0.016374   \n",
       "2               39.0               100.0                    0.076365   \n",
       "3               32.0               100.0                    0.003304   \n",
       "4               62.0               100.0                    0.004016   \n",
       "\n",
       "   os_mean_purchase_perc  cost_per_purchase  user_purchase_time_entropy  \n",
       "0               0.087887                1.0                         0.0  \n",
       "1               0.033249                1.0                         0.0  \n",
       "2               0.033249                1.0                         0.0  \n",
       "3               0.033249                1.0                         0.0  \n",
       "4               0.033249                1.0                         0.0  \n",
       "\n",
       "[5 rows x 28 columns]"
      ]
     },
     "execution_count": 64,
     "metadata": {},
     "output_type": "execute_result"
    }
   ],
   "source": [
    "test.head()"
   ]
  },
  {
   "cell_type": "code",
   "execution_count": 65,
   "metadata": {
    "ExecuteTime": {
     "end_time": "2019-02-27T06:01:02.066246Z",
     "start_time": "2019-02-27T06:01:01.978169Z"
    }
   },
   "outputs": [],
   "source": [
    "x= df.iloc[:,1:-2]"
   ]
  },
  {
   "cell_type": "code",
   "execution_count": 66,
   "metadata": {
    "ExecuteTime": {
     "end_time": "2019-02-27T06:01:02.155895Z",
     "start_time": "2019-02-27T06:01:02.133740Z"
    }
   },
   "outputs": [
    {
     "data": {
      "text/html": [
       "<div>\n",
       "<style scoped>\n",
       "    .dataframe tbody tr th:only-of-type {\n",
       "        vertical-align: middle;\n",
       "    }\n",
       "\n",
       "    .dataframe tbody tr th {\n",
       "        vertical-align: top;\n",
       "    }\n",
       "\n",
       "    .dataframe thead th {\n",
       "        text-align: right;\n",
       "    }\n",
       "</style>\n",
       "<table border=\"1\" class=\"dataframe\">\n",
       "  <thead>\n",
       "    <tr style=\"text-align: right;\">\n",
       "      <th></th>\n",
       "      <th>most_freq_dow</th>\n",
       "      <th>most_freq_hour</th>\n",
       "      <th>median_create_session_time</th>\n",
       "      <th>session_count</th>\n",
       "      <th>session_durations</th>\n",
       "      <th>mean_session_durations</th>\n",
       "      <th>mean_session_interval</th>\n",
       "      <th>most_freq_country</th>\n",
       "      <th>most_freq_region</th>\n",
       "      <th>most_freq_city</th>\n",
       "      <th>...</th>\n",
       "      <th>purchase_per_active_day</th>\n",
       "      <th>session_per_day</th>\n",
       "      <th>purchase_per_day</th>\n",
       "      <th>user_entropy</th>\n",
       "      <th>last_session_time</th>\n",
       "      <th>last_purchase_time</th>\n",
       "      <th>country_mean_purchase_perc</th>\n",
       "      <th>os_mean_purchase_perc</th>\n",
       "      <th>cost_per_purchase</th>\n",
       "      <th>user_purchase_time_entropy</th>\n",
       "    </tr>\n",
       "  </thead>\n",
       "  <tbody>\n",
       "    <tr>\n",
       "      <th>0</th>\n",
       "      <td>6</td>\n",
       "      <td>7</td>\n",
       "      <td>36.0</td>\n",
       "      <td>46</td>\n",
       "      <td>938183565</td>\n",
       "      <td>2.039529e+07</td>\n",
       "      <td>0.782609</td>\n",
       "      <td>162</td>\n",
       "      <td>0</td>\n",
       "      <td>13840</td>\n",
       "      <td>...</td>\n",
       "      <td>0.055556</td>\n",
       "      <td>0.851852</td>\n",
       "      <td>0.018519</td>\n",
       "      <td>3.828641</td>\n",
       "      <td>1</td>\n",
       "      <td>19</td>\n",
       "      <td>0.005269</td>\n",
       "      <td>0.028374</td>\n",
       "      <td>2.2465</td>\n",
       "      <td>0.0</td>\n",
       "    </tr>\n",
       "    <tr>\n",
       "      <th>1</th>\n",
       "      <td>5</td>\n",
       "      <td>23</td>\n",
       "      <td>0.0</td>\n",
       "      <td>3</td>\n",
       "      <td>6074816</td>\n",
       "      <td>2.024939e+06</td>\n",
       "      <td>0.000000</td>\n",
       "      <td>69</td>\n",
       "      <td>281</td>\n",
       "      <td>22738</td>\n",
       "      <td>...</td>\n",
       "      <td>0.000000</td>\n",
       "      <td>3.000000</td>\n",
       "      <td>0.000000</td>\n",
       "      <td>1.098612</td>\n",
       "      <td>20</td>\n",
       "      <td>100</td>\n",
       "      <td>0.060754</td>\n",
       "      <td>0.078831</td>\n",
       "      <td>1.0000</td>\n",
       "      <td>0.0</td>\n",
       "    </tr>\n",
       "    <tr>\n",
       "      <th>2</th>\n",
       "      <td>2</td>\n",
       "      <td>22</td>\n",
       "      <td>0.0</td>\n",
       "      <td>1</td>\n",
       "      <td>0</td>\n",
       "      <td>0.000000e+00</td>\n",
       "      <td>0.000000</td>\n",
       "      <td>210</td>\n",
       "      <td>299</td>\n",
       "      <td>3615</td>\n",
       "      <td>...</td>\n",
       "      <td>0.000000</td>\n",
       "      <td>0.000000</td>\n",
       "      <td>0.000000</td>\n",
       "      <td>0.000000</td>\n",
       "      <td>45</td>\n",
       "      <td>100</td>\n",
       "      <td>0.068370</td>\n",
       "      <td>0.078831</td>\n",
       "      <td>1.0000</td>\n",
       "      <td>0.0</td>\n",
       "    </tr>\n",
       "    <tr>\n",
       "      <th>3</th>\n",
       "      <td>3</td>\n",
       "      <td>15</td>\n",
       "      <td>2.0</td>\n",
       "      <td>1</td>\n",
       "      <td>596967</td>\n",
       "      <td>5.969670e+05</td>\n",
       "      <td>2.000000</td>\n",
       "      <td>94</td>\n",
       "      <td>162</td>\n",
       "      <td>8967</td>\n",
       "      <td>...</td>\n",
       "      <td>0.000000</td>\n",
       "      <td>0.250000</td>\n",
       "      <td>0.000000</td>\n",
       "      <td>0.693147</td>\n",
       "      <td>9</td>\n",
       "      <td>100</td>\n",
       "      <td>0.004529</td>\n",
       "      <td>0.028374</td>\n",
       "      <td>1.0000</td>\n",
       "      <td>0.0</td>\n",
       "    </tr>\n",
       "    <tr>\n",
       "      <th>4</th>\n",
       "      <td>2</td>\n",
       "      <td>2</td>\n",
       "      <td>0.5</td>\n",
       "      <td>1</td>\n",
       "      <td>97482</td>\n",
       "      <td>9.748200e+04</td>\n",
       "      <td>0.500000</td>\n",
       "      <td>11</td>\n",
       "      <td>494</td>\n",
       "      <td>22898</td>\n",
       "      <td>...</td>\n",
       "      <td>0.000000</td>\n",
       "      <td>1.000000</td>\n",
       "      <td>0.000000</td>\n",
       "      <td>0.693147</td>\n",
       "      <td>38</td>\n",
       "      <td>100</td>\n",
       "      <td>0.067344</td>\n",
       "      <td>0.028374</td>\n",
       "      <td>1.0000</td>\n",
       "      <td>0.0</td>\n",
       "    </tr>\n",
       "  </tbody>\n",
       "</table>\n",
       "<p>5 rows × 27 columns</p>\n",
       "</div>"
      ],
      "text/plain": [
       "   most_freq_dow  most_freq_hour  median_create_session_time  session_count  \\\n",
       "0              6               7                        36.0             46   \n",
       "1              5              23                         0.0              3   \n",
       "2              2              22                         0.0              1   \n",
       "3              3              15                         2.0              1   \n",
       "4              2               2                         0.5              1   \n",
       "\n",
       "   session_durations  mean_session_durations  mean_session_interval  \\\n",
       "0          938183565            2.039529e+07               0.782609   \n",
       "1            6074816            2.024939e+06               0.000000   \n",
       "2                  0            0.000000e+00               0.000000   \n",
       "3             596967            5.969670e+05               2.000000   \n",
       "4              97482            9.748200e+04               0.500000   \n",
       "\n",
       "   most_freq_country  most_freq_region  most_freq_city  \\\n",
       "0                162                 0           13840   \n",
       "1                 69               281           22738   \n",
       "2                210               299            3615   \n",
       "3                 94               162            8967   \n",
       "4                 11               494           22898   \n",
       "\n",
       "              ...              purchase_per_active_day  session_per_day  \\\n",
       "0             ...                             0.055556         0.851852   \n",
       "1             ...                             0.000000         3.000000   \n",
       "2             ...                             0.000000         0.000000   \n",
       "3             ...                             0.000000         0.250000   \n",
       "4             ...                             0.000000         1.000000   \n",
       "\n",
       "   purchase_per_day  user_entropy  last_session_time  last_purchase_time  \\\n",
       "0          0.018519      3.828641                  1                  19   \n",
       "1          0.000000      1.098612                 20                 100   \n",
       "2          0.000000      0.000000                 45                 100   \n",
       "3          0.000000      0.693147                  9                 100   \n",
       "4          0.000000      0.693147                 38                 100   \n",
       "\n",
       "   country_mean_purchase_perc  os_mean_purchase_perc  cost_per_purchase  \\\n",
       "0                    0.005269               0.028374             2.2465   \n",
       "1                    0.060754               0.078831             1.0000   \n",
       "2                    0.068370               0.078831             1.0000   \n",
       "3                    0.004529               0.028374             1.0000   \n",
       "4                    0.067344               0.028374             1.0000   \n",
       "\n",
       "   user_purchase_time_entropy  \n",
       "0                         0.0  \n",
       "1                         0.0  \n",
       "2                         0.0  \n",
       "3                         0.0  \n",
       "4                         0.0  \n",
       "\n",
       "[5 rows x 27 columns]"
      ]
     },
     "execution_count": 66,
     "metadata": {},
     "output_type": "execute_result"
    }
   ],
   "source": [
    "x.head()"
   ]
  },
  {
   "cell_type": "code",
   "execution_count": 67,
   "metadata": {
    "ExecuteTime": {
     "end_time": "2019-02-27T06:01:02.289268Z",
     "start_time": "2019-02-27T06:01:02.277997Z"
    }
   },
   "outputs": [],
   "source": [
    "y = df.iloc[:,-2:]"
   ]
  },
  {
   "cell_type": "code",
   "execution_count": 68,
   "metadata": {
    "ExecuteTime": {
     "end_time": "2019-02-27T06:01:02.439690Z",
     "start_time": "2019-02-27T06:01:02.429735Z"
    }
   },
   "outputs": [
    {
     "data": {
      "text/html": [
       "<div>\n",
       "<style scoped>\n",
       "    .dataframe tbody tr th:only-of-type {\n",
       "        vertical-align: middle;\n",
       "    }\n",
       "\n",
       "    .dataframe tbody tr th {\n",
       "        vertical-align: top;\n",
       "    }\n",
       "\n",
       "    .dataframe thead th {\n",
       "        text-align: right;\n",
       "    }\n",
       "</style>\n",
       "<table border=\"1\" class=\"dataframe\">\n",
       "  <thead>\n",
       "    <tr style=\"text-align: right;\">\n",
       "      <th></th>\n",
       "      <th>user_purchase_binary_7_days</th>\n",
       "      <th>user_purchase_binary_14_days</th>\n",
       "    </tr>\n",
       "  </thead>\n",
       "  <tbody>\n",
       "    <tr>\n",
       "      <th>0</th>\n",
       "      <td>0.0</td>\n",
       "      <td>0.0</td>\n",
       "    </tr>\n",
       "    <tr>\n",
       "      <th>1</th>\n",
       "      <td>0.0</td>\n",
       "      <td>0.0</td>\n",
       "    </tr>\n",
       "    <tr>\n",
       "      <th>2</th>\n",
       "      <td>0.0</td>\n",
       "      <td>0.0</td>\n",
       "    </tr>\n",
       "    <tr>\n",
       "      <th>3</th>\n",
       "      <td>0.0</td>\n",
       "      <td>0.0</td>\n",
       "    </tr>\n",
       "    <tr>\n",
       "      <th>4</th>\n",
       "      <td>0.0</td>\n",
       "      <td>0.0</td>\n",
       "    </tr>\n",
       "  </tbody>\n",
       "</table>\n",
       "</div>"
      ],
      "text/plain": [
       "   user_purchase_binary_7_days  user_purchase_binary_14_days\n",
       "0                          0.0                           0.0\n",
       "1                          0.0                           0.0\n",
       "2                          0.0                           0.0\n",
       "3                          0.0                           0.0\n",
       "4                          0.0                           0.0"
      ]
     },
     "execution_count": 68,
     "metadata": {},
     "output_type": "execute_result"
    }
   ],
   "source": [
    "y.head()"
   ]
  },
  {
   "cell_type": "code",
   "execution_count": 69,
   "metadata": {
    "ExecuteTime": {
     "end_time": "2019-02-27T06:01:02.595028Z",
     "start_time": "2019-02-27T06:01:02.581528Z"
    }
   },
   "outputs": [
    {
     "data": {
      "text/plain": [
       "0.0    614996\n",
       "1.0      4710\n",
       "Name: user_purchase_binary_7_days, dtype: int64"
      ]
     },
     "execution_count": 69,
     "metadata": {},
     "output_type": "execute_result"
    }
   ],
   "source": [
    "y.user_purchase_binary_7_days.value_counts()"
   ]
  },
  {
   "cell_type": "code",
   "execution_count": 70,
   "metadata": {
    "ExecuteTime": {
     "end_time": "2019-02-27T06:01:02.732533Z",
     "start_time": "2019-02-27T06:01:02.728558Z"
    }
   },
   "outputs": [],
   "source": [
    "y_7_days = y.user_purchase_binary_7_days\n",
    "y_14_days = y.user_purchase_binary_14_days"
   ]
  },
  {
   "cell_type": "markdown",
   "metadata": {},
   "source": [
    "### Train Validation Split"
   ]
  },
  {
   "cell_type": "code",
   "execution_count": 71,
   "metadata": {
    "ExecuteTime": {
     "end_time": "2019-02-27T06:01:03.030880Z",
     "start_time": "2019-02-27T06:01:03.027677Z"
    }
   },
   "outputs": [],
   "source": [
    "from sklearn.model_selection import train_test_split"
   ]
  },
  {
   "cell_type": "code",
   "execution_count": 72,
   "metadata": {
    "ExecuteTime": {
     "end_time": "2019-02-27T06:01:03.469675Z",
     "start_time": "2019-02-27T06:01:03.185647Z"
    }
   },
   "outputs": [],
   "source": [
    "x_train, x_valid, y_train, y_valid = train_test_split(x, y, test_size=0.2, random_state=42)"
   ]
  },
  {
   "cell_type": "code",
   "execution_count": 73,
   "metadata": {
    "ExecuteTime": {
     "end_time": "2019-02-27T06:01:03.496047Z",
     "start_time": "2019-02-27T06:01:03.472166Z"
    }
   },
   "outputs": [
    {
     "data": {
      "text/html": [
       "<div>\n",
       "<style scoped>\n",
       "    .dataframe tbody tr th:only-of-type {\n",
       "        vertical-align: middle;\n",
       "    }\n",
       "\n",
       "    .dataframe tbody tr th {\n",
       "        vertical-align: top;\n",
       "    }\n",
       "\n",
       "    .dataframe thead th {\n",
       "        text-align: right;\n",
       "    }\n",
       "</style>\n",
       "<table border=\"1\" class=\"dataframe\">\n",
       "  <thead>\n",
       "    <tr style=\"text-align: right;\">\n",
       "      <th></th>\n",
       "      <th>most_freq_dow</th>\n",
       "      <th>most_freq_hour</th>\n",
       "      <th>median_create_session_time</th>\n",
       "      <th>session_count</th>\n",
       "      <th>session_durations</th>\n",
       "      <th>mean_session_durations</th>\n",
       "      <th>mean_session_interval</th>\n",
       "      <th>most_freq_country</th>\n",
       "      <th>most_freq_region</th>\n",
       "      <th>most_freq_city</th>\n",
       "      <th>...</th>\n",
       "      <th>purchase_per_active_day</th>\n",
       "      <th>session_per_day</th>\n",
       "      <th>purchase_per_day</th>\n",
       "      <th>user_entropy</th>\n",
       "      <th>last_session_time</th>\n",
       "      <th>last_purchase_time</th>\n",
       "      <th>country_mean_purchase_perc</th>\n",
       "      <th>os_mean_purchase_perc</th>\n",
       "      <th>cost_per_purchase</th>\n",
       "      <th>user_purchase_time_entropy</th>\n",
       "    </tr>\n",
       "  </thead>\n",
       "  <tbody>\n",
       "    <tr>\n",
       "      <th>22548</th>\n",
       "      <td>6</td>\n",
       "      <td>20</td>\n",
       "      <td>0.5</td>\n",
       "      <td>4</td>\n",
       "      <td>4444584</td>\n",
       "      <td>1.111146e+06</td>\n",
       "      <td>0.125000</td>\n",
       "      <td>210</td>\n",
       "      <td>432</td>\n",
       "      <td>2833</td>\n",
       "      <td>...</td>\n",
       "      <td>0.0</td>\n",
       "      <td>0.20</td>\n",
       "      <td>0.0</td>\n",
       "      <td>1.386294</td>\n",
       "      <td>35</td>\n",
       "      <td>100</td>\n",
       "      <td>0.068370</td>\n",
       "      <td>0.078831</td>\n",
       "      <td>1.0</td>\n",
       "      <td>0.0</td>\n",
       "    </tr>\n",
       "    <tr>\n",
       "      <th>380579</th>\n",
       "      <td>5</td>\n",
       "      <td>7</td>\n",
       "      <td>0.0</td>\n",
       "      <td>3</td>\n",
       "      <td>636136</td>\n",
       "      <td>2.120453e+05</td>\n",
       "      <td>0.000000</td>\n",
       "      <td>210</td>\n",
       "      <td>509</td>\n",
       "      <td>25241</td>\n",
       "      <td>...</td>\n",
       "      <td>0.0</td>\n",
       "      <td>0.00</td>\n",
       "      <td>0.0</td>\n",
       "      <td>1.098612</td>\n",
       "      <td>28</td>\n",
       "      <td>100</td>\n",
       "      <td>0.068370</td>\n",
       "      <td>0.028374</td>\n",
       "      <td>1.0</td>\n",
       "      <td>0.0</td>\n",
       "    </tr>\n",
       "    <tr>\n",
       "      <th>150378</th>\n",
       "      <td>3</td>\n",
       "      <td>15</td>\n",
       "      <td>1.0</td>\n",
       "      <td>6</td>\n",
       "      <td>19939709</td>\n",
       "      <td>3.323285e+06</td>\n",
       "      <td>0.166667</td>\n",
       "      <td>208</td>\n",
       "      <td>42</td>\n",
       "      <td>5998</td>\n",
       "      <td>...</td>\n",
       "      <td>0.0</td>\n",
       "      <td>3.00</td>\n",
       "      <td>0.0</td>\n",
       "      <td>1.945910</td>\n",
       "      <td>8</td>\n",
       "      <td>100</td>\n",
       "      <td>0.012514</td>\n",
       "      <td>0.078831</td>\n",
       "      <td>1.0</td>\n",
       "      <td>0.0</td>\n",
       "    </tr>\n",
       "    <tr>\n",
       "      <th>49093</th>\n",
       "      <td>2</td>\n",
       "      <td>2</td>\n",
       "      <td>1.0</td>\n",
       "      <td>1</td>\n",
       "      <td>74710</td>\n",
       "      <td>7.471000e+04</td>\n",
       "      <td>1.000000</td>\n",
       "      <td>210</td>\n",
       "      <td>439</td>\n",
       "      <td>17323</td>\n",
       "      <td>...</td>\n",
       "      <td>0.0</td>\n",
       "      <td>0.50</td>\n",
       "      <td>0.0</td>\n",
       "      <td>0.693147</td>\n",
       "      <td>15</td>\n",
       "      <td>100</td>\n",
       "      <td>0.068370</td>\n",
       "      <td>0.078831</td>\n",
       "      <td>1.0</td>\n",
       "      <td>0.0</td>\n",
       "    </tr>\n",
       "    <tr>\n",
       "      <th>503757</th>\n",
       "      <td>0</td>\n",
       "      <td>23</td>\n",
       "      <td>1.0</td>\n",
       "      <td>7</td>\n",
       "      <td>14560355</td>\n",
       "      <td>2.080051e+06</td>\n",
       "      <td>0.142857</td>\n",
       "      <td>67</td>\n",
       "      <td>302</td>\n",
       "      <td>19381</td>\n",
       "      <td>...</td>\n",
       "      <td>0.0</td>\n",
       "      <td>1.75</td>\n",
       "      <td>0.0</td>\n",
       "      <td>2.079442</td>\n",
       "      <td>16</td>\n",
       "      <td>100</td>\n",
       "      <td>0.029013</td>\n",
       "      <td>0.028374</td>\n",
       "      <td>1.0</td>\n",
       "      <td>0.0</td>\n",
       "    </tr>\n",
       "  </tbody>\n",
       "</table>\n",
       "<p>5 rows × 27 columns</p>\n",
       "</div>"
      ],
      "text/plain": [
       "        most_freq_dow  most_freq_hour  median_create_session_time  \\\n",
       "22548               6              20                         0.5   \n",
       "380579              5               7                         0.0   \n",
       "150378              3              15                         1.0   \n",
       "49093               2               2                         1.0   \n",
       "503757              0              23                         1.0   \n",
       "\n",
       "        session_count  session_durations  mean_session_durations  \\\n",
       "22548               4            4444584            1.111146e+06   \n",
       "380579              3             636136            2.120453e+05   \n",
       "150378              6           19939709            3.323285e+06   \n",
       "49093               1              74710            7.471000e+04   \n",
       "503757              7           14560355            2.080051e+06   \n",
       "\n",
       "        mean_session_interval  most_freq_country  most_freq_region  \\\n",
       "22548                0.125000                210               432   \n",
       "380579               0.000000                210               509   \n",
       "150378               0.166667                208                42   \n",
       "49093                1.000000                210               439   \n",
       "503757               0.142857                 67               302   \n",
       "\n",
       "        most_freq_city             ...              purchase_per_active_day  \\\n",
       "22548             2833             ...                                  0.0   \n",
       "380579           25241             ...                                  0.0   \n",
       "150378            5998             ...                                  0.0   \n",
       "49093            17323             ...                                  0.0   \n",
       "503757           19381             ...                                  0.0   \n",
       "\n",
       "        session_per_day  purchase_per_day  user_entropy  last_session_time  \\\n",
       "22548              0.20               0.0      1.386294                 35   \n",
       "380579             0.00               0.0      1.098612                 28   \n",
       "150378             3.00               0.0      1.945910                  8   \n",
       "49093              0.50               0.0      0.693147                 15   \n",
       "503757             1.75               0.0      2.079442                 16   \n",
       "\n",
       "        last_purchase_time  country_mean_purchase_perc  os_mean_purchase_perc  \\\n",
       "22548                  100                    0.068370               0.078831   \n",
       "380579                 100                    0.068370               0.028374   \n",
       "150378                 100                    0.012514               0.078831   \n",
       "49093                  100                    0.068370               0.078831   \n",
       "503757                 100                    0.029013               0.028374   \n",
       "\n",
       "        cost_per_purchase  user_purchase_time_entropy  \n",
       "22548                 1.0                         0.0  \n",
       "380579                1.0                         0.0  \n",
       "150378                1.0                         0.0  \n",
       "49093                 1.0                         0.0  \n",
       "503757                1.0                         0.0  \n",
       "\n",
       "[5 rows x 27 columns]"
      ]
     },
     "execution_count": 73,
     "metadata": {},
     "output_type": "execute_result"
    }
   ],
   "source": [
    "x_train.head()"
   ]
  },
  {
   "cell_type": "code",
   "execution_count": 74,
   "metadata": {
    "ExecuteTime": {
     "end_time": "2019-02-27T06:01:03.531524Z",
     "start_time": "2019-02-27T06:01:03.524052Z"
    }
   },
   "outputs": [
    {
     "data": {
      "text/html": [
       "<div>\n",
       "<style scoped>\n",
       "    .dataframe tbody tr th:only-of-type {\n",
       "        vertical-align: middle;\n",
       "    }\n",
       "\n",
       "    .dataframe tbody tr th {\n",
       "        vertical-align: top;\n",
       "    }\n",
       "\n",
       "    .dataframe thead th {\n",
       "        text-align: right;\n",
       "    }\n",
       "</style>\n",
       "<table border=\"1\" class=\"dataframe\">\n",
       "  <thead>\n",
       "    <tr style=\"text-align: right;\">\n",
       "      <th></th>\n",
       "      <th>user_purchase_binary_7_days</th>\n",
       "      <th>user_purchase_binary_14_days</th>\n",
       "    </tr>\n",
       "  </thead>\n",
       "  <tbody>\n",
       "    <tr>\n",
       "      <th>22548</th>\n",
       "      <td>0.0</td>\n",
       "      <td>0.0</td>\n",
       "    </tr>\n",
       "    <tr>\n",
       "      <th>380579</th>\n",
       "      <td>0.0</td>\n",
       "      <td>0.0</td>\n",
       "    </tr>\n",
       "    <tr>\n",
       "      <th>150378</th>\n",
       "      <td>0.0</td>\n",
       "      <td>0.0</td>\n",
       "    </tr>\n",
       "    <tr>\n",
       "      <th>49093</th>\n",
       "      <td>0.0</td>\n",
       "      <td>0.0</td>\n",
       "    </tr>\n",
       "    <tr>\n",
       "      <th>503757</th>\n",
       "      <td>0.0</td>\n",
       "      <td>0.0</td>\n",
       "    </tr>\n",
       "  </tbody>\n",
       "</table>\n",
       "</div>"
      ],
      "text/plain": [
       "        user_purchase_binary_7_days  user_purchase_binary_14_days\n",
       "22548                           0.0                           0.0\n",
       "380579                          0.0                           0.0\n",
       "150378                          0.0                           0.0\n",
       "49093                           0.0                           0.0\n",
       "503757                          0.0                           0.0"
      ]
     },
     "execution_count": 74,
     "metadata": {},
     "output_type": "execute_result"
    }
   ],
   "source": [
    "y_train.head()"
   ]
  },
  {
   "cell_type": "code",
   "execution_count": 75,
   "metadata": {
    "ExecuteTime": {
     "end_time": "2019-02-27T06:01:03.690093Z",
     "start_time": "2019-02-27T06:01:03.685039Z"
    }
   },
   "outputs": [
    {
     "data": {
      "text/plain": [
       "495764"
      ]
     },
     "execution_count": 75,
     "metadata": {},
     "output_type": "execute_result"
    }
   ],
   "source": [
    "len(x_train)"
   ]
  },
  {
   "cell_type": "code",
   "execution_count": 76,
   "metadata": {
    "ExecuteTime": {
     "end_time": "2019-02-27T06:01:03.864666Z",
     "start_time": "2019-02-27T06:01:03.857852Z"
    }
   },
   "outputs": [
    {
     "data": {
      "text/plain": [
       "123942"
      ]
     },
     "execution_count": 76,
     "metadata": {},
     "output_type": "execute_result"
    }
   ],
   "source": [
    "len(x_valid)"
   ]
  },
  {
   "cell_type": "code",
   "execution_count": 77,
   "metadata": {
    "ExecuteTime": {
     "end_time": "2019-02-27T06:01:04.040863Z",
     "start_time": "2019-02-27T06:01:04.037586Z"
    }
   },
   "outputs": [],
   "source": [
    "y_train_7_days = y_train.iloc[:,:1]\n",
    "y_train_14_days = y_train.iloc[:,-1]"
   ]
  },
  {
   "cell_type": "code",
   "execution_count": 78,
   "metadata": {
    "ExecuteTime": {
     "end_time": "2019-02-27T06:01:04.225475Z",
     "start_time": "2019-02-27T06:01:04.220709Z"
    }
   },
   "outputs": [],
   "source": [
    "y_valid_7_days = y_valid.iloc[:,:1]\n",
    "y_valid_14_days = y_valid.iloc[:,-1]"
   ]
  },
  {
   "cell_type": "code",
   "execution_count": 79,
   "metadata": {
    "ExecuteTime": {
     "end_time": "2019-02-27T06:01:04.414899Z",
     "start_time": "2019-02-27T06:01:04.401911Z"
    }
   },
   "outputs": [
    {
     "data": {
      "text/plain": [
       "0.0    491964\n",
       "1.0      3800\n",
       "Name: user_purchase_binary_7_days, dtype: int64"
      ]
     },
     "execution_count": 79,
     "metadata": {},
     "output_type": "execute_result"
    }
   ],
   "source": [
    "y_train_7_days.user_purchase_binary_7_days.value_counts()"
   ]
  },
  {
   "cell_type": "code",
   "execution_count": 80,
   "metadata": {
    "ExecuteTime": {
     "end_time": "2019-02-27T06:01:04.593083Z",
     "start_time": "2019-02-27T06:01:04.577669Z"
    },
    "scrolled": true
   },
   "outputs": [
    {
     "data": {
      "text/plain": [
       "0.0    490817\n",
       "1.0      4947\n",
       "Name: user_purchase_binary_14_days, dtype: int64"
      ]
     },
     "execution_count": 80,
     "metadata": {},
     "output_type": "execute_result"
    }
   ],
   "source": [
    "y_train_14_days.value_counts()"
   ]
  },
  {
   "cell_type": "code",
   "execution_count": 81,
   "metadata": {
    "ExecuteTime": {
     "end_time": "2019-02-27T06:01:04.795973Z",
     "start_time": "2019-02-27T06:01:04.750476Z"
    }
   },
   "outputs": [],
   "source": [
    "x_test = test.iloc[:,1:]"
   ]
  },
  {
   "cell_type": "markdown",
   "metadata": {},
   "source": [
    "### Tune hyperparameter"
   ]
  },
  {
   "cell_type": "code",
   "execution_count": 82,
   "metadata": {
    "ExecuteTime": {
     "end_time": "2019-02-27T06:01:05.100801Z",
     "start_time": "2019-02-27T06:01:05.096459Z"
    }
   },
   "outputs": [],
   "source": [
    "# for 7 days "
   ]
  },
  {
   "cell_type": "code",
   "execution_count": 55,
   "metadata": {
    "ExecuteTime": {
     "end_time": "2019-02-27T05:57:26.384834Z",
     "start_time": "2019-02-27T05:57:26.217134Z"
    }
   },
   "outputs": [],
   "source": [
    "x_train_ = x_train.drop(['session_durations'], axis=1)\n",
    "x_valid_ = x_valid.drop(['session_durations'], axis=1)"
   ]
  },
  {
   "cell_type": "code",
   "execution_count": 56,
   "metadata": {
    "ExecuteTime": {
     "end_time": "2019-02-27T05:58:11.136016Z",
     "start_time": "2019-02-27T05:57:28.778015Z"
    }
   },
   "outputs": [
    {
     "name": "stderr",
     "output_type": "stream",
     "text": [
      "/Users/minchenwang/anaconda3/lib/python3.6/site-packages/ipykernel_launcher.py:4: DataConversionWarning: A column-vector y was passed when a 1d array was expected. Please change the shape of y to (n_samples,), for example using ravel().\n",
      "  after removing the cwd from sys.path.\n"
     ]
    },
    {
     "name": "stdout",
     "output_type": "stream",
     "text": [
      "building tree 1 of 100building tree 2 of 100building tree 3 of 100building tree 4 of 100\n",
      "\n",
      "\n",
      "\n",
      "building tree 5 of 100\n",
      "building tree 6 of 100\n",
      "building tree 7 of 100\n",
      "building tree 8 of 100\n",
      "building tree 9 of 100\n",
      "building tree 10 of 100\n",
      "building tree 11 of 100\n",
      "building tree 12 of 100\n",
      "building tree 13 of 100\n",
      "building tree 14 of 100\n",
      "building tree 15 of 100\n",
      "building tree 16 of 100\n",
      "building tree 17 of 100\n",
      "building tree 18 of 100\n",
      "building tree 19 of 100\n",
      "building tree 20 of 100\n",
      "building tree 21 of 100\n",
      "building tree 22 of 100\n",
      "building tree 23 of 100\n",
      "building tree 24 of 100\n",
      "building tree 25 of 100\n",
      "building tree 26 of 100\n",
      "building tree 27 of 100building tree 28 of 100\n",
      "\n"
     ]
    },
    {
     "name": "stderr",
     "output_type": "stream",
     "text": [
      "[Parallel(n_jobs=-1)]: Done  24 tasks      | elapsed:   10.1s\n"
     ]
    },
    {
     "name": "stdout",
     "output_type": "stream",
     "text": [
      "building tree 29 of 100\n",
      "building tree 30 of 100\n",
      "building tree 31 of 100\n",
      "building tree 32 of 100\n",
      "building tree 33 of 100\n",
      "building tree 34 of 100\n",
      "building tree 35 of 100\n",
      "building tree 36 of 100\n",
      "building tree 37 of 100\n",
      "building tree 38 of 100\n",
      "building tree 39 of 100\n",
      "building tree 40 of 100\n",
      "building tree 41 of 100\n",
      "building tree 42 of 100\n",
      "building tree 43 of 100\n",
      "building tree 44 of 100\n",
      "building tree 45 of 100\n",
      "building tree 46 of 100\n",
      "building tree 47 of 100\n",
      "building tree 48 of 100\n",
      "building tree 49 of 100\n",
      "building tree 50 of 100\n",
      "building tree 51 of 100\n",
      "building tree 52 of 100\n",
      "building tree 53 of 100\n",
      "building tree 54 of 100\n",
      "building tree 55 of 100\n",
      "building tree 56 of 100\n",
      "building tree 57 of 100\n",
      "building tree 58 of 100\n",
      "building tree 59 of 100\n",
      "building tree 60 of 100\n",
      "building tree 61 of 100\n",
      "building tree 62 of 100\n",
      "building tree 63 of 100\n",
      "building tree 64 of 100\n",
      "building tree 65 of 100\n",
      "building tree 66 of 100\n",
      "building tree 67 of 100\n",
      "building tree 68 of 100\n",
      "building tree 69 of 100\n",
      "building tree 70 of 100\n",
      "building tree 71 of 100\n",
      "building tree 72 of 100\n",
      "building tree 73 of 100\n",
      "building tree 74 of 100\n",
      "building tree 75 of 100\n",
      "building tree 76 of 100\n",
      "building tree 77 of 100\n",
      "building tree 78 of 100\n",
      "building tree 79 of 100\n",
      "building tree 80 of 100\n",
      "building tree 81 of 100\n",
      "building tree 82 of 100\n",
      "building tree 83 of 100\n",
      "building tree 84 of 100\n",
      "building tree 85 of 100\n",
      "building tree 86 of 100\n",
      "building tree 87 of 100\n",
      "building tree 88 of 100\n",
      "building tree 89 of 100\n",
      "building tree 90 of 100\n",
      "building tree 91 of 100\n",
      "building tree 92 of 100\n",
      "building tree 93 of 100\n",
      "building tree 94 of 100\n",
      "building tree 95 of 100\n",
      "building tree 96 of 100\n",
      "building tree 97 of 100\n",
      "building tree 98 of 100\n",
      "building tree 99 of 100\n",
      "building tree 100 of 100\n"
     ]
    },
    {
     "name": "stderr",
     "output_type": "stream",
     "text": [
      "[Parallel(n_jobs=-1)]: Done 100 out of 100 | elapsed:   41.3s finished\n",
      "[Parallel(n_jobs=4)]: Done  24 tasks      | elapsed:    0.2s\n",
      "[Parallel(n_jobs=4)]: Done 100 out of 100 | elapsed:    0.6s finished\n"
     ]
    },
    {
     "data": {
      "text/plain": [
       "0.9757296413190814"
      ]
     },
     "execution_count": 56,
     "metadata": {},
     "output_type": "execute_result"
    }
   ],
   "source": [
    "from sklearn.metrics import roc_auc_score\n",
    "model = RandomForestClassifier(random_state = 42,n_jobs =-1, verbose=3, max_depth=15, \n",
    "                               min_samples_leaf=50, n_estimators=100)\n",
    "model.fit(x_train,y_train_7_days)\n",
    "valid_pred = model.predict_proba(x_valid)\n",
    "roc_auc_score(y_valid_7_days,valid_pred[:,-1])"
   ]
  },
  {
   "cell_type": "code",
   "execution_count": 104,
   "metadata": {
    "ExecuteTime": {
     "end_time": "2019-02-27T05:50:31.198613Z",
     "start_time": "2019-02-27T05:50:31.088293Z"
    }
   },
   "outputs": [],
   "source": [
    "import pandas as pd\n",
    "feature_importances = pd.DataFrame(model.feature_importances_,\n",
    "                                   index = x_train.columns,\n",
    "                                   columns=['importance']).sort_values('importance',ascending=False)"
   ]
  },
  {
   "cell_type": "code",
   "execution_count": 105,
   "metadata": {
    "ExecuteTime": {
     "end_time": "2019-02-27T05:50:31.373877Z",
     "start_time": "2019-02-27T05:50:31.362240Z"
    }
   },
   "outputs": [
    {
     "data": {
      "text/html": [
       "<div>\n",
       "<style scoped>\n",
       "    .dataframe tbody tr th:only-of-type {\n",
       "        vertical-align: middle;\n",
       "    }\n",
       "\n",
       "    .dataframe tbody tr th {\n",
       "        vertical-align: top;\n",
       "    }\n",
       "\n",
       "    .dataframe thead th {\n",
       "        text-align: right;\n",
       "    }\n",
       "</style>\n",
       "<table border=\"1\" class=\"dataframe\">\n",
       "  <thead>\n",
       "    <tr style=\"text-align: right;\">\n",
       "      <th></th>\n",
       "      <th>importance</th>\n",
       "    </tr>\n",
       "  </thead>\n",
       "  <tbody>\n",
       "    <tr>\n",
       "      <th>last_purchase_time</th>\n",
       "      <td>0.437763</td>\n",
       "    </tr>\n",
       "    <tr>\n",
       "      <th>last_session_time</th>\n",
       "      <td>0.177080</td>\n",
       "    </tr>\n",
       "    <tr>\n",
       "      <th>user_purchase_time_entropy</th>\n",
       "      <td>0.055536</td>\n",
       "    </tr>\n",
       "    <tr>\n",
       "      <th>total_amount</th>\n",
       "      <td>0.045141</td>\n",
       "    </tr>\n",
       "    <tr>\n",
       "      <th>purchase_per_day</th>\n",
       "      <td>0.043536</td>\n",
       "    </tr>\n",
       "    <tr>\n",
       "      <th>purchase_counts</th>\n",
       "      <td>0.034730</td>\n",
       "    </tr>\n",
       "    <tr>\n",
       "      <th>most_frequent_purchase_hour</th>\n",
       "      <td>0.022176</td>\n",
       "    </tr>\n",
       "    <tr>\n",
       "      <th>most_frequent_purchase_dow</th>\n",
       "      <td>0.021258</td>\n",
       "    </tr>\n",
       "    <tr>\n",
       "      <th>cost_per_purchase</th>\n",
       "      <td>0.019663</td>\n",
       "    </tr>\n",
       "    <tr>\n",
       "      <th>purchase_per_active_day</th>\n",
       "      <td>0.015833</td>\n",
       "    </tr>\n",
       "    <tr>\n",
       "      <th>session_per_day</th>\n",
       "      <td>0.015692</td>\n",
       "    </tr>\n",
       "    <tr>\n",
       "      <th>purchase_perc</th>\n",
       "      <td>0.013806</td>\n",
       "    </tr>\n",
       "    <tr>\n",
       "      <th>user_session_time_entropy</th>\n",
       "      <td>0.013538</td>\n",
       "    </tr>\n",
       "    <tr>\n",
       "      <th>session_durations</th>\n",
       "      <td>0.013429</td>\n",
       "    </tr>\n",
       "    <tr>\n",
       "      <th>mean_session_durations</th>\n",
       "      <td>0.009061</td>\n",
       "    </tr>\n",
       "    <tr>\n",
       "      <th>median_create_session_time</th>\n",
       "      <td>0.008954</td>\n",
       "    </tr>\n",
       "    <tr>\n",
       "      <th>session_per_active_day</th>\n",
       "      <td>0.008501</td>\n",
       "    </tr>\n",
       "    <tr>\n",
       "      <th>user_entropy</th>\n",
       "      <td>0.008360</td>\n",
       "    </tr>\n",
       "    <tr>\n",
       "      <th>session_count</th>\n",
       "      <td>0.007361</td>\n",
       "    </tr>\n",
       "    <tr>\n",
       "      <th>mean_session_interval</th>\n",
       "      <td>0.005689</td>\n",
       "    </tr>\n",
       "    <tr>\n",
       "      <th>most_freq_city</th>\n",
       "      <td>0.005235</td>\n",
       "    </tr>\n",
       "    <tr>\n",
       "      <th>most_freq_region</th>\n",
       "      <td>0.004392</td>\n",
       "    </tr>\n",
       "    <tr>\n",
       "      <th>most_freq_hour</th>\n",
       "      <td>0.004243</td>\n",
       "    </tr>\n",
       "    <tr>\n",
       "      <th>most_freq_dow</th>\n",
       "      <td>0.003557</td>\n",
       "    </tr>\n",
       "    <tr>\n",
       "      <th>country_mean_purchase_perc</th>\n",
       "      <td>0.002333</td>\n",
       "    </tr>\n",
       "    <tr>\n",
       "      <th>most_freq_country</th>\n",
       "      <td>0.001727</td>\n",
       "    </tr>\n",
       "    <tr>\n",
       "      <th>os_mean_purchase_perc</th>\n",
       "      <td>0.000709</td>\n",
       "    </tr>\n",
       "    <tr>\n",
       "      <th>most_freq_os</th>\n",
       "      <td>0.000699</td>\n",
       "    </tr>\n",
       "  </tbody>\n",
       "</table>\n",
       "</div>"
      ],
      "text/plain": [
       "                             importance\n",
       "last_purchase_time             0.437763\n",
       "last_session_time              0.177080\n",
       "user_purchase_time_entropy     0.055536\n",
       "total_amount                   0.045141\n",
       "purchase_per_day               0.043536\n",
       "purchase_counts                0.034730\n",
       "most_frequent_purchase_hour    0.022176\n",
       "most_frequent_purchase_dow     0.021258\n",
       "cost_per_purchase              0.019663\n",
       "purchase_per_active_day        0.015833\n",
       "session_per_day                0.015692\n",
       "purchase_perc                  0.013806\n",
       "user_session_time_entropy      0.013538\n",
       "session_durations              0.013429\n",
       "mean_session_durations         0.009061\n",
       "median_create_session_time     0.008954\n",
       "session_per_active_day         0.008501\n",
       "user_entropy                   0.008360\n",
       "session_count                  0.007361\n",
       "mean_session_interval          0.005689\n",
       "most_freq_city                 0.005235\n",
       "most_freq_region               0.004392\n",
       "most_freq_hour                 0.004243\n",
       "most_freq_dow                  0.003557\n",
       "country_mean_purchase_perc     0.002333\n",
       "most_freq_country              0.001727\n",
       "os_mean_purchase_perc          0.000709\n",
       "most_freq_os                   0.000699"
      ]
     },
     "execution_count": 105,
     "metadata": {},
     "output_type": "execute_result"
    }
   ],
   "source": [
    "feature_importances"
   ]
  },
  {
   "cell_type": "code",
   "execution_count": 75,
   "metadata": {
    "ExecuteTime": {
     "end_time": "2019-02-22T06:52:01.254180Z",
     "start_time": "2019-02-22T06:52:01.196399Z"
    },
    "collapsed": true
   },
   "outputs": [],
   "source": [
    "x_train_ = x_train.drop(['os_mean_purchase_perc','country_mean_purchase_perc'], axis=1)\n",
    "x_valid_ = x_valid.drop(['os_mean_purchase_perc','country_mean_purchase_perc'], axis=1)\n"
   ]
  },
  {
   "cell_type": "code",
   "execution_count": 57,
   "metadata": {
    "ExecuteTime": {
     "end_time": "2019-02-27T05:58:42.619645Z",
     "start_time": "2019-02-27T05:58:19.246409Z"
    }
   },
   "outputs": [
    {
     "name": "stdout",
     "output_type": "stream",
     "text": [
      "building tree 1 of 70building tree 2 of 70building tree 3 of 70building tree 4 of 70\n",
      "\n",
      "\n",
      "\n",
      "building tree 5 of 70\n",
      "building tree 6 of 70\n",
      "building tree 7 of 70\n",
      "building tree 8 of 70\n",
      "building tree 9 of 70\n",
      "building tree 10 of 70\n",
      "building tree 11 of 70\n",
      "building tree 12 of 70\n",
      "building tree 13 of 70\n",
      "building tree 14 of 70\n",
      "building tree 15 of 70\n",
      "building tree 16 of 70\n",
      "building tree 17 of 70\n",
      "building tree 18 of 70\n",
      "building tree 19 of 70\n",
      "building tree 20 of 70\n",
      "building tree 21 of 70\n",
      "building tree 22 of 70\n",
      "building tree 23 of 70\n",
      "building tree 24 of 70\n",
      "building tree 25 of 70\n",
      "building tree 26 of 70\n",
      "building tree 27 of 70\n"
     ]
    },
    {
     "name": "stderr",
     "output_type": "stream",
     "text": [
      "[Parallel(n_jobs=-1)]: Done  24 tasks      | elapsed:    8.1s\n"
     ]
    },
    {
     "name": "stdout",
     "output_type": "stream",
     "text": [
      "building tree 28 of 70\n",
      "building tree 29 of 70\n",
      "building tree 30 of 70\n",
      "building tree 31 of 70\n",
      "building tree 32 of 70\n",
      "building tree 33 of 70\n",
      "building tree 34 of 70\n",
      "building tree 35 of 70\n",
      "building tree 36 of 70\n",
      "building tree 37 of 70\n",
      "building tree 38 of 70\n",
      "building tree 39 of 70\n",
      "building tree 40 of 70\n",
      "building tree 41 of 70\n",
      "building tree 42 of 70\n",
      "building tree 43 of 70\n",
      "building tree 44 of 70\n",
      "building tree 45 of 70\n",
      "building tree 46 of 70\n",
      "building tree 47 of 70\n",
      "building tree 48 of 70\n",
      "building tree 49 of 70\n",
      "building tree 50 of 70\n",
      "building tree 51 of 70\n",
      "building tree 52 of 70\n",
      "building tree 53 of 70\n",
      "building tree 54 of 70\n",
      "building tree 55 of 70\n",
      "building tree 56 of 70\n",
      "building tree 57 of 70\n",
      "building tree 58 of 70\n",
      "building tree 59 of 70\n",
      "building tree 60 of 70\n",
      "building tree 61 of 70\n",
      "building tree 62 of 70\n",
      "building tree 63 of 70\n",
      "building tree 64 of 70\n",
      "building tree 65 of 70\n",
      "building tree 66 of 70\n",
      "building tree 67 of 70\n",
      "building tree 68 of 70\n",
      "building tree 69 of 70\n",
      "building tree 70 of 70\n"
     ]
    },
    {
     "name": "stderr",
     "output_type": "stream",
     "text": [
      "[Parallel(n_jobs=-1)]: Done  70 out of  70 | elapsed:   22.8s finished\n",
      "[Parallel(n_jobs=4)]: Done  24 tasks      | elapsed:    0.1s\n",
      "[Parallel(n_jobs=4)]: Done  70 out of  70 | elapsed:    0.3s finished\n"
     ]
    },
    {
     "data": {
      "text/plain": [
       "0.968797319243107"
      ]
     },
     "execution_count": 57,
     "metadata": {},
     "output_type": "execute_result"
    }
   ],
   "source": [
    "from sklearn.ensemble import RandomForestClassifier\n",
    "from sklearn.metrics import roc_auc_score\n",
    "model2 = RandomForestClassifier(random_state = 42,n_jobs =-1, verbose=3, max_depth=10, \n",
    "                               min_samples_leaf=100, n_estimators=70)\n",
    "model2.fit(x_train,y_train_14_days)\n",
    "valid_pred2= model2.predict_proba(x_valid)\n",
    "roc_auc_score(y_valid_14_days,valid_pred2[:,-1])"
   ]
  },
  {
   "cell_type": "code",
   "execution_count": 68,
   "metadata": {
    "ExecuteTime": {
     "end_time": "2019-02-27T05:28:32.515037Z",
     "start_time": "2019-02-27T05:28:32.403973Z"
    }
   },
   "outputs": [],
   "source": [
    "import pandas as pd\n",
    "feature_importances = pd.DataFrame(model2.feature_importances_,\n",
    "                                   index = x_train.columns,\n",
    "                                    columns=['importance']).sort_values('importance',ascending=False)"
   ]
  },
  {
   "cell_type": "code",
   "execution_count": 69,
   "metadata": {
    "ExecuteTime": {
     "end_time": "2019-02-27T05:28:32.581811Z",
     "start_time": "2019-02-27T05:28:32.572715Z"
    }
   },
   "outputs": [
    {
     "data": {
      "text/html": [
       "<div>\n",
       "<style scoped>\n",
       "    .dataframe tbody tr th:only-of-type {\n",
       "        vertical-align: middle;\n",
       "    }\n",
       "\n",
       "    .dataframe tbody tr th {\n",
       "        vertical-align: top;\n",
       "    }\n",
       "\n",
       "    .dataframe thead th {\n",
       "        text-align: right;\n",
       "    }\n",
       "</style>\n",
       "<table border=\"1\" class=\"dataframe\">\n",
       "  <thead>\n",
       "    <tr style=\"text-align: right;\">\n",
       "      <th></th>\n",
       "      <th>importance</th>\n",
       "    </tr>\n",
       "  </thead>\n",
       "  <tbody>\n",
       "    <tr>\n",
       "      <th>last_purchase_time</th>\n",
       "      <td>0.398638</td>\n",
       "    </tr>\n",
       "    <tr>\n",
       "      <th>last_session_time</th>\n",
       "      <td>0.196118</td>\n",
       "    </tr>\n",
       "    <tr>\n",
       "      <th>purchase_per_day</th>\n",
       "      <td>0.076019</td>\n",
       "    </tr>\n",
       "    <tr>\n",
       "      <th>user_time_entropy</th>\n",
       "      <td>0.063711</td>\n",
       "    </tr>\n",
       "    <tr>\n",
       "      <th>purchase_counts</th>\n",
       "      <td>0.047389</td>\n",
       "    </tr>\n",
       "    <tr>\n",
       "      <th>total_amount</th>\n",
       "      <td>0.042425</td>\n",
       "    </tr>\n",
       "    <tr>\n",
       "      <th>cost_per_purchase</th>\n",
       "      <td>0.031071</td>\n",
       "    </tr>\n",
       "    <tr>\n",
       "      <th>most_frequent_purchase_hour</th>\n",
       "      <td>0.024007</td>\n",
       "    </tr>\n",
       "    <tr>\n",
       "      <th>purchase_perc</th>\n",
       "      <td>0.017078</td>\n",
       "    </tr>\n",
       "    <tr>\n",
       "      <th>purchase_per_active_day</th>\n",
       "      <td>0.016892</td>\n",
       "    </tr>\n",
       "    <tr>\n",
       "      <th>median_create_session_time</th>\n",
       "      <td>0.014741</td>\n",
       "    </tr>\n",
       "    <tr>\n",
       "      <th>session_durations</th>\n",
       "      <td>0.012082</td>\n",
       "    </tr>\n",
       "    <tr>\n",
       "      <th>most_frequent_purchase_dow</th>\n",
       "      <td>0.009423</td>\n",
       "    </tr>\n",
       "    <tr>\n",
       "      <th>session_per_day</th>\n",
       "      <td>0.008607</td>\n",
       "    </tr>\n",
       "    <tr>\n",
       "      <th>mean_session_durations</th>\n",
       "      <td>0.007775</td>\n",
       "    </tr>\n",
       "    <tr>\n",
       "      <th>session_count</th>\n",
       "      <td>0.006895</td>\n",
       "    </tr>\n",
       "    <tr>\n",
       "      <th>session_per_active_day</th>\n",
       "      <td>0.005850</td>\n",
       "    </tr>\n",
       "    <tr>\n",
       "      <th>user_entropy</th>\n",
       "      <td>0.005457</td>\n",
       "    </tr>\n",
       "    <tr>\n",
       "      <th>mean_session_interval</th>\n",
       "      <td>0.003794</td>\n",
       "    </tr>\n",
       "    <tr>\n",
       "      <th>most_freq_city</th>\n",
       "      <td>0.002345</td>\n",
       "    </tr>\n",
       "    <tr>\n",
       "      <th>most_freq_dow</th>\n",
       "      <td>0.002182</td>\n",
       "    </tr>\n",
       "    <tr>\n",
       "      <th>country_mean_purchase_perc</th>\n",
       "      <td>0.001976</td>\n",
       "    </tr>\n",
       "    <tr>\n",
       "      <th>most_freq_region</th>\n",
       "      <td>0.001721</td>\n",
       "    </tr>\n",
       "    <tr>\n",
       "      <th>most_freq_hour</th>\n",
       "      <td>0.001695</td>\n",
       "    </tr>\n",
       "    <tr>\n",
       "      <th>most_freq_country</th>\n",
       "      <td>0.001109</td>\n",
       "    </tr>\n",
       "    <tr>\n",
       "      <th>os_mean_purchase_perc</th>\n",
       "      <td>0.000586</td>\n",
       "    </tr>\n",
       "    <tr>\n",
       "      <th>most_freq_os</th>\n",
       "      <td>0.000413</td>\n",
       "    </tr>\n",
       "  </tbody>\n",
       "</table>\n",
       "</div>"
      ],
      "text/plain": [
       "                             importance\n",
       "last_purchase_time             0.398638\n",
       "last_session_time              0.196118\n",
       "purchase_per_day               0.076019\n",
       "user_time_entropy              0.063711\n",
       "purchase_counts                0.047389\n",
       "total_amount                   0.042425\n",
       "cost_per_purchase              0.031071\n",
       "most_frequent_purchase_hour    0.024007\n",
       "purchase_perc                  0.017078\n",
       "purchase_per_active_day        0.016892\n",
       "median_create_session_time     0.014741\n",
       "session_durations              0.012082\n",
       "most_frequent_purchase_dow     0.009423\n",
       "session_per_day                0.008607\n",
       "mean_session_durations         0.007775\n",
       "session_count                  0.006895\n",
       "session_per_active_day         0.005850\n",
       "user_entropy                   0.005457\n",
       "mean_session_interval          0.003794\n",
       "most_freq_city                 0.002345\n",
       "most_freq_dow                  0.002182\n",
       "country_mean_purchase_perc     0.001976\n",
       "most_freq_region               0.001721\n",
       "most_freq_hour                 0.001695\n",
       "most_freq_country              0.001109\n",
       "os_mean_purchase_perc          0.000586\n",
       "most_freq_os                   0.000413"
      ]
     },
     "execution_count": 69,
     "metadata": {},
     "output_type": "execute_result"
    }
   ],
   "source": [
    "feature_importances"
   ]
  },
  {
   "cell_type": "markdown",
   "metadata": {},
   "source": [
    "### Fit All data and predict on test"
   ]
  },
  {
   "cell_type": "code",
   "execution_count": 83,
   "metadata": {
    "ExecuteTime": {
     "end_time": "2019-02-27T06:02:02.778759Z",
     "start_time": "2019-02-27T06:01:10.416715Z"
    },
    "scrolled": true
   },
   "outputs": [
    {
     "name": "stdout",
     "output_type": "stream",
     "text": [
      "building tree 1 of 100building tree 2 of 100building tree 3 of 100building tree 4 of 100\n",
      "\n",
      "\n",
      "\n",
      "building tree 5 of 100\n",
      "building tree 6 of 100\n",
      "building tree 7 of 100\n",
      "building tree 8 of 100\n",
      "building tree 9 of 100\n",
      "building tree 10 of 100\n",
      "building tree 11 of 100\n",
      "building tree 12 of 100\n",
      "building tree 13 of 100\n",
      "building tree 14 of 100\n",
      "building tree 15 of 100\n",
      "building tree 16 of 100\n",
      "building tree 17 of 100\n",
      "building tree 18 of 100\n",
      "building tree 19 of 100\n",
      "building tree 20 of 100\n",
      "building tree 21 of 100\n",
      "building tree 22 of 100\n",
      "building tree 23 of 100\n",
      "building tree 24 of 100\n",
      "building tree 25 of 100\n",
      "building tree 26 of 100\n",
      "building tree 27 of 100\n",
      "building tree 28 of 100\n",
      "building tree 29 of 100\n"
     ]
    },
    {
     "name": "stderr",
     "output_type": "stream",
     "text": [
      "[Parallel(n_jobs=-1)]: Done  24 tasks      | elapsed:   13.7s\n"
     ]
    },
    {
     "name": "stdout",
     "output_type": "stream",
     "text": [
      "building tree 30 of 100\n",
      "building tree 31 of 100\n",
      "building tree 32 of 100\n",
      "building tree 33 of 100\n",
      "building tree 34 of 100\n",
      "building tree 35 of 100\n",
      "building tree 36 of 100\n",
      "building tree 37 of 100\n",
      "building tree 38 of 100\n",
      "building tree 39 of 100\n",
      "building tree 40 of 100\n",
      "building tree 41 of 100\n",
      "building tree 42 of 100\n",
      "building tree 43 of 100\n",
      "building tree 44 of 100\n",
      "building tree 45 of 100\n",
      "building tree 46 of 100\n",
      "building tree 47 of 100\n",
      "building tree 48 of 100\n",
      "building tree 49 of 100\n",
      "building tree 50 of 100\n",
      "building tree 51 of 100\n",
      "building tree 52 of 100\n",
      "building tree 53 of 100\n",
      "building tree 54 of 100\n",
      "building tree 55 of 100\n",
      "building tree 56 of 100\n",
      "building tree 57 of 100\n",
      "building tree 58 of 100\n",
      "building tree 59 of 100\n",
      "building tree 60 of 100\n",
      "building tree 61 of 100\n",
      "building tree 62 of 100\n",
      "building tree 63 of 100\n",
      "building tree 64 of 100\n",
      "building tree 65 of 100\n",
      "building tree 66 of 100\n",
      "building tree 67 of 100\n",
      "building tree 68 of 100\n",
      "building tree 69 of 100\n",
      "building tree 70 of 100\n",
      "building tree 71 of 100\n",
      "building tree 72 of 100\n",
      "building tree 73 of 100\n",
      "building tree 74 of 100\n",
      "building tree 75 of 100\n",
      "building tree 76 of 100\n",
      "building tree 77 of 100\n",
      "building tree 78 of 100\n",
      "building tree 79 of 100\n",
      "building tree 80 of 100\n",
      "building tree 81 of 100\n",
      "building tree 82 of 100\n",
      "building tree 83 of 100\n",
      "building tree 84 of 100\n",
      "building tree 85 of 100\n",
      "building tree 86 of 100\n",
      "building tree 87 of 100\n",
      "building tree 88 of 100\n",
      "building tree 89 of 100\n",
      "building tree 90 of 100\n",
      "building tree 91 of 100\n",
      "building tree 92 of 100\n",
      "building tree 93 of 100\n",
      "building tree 94 of 100\n",
      "building tree 95 of 100\n",
      "building tree 96 of 100\n",
      "building tree 97 of 100\n",
      "building tree 98 of 100\n",
      "building tree 99 of 100\n",
      "building tree 100 of 100\n"
     ]
    },
    {
     "name": "stderr",
     "output_type": "stream",
     "text": [
      "[Parallel(n_jobs=-1)]: Done 100 out of 100 | elapsed:   50.0s finished\n",
      "[Parallel(n_jobs=4)]: Done  24 tasks      | elapsed:    0.3s\n",
      "[Parallel(n_jobs=4)]: Done 100 out of 100 | elapsed:    1.7s finished\n"
     ]
    }
   ],
   "source": [
    "# 7 days \n",
    "rf_7days = RandomForestClassifier(random_state = 42,n_jobs =-1, verbose=3, max_depth=15, \n",
    "                               min_samples_leaf=50, n_estimators=100, class_weight = 'balanced')\n",
    "rf_7days.fit(x.values,y_7_days.values.ravel())\n",
    "y_7_days_pred = rf_7days.predict_proba(x_test)"
   ]
  },
  {
   "cell_type": "code",
   "execution_count": 84,
   "metadata": {
    "ExecuteTime": {
     "end_time": "2019-02-27T06:02:41.861059Z",
     "start_time": "2019-02-27T06:02:41.744286Z"
    }
   },
   "outputs": [
    {
     "data": {
      "text/html": [
       "<div>\n",
       "<style scoped>\n",
       "    .dataframe tbody tr th:only-of-type {\n",
       "        vertical-align: middle;\n",
       "    }\n",
       "\n",
       "    .dataframe tbody tr th {\n",
       "        vertical-align: top;\n",
       "    }\n",
       "\n",
       "    .dataframe thead th {\n",
       "        text-align: right;\n",
       "    }\n",
       "</style>\n",
       "<table border=\"1\" class=\"dataframe\">\n",
       "  <thead>\n",
       "    <tr style=\"text-align: right;\">\n",
       "      <th></th>\n",
       "      <th>importance</th>\n",
       "    </tr>\n",
       "  </thead>\n",
       "  <tbody>\n",
       "    <tr>\n",
       "      <th>last_purchase_time</th>\n",
       "      <td>0.155879</td>\n",
       "    </tr>\n",
       "    <tr>\n",
       "      <th>last_session_time</th>\n",
       "      <td>0.148063</td>\n",
       "    </tr>\n",
       "    <tr>\n",
       "      <th>cost_per_purchase</th>\n",
       "      <td>0.095531</td>\n",
       "    </tr>\n",
       "    <tr>\n",
       "      <th>purchase_perc</th>\n",
       "      <td>0.069196</td>\n",
       "    </tr>\n",
       "    <tr>\n",
       "      <th>purchase_counts</th>\n",
       "      <td>0.066595</td>\n",
       "    </tr>\n",
       "    <tr>\n",
       "      <th>most_frequent_purchase_hour</th>\n",
       "      <td>0.046054</td>\n",
       "    </tr>\n",
       "    <tr>\n",
       "      <th>session_durations</th>\n",
       "      <td>0.045817</td>\n",
       "    </tr>\n",
       "    <tr>\n",
       "      <th>purchase_per_active_day</th>\n",
       "      <td>0.043037</td>\n",
       "    </tr>\n",
       "    <tr>\n",
       "      <th>total_amount</th>\n",
       "      <td>0.041811</td>\n",
       "    </tr>\n",
       "    <tr>\n",
       "      <th>purchase_per_day</th>\n",
       "      <td>0.040155</td>\n",
       "    </tr>\n",
       "    <tr>\n",
       "      <th>most_frequent_purchase_dow</th>\n",
       "      <td>0.033448</td>\n",
       "    </tr>\n",
       "    <tr>\n",
       "      <th>session_per_active_day</th>\n",
       "      <td>0.026486</td>\n",
       "    </tr>\n",
       "    <tr>\n",
       "      <th>user_purchase_time_entropy</th>\n",
       "      <td>0.024511</td>\n",
       "    </tr>\n",
       "    <tr>\n",
       "      <th>session_count</th>\n",
       "      <td>0.020121</td>\n",
       "    </tr>\n",
       "    <tr>\n",
       "      <th>session_per_day</th>\n",
       "      <td>0.018706</td>\n",
       "    </tr>\n",
       "    <tr>\n",
       "      <th>country_mean_purchase_perc</th>\n",
       "      <td>0.016470</td>\n",
       "    </tr>\n",
       "    <tr>\n",
       "      <th>mean_session_durations</th>\n",
       "      <td>0.015610</td>\n",
       "    </tr>\n",
       "    <tr>\n",
       "      <th>user_entropy</th>\n",
       "      <td>0.014978</td>\n",
       "    </tr>\n",
       "    <tr>\n",
       "      <th>most_freq_city</th>\n",
       "      <td>0.012876</td>\n",
       "    </tr>\n",
       "    <tr>\n",
       "      <th>most_freq_region</th>\n",
       "      <td>0.012459</td>\n",
       "    </tr>\n",
       "    <tr>\n",
       "      <th>mean_session_interval</th>\n",
       "      <td>0.010838</td>\n",
       "    </tr>\n",
       "    <tr>\n",
       "      <th>most_freq_hour</th>\n",
       "      <td>0.010573</td>\n",
       "    </tr>\n",
       "    <tr>\n",
       "      <th>most_freq_dow</th>\n",
       "      <td>0.009391</td>\n",
       "    </tr>\n",
       "    <tr>\n",
       "      <th>median_create_session_time</th>\n",
       "      <td>0.009183</td>\n",
       "    </tr>\n",
       "    <tr>\n",
       "      <th>most_freq_country</th>\n",
       "      <td>0.007590</td>\n",
       "    </tr>\n",
       "    <tr>\n",
       "      <th>most_freq_os</th>\n",
       "      <td>0.002310</td>\n",
       "    </tr>\n",
       "    <tr>\n",
       "      <th>os_mean_purchase_perc</th>\n",
       "      <td>0.002309</td>\n",
       "    </tr>\n",
       "  </tbody>\n",
       "</table>\n",
       "</div>"
      ],
      "text/plain": [
       "                             importance\n",
       "last_purchase_time             0.155879\n",
       "last_session_time              0.148063\n",
       "cost_per_purchase              0.095531\n",
       "purchase_perc                  0.069196\n",
       "purchase_counts                0.066595\n",
       "most_frequent_purchase_hour    0.046054\n",
       "session_durations              0.045817\n",
       "purchase_per_active_day        0.043037\n",
       "total_amount                   0.041811\n",
       "purchase_per_day               0.040155\n",
       "most_frequent_purchase_dow     0.033448\n",
       "session_per_active_day         0.026486\n",
       "user_purchase_time_entropy     0.024511\n",
       "session_count                  0.020121\n",
       "session_per_day                0.018706\n",
       "country_mean_purchase_perc     0.016470\n",
       "mean_session_durations         0.015610\n",
       "user_entropy                   0.014978\n",
       "most_freq_city                 0.012876\n",
       "most_freq_region               0.012459\n",
       "mean_session_interval          0.010838\n",
       "most_freq_hour                 0.010573\n",
       "most_freq_dow                  0.009391\n",
       "median_create_session_time     0.009183\n",
       "most_freq_country              0.007590\n",
       "most_freq_os                   0.002310\n",
       "os_mean_purchase_perc          0.002309"
      ]
     },
     "execution_count": 84,
     "metadata": {},
     "output_type": "execute_result"
    }
   ],
   "source": [
    "feature_importances = pd.DataFrame(rf_7days.feature_importances_,\n",
    "                                   index = x.columns,\n",
    "                                   columns=['importance']).sort_values('importance',ascending=False)\n",
    "feature_importances"
   ]
  },
  {
   "cell_type": "code",
   "execution_count": 85,
   "metadata": {
    "ExecuteTime": {
     "end_time": "2019-02-27T06:03:34.350929Z",
     "start_time": "2019-02-27T06:03:00.932041Z"
    }
   },
   "outputs": [
    {
     "name": "stdout",
     "output_type": "stream",
     "text": [
      "building tree 1 of 70\n",
      "building tree 2 of 70\n",
      "building tree 3 of 70\n",
      "building tree 4 of 70\n",
      "building tree 5 of 70\n",
      "building tree 6 of 70\n",
      "building tree 7 of 70\n",
      "building tree 8 of 70\n",
      "building tree 9 of 70\n",
      "building tree 10 of 70\n",
      "building tree 11 of 70\n",
      "building tree 12 of 70\n",
      "building tree 13 of 70\n",
      "building tree 14 of 70\n",
      "building tree 15 of 70\n",
      "building tree 16 of 70\n",
      "building tree 17 of 70\n",
      "building tree 18 of 70\n",
      "building tree 19 of 70\n",
      "building tree 20 of 70\n",
      "building tree 21 of 70\n",
      "building tree 22 of 70\n",
      "building tree 23 of 70\n",
      "building tree 24 of 70\n",
      "building tree 25 of 70\n",
      "building tree 26 of 70\n",
      "building tree 27 of 70\n",
      "building tree 28 of 70\n"
     ]
    },
    {
     "name": "stderr",
     "output_type": "stream",
     "text": [
      "[Parallel(n_jobs=-1)]: Done  24 tasks      | elapsed:   11.1s\n"
     ]
    },
    {
     "name": "stdout",
     "output_type": "stream",
     "text": [
      "building tree 29 of 70\n",
      "building tree 30 of 70\n",
      "building tree 31 of 70\n",
      "building tree 32 of 70\n",
      "building tree 33 of 70\n",
      "building tree 34 of 70\n",
      "building tree 35 of 70\n",
      "building tree 36 of 70\n",
      "building tree 37 of 70\n",
      "building tree 38 of 70\n",
      "building tree 39 of 70\n",
      "building tree 40 of 70\n",
      "building tree 41 of 70\n",
      "building tree 42 of 70\n",
      "building tree 43 of 70\n",
      "building tree 44 of 70\n",
      "building tree 45 of 70\n",
      "building tree 46 of 70\n",
      "building tree 47 of 70\n",
      "building tree 48 of 70\n",
      "building tree 49 of 70\n",
      "building tree 50 of 70\n",
      "building tree 51 of 70\n",
      "building tree 52 of 70\n",
      "building tree 53 of 70\n",
      "building tree 54 of 70\n",
      "building tree 55 of 70\n",
      "building tree 56 of 70\n",
      "building tree 57 of 70\n",
      "building tree 58 of 70\n",
      "building tree 59 of 70\n",
      "building tree 60 of 70\n",
      "building tree 61 of 70\n",
      "building tree 62 of 70\n",
      "building tree 63 of 70\n",
      "building tree 64 of 70\n",
      "building tree 65 of 70\n",
      "building tree 66 of 70\n",
      "building tree 67 of 70\n",
      "building tree 68 of 70\n",
      "building tree 69 of 70\n",
      "building tree 70 of 70\n"
     ]
    },
    {
     "name": "stderr",
     "output_type": "stream",
     "text": [
      "[Parallel(n_jobs=-1)]: Done  70 out of  70 | elapsed:   32.2s finished\n",
      "[Parallel(n_jobs=4)]: Done  24 tasks      | elapsed:    0.3s\n",
      "[Parallel(n_jobs=4)]: Done  70 out of  70 | elapsed:    0.8s finished\n"
     ]
    }
   ],
   "source": [
    "# 14 days \n",
    "rf_14days = RandomForestClassifier(random_state = 42,n_jobs =-1, verbose=3, max_depth=10, \n",
    "                               min_samples_leaf=100, n_estimators=70, class_weight = 'balanced')\n",
    "rf_14days.fit(x.values,y_14_days.values.ravel())\n",
    "y_14_days_pred = rf_14days.predict_proba(x_test)"
   ]
  },
  {
   "cell_type": "code",
   "execution_count": 86,
   "metadata": {
    "ExecuteTime": {
     "end_time": "2019-02-27T06:03:40.297951Z",
     "start_time": "2019-02-27T06:03:40.294668Z"
    }
   },
   "outputs": [],
   "source": [
    "user = test.user_id_hash"
   ]
  },
  {
   "cell_type": "code",
   "execution_count": 87,
   "metadata": {
    "ExecuteTime": {
     "end_time": "2019-02-27T06:03:42.389619Z",
     "start_time": "2019-02-27T06:03:42.386061Z"
    }
   },
   "outputs": [],
   "source": [
    "d = {'user_id_hash': user, 'user_purchase_binary_7_days': y_7_days_pred[:,-1], 'user_purchase_binary_14_days': y_14_days_pred[:,-1]}"
   ]
  },
  {
   "cell_type": "code",
   "execution_count": 88,
   "metadata": {
    "ExecuteTime": {
     "end_time": "2019-02-27T06:03:43.006970Z",
     "start_time": "2019-02-27T06:03:42.992163Z"
    }
   },
   "outputs": [],
   "source": [
    "predictions = pd.DataFrame(data=d)"
   ]
  },
  {
   "cell_type": "code",
   "execution_count": 89,
   "metadata": {
    "ExecuteTime": {
     "end_time": "2019-02-27T06:03:43.581732Z",
     "start_time": "2019-02-27T06:03:43.571827Z"
    }
   },
   "outputs": [
    {
     "data": {
      "text/html": [
       "<div>\n",
       "<style scoped>\n",
       "    .dataframe tbody tr th:only-of-type {\n",
       "        vertical-align: middle;\n",
       "    }\n",
       "\n",
       "    .dataframe tbody tr th {\n",
       "        vertical-align: top;\n",
       "    }\n",
       "\n",
       "    .dataframe thead th {\n",
       "        text-align: right;\n",
       "    }\n",
       "</style>\n",
       "<table border=\"1\" class=\"dataframe\">\n",
       "  <thead>\n",
       "    <tr style=\"text-align: right;\">\n",
       "      <th></th>\n",
       "      <th>user_id_hash</th>\n",
       "      <th>user_purchase_binary_7_days</th>\n",
       "      <th>user_purchase_binary_14_days</th>\n",
       "    </tr>\n",
       "  </thead>\n",
       "  <tbody>\n",
       "    <tr>\n",
       "      <th>0</th>\n",
       "      <td>e469dfaed039ead9110165d9bc457acb11609ca34057dc...</td>\n",
       "      <td>0.007914</td>\n",
       "      <td>0.058559</td>\n",
       "    </tr>\n",
       "    <tr>\n",
       "      <th>1</th>\n",
       "      <td>afcc639a324b6c598ef83d360450afa011cb2dd1358bf9...</td>\n",
       "      <td>0.000000</td>\n",
       "      <td>0.005663</td>\n",
       "    </tr>\n",
       "    <tr>\n",
       "      <th>2</th>\n",
       "      <td>fd5a7cf211d08e3e00f7be6a9df6e6ea3d2e5c22a5d9c3...</td>\n",
       "      <td>0.011708</td>\n",
       "      <td>0.103893</td>\n",
       "    </tr>\n",
       "    <tr>\n",
       "      <th>3</th>\n",
       "      <td>00bfff98b9d0329f014c2eeac7ce47cd18b2bc6e10d608...</td>\n",
       "      <td>0.018246</td>\n",
       "      <td>0.074147</td>\n",
       "    </tr>\n",
       "    <tr>\n",
       "      <th>4</th>\n",
       "      <td>0d298f3638c43e915c119d4935e1ce8d168f81b5e3e8c1...</td>\n",
       "      <td>0.000000</td>\n",
       "      <td>0.004098</td>\n",
       "    </tr>\n",
       "  </tbody>\n",
       "</table>\n",
       "</div>"
      ],
      "text/plain": [
       "                                        user_id_hash  \\\n",
       "0  e469dfaed039ead9110165d9bc457acb11609ca34057dc...   \n",
       "1  afcc639a324b6c598ef83d360450afa011cb2dd1358bf9...   \n",
       "2  fd5a7cf211d08e3e00f7be6a9df6e6ea3d2e5c22a5d9c3...   \n",
       "3  00bfff98b9d0329f014c2eeac7ce47cd18b2bc6e10d608...   \n",
       "4  0d298f3638c43e915c119d4935e1ce8d168f81b5e3e8c1...   \n",
       "\n",
       "   user_purchase_binary_7_days  user_purchase_binary_14_days  \n",
       "0                     0.007914                      0.058559  \n",
       "1                     0.000000                      0.005663  \n",
       "2                     0.011708                      0.103893  \n",
       "3                     0.018246                      0.074147  \n",
       "4                     0.000000                      0.004098  "
      ]
     },
     "execution_count": 89,
     "metadata": {},
     "output_type": "execute_result"
    }
   ],
   "source": [
    "predictions.head()"
   ]
  },
  {
   "cell_type": "code",
   "execution_count": 90,
   "metadata": {
    "ExecuteTime": {
     "end_time": "2019-02-27T06:03:50.963160Z",
     "start_time": "2019-02-27T06:03:49.389031Z"
    }
   },
   "outputs": [],
   "source": [
    "predictions.to_csv('../submission.csv', index=False)"
   ]
  },
  {
   "cell_type": "code",
   "execution_count": null,
   "metadata": {
    "collapsed": true
   },
   "outputs": [],
   "source": []
  }
 ],
 "metadata": {
  "kernelspec": {
   "display_name": "Python 3",
   "language": "python",
   "name": "python3"
  },
  "language_info": {
   "codemirror_mode": {
    "name": "ipython",
    "version": 3
   },
   "file_extension": ".py",
   "mimetype": "text/x-python",
   "name": "python",
   "nbconvert_exporter": "python",
   "pygments_lexer": "ipython3",
   "version": "3.6.6"
  }
 },
 "nbformat": 4,
 "nbformat_minor": 2
}
